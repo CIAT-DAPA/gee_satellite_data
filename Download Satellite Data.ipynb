{
  "nbformat": 4,
  "nbformat_minor": 0,
  "metadata": {
    "kernelspec": {
      "display_name": "Python 3",
      "language": "python",
      "name": "python3"
    },
    "language_info": {
      "codemirror_mode": {
        "name": "ipython",
        "version": 3
      },
      "file_extension": ".py",
      "mimetype": "text/x-python",
      "name": "python",
      "nbconvert_exporter": "python",
      "pygments_lexer": "ipython3",
      "version": "3.8.3"
    },
    "colab": {
      "name": "Download Satellite Data.ipynb",
      "provenance": [],
      "toc_visible": true,
      "include_colab_link": true
    }
  },
  "cells": [
    {
      "cell_type": "markdown",
      "metadata": {
        "id": "view-in-github",
        "colab_type": "text"
      },
      "source": [
        "<a href=\"https://colab.research.google.com/github/anaguilarar/gee_satellite_data/blob/master/Download%20Satellite%20Data.ipynb\" target=\"_parent\"><img src=\"https://colab.research.google.com/assets/colab-badge.svg\" alt=\"Open In Colab\"/></a>"
      ]
    },
    {
      "cell_type": "code",
      "metadata": {
        "colab": {
          "base_uri": "https://localhost:8080/"
        },
        "id": "hvtKLEC7yxss",
        "outputId": "0cd545ef-bc5b-42eb-d06a-f4fed35ba850"
      },
      "source": [
        "\n",
        "!pip install pyproj\n",
        "!pip install wget\n",
        "!pip install geehydro\n",
        "!pip install geopandas"
      ],
      "execution_count": 6,
      "outputs": [
        {
          "output_type": "stream",
          "text": [
            "Collecting geehydro\n",
            "  Downloading https://files.pythonhosted.org/packages/fc/8c/2174f8ad7a02d250094acf9ad30a56e52e9bcfd2ab49de122f21c4ba13dc/geehydro-0.2.0.tar.gz\n",
            "Requirement already satisfied: earthengine-api in /usr/local/lib/python3.7/dist-packages (from geehydro) (0.1.260)\n",
            "Requirement already satisfied: folium in /usr/local/lib/python3.7/dist-packages (from geehydro) (0.8.3)\n",
            "Requirement already satisfied: click in /usr/local/lib/python3.7/dist-packages (from geehydro) (7.1.2)\n",
            "Requirement already satisfied: google-auth>=1.4.1 in /usr/local/lib/python3.7/dist-packages (from earthengine-api->geehydro) (1.28.1)\n",
            "Requirement already satisfied: google-cloud-storage in /usr/local/lib/python3.7/dist-packages (from earthengine-api->geehydro) (1.18.1)\n",
            "Requirement already satisfied: httplib2<1dev,>=0.9.2 in /usr/local/lib/python3.7/dist-packages (from earthengine-api->geehydro) (0.17.4)\n",
            "Requirement already satisfied: future in /usr/local/lib/python3.7/dist-packages (from earthengine-api->geehydro) (0.16.0)\n",
            "Requirement already satisfied: httplib2shim in /usr/local/lib/python3.7/dist-packages (from earthengine-api->geehydro) (0.0.3)\n",
            "Requirement already satisfied: google-api-python-client<2,>=1.12.1 in /usr/local/lib/python3.7/dist-packages (from earthengine-api->geehydro) (1.12.8)\n",
            "Requirement already satisfied: six in /usr/local/lib/python3.7/dist-packages (from earthengine-api->geehydro) (1.15.0)\n",
            "Requirement already satisfied: google-auth-httplib2>=0.0.3 in /usr/local/lib/python3.7/dist-packages (from earthengine-api->geehydro) (0.0.4)\n",
            "Requirement already satisfied: jinja2 in /usr/local/lib/python3.7/dist-packages (from folium->geehydro) (2.11.3)\n",
            "Requirement already satisfied: numpy in /usr/local/lib/python3.7/dist-packages (from folium->geehydro) (1.19.5)\n",
            "Requirement already satisfied: requests in /usr/local/lib/python3.7/dist-packages (from folium->geehydro) (2.23.0)\n",
            "Requirement already satisfied: branca>=0.3.0 in /usr/local/lib/python3.7/dist-packages (from folium->geehydro) (0.4.2)\n",
            "Requirement already satisfied: cachetools<5.0,>=2.0.0 in /usr/local/lib/python3.7/dist-packages (from google-auth>=1.4.1->earthengine-api->geehydro) (4.2.1)\n",
            "Requirement already satisfied: setuptools>=40.3.0 in /usr/local/lib/python3.7/dist-packages (from google-auth>=1.4.1->earthengine-api->geehydro) (56.0.0)\n",
            "Requirement already satisfied: pyasn1-modules>=0.2.1 in /usr/local/lib/python3.7/dist-packages (from google-auth>=1.4.1->earthengine-api->geehydro) (0.2.8)\n",
            "Requirement already satisfied: rsa<5,>=3.1.4; python_version >= \"3.6\" in /usr/local/lib/python3.7/dist-packages (from google-auth>=1.4.1->earthengine-api->geehydro) (4.7.2)\n",
            "Requirement already satisfied: google-cloud-core<2.0dev,>=1.0.0 in /usr/local/lib/python3.7/dist-packages (from google-cloud-storage->earthengine-api->geehydro) (1.0.3)\n",
            "Requirement already satisfied: google-resumable-media<0.5.0dev,>=0.3.1 in /usr/local/lib/python3.7/dist-packages (from google-cloud-storage->earthengine-api->geehydro) (0.4.1)\n",
            "Requirement already satisfied: certifi in /usr/local/lib/python3.7/dist-packages (from httplib2shim->earthengine-api->geehydro) (2020.12.5)\n",
            "Requirement already satisfied: urllib3 in /usr/local/lib/python3.7/dist-packages (from httplib2shim->earthengine-api->geehydro) (1.24.3)\n",
            "Requirement already satisfied: google-api-core<2dev,>=1.21.0 in /usr/local/lib/python3.7/dist-packages (from google-api-python-client<2,>=1.12.1->earthengine-api->geehydro) (1.26.3)\n",
            "Requirement already satisfied: uritemplate<4dev,>=3.0.0 in /usr/local/lib/python3.7/dist-packages (from google-api-python-client<2,>=1.12.1->earthengine-api->geehydro) (3.0.1)\n",
            "Requirement already satisfied: MarkupSafe>=0.23 in /usr/local/lib/python3.7/dist-packages (from jinja2->folium->geehydro) (1.1.1)\n",
            "Requirement already satisfied: chardet<4,>=3.0.2 in /usr/local/lib/python3.7/dist-packages (from requests->folium->geehydro) (3.0.4)\n",
            "Requirement already satisfied: idna<3,>=2.5 in /usr/local/lib/python3.7/dist-packages (from requests->folium->geehydro) (2.10)\n",
            "Requirement already satisfied: pyasn1<0.5.0,>=0.4.6 in /usr/local/lib/python3.7/dist-packages (from pyasn1-modules>=0.2.1->google-auth>=1.4.1->earthengine-api->geehydro) (0.4.8)\n",
            "Requirement already satisfied: googleapis-common-protos<2.0dev,>=1.6.0 in /usr/local/lib/python3.7/dist-packages (from google-api-core<2dev,>=1.21.0->google-api-python-client<2,>=1.12.1->earthengine-api->geehydro) (1.53.0)\n",
            "Requirement already satisfied: pytz in /usr/local/lib/python3.7/dist-packages (from google-api-core<2dev,>=1.21.0->google-api-python-client<2,>=1.12.1->earthengine-api->geehydro) (2018.9)\n",
            "Requirement already satisfied: packaging>=14.3 in /usr/local/lib/python3.7/dist-packages (from google-api-core<2dev,>=1.21.0->google-api-python-client<2,>=1.12.1->earthengine-api->geehydro) (20.9)\n",
            "Requirement already satisfied: protobuf>=3.12.0 in /usr/local/lib/python3.7/dist-packages (from google-api-core<2dev,>=1.21.0->google-api-python-client<2,>=1.12.1->earthengine-api->geehydro) (3.12.4)\n",
            "Requirement already satisfied: pyparsing>=2.0.2 in /usr/local/lib/python3.7/dist-packages (from packaging>=14.3->google-api-core<2dev,>=1.21.0->google-api-python-client<2,>=1.12.1->earthengine-api->geehydro) (2.4.7)\n",
            "Building wheels for collected packages: geehydro\n",
            "  Building wheel for geehydro (setup.py) ... \u001b[?25l\u001b[?25hdone\n",
            "  Created wheel for geehydro: filename=geehydro-0.2.0-py2.py3-none-any.whl size=10114 sha256=c9c7bf194564c38f17f63cddb2e714201fd4e67e702cd685c8bd3bc82e502b3f\n",
            "  Stored in directory: /root/.cache/pip/wheels/c5/07/67/5fa6e7271b46bbe0acafdc7105bbee27a39ab7132d251d822d\n",
            "Successfully built geehydro\n",
            "Installing collected packages: geehydro\n",
            "Successfully installed geehydro-0.2.0\n"
          ],
          "name": "stdout"
        }
      ]
    },
    {
      "cell_type": "code",
      "metadata": {
        "colab": {
          "base_uri": "https://localhost:8080/"
        },
        "id": "eu6PWMi2zK3X",
        "outputId": "dd13190e-6091-4cf7-df6d-ff8d12a490d6"
      },
      "source": [
        "!git clone https://github.com/anaguilarar/gee_satellite_data.git"
      ],
      "execution_count": 2,
      "outputs": [
        {
          "output_type": "stream",
          "text": [
            "Cloning into 'gee_satellite_data'...\n",
            "remote: Enumerating objects: 405, done.\u001b[K\n",
            "remote: Counting objects: 100% (405/405), done.\u001b[K\n",
            "remote: Compressing objects: 100% (295/295), done.\u001b[K\n",
            "remote: Total 405 (delta 237), reused 259 (delta 106), pack-reused 0\u001b[K\n",
            "Receiving objects: 100% (405/405), 1.49 MiB | 17.00 MiB/s, done.\n",
            "Resolving deltas: 100% (237/237), done.\n"
          ],
          "name": "stdout"
        }
      ]
    },
    {
      "cell_type": "code",
      "metadata": {
        "id": "j9IvtZ6jzVSW"
      },
      "source": [
        "import os\n",
        "os.chdir(\"gee_satellite_data\")"
      ],
      "execution_count": 3,
      "outputs": []
    },
    {
      "cell_type": "code",
      "metadata": {
        "colab": {
          "base_uri": "https://localhost:8080/"
        },
        "id": "lXgcja_uzbWd",
        "outputId": "5662d51d-0969-4604-d0ac-2440a9c5617a"
      },
      "source": [
        "import ee\n",
        "ee.Authenticate()"
      ],
      "execution_count": 4,
      "outputs": [
        {
          "output_type": "stream",
          "text": [
            "To authorize access needed by Earth Engine, open the following URL in a web browser and follow the instructions. If the web browser does not start automatically, please manually browse the URL below.\n",
            "\n",
            "    https://accounts.google.com/o/oauth2/auth?client_id=517222506229-vsmmajv00ul0bs7p89v5m89qs8eb9359.apps.googleusercontent.com&scope=https%3A%2F%2Fwww.googleapis.com%2Fauth%2Fearthengine+https%3A%2F%2Fwww.googleapis.com%2Fauth%2Fdevstorage.full_control&redirect_uri=urn%3Aietf%3Awg%3Aoauth%3A2.0%3Aoob&response_type=code&code_challenge=o-63cj-vsfZ0Pe78eTBZd8ygBcG7KeLqjUWX7NV-IRQ&code_challenge_method=S256\n",
            "\n",
            "The authorization workflow will generate a code, which you should paste in the box below. \n",
            "Enter verification code: 4/1AY0e-g5jh_hqOqwkgllE7RcI_5dZ86LO94jHFUL4GS4NxsP8ouUMVp-lm_s\n",
            "\n",
            "Successfully saved authorization token.\n"
          ],
          "name": "stdout"
        }
      ]
    },
    {
      "cell_type": "code",
      "metadata": {
        "id": "drFLaiw0yxsz"
      },
      "source": [
        "import pandas as pd\n",
        "from scripts import gee_satellite_data\n",
        "from scripts import gee_functions\n",
        "from scripts import gis_functions\n",
        "from scripts import general_functions"
      ],
      "execution_count": 7,
      "outputs": []
    },
    {
      "cell_type": "markdown",
      "metadata": {
        "id": "UsmUxwcyyxs2"
      },
      "source": [
        "## Download Sentinel 1 data"
      ]
    },
    {
      "cell_type": "code",
      "metadata": {
        "id": "_Jcq3j3uyxs2"
      },
      "source": [
        "querydata = gee_satellite_data.get_gee_data(\"2016-02-01\",\n",
        "                                            \"2016-08-31\", \n",
        "                                            \"data/col_iba.shp\", \n",
        "                                            \"sentinel1\", bands = ['VV'])"
      ],
      "execution_count": 9,
      "outputs": []
    },
    {
      "cell_type": "code",
      "metadata": {
        "colab": {
          "base_uri": "https://localhost:8080/",
          "height": 587
        },
        "id": "Q8ZuWl33yxs2",
        "outputId": "0f29c220-4588-4561-f2a4-50da24fda608"
      },
      "source": [
        "querydata.summary"
      ],
      "execution_count": null,
      "outputs": [
        {
          "output_type": "execute_result",
          "data": {
            "text/html": [
              "<div>\n",
              "<style scoped>\n",
              "    .dataframe tbody tr th:only-of-type {\n",
              "        vertical-align: middle;\n",
              "    }\n",
              "\n",
              "    .dataframe tbody tr th {\n",
              "        vertical-align: top;\n",
              "    }\n",
              "\n",
              "    .dataframe thead th {\n",
              "        text-align: right;\n",
              "    }\n",
              "</style>\n",
              "<table border=\"1\" class=\"dataframe\">\n",
              "  <thead>\n",
              "    <tr style=\"text-align: right;\">\n",
              "      <th></th>\n",
              "      <th>dates</th>\n",
              "      <th>cover_percentage</th>\n",
              "    </tr>\n",
              "  </thead>\n",
              "  <tbody>\n",
              "    <tr>\n",
              "      <th>0</th>\n",
              "      <td>2016-03-26 23:13:23</td>\n",
              "      <td>99.558320</td>\n",
              "    </tr>\n",
              "    <tr>\n",
              "      <th>1</th>\n",
              "      <td>2016-05-13 23:13:30</td>\n",
              "      <td>99.559609</td>\n",
              "    </tr>\n",
              "    <tr>\n",
              "      <th>2</th>\n",
              "      <td>2016-02-07 23:13:28</td>\n",
              "      <td>99.559613</td>\n",
              "    </tr>\n",
              "    <tr>\n",
              "      <th>3</th>\n",
              "      <td>2016-02-14 10:42:59</td>\n",
              "      <td>99.558320</td>\n",
              "    </tr>\n",
              "    <tr>\n",
              "      <th>4</th>\n",
              "      <td>2016-03-02 23:13:28</td>\n",
              "      <td>99.558167</td>\n",
              "    </tr>\n",
              "    <tr>\n",
              "      <th>5</th>\n",
              "      <td>2016-03-09 10:42:58</td>\n",
              "      <td>99.556873</td>\n",
              "    </tr>\n",
              "    <tr>\n",
              "      <th>6</th>\n",
              "      <td>2016-04-02 10:43:00</td>\n",
              "      <td>99.558320</td>\n",
              "    </tr>\n",
              "    <tr>\n",
              "      <th>7</th>\n",
              "      <td>2016-04-19 23:13:29</td>\n",
              "      <td>99.561045</td>\n",
              "    </tr>\n",
              "    <tr>\n",
              "      <th>8</th>\n",
              "      <td>2016-04-26 10:43:00</td>\n",
              "      <td>99.558310</td>\n",
              "    </tr>\n",
              "    <tr>\n",
              "      <th>9</th>\n",
              "      <td>2016-05-20 10:43:02</td>\n",
              "      <td>99.559761</td>\n",
              "    </tr>\n",
              "    <tr>\n",
              "      <th>10</th>\n",
              "      <td>2016-06-06 23:13:32</td>\n",
              "      <td>99.561050</td>\n",
              "    </tr>\n",
              "    <tr>\n",
              "      <th>11</th>\n",
              "      <td>2016-06-13 10:43:03</td>\n",
              "      <td>99.559766</td>\n",
              "    </tr>\n",
              "    <tr>\n",
              "      <th>12</th>\n",
              "      <td>2016-06-30 23:13:33</td>\n",
              "      <td>99.558172</td>\n",
              "    </tr>\n",
              "    <tr>\n",
              "      <th>13</th>\n",
              "      <td>2016-07-07 10:43:05</td>\n",
              "      <td>99.559761</td>\n",
              "    </tr>\n",
              "    <tr>\n",
              "      <th>14</th>\n",
              "      <td>2016-07-24 23:13:34</td>\n",
              "      <td>99.559618</td>\n",
              "    </tr>\n",
              "    <tr>\n",
              "      <th>15</th>\n",
              "      <td>2016-07-31 10:43:06</td>\n",
              "      <td>99.559761</td>\n",
              "    </tr>\n",
              "    <tr>\n",
              "      <th>16</th>\n",
              "      <td>2016-08-17 23:13:36</td>\n",
              "      <td>99.559613</td>\n",
              "    </tr>\n",
              "    <tr>\n",
              "      <th>17</th>\n",
              "      <td>2016-08-24 10:43:07</td>\n",
              "      <td>99.559761</td>\n",
              "    </tr>\n",
              "  </tbody>\n",
              "</table>\n",
              "</div>"
            ],
            "text/plain": [
              "                 dates  cover_percentage\n",
              "0  2016-03-26 23:13:23         99.558320\n",
              "1  2016-05-13 23:13:30         99.559609\n",
              "2  2016-02-07 23:13:28         99.559613\n",
              "3  2016-02-14 10:42:59         99.558320\n",
              "4  2016-03-02 23:13:28         99.558167\n",
              "5  2016-03-09 10:42:58         99.556873\n",
              "6  2016-04-02 10:43:00         99.558320\n",
              "7  2016-04-19 23:13:29         99.561045\n",
              "8  2016-04-26 10:43:00         99.558310\n",
              "9  2016-05-20 10:43:02         99.559761\n",
              "10 2016-06-06 23:13:32         99.561050\n",
              "11 2016-06-13 10:43:03         99.559766\n",
              "12 2016-06-30 23:13:33         99.558172\n",
              "13 2016-07-07 10:43:05         99.559761\n",
              "14 2016-07-24 23:13:34         99.559618\n",
              "15 2016-07-31 10:43:06         99.559761\n",
              "16 2016-08-17 23:13:36         99.559613\n",
              "17 2016-08-24 10:43:07         99.559761"
            ]
          },
          "metadata": {
            "tags": []
          },
          "execution_count": 9
        }
      ]
    },
    {
      "cell_type": "markdown",
      "metadata": {
        "id": "XtqFR0VJyxs4"
      },
      "source": [
        "Due to Sentinel 1 mission has two satellites (a and b), it can orbit the earth in a different orientation (Ascending and Descending), the  6 days data can be summarised averaging over a time window. "
      ]
    },
    {
      "cell_type": "code",
      "metadata": {
        "colab": {
          "base_uri": "https://localhost:8080/"
        },
        "id": "GVg1oI70yxs4",
        "outputId": "0fd103e1-00ae-4380-e653-9668fc8643d6"
      },
      "source": [
        "querydata.reduce_collection_by_days(10)\n",
        "querydata._dates_reduced"
      ],
      "execution_count": null,
      "outputs": [
        {
          "output_type": "execute_result",
          "data": {
            "text/plain": [
              "0   2016-03-30 04:58:12\n",
              "1   2016-04-19 23:13:29\n",
              "2   2016-04-26 10:43:00\n",
              "3   2016-05-13 23:13:30\n",
              "4   2016-05-20 10:43:02\n",
              "5   2016-06-10 04:58:18\n",
              "6   2016-06-30 23:13:33\n",
              "7   2016-07-07 10:43:05\n",
              "8   2016-07-28 04:58:20\n",
              "9   2016-08-17 23:13:36\n",
              "dtype: datetime64[ns]"
            ]
          },
          "metadata": {
            "tags": []
          },
          "execution_count": 10
        }
      ]
    },
    {
      "cell_type": "code",
      "metadata": {
        "colab": {
          "base_uri": "https://localhost:8080/",
          "height": 831
        },
        "id": "gJRJmKGAyxs4",
        "outputId": "3f9dbdf1-8576-4851-c75b-3387439dce63"
      },
      "source": [
        "imagetoplot = querydata.image_collection.toList(querydata.image_collection.size()).get(2)\n",
        "\n",
        "radarParams = {'gamma': 1.3, \n",
        "                   'min': -25,\n",
        "                   'max': 5,\n",
        "                   'bands': ['VV']\n",
        "                   }\n",
        "\n",
        "gee_satellite_data.plot_eeimage(imagetoplot, radarParams, querydata.geometry, zoom = 11)\n"
      ],
      "execution_count": null,
      "outputs": [
        {
          "output_type": "execute_result",
          "data": {
            "text/html": [
              "<div style=\"width:100%;\"><div style=\"position:relative;width:100%;height:0;padding-bottom:60%;\"><span style=\"color:#565656\">Make this Notebook Trusted to load map: File -> Trust Notebook</span><iframe src=\"about:blank\" style=\"position:absolute;width:100%;height:100%;left:0;top:0;border:none !important;\" data-html=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 onload=\"this.contentDocument.open();this.contentDocument.write(atob(this.getAttribute('data-html')));this.contentDocument.close();\" allowfullscreen webkitallowfullscreen mozallowfullscreen></iframe></div></div>"
            ],
            "text/plain": [
              "<folium.folium.Map at 0x7fac851e6a58>"
            ]
          },
          "metadata": {
            "tags": []
          },
          "execution_count": 11
        }
      ]
    },
    {
      "cell_type": "markdown",
      "metadata": {
        "id": "Pnzbwf_fyxs5"
      },
      "source": [
        "if the time window reduction step was completed, the code will download all the images that were calculated in that step. Otherwise, it will download the images that were acquired from the inital query"
      ]
    },
    {
      "cell_type": "code",
      "metadata": {
        "id": "aZ-jAN4xVxRX",
        "colab": {
          "base_uri": "https://localhost:8080/"
        },
        "outputId": "f98c04e4-4bb6-4462-dd0f-9c787f7d280f"
      },
      "source": [
        "from google.colab import drive\n",
        "\n",
        "drive.mount('/content/mnt')"
      ],
      "execution_count": null,
      "outputs": [
        {
          "output_type": "stream",
          "text": [
            "Mounted at /content/mnt\n"
          ],
          "name": "stdout"
        }
      ]
    },
    {
      "cell_type": "code",
      "metadata": {
        "id": "l8KAEa-jWI_3"
      },
      "source": [
        "!mkdir '/content/mnt/MyDrive/satellite_images'"
      ],
      "execution_count": null,
      "outputs": []
    },
    {
      "cell_type": "code",
      "metadata": {
        "id": "4Rq76xnZWC1U"
      },
      "source": [
        "!cd '/content/mnt/MyDrive/'"
      ],
      "execution_count": null,
      "outputs": []
    },
    {
      "cell_type": "code",
      "metadata": {
        "id": "VDmyNg9fVrk_",
        "colab": {
          "base_uri": "https://localhost:8080/"
        },
        "outputId": "bb05d3df-7a74-403f-a69d-a4e516e5a55c"
      },
      "source": [
        "gee_satellite_data.download_gee_todrive(querydata, \n",
        "                                        outputdrive_folder = 'satellite_images', \n",
        "                                        regionid = \"col_t3\", \n",
        "                                        scale = 10)"
      ],
      "execution_count": null,
      "outputs": [
        {
          "output_type": "stream",
          "text": [
            "Polling for task (id: s1_grd_20160330_col_t3_10m).\n",
            "Polling for task (id: s1_grd_20160330_col_t3_10m).\n",
            "Polling for task (id: s1_grd_20160330_col_t3_10m).\n",
            "Polling for task (id: s1_grd_20160330_col_t3_10m).\n",
            "Polling for task (id: s1_grd_20160330_col_t3_10m).\n",
            "Polling for task (id: s1_grd_20160330_col_t3_10m).\n",
            "Polling for task (id: s1_grd_20160330_col_t3_10m).\n",
            "Polling for task (id: s1_grd_20160330_col_t3_10m).\n",
            "Polling for task (id: s1_grd_20160330_col_t3_10m).\n",
            "Polling for task (id: s1_grd_20160330_col_t3_10m).\n",
            "Polling for task (id: s1_grd_20160419_col_t3_10m).\n",
            "Polling for task (id: s1_grd_20160419_col_t3_10m).\n",
            "Polling for task (id: s1_grd_20160419_col_t3_10m).\n",
            "Polling for task (id: s1_grd_20160419_col_t3_10m).\n",
            "Polling for task (id: s1_grd_20160419_col_t3_10m).\n",
            "Polling for task (id: s1_grd_20160419_col_t3_10m).\n",
            "Polling for task (id: s1_grd_20160419_col_t3_10m).\n",
            "Polling for task (id: s1_grd_20160419_col_t3_10m).\n",
            "Polling for task (id: s1_grd_20160426_col_t3_10m).\n",
            "Polling for task (id: s1_grd_20160426_col_t3_10m).\n",
            "Polling for task (id: s1_grd_20160426_col_t3_10m).\n",
            "Polling for task (id: s1_grd_20160426_col_t3_10m).\n",
            "Polling for task (id: s1_grd_20160426_col_t3_10m).\n",
            "Polling for task (id: s1_grd_20160426_col_t3_10m).\n",
            "Polling for task (id: s1_grd_20160426_col_t3_10m).\n",
            "Polling for task (id: s1_grd_20160426_col_t3_10m).\n",
            "Polling for task (id: s1_grd_20160513_col_t3_10m).\n",
            "Polling for task (id: s1_grd_20160513_col_t3_10m).\n",
            "Polling for task (id: s1_grd_20160513_col_t3_10m).\n",
            "Polling for task (id: s1_grd_20160513_col_t3_10m).\n",
            "Polling for task (id: s1_grd_20160513_col_t3_10m).\n",
            "Polling for task (id: s1_grd_20160513_col_t3_10m).\n",
            "Polling for task (id: s1_grd_20160513_col_t3_10m).\n",
            "Polling for task (id: s1_grd_20160513_col_t3_10m).\n",
            "Polling for task (id: s1_grd_20160520_col_t3_10m).\n",
            "Polling for task (id: s1_grd_20160520_col_t3_10m).\n",
            "Polling for task (id: s1_grd_20160520_col_t3_10m).\n",
            "Polling for task (id: s1_grd_20160520_col_t3_10m).\n",
            "Polling for task (id: s1_grd_20160520_col_t3_10m).\n",
            "Polling for task (id: s1_grd_20160520_col_t3_10m).\n",
            "Polling for task (id: s1_grd_20160520_col_t3_10m).\n",
            "Polling for task (id: s1_grd_20160520_col_t3_10m).\n",
            "Polling for task (id: s1_grd_20160520_col_t3_10m).\n",
            "Polling for task (id: s1_grd_20160610_col_t3_10m).\n",
            "Polling for task (id: s1_grd_20160610_col_t3_10m).\n",
            "Polling for task (id: s1_grd_20160610_col_t3_10m).\n",
            "Polling for task (id: s1_grd_20160610_col_t3_10m).\n",
            "Polling for task (id: s1_grd_20160610_col_t3_10m).\n",
            "Polling for task (id: s1_grd_20160610_col_t3_10m).\n",
            "Polling for task (id: s1_grd_20160610_col_t3_10m).\n",
            "Polling for task (id: s1_grd_20160610_col_t3_10m).\n",
            "Polling for task (id: s1_grd_20160610_col_t3_10m).\n",
            "Polling for task (id: s1_grd_20160630_col_t3_10m).\n",
            "Polling for task (id: s1_grd_20160630_col_t3_10m).\n",
            "Polling for task (id: s1_grd_20160630_col_t3_10m).\n",
            "Polling for task (id: s1_grd_20160630_col_t3_10m).\n",
            "Polling for task (id: s1_grd_20160630_col_t3_10m).\n",
            "Polling for task (id: s1_grd_20160630_col_t3_10m).\n",
            "Polling for task (id: s1_grd_20160630_col_t3_10m).\n",
            "Polling for task (id: s1_grd_20160630_col_t3_10m).\n",
            "Polling for task (id: s1_grd_20160707_col_t3_10m).\n",
            "Polling for task (id: s1_grd_20160707_col_t3_10m).\n",
            "Polling for task (id: s1_grd_20160707_col_t3_10m).\n",
            "Polling for task (id: s1_grd_20160707_col_t3_10m).\n",
            "Polling for task (id: s1_grd_20160707_col_t3_10m).\n",
            "Polling for task (id: s1_grd_20160707_col_t3_10m).\n",
            "Polling for task (id: s1_grd_20160707_col_t3_10m).\n",
            "Polling for task (id: s1_grd_20160707_col_t3_10m).\n",
            "Polling for task (id: s1_grd_20160707_col_t3_10m).\n",
            "Polling for task (id: s1_grd_20160728_col_t3_10m).\n",
            "Polling for task (id: s1_grd_20160728_col_t3_10m).\n",
            "Polling for task (id: s1_grd_20160728_col_t3_10m).\n",
            "Polling for task (id: s1_grd_20160728_col_t3_10m).\n",
            "Polling for task (id: s1_grd_20160728_col_t3_10m).\n",
            "Polling for task (id: s1_grd_20160728_col_t3_10m).\n",
            "Polling for task (id: s1_grd_20160728_col_t3_10m).\n",
            "Polling for task (id: s1_grd_20160728_col_t3_10m).\n",
            "Polling for task (id: s1_grd_20160728_col_t3_10m).\n",
            "Polling for task (id: s1_grd_20160817_col_t3_10m).\n",
            "Polling for task (id: s1_grd_20160817_col_t3_10m).\n",
            "Polling for task (id: s1_grd_20160817_col_t3_10m).\n",
            "Polling for task (id: s1_grd_20160817_col_t3_10m).\n",
            "Polling for task (id: s1_grd_20160817_col_t3_10m).\n",
            "Polling for task (id: s1_grd_20160817_col_t3_10m).\n",
            "Polling for task (id: s1_grd_20160817_col_t3_10m).\n",
            "Polling for task (id: s1_grd_20160817_col_t3_10m).\n",
            "Polling for task (id: s1_grd_20160817_col_t3_10m).\n"
          ],
          "name": "stdout"
        }
      ]
    },
    {
      "cell_type": "markdown",
      "metadata": {
        "id": "-H-BjstRyxs6"
      },
      "source": [
        "## Download Landsat 8 Surface Reflectance data"
      ]
    },
    {
      "cell_type": "code",
      "metadata": {
        "id": "y_7i0R6Iyxs6"
      },
      "source": [
        "landsat8 = gee_satellite_data.get_gee_data(\"2018-01-01\",\n",
        "                                           \"2018-12-31\", \n",
        "                                           \"data/col_t3.shp\", \n",
        "                                           \"landsat8_t1sr\", \n",
        "                                            bands = ['B2', 'B3', 'B4', 'B5', 'B10', 'B11'],\n",
        "                                            cloud_percentage= 70)"
      ],
      "execution_count": null,
      "outputs": []
    },
    {
      "cell_type": "code",
      "metadata": {
        "colab": {
          "base_uri": "https://localhost:8080/",
          "height": 287
        },
        "id": "cdGFdewhyxs6",
        "outputId": "b008b611-b4c1-4029-c77d-ef12c7a67c84"
      },
      "source": [
        "landsat8.summary"
      ],
      "execution_count": null,
      "outputs": [
        {
          "output_type": "execute_result",
          "data": {
            "text/html": [
              "<div>\n",
              "<style scoped>\n",
              "    .dataframe tbody tr th:only-of-type {\n",
              "        vertical-align: middle;\n",
              "    }\n",
              "\n",
              "    .dataframe tbody tr th {\n",
              "        vertical-align: top;\n",
              "    }\n",
              "\n",
              "    .dataframe thead th {\n",
              "        text-align: right;\n",
              "    }\n",
              "</style>\n",
              "<table border=\"1\" class=\"dataframe\">\n",
              "  <thead>\n",
              "    <tr style=\"text-align: right;\">\n",
              "      <th></th>\n",
              "      <th>dates</th>\n",
              "      <th>cover_percentage</th>\n",
              "    </tr>\n",
              "  </thead>\n",
              "  <tbody>\n",
              "    <tr>\n",
              "      <th>0</th>\n",
              "      <td>2018-02-13 00:00:00</td>\n",
              "      <td>2.539184</td>\n",
              "    </tr>\n",
              "    <tr>\n",
              "      <th>1</th>\n",
              "      <td>2018-03-01 15:12:27</td>\n",
              "      <td>46.204227</td>\n",
              "    </tr>\n",
              "    <tr>\n",
              "      <th>2</th>\n",
              "      <td>2018-03-17 00:00:00</td>\n",
              "      <td>92.975099</td>\n",
              "    </tr>\n",
              "    <tr>\n",
              "      <th>3</th>\n",
              "      <td>2018-08-08 15:12:07</td>\n",
              "      <td>99.550840</td>\n",
              "    </tr>\n",
              "    <tr>\n",
              "      <th>4</th>\n",
              "      <td>2018-08-24 00:00:00</td>\n",
              "      <td>62.893990</td>\n",
              "    </tr>\n",
              "    <tr>\n",
              "      <th>5</th>\n",
              "      <td>2018-09-09 00:00:00</td>\n",
              "      <td>97.080620</td>\n",
              "    </tr>\n",
              "    <tr>\n",
              "      <th>6</th>\n",
              "      <td>2018-11-28 15:13:04</td>\n",
              "      <td>0.000000</td>\n",
              "    </tr>\n",
              "    <tr>\n",
              "      <th>7</th>\n",
              "      <td>2018-12-30 00:00:00</td>\n",
              "      <td>88.612941</td>\n",
              "    </tr>\n",
              "  </tbody>\n",
              "</table>\n",
              "</div>"
            ],
            "text/plain": [
              "                dates  cover_percentage\n",
              "0 2018-02-13 00:00:00          2.539184\n",
              "1 2018-03-01 15:12:27         46.204227\n",
              "2 2018-03-17 00:00:00         92.975099\n",
              "3 2018-08-08 15:12:07         99.550840\n",
              "4 2018-08-24 00:00:00         62.893990\n",
              "5 2018-09-09 00:00:00         97.080620\n",
              "6 2018-11-28 15:13:04          0.000000\n",
              "7 2018-12-30 00:00:00         88.612941"
            ]
          },
          "metadata": {
            "tags": []
          },
          "execution_count": 17
        }
      ]
    },
    {
      "cell_type": "code",
      "metadata": {
        "colab": {
          "base_uri": "https://localhost:8080/",
          "height": 831
        },
        "id": "Au-LtMWgyxs7",
        "outputId": "7fc36adc-45e5-4717-a11d-cf2123f766cf"
      },
      "source": [
        "\n",
        "truecolorParams = {'gamma': 1.3, \n",
        "                   'min': 57,\n",
        "                   'max': 2000,\n",
        "                   'bands': ['B4','B3','B2']\n",
        "                   }\n",
        "\n",
        "imagetoplot = landsat8.image_collection.toList(landsat8.image_collection.size()).get(5)\n",
        "\n",
        "gee_satellite_data.plot_eeimage(imagetoplot, truecolorParams, landsat8.geometry, zoom = 11)\n",
        "\n"
      ],
      "execution_count": null,
      "outputs": [
        {
          "output_type": "execute_result",
          "data": {
            "text/html": [
              "<div style=\"width:100%;\"><div style=\"position:relative;width:100%;height:0;padding-bottom:60%;\"><span style=\"color:#565656\">Make this Notebook Trusted to load map: File -> Trust Notebook</span><iframe src=\"about:blank\" style=\"position:absolute;width:100%;height:100%;left:0;top:0;border:none !important;\" data-html=PCFET0NUWVBFIGh0bWw+CjxoZWFkPiAgICAKICAgIDxtZXRhIGh0dHAtZXF1aXY9ImNvbnRlbnQtdHlwZSIgY29udGVudD0idGV4dC9odG1sOyBjaGFyc2V0PVVURi04IiAvPgogICAgPHNjcmlwdD5MX1BSRUZFUl9DQU5WQVM9ZmFsc2U7IExfTk9fVE9VQ0g9ZmFsc2U7IExfRElTQUJMRV8zRD1mYWxzZTs8L3NjcmlwdD4KICAgIDxzY3JpcHQgc3JjPSJodHRwczovL2Nkbi5qc2RlbGl2ci5uZXQvbnBtL2xlYWZsZXRAMS40LjAvZGlzdC9sZWFmbGV0LmpzIj48L3NjcmlwdD4KICAgIDxzY3JpcHQgc3JjPSJodHRwczovL2NvZGUuanF1ZXJ5LmNvbS9qcXVlcnktMS4xMi40Lm1pbi5qcyI+PC9zY3JpcHQ+CiAgICA8c2NyaXB0IHNyYz0iaHR0cHM6Ly9tYXhjZG4uYm9vdHN0cmFwY2RuLmNvbS9ib290c3RyYXAvMy4yLjAvanMvYm9vdHN0cmFwLm1pbi5qcyI+PC9zY3JpcHQ+CiAgICA8c2NyaXB0IHNyYz0iaHR0cHM6Ly9jZG5qcy5jbG91ZGZsYXJlLmNvbS9hamF4L2xpYnMvTGVhZmxldC5hd2Vzb21lLW1hcmtlcnMvMi4wLjIvbGVhZmxldC5hd2Vzb21lLW1hcmtlcnMuanMiPjwvc2NyaXB0PgogICAgPGxpbmsgcmVsPSJzdHlsZXNoZWV0IiBocmVmPSJodHRwczovL2Nkbi5qc2RlbGl2ci5uZXQvbnBtL2xlYWZsZXRAMS40LjAvZGlzdC9sZWFmbGV0LmNzcyIvPgogICAgPGxpbmsgcmVsPSJzdHlsZXNoZWV0IiBocmVmPSJodHRwczovL21heGNkbi5ib290c3RyYXBjZG4uY29tL2Jvb3RzdHJhcC8zLjIuMC9jc3MvYm9vdHN0cmFwLm1pbi5jc3MiLz4KICAgIDxsaW5rIHJlbD0ic3R5bGVzaGVldCIgaHJlZj0iaHR0cHM6Ly9tYXhjZG4uYm9vdHN0cmFwY2RuLmNvbS9ib290c3RyYXAvMy4yLjAvY3NzL2Jvb3RzdHJhcC10aGVtZS5taW4uY3NzIi8+CiAgICA8bGluayByZWw9InN0eWxlc2hlZXQiIGhyZWY9Imh0dHBzOi8vbWF4Y2RuLmJvb3RzdHJhcGNkbi5jb20vZm9udC1hd2Vzb21lLzQuNi4zL2Nzcy9mb250LWF3ZXNvbWUubWluLmNzcyIvPgogICAgPGxpbmsgcmVsPSJzdHlsZXNoZWV0IiBocmVmPSJodHRwczovL2NkbmpzLmNsb3VkZmxhcmUuY29tL2FqYXgvbGlicy9MZWFmbGV0LmF3ZXNvbWUtbWFya2Vycy8yLjAuMi9sZWFmbGV0LmF3ZXNvbWUtbWFya2Vycy5jc3MiLz4KICAgIDxsaW5rIHJlbD0ic3R5bGVzaGVldCIgaHJlZj0iaHR0cHM6Ly9yYXdjZG4uZ2l0aGFjay5jb20vcHl0aG9uLXZpc3VhbGl6YXRpb24vZm9saXVtL21hc3Rlci9mb2xpdW0vdGVtcGxhdGVzL2xlYWZsZXQuYXdlc29tZS5yb3RhdGUuY3NzIi8+CiAgICA8c3R5bGU+aHRtbCwgYm9keSB7d2lkdGg6IDEwMCU7aGVpZ2h0OiAxMDAlO21hcmdpbjogMDtwYWRkaW5nOiAwO308L3N0eWxlPgogICAgPHN0eWxlPiNtYXAge3Bvc2l0aW9uOmFic29sdXRlO3RvcDowO2JvdHRvbTowO3JpZ2h0OjA7bGVmdDowO308L3N0eWxlPgogICAgCiAgICA8bWV0YSBuYW1lPSJ2aWV3cG9ydCIgY29udGVudD0id2lkdGg9ZGV2aWNlLXdpZHRoLAogICAgICAgIGluaXRpYWwtc2NhbGU9MS4wLCBtYXhpbXVtLXNjYWxlPTEuMCwgdXNlci1zY2FsYWJsZT1ubyIgLz4KICAgIDxzdHlsZT4jbWFwXzNmMmJlNTgyZWZkZTRmNDliMzBkOWI5MmZmMTE2YzQzIHsKICAgICAgICBwb3NpdGlvbjogcmVsYXRpdmU7CiAgICAgICAgd2lkdGg6IDEwMC4wJTsKICAgICAgICBoZWlnaHQ6IDEwMC4wJTsKICAgICAgICBsZWZ0OiAwLjAlOwogICAgICAgIHRvcDogMC4wJTsKICAgICAgICB9CiAgICA8L3N0eWxlPgogICAgPHNjcmlwdCBzcmM9Imh0dHBzOi8vY2RuanMuY2xvdWRmbGFyZS5jb20vYWpheC9saWJzL2xlYWZsZXQuZnVsbHNjcmVlbi8xLjQuMi9Db250cm9sLkZ1bGxTY3JlZW4ubWluLmpzIj48L3NjcmlwdD4KICAgIDxsaW5rIHJlbD0ic3R5bGVzaGVldCIgaHJlZj0iaHR0cHM6Ly9jZG5qcy5jbG91ZGZsYXJlLmNvbS9hamF4L2xpYnMvbGVhZmxldC5mdWxsc2NyZWVuLzEuNC4yL0NvbnRyb2wuRnVsbFNjcmVlbi5taW4uY3NzIi8+CjwvaGVhZD4KPGJvZHk+ICAgIAogICAgCiAgICA8ZGl2IGNsYXNzPSJmb2xpdW0tbWFwIiBpZD0ibWFwXzNmMmJlNTgyZWZkZTRmNDliMzBkOWI5MmZmMTE2YzQzIiA+PC9kaXY+CjwvYm9keT4KPHNjcmlwdD4gICAgCiAgICAKICAgIAogICAgICAgIHZhciBib3VuZHMgPSBudWxsOwogICAgCgogICAgdmFyIG1hcF8zZjJiZTU4MmVmZGU0ZjQ5YjMwZDliOTJmZjExNmM0MyA9IEwubWFwKAogICAgICAgICdtYXBfM2YyYmU1ODJlZmRlNGY0OWIzMGQ5YjkyZmYxMTZjNDMnLCB7CiAgICAgICAgY2VudGVyOiBbMy44NjU2Njg0NTM3NTcxMzkzLCAtNzQuOTgwMTI3MjA5Mzk3OTJdLAogICAgICAgIHpvb206IDExLAogICAgICAgIG1heEJvdW5kczogYm91bmRzLAogICAgICAgIGxheWVyczogW10sCiAgICAgICAgd29ybGRDb3B5SnVtcDogZmFsc2UsCiAgICAgICAgY3JzOiBMLkNSUy5FUFNHMzg1NywKICAgICAgICB6b29tQ29udHJvbDogdHJ1ZSwKICAgICAgICB9KTsKCgogICAgCiAgICB2YXIgdGlsZV9sYXllcl8zZDUzZjhlODJhMWE0MGE4YTAzZWQ4OGIxYzJlZGNlZiA9IEwudGlsZUxheWVyKAogICAgICAgICdodHRwczovL3tzfS50aWxlLm9wZW5zdHJlZXRtYXAub3JnL3t6fS97eH0ve3l9LnBuZycsCiAgICAgICAgewogICAgICAgICJhdHRyaWJ1dGlvbiI6IG51bGwsCiAgICAgICAgImRldGVjdFJldGluYSI6IGZhbHNlLAogICAgICAgICJtYXhOYXRpdmVab29tIjogMTgsCiAgICAgICAgIm1heFpvb20iOiAxOCwKICAgICAgICAibWluWm9vbSI6IDAsCiAgICAgICAgIm5vV3JhcCI6IGZhbHNlLAogICAgICAgICJvcGFjaXR5IjogMSwKICAgICAgICAic3ViZG9tYWlucyI6ICJhYmMiLAogICAgICAgICJ0bXMiOiBmYWxzZQp9KS5hZGRUbyhtYXBfM2YyYmU1ODJlZmRlNGY0OWIzMGQ5YjkyZmYxMTZjNDMpOwogICAgdmFyIHRpbGVfbGF5ZXJfMDcwMTBmMzU4ZDJiNGVhNThiNjg1MDMzOWVkYjZjYzMgPSBMLnRpbGVMYXllcigKICAgICAgICAnaHR0cHM6Ly9lYXJ0aGVuZ2luZS5nb29nbGVhcGlzLmNvbS92MWFscGhhL3Byb2plY3RzL2VhcnRoZW5naW5lLWxlZ2FjeS9tYXBzLzgxMzM2OGMwMGYzZjExMjNkYjQ3NThlZjg4MzI2MjgxLTEzNzFhZTY5MzA4OTI0OTk3NDk5YWU4ZjYxZGU3NjRiL3RpbGVzL3t6fS97eH0ve3l9JywKICAgICAgICB7CiAgICAgICAgImF0dHJpYnV0aW9uIjogIkdvb2dsZSBFYXJ0aCBFbmdpbmUiLAogICAgICAgICJkZXRlY3RSZXRpbmEiOiBmYWxzZSwKICAgICAgICAibWF4TmF0aXZlWm9vbSI6IDE4LAogICAgICAgICJtYXhab29tIjogMTgsCiAgICAgICAgIm1pblpvb20iOiAwLAogICAgICAgICJub1dyYXAiOiBmYWxzZSwKICAgICAgICAib3BhY2l0eSI6IDEsCiAgICAgICAgInN1YmRvbWFpbnMiOiAiYWJjIiwKICAgICAgICAidG1zIjogZmFsc2UKfSkuYWRkVG8obWFwXzNmMmJlNTgyZWZkZTRmNDliMzBkOWI5MmZmMTE2YzQzKTsKICAgIHZhciB0aWxlX2xheWVyXzVkMGZkNWNjMDZiMjRhY2Y5M2IwZDI4NTUzZmUzZjE3ID0gTC50aWxlTGF5ZXIoCiAgICAgICAgJ2h0dHBzOi8vZWFydGhlbmdpbmUuZ29vZ2xlYXBpcy5jb20vdjFhbHBoYS9wcm9qZWN0cy9lYXJ0aGVuZ2luZS1sZWdhY3kvbWFwcy82MDY1ZjJhNjM0NGIwZGFiOTcyYmNmZmY2MzIyYWNlYS01NDY2Y2RjMjQ5ZTI4ZTNmM2VlMWY5OWRmNDc5NWE5OS90aWxlcy97en0ve3h9L3t5fScsCiAgICAgICAgewogICAgICAgICJhdHRyaWJ1dGlvbiI6ICJHb29nbGUgRWFydGggRW5naW5lIiwKICAgICAgICAiZGV0ZWN0UmV0aW5hIjogZmFsc2UsCiAgICAgICAgIm1heE5hdGl2ZVpvb20iOiAxOCwKICAgICAgICAibWF4Wm9vbSI6IDE4LAogICAgICAgICJtaW5ab29tIjogMCwKICAgICAgICAibm9XcmFwIjogZmFsc2UsCiAgICAgICAgIm9wYWNpdHkiOiAxLAogICAgICAgICJzdWJkb21haW5zIjogImFiYyIsCiAgICAgICAgInRtcyI6IGZhbHNlCn0pLmFkZFRvKG1hcF8zZjJiZTU4MmVmZGU0ZjQ5YjMwZDliOTJmZjExNmM0Myk7CiAgICAKICAgICAgICAgICAgdmFyIGxheWVyX2NvbnRyb2xfMzRmMzc0ZDE0NDU1NDU1MjkxYjU5Y2QxMTg2MzY2MmIgPSB7CiAgICAgICAgICAgICAgICBiYXNlX2xheWVycyA6IHsgIm9wZW5zdHJlZXRtYXAiIDogdGlsZV9sYXllcl8zZDUzZjhlODJhMWE0MGE4YTAzZWQ4OGIxYzJlZGNlZiwgfSwKICAgICAgICAgICAgICAgIG92ZXJsYXlzIDogeyAiZ2VlIGltYWdlIiA6IHRpbGVfbGF5ZXJfMDcwMTBmMzU4ZDJiNGVhNThiNjg1MDMzOWVkYjZjYzMsInJlZ2lvbiBvZiBpbnRlcmVzdDoiIDogdGlsZV9sYXllcl81ZDBmZDVjYzA2YjI0YWNmOTNiMGQyODU1M2ZlM2YxNywgfQogICAgICAgICAgICAgICAgfTsKICAgICAgICAgICAgTC5jb250cm9sLmxheWVycygKICAgICAgICAgICAgICAgIGxheWVyX2NvbnRyb2xfMzRmMzc0ZDE0NDU1NDU1MjkxYjU5Y2QxMTg2MzY2MmIuYmFzZV9sYXllcnMsCiAgICAgICAgICAgICAgICBsYXllcl9jb250cm9sXzM0ZjM3NGQxNDQ1NTQ1NTI5MWI1OWNkMTE4NjM2NjJiLm92ZXJsYXlzLAogICAgICAgICAgICAgICAge3Bvc2l0aW9uOiAndG9wcmlnaHQnLAogICAgICAgICAgICAgICAgIGNvbGxhcHNlZDogdHJ1ZSwKICAgICAgICAgICAgICAgICBhdXRvWkluZGV4OiB0cnVlCiAgICAgICAgICAgICAgICB9KS5hZGRUbyhtYXBfM2YyYmU1ODJlZmRlNGY0OWIzMGQ5YjkyZmYxMTZjNDMpOwogICAgICAgICAgICAKICAgICAgICAKICAgIAogICAgICAgICAgICBMLmNvbnRyb2wuZnVsbHNjcmVlbih7CiAgICAgICAgICAgICAgICBwb3NpdGlvbjogJ3RvcGxlZnQnLAogICAgICAgICAgICAgICAgdGl0bGU6ICdGdWxsIFNjcmVlbicsCiAgICAgICAgICAgICAgICB0aXRsZUNhbmNlbDogJ0V4aXQgRnVsbCBTY3JlZW4nLAogICAgICAgICAgICAgICAgZm9yY2VTZXBhcmF0ZUJ1dHRvbjogZmFsc2UsCiAgICAgICAgICAgICAgICB9KS5hZGRUbyhtYXBfM2YyYmU1ODJlZmRlNGY0OWIzMGQ5YjkyZmYxMTZjNDMpOwogICAgICAgICAgICBtYXBfM2YyYmU1ODJlZmRlNGY0OWIzMGQ5YjkyZmYxMTZjNDMub24oJ2VudGVyRnVsbHNjcmVlbicsIGZ1bmN0aW9uKCl7CiAgICAgICAgICAgICAgICBjb25zb2xlLmxvZygnZW50ZXJlZCBmdWxsc2NyZWVuJyk7CiAgICAgICAgICAgIH0pOwoKICAgICAgICAKICAgIAogICAgICAgICAgICAgICAgdmFyIGxhdF9sbmdfcG9wdXBfYjIyMGI5YmEzMTk4NGExNjkzODg5Y2M0NDYzYjIzNDMgPSBMLnBvcHVwKCk7CiAgICAgICAgICAgICAgICBmdW5jdGlvbiBsYXRMbmdQb3AoZSkgewogICAgICAgICAgICAgICAgICAgIGxhdF9sbmdfcG9wdXBfYjIyMGI5YmEzMTk4NGExNjkzODg5Y2M0NDYzYjIzNDMKICAgICAgICAgICAgICAgICAgICAgICAgLnNldExhdExuZyhlLmxhdGxuZykKICAgICAgICAgICAgICAgICAgICAgICAgLnNldENvbnRlbnQoIkxhdGl0dWRlOiAiICsgZS5sYXRsbmcubGF0LnRvRml4ZWQoNCkgKwogICAgICAgICAgICAgICAgICAgICAgICAgICAgICAgICAgICAiPGJyPkxvbmdpdHVkZTogIiArIGUubGF0bG5nLmxuZy50b0ZpeGVkKDQpKQogICAgICAgICAgICAgICAgICAgICAgICAub3Blbk9uKG1hcF8zZjJiZTU4MmVmZGU0ZjQ5YjMwZDliOTJmZjExNmM0Myk7CiAgICAgICAgICAgICAgICAgICAgfQogICAgICAgICAgICAgICAgbWFwXzNmMmJlNTgyZWZkZTRmNDliMzBkOWI5MmZmMTE2YzQzLm9uKCdjbGljaycsIGxhdExuZ1BvcCk7CiAgICAgICAgICAgIAo8L3NjcmlwdD4= onload=\"this.contentDocument.open();this.contentDocument.write(atob(this.getAttribute('data-html')));this.contentDocument.close();\" allowfullscreen webkitallowfullscreen mozallowfullscreen></iframe></div></div>"
            ],
            "text/plain": [
              "<folium.folium.Map at 0x7fac846dc2e8>"
            ]
          },
          "metadata": {
            "tags": []
          },
          "execution_count": 18
        }
      ]
    },
    {
      "cell_type": "markdown",
      "metadata": {
        "id": "wh8GzxIUyxs7"
      },
      "source": [
        "### Adding vegetation index layers"
      ]
    },
    {
      "cell_type": "code",
      "metadata": {
        "id": "UJs0u97Cyxs7"
      },
      "source": [
        "landsat8.add_vi_layer(\"ndvi\")"
      ],
      "execution_count": null,
      "outputs": []
    },
    {
      "cell_type": "code",
      "metadata": {
        "colab": {
          "base_uri": "https://localhost:8080/",
          "height": 831
        },
        "id": "26VsUbvyyxs8",
        "outputId": "332973bb-a564-4b6f-f744-13eaad7c3cd1"
      },
      "source": [
        "ndviParams = {     'min': 0,\n",
        "                   'max': 1,\n",
        "                   'palette': ['#FF0000', '#00FF00'],\n",
        "                   'bands': ['ndvi']\n",
        "                   }\n",
        "\n",
        "imagetoplot = landsat8.image_collection.toList(landsat8.image_collection.size()).get(5)\n",
        "\n",
        "gee_satellite_data.plot_eeimage(imagetoplot, ndviParams, landsat8.geometry, zoom = 11)"
      ],
      "execution_count": null,
      "outputs": [
        {
          "output_type": "execute_result",
          "data": {
            "text/html": [
              "<div style=\"width:100%;\"><div style=\"position:relative;width:100%;height:0;padding-bottom:60%;\"><span style=\"color:#565656\">Make this Notebook Trusted to load map: File -> Trust Notebook</span><iframe src=\"about:blank\" style=\"position:absolute;width:100%;height:100%;left:0;top:0;border:none !important;\" data-html=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 onload=\"this.contentDocument.open();this.contentDocument.write(atob(this.getAttribute('data-html')));this.contentDocument.close();\" allowfullscreen webkitallowfullscreen mozallowfullscreen></iframe></div></div>"
            ],
            "text/plain": [
              "<folium.folium.Map at 0x7fac84f6d7f0>"
            ]
          },
          "metadata": {
            "tags": []
          },
          "execution_count": 20
        }
      ]
    },
    {
      "cell_type": "markdown",
      "metadata": {
        "id": "9KL5UlP2yxs8"
      },
      "source": [
        "### Landsat 8 registration using sentinel 2 surface reflectance product\n",
        "for more information, refer to https://developers.google.com/earth-engine/guides/register"
      ]
    },
    {
      "cell_type": "code",
      "metadata": {
        "colab": {
          "base_uri": "https://localhost:8080/"
        },
        "id": "pqGnRgJLyxs8",
        "outputId": "6a359c15-25f9-4018-cb6c-ded519aef5fd"
      },
      "source": [
        "displacement, s2image, l8image  = landsat8.l8_displacement()\n"
      ],
      "execution_count": null,
      "outputs": [
        {
          "output_type": "stream",
          "text": [
            "the S2 image reference was found in 2019-06-07\n"
          ],
          "name": "stdout"
        }
      ]
    },
    {
      "cell_type": "code",
      "metadata": {
        "id": "oUNBHKklyxs9",
        "colab": {
          "base_uri": "https://localhost:8080/"
        },
        "outputId": "999416ab-baca-408f-fa5b-6485a5d53d65"
      },
      "source": [
        "landsat8.displace_landsatcollection(displacement)"
      ],
      "execution_count": null,
      "outputs": [
        {
          "output_type": "stream",
          "text": [
            "the image collection was resgistered\n"
          ],
          "name": "stdout"
        }
      ]
    },
    {
      "cell_type": "code",
      "metadata": {
        "colab": {
          "base_uri": "https://localhost:8080/",
          "height": 831
        },
        "id": "XetrtHdAyxs9",
        "outputId": "34f81ba3-80e3-4e55-eff6-c07e6740e579"
      },
      "source": [
        "import folium\n",
        "import geehydro\n",
        "\n",
        "registered = l8image.displace(displacement);\n",
        "\n",
        "truecolorParams = {'gamma': 1.3, \n",
        "                   'min': 57,\n",
        "                   'max': 2000,\n",
        "                   'bands': ['B4','B3','B2']\n",
        "                   }\n",
        "\n",
        "centergeometry = gis_functions.geometry_center(landsat8.geometry)\n",
        "\n",
        "\n",
        "Map = folium.Map(location=[centergeometry[1],\n",
        "                           centergeometry[0]], zoom_start=11)\n",
        "\n",
        "eegeom = gis_functions.polygon_fromgeometry(landsat8.geometry)\n",
        "eegeom = gee_functions.geometry_as_ee(eegeom)\n",
        "\n",
        "Map.addLayer(ee.Image(s2image), truecolorParams, 'gee image s2')\n",
        "Map.addLayer(ee.Image(l8image), truecolorParams, 'gee image ls')\n",
        "Map.addLayer(ee.Image(registered), truecolorParams, 'gee image ls registered')\n",
        "\n",
        "\n",
        "Map.addLayer(ee.Image().paint(eegeom, 1, 3), {}, 'region of interest:')\n",
        "\n",
        "\n",
        "Map.setControlVisibility(layerControl=True, fullscreenControl=True, latLngPopup=True)\n",
        "\n",
        "Map"
      ],
      "execution_count": null,
      "outputs": [
        {
          "output_type": "execute_result",
          "data": {
            "text/html": [
              "<div style=\"width:100%;\"><div style=\"position:relative;width:100%;height:0;padding-bottom:60%;\"><span style=\"color:#565656\">Make this Notebook Trusted to load map: File -> Trust Notebook</span><iframe src=\"about:blank\" style=\"position:absolute;width:100%;height:100%;left:0;top:0;border:none !important;\" data-html=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 onload=\"this.contentDocument.open();this.contentDocument.write(atob(this.getAttribute('data-html')));this.contentDocument.close();\" allowfullscreen webkitallowfullscreen mozallowfullscreen></iframe></div></div>"
            ],
            "text/plain": [
              "<folium.folium.Map at 0x7fac83478160>"
            ]
          },
          "metadata": {
            "tags": []
          },
          "execution_count": 23
        }
      ]
    },
    {
      "cell_type": "markdown",
      "metadata": {
        "id": "DBF41Zgnyxs9"
      },
      "source": [
        "### Download data"
      ]
    },
    {
      "cell_type": "code",
      "metadata": {
        "id": "JShGwf60yxs9",
        "outputId": "d3a3afad-14cf-4aa8-9f2c-8dad4ada7ade"
      },
      "source": [
        "gee_satellite_data.download_gee_tolocal(landsat8, ## gee_data class\n",
        "                                        'gee_satellitedata/l8_processed', ## output directory\n",
        "                                        \"col_t3\", ## suffix identifiacation\n",
        "                                        10, # spatial resolutions\n",
        "                                        bands = ['B2', 'B3', 'B4', 'B5', 'B10', 'B11', 'ndvi'], ## bands to be exported\n",
        "                                        cover_percentage= 75 ## minimum cover percentage\n",
        "                                       )"
      ],
      "execution_count": null,
      "outputs": [
        {
          "output_type": "stream",
          "text": [
            "-1 / unknownthe gee_satellitedata/l8_processed\\l8_t1sr_20160327_col_t3_10m file was downloaded\n",
            "-1 / unknownthe gee_satellitedata/l8_processed\\l8_t1sr_20160530_col_t3_10m file was downloaded\n",
            "-1 / unknownthe gee_satellitedata/l8_processed\\l8_t1sr_20160717_col_t3_10m file was downloaded\n",
            "-1 / unknownthe gee_satellitedata/l8_processed\\l8_t1sr_20160903_col_t3_10m file was downloaded\n",
            "-1 / unknownthe gee_satellitedata/l8_processed\\l8_t1sr_20161021_col_t3_10m file was downloaded\n",
            "-1 / unknownthe gee_satellitedata/l8_processed\\l8_t1sr_20161106_col_t3_10m file was downloaded\n",
            "-1 / unknownthe gee_satellitedata/l8_processed\\l8_t1sr_20161122_col_t3_10m file was downloaded\n",
            "-1 / unknownthe gee_satellitedata/l8_processed\\l8_t1sr_20170314_col_t3_10m file was downloaded\n",
            "-1 / unknownthe gee_satellitedata/l8_processed\\l8_t1sr_20170602_col_t3_10m file was downloaded\n",
            "-1 / unknownthe gee_satellitedata/l8_processed\\l8_t1sr_20170704_col_t3_10m file was downloaded\n",
            "-1 / unknownthe gee_satellitedata/l8_processed\\l8_t1sr_20170720_col_t3_10m file was downloaded\n",
            "-1 / unknownthe gee_satellitedata/l8_processed\\l8_t1sr_20170906_col_t3_10m file was downloaded\n",
            "-1 / unknownthe gee_satellitedata/l8_processed\\l8_t1sr_20170922_col_t3_10m file was downloaded\n",
            "-1 / unknownthe gee_satellitedata/l8_processed\\l8_t1sr_20171008_col_t3_10m file was downloaded\n",
            "-1 / unknownthe gee_satellitedata/l8_processed\\l8_t1sr_20180317_col_t3_10m file was downloaded\n",
            "-1 / unknownthe gee_satellitedata/l8_processed\\l8_t1sr_20180808_col_t3_10m file was downloaded\n",
            "-1 / unknownthe gee_satellitedata/l8_processed\\l8_t1sr_20180909_col_t3_10m file was downloaded\n",
            "-1 / unknownthe gee_satellitedata/l8_processed\\l8_t1sr_20181230_col_t3_10m file was downloaded\n",
            "these [] files created a conflict at the moment of its download\n"
          ],
          "name": "stdout"
        }
      ]
    },
    {
      "cell_type": "code",
      "metadata": {
        "id": "-wik8g89e-EA",
        "colab": {
          "base_uri": "https://localhost:8080/"
        },
        "outputId": "f785a4ce-eae9-4b88-adf9-55e21dd29d3c"
      },
      "source": [
        "gee_satellite_data.download_gee_todrive(landsat8, \n",
        "                                        outputdrive_folder = 'satellite_images', \n",
        "                                        regionid = \"col_t3\", \n",
        "                                        scale = 10,\n",
        "                                        bands = ['B2', 'B3', 'B4', 'B5','ndvi'], ## bands to be exported\n",
        "                                        cover_percentage= 75 ## minimum cover percentage\n",
        "                                        )"
      ],
      "execution_count": null,
      "outputs": [
        {
          "output_type": "stream",
          "text": [
            "Polling for task (id: l8_t1sr_20180317_col_t3_10m).\n",
            "Polling for task (id: l8_t1sr_20180317_col_t3_10m).\n",
            "Polling for task (id: l8_t1sr_20180317_col_t3_10m).\n",
            "Polling for task (id: l8_t1sr_20180317_col_t3_10m).\n",
            "Polling for task (id: l8_t1sr_20180317_col_t3_10m).\n",
            "Polling for task (id: l8_t1sr_20180317_col_t3_10m).\n",
            "Polling for task (id: l8_t1sr_20180317_col_t3_10m).\n",
            "Polling for task (id: l8_t1sr_20180317_col_t3_10m).\n",
            "Polling for task (id: l8_t1sr_20180317_col_t3_10m).\n",
            "Polling for task (id: l8_t1sr_20180317_col_t3_10m).\n",
            "Polling for task (id: l8_t1sr_20180317_col_t3_10m).\n",
            "Polling for task (id: l8_t1sr_20180317_col_t3_10m).\n",
            "Polling for task (id: l8_t1sr_20180317_col_t3_10m).\n",
            "Polling for task (id: l8_t1sr_20180808_col_t3_10m).\n",
            "Polling for task (id: l8_t1sr_20180909_col_t3_10m).\n",
            "Polling for task (id: l8_t1sr_20180909_col_t3_10m).\n",
            "Polling for task (id: l8_t1sr_20180909_col_t3_10m).\n",
            "Polling for task (id: l8_t1sr_20180909_col_t3_10m).\n",
            "Polling for task (id: l8_t1sr_20180909_col_t3_10m).\n",
            "Polling for task (id: l8_t1sr_20180909_col_t3_10m).\n",
            "Polling for task (id: l8_t1sr_20180909_col_t3_10m).\n",
            "Polling for task (id: l8_t1sr_20180909_col_t3_10m).\n",
            "Polling for task (id: l8_t1sr_20180909_col_t3_10m).\n",
            "Polling for task (id: l8_t1sr_20180909_col_t3_10m).\n",
            "Polling for task (id: l8_t1sr_20180909_col_t3_10m).\n",
            "Polling for task (id: l8_t1sr_20180909_col_t3_10m).\n",
            "Polling for task (id: l8_t1sr_20180909_col_t3_10m).\n",
            "Polling for task (id: l8_t1sr_20180909_col_t3_10m).\n",
            "Polling for task (id: l8_t1sr_20180909_col_t3_10m).\n",
            "Polling for task (id: l8_t1sr_20180909_col_t3_10m).\n",
            "Polling for task (id: l8_t1sr_20180909_col_t3_10m).\n",
            "Polling for task (id: l8_t1sr_20180909_col_t3_10m).\n",
            "Polling for task (id: l8_t1sr_20180909_col_t3_10m).\n",
            "Polling for task (id: l8_t1sr_20180909_col_t3_10m).\n",
            "Polling for task (id: l8_t1sr_20180909_col_t3_10m).\n",
            "Polling for task (id: l8_t1sr_20181230_col_t3_10m).\n",
            "Polling for task (id: l8_t1sr_20181230_col_t3_10m).\n",
            "Polling for task (id: l8_t1sr_20181230_col_t3_10m).\n",
            "Polling for task (id: l8_t1sr_20181230_col_t3_10m).\n",
            "Polling for task (id: l8_t1sr_20181230_col_t3_10m).\n",
            "Polling for task (id: l8_t1sr_20181230_col_t3_10m).\n",
            "Polling for task (id: l8_t1sr_20181230_col_t3_10m).\n",
            "Polling for task (id: l8_t1sr_20181230_col_t3_10m).\n",
            "Polling for task (id: l8_t1sr_20181230_col_t3_10m).\n",
            "Polling for task (id: l8_t1sr_20181230_col_t3_10m).\n",
            "Polling for task (id: l8_t1sr_20181230_col_t3_10m).\n",
            "Polling for task (id: l8_t1sr_20181230_col_t3_10m).\n",
            "Polling for task (id: l8_t1sr_20181230_col_t3_10m).\n"
          ],
          "name": "stdout"
        }
      ]
    },
    {
      "cell_type": "markdown",
      "metadata": {
        "id": "tHK1c_cXyxs-"
      },
      "source": [
        "## Download Sentinel 2 Surface Reflectance data"
      ]
    },
    {
      "cell_type": "code",
      "metadata": {
        "id": "HC0dL5Pzyxs-"
      },
      "source": [
        "sentinel2 = gee_satellite_data.get_gee_data(\"2019-06-01\", ## start date\n",
        "                                            \"2019-09-28\", ## end query date\n",
        "                                            \"data/col_t3.shp\", ## region of interest\n",
        "                                            \"sentinel2_sr\", ## mission\n",
        "                                            cloud_percentage= 80 ## cloud percetange per image \n",
        "                                           )"
      ],
      "execution_count": null,
      "outputs": []
    },
    {
      "cell_type": "code",
      "metadata": {
        "colab": {
          "base_uri": "https://localhost:8080/",
          "height": 467
        },
        "id": "Ft9En6t_yxs-",
        "outputId": "9b0a4d66-5b52-4a2a-e030-e83165b293b6"
      },
      "source": [
        "sentinel2.summary"
      ],
      "execution_count": null,
      "outputs": [
        {
          "output_type": "execute_result",
          "data": {
            "text/html": [
              "<div>\n",
              "<style scoped>\n",
              "    .dataframe tbody tr th:only-of-type {\n",
              "        vertical-align: middle;\n",
              "    }\n",
              "\n",
              "    .dataframe tbody tr th {\n",
              "        vertical-align: top;\n",
              "    }\n",
              "\n",
              "    .dataframe thead th {\n",
              "        text-align: right;\n",
              "    }\n",
              "</style>\n",
              "<table border=\"1\" class=\"dataframe\">\n",
              "  <thead>\n",
              "    <tr style=\"text-align: right;\">\n",
              "      <th></th>\n",
              "      <th>dates</th>\n",
              "      <th>cover_percentage</th>\n",
              "    </tr>\n",
              "  </thead>\n",
              "  <tbody>\n",
              "    <tr>\n",
              "      <th>0</th>\n",
              "      <td>2019-06-08 00:00:00</td>\n",
              "      <td>98.326225</td>\n",
              "    </tr>\n",
              "    <tr>\n",
              "      <th>1</th>\n",
              "      <td>2019-06-13 15:32:02</td>\n",
              "      <td>19.156624</td>\n",
              "    </tr>\n",
              "    <tr>\n",
              "      <th>2</th>\n",
              "      <td>2019-07-03 00:00:00</td>\n",
              "      <td>79.586576</td>\n",
              "    </tr>\n",
              "    <tr>\n",
              "      <th>3</th>\n",
              "      <td>2019-07-13 00:00:00</td>\n",
              "      <td>53.914557</td>\n",
              "    </tr>\n",
              "    <tr>\n",
              "      <th>4</th>\n",
              "      <td>2019-07-23 00:00:00</td>\n",
              "      <td>0.000000</td>\n",
              "    </tr>\n",
              "    <tr>\n",
              "      <th>5</th>\n",
              "      <td>2019-08-02 00:00:00</td>\n",
              "      <td>79.009143</td>\n",
              "    </tr>\n",
              "    <tr>\n",
              "      <th>6</th>\n",
              "      <td>2019-08-07 00:00:00</td>\n",
              "      <td>72.782221</td>\n",
              "    </tr>\n",
              "    <tr>\n",
              "      <th>7</th>\n",
              "      <td>2019-08-12 00:00:00</td>\n",
              "      <td>99.544819</td>\n",
              "    </tr>\n",
              "    <tr>\n",
              "      <th>8</th>\n",
              "      <td>2019-08-17 00:00:00</td>\n",
              "      <td>52.994298</td>\n",
              "    </tr>\n",
              "    <tr>\n",
              "      <th>9</th>\n",
              "      <td>2019-08-22 00:00:00</td>\n",
              "      <td>99.107698</td>\n",
              "    </tr>\n",
              "    <tr>\n",
              "      <th>10</th>\n",
              "      <td>2019-08-27 00:00:00</td>\n",
              "      <td>88.716520</td>\n",
              "    </tr>\n",
              "    <tr>\n",
              "      <th>11</th>\n",
              "      <td>2019-09-11 00:00:00</td>\n",
              "      <td>98.172318</td>\n",
              "    </tr>\n",
              "    <tr>\n",
              "      <th>12</th>\n",
              "      <td>2019-09-16 00:00:00</td>\n",
              "      <td>86.471926</td>\n",
              "    </tr>\n",
              "    <tr>\n",
              "      <th>13</th>\n",
              "      <td>2019-09-21 00:00:00</td>\n",
              "      <td>86.014748</td>\n",
              "    </tr>\n",
              "  </tbody>\n",
              "</table>\n",
              "</div>"
            ],
            "text/plain": [
              "                 dates  cover_percentage\n",
              "0  2019-06-08 00:00:00         98.326225\n",
              "1  2019-06-13 15:32:02         19.156624\n",
              "2  2019-07-03 00:00:00         79.586576\n",
              "3  2019-07-13 00:00:00         53.914557\n",
              "4  2019-07-23 00:00:00          0.000000\n",
              "5  2019-08-02 00:00:00         79.009143\n",
              "6  2019-08-07 00:00:00         72.782221\n",
              "7  2019-08-12 00:00:00         99.544819\n",
              "8  2019-08-17 00:00:00         52.994298\n",
              "9  2019-08-22 00:00:00         99.107698\n",
              "10 2019-08-27 00:00:00         88.716520\n",
              "11 2019-09-11 00:00:00         98.172318\n",
              "12 2019-09-16 00:00:00         86.471926\n",
              "13 2019-09-21 00:00:00         86.014748"
            ]
          },
          "metadata": {
            "tags": []
          },
          "execution_count": 26
        }
      ]
    },
    {
      "cell_type": "code",
      "metadata": {
        "colab": {
          "base_uri": "https://localhost:8080/",
          "height": 831
        },
        "id": "Teluhj-myxs_",
        "outputId": "d40c4b00-6cac-460c-ba9e-6167d434ec12"
      },
      "source": [
        "truecolorParams = {'gamma': 1.3, \n",
        "                   'min': 57,\n",
        "                   'max': 2000,\n",
        "                   'bands': ['B4','B3','B2']\n",
        "                   }\n",
        "\n",
        "imagetoplot = sentinel2.image_collection.toList(sentinel2.image_collection.size()).get(9)\n",
        "\n",
        "gee_satellite_data.plot_eeimage(imagetoplot, truecolorParams, sentinel2.geometry, zoom = 11)"
      ],
      "execution_count": null,
      "outputs": [
        {
          "output_type": "execute_result",
          "data": {
            "text/html": [
              "<div style=\"width:100%;\"><div style=\"position:relative;width:100%;height:0;padding-bottom:60%;\"><span style=\"color:#565656\">Make this Notebook Trusted to load map: File -> Trust Notebook</span><iframe src=\"about:blank\" style=\"position:absolute;width:100%;height:100%;left:0;top:0;border:none !important;\" data-html=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 onload=\"this.contentDocument.open();this.contentDocument.write(atob(this.getAttribute('data-html')));this.contentDocument.close();\" allowfullscreen webkitallowfullscreen mozallowfullscreen></iframe></div></div>"
            ],
            "text/plain": [
              "<folium.folium.Map at 0x7fac85286710>"
            ]
          },
          "metadata": {
            "tags": []
          },
          "execution_count": 27
        }
      ]
    },
    {
      "cell_type": "markdown",
      "metadata": {
        "id": "kOv-2K_9yxs_"
      },
      "source": [
        "### Adding vegetation index layers"
      ]
    },
    {
      "cell_type": "code",
      "metadata": {
        "id": "v0BHBNRlyxs_"
      },
      "source": [
        "sentinel2.add_vi_layer(\"ndvi\")"
      ],
      "execution_count": null,
      "outputs": []
    },
    {
      "cell_type": "code",
      "metadata": {
        "colab": {
          "base_uri": "https://localhost:8080/",
          "height": 831
        },
        "id": "PH3hDv3Gyxs_",
        "outputId": "a6a3414a-f07e-4632-e25c-3aa92b6f3d5d"
      },
      "source": [
        "ndviParams = {     'min': 0,\n",
        "                   'max': 1,\n",
        "                   'palette': ['#FF0000', '#00FF00'],\n",
        "                   'bands': ['ndvi']\n",
        "                   }\n",
        "\n",
        "imagetoplot = sentinel2.image_collection.toList(sentinel2.image_collection.size()).get(9)\n",
        "\n",
        "gee_satellite_data.plot_eeimage(imagetoplot, ndviParams, sentinel2.geometry, zoom = 11)"
      ],
      "execution_count": null,
      "outputs": [
        {
          "output_type": "execute_result",
          "data": {
            "text/html": [
              "<div style=\"width:100%;\"><div style=\"position:relative;width:100%;height:0;padding-bottom:60%;\"><span style=\"color:#565656\">Make this Notebook Trusted to load map: File -> Trust Notebook</span><iframe src=\"about:blank\" style=\"position:absolute;width:100%;height:100%;left:0;top:0;border:none !important;\" data-html=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 onload=\"this.contentDocument.open();this.contentDocument.write(atob(this.getAttribute('data-html')));this.contentDocument.close();\" allowfullscreen webkitallowfullscreen mozallowfullscreen></iframe></div></div>"
            ],
            "text/plain": [
              "<folium.folium.Map at 0x7fac834325c0>"
            ]
          },
          "metadata": {
            "tags": []
          },
          "execution_count": 29
        }
      ]
    },
    {
      "cell_type": "markdown",
      "metadata": {
        "id": "f5-RJVHCyxtA"
      },
      "source": [
        "### Download data"
      ]
    },
    {
      "cell_type": "code",
      "metadata": {
        "id": "gbLapfj6yxtB",
        "outputId": "18b08412-767b-4e7d-cd61-de81acd59f8b"
      },
      "source": [
        "gee_satellite_data.download_gee_tolocal(sentinel2, ## \n",
        "                                        'gee_satellitedata/s2_processed', ## outputpath \n",
        "                                        \"col_t3\", ## a reference for the area that was query\n",
        "                                        10, ## the spatial resolution in meters\n",
        "                                        bands = ['B2', 'B3', 'B4', 'B8', 'ndvi']\n",
        "                                       )"
      ],
      "execution_count": null,
      "outputs": [
        {
          "output_type": "stream",
          "text": [
            "-1 / unknownthe gee_satellitedata/s2_processed\\s2_l2a_20190608_col_t3_10m file was downloaded\n",
            "-1 / unknownthe gee_satellitedata/s2_processed\\s2_l2a_20190613_col_t3_10m file was downloaded\n",
            "-1 / unknownthe gee_satellitedata/s2_processed\\s2_l2a_20190703_col_t3_10m file was downloaded\n",
            "-1 / unknownthe gee_satellitedata/s2_processed\\s2_l2a_20190713_col_t3_10m file was downloaded\n",
            "-1 / unknownthe gee_satellitedata/s2_processed\\s2_l2a_20190723_col_t3_10m file was downloaded\n",
            "-1 / unknownthe gee_satellitedata/s2_processed\\s2_l2a_20190802_col_t3_10m file was downloaded\n",
            "-1 / unknownthe gee_satellitedata/s2_processed\\s2_l2a_20190807_col_t3_10m file was downloaded\n",
            "-1 / unknownthe gee_satellitedata/s2_processed\\s2_l2a_20190812_col_t3_10m file was downloaded\n",
            "-1 / unknownthe gee_satellitedata/s2_processed\\s2_l2a_20190817_col_t3_10m file was downloaded\n",
            "-1 / unknownthe gee_satellitedata/s2_processed\\s2_l2a_20190822_col_t3_10m file was downloaded\n",
            "-1 / unknownthe gee_satellitedata/s2_processed\\s2_l2a_20190827_col_t3_10m file was downloaded\n",
            "-1 / unknownthe gee_satellitedata/s2_processed\\s2_l2a_20190911_col_t3_10m file was downloaded\n",
            "-1 / unknownthe gee_satellitedata/s2_processed\\s2_l2a_20190916_col_t3_10m file was downloaded\n",
            "-1 / unknownthe gee_satellitedata/s2_processed\\s2_l2a_20190921_col_t3_10m file was downloaded\n",
            "these [] files created a conflict at the moment of its download\n"
          ],
          "name": "stdout"
        }
      ]
    },
    {
      "cell_type": "code",
      "metadata": {
        "id": "RCu0VallmbwP",
        "colab": {
          "base_uri": "https://localhost:8080/"
        },
        "outputId": "dd79f0ce-c487-4ff4-e302-81330e7dc7ce"
      },
      "source": [
        "gee_satellite_data.download_gee_todrive(sentinel2, \n",
        "                                        outputdrive_folder = 'satellite_images', \n",
        "                                        regionid = \"col_t3\", \n",
        "                                        scale = 10,\n",
        "                                        bands = ['B2', 'B3', 'B4', 'B8', 'ndvi'], ## bands to be exported\n",
        "                                        cover_percentage= 75 ## minimum cover percentage\n",
        "                                        )"
      ],
      "execution_count": null,
      "outputs": [
        {
          "output_type": "stream",
          "text": [
            "Polling for task (id: s2_l2a_20190608_col_t3_10m).\n",
            "Polling for task (id: s2_l2a_20190608_col_t3_10m).\n",
            "Polling for task (id: s2_l2a_20190608_col_t3_10m).\n",
            "Polling for task (id: s2_l2a_20190608_col_t3_10m).\n",
            "Polling for task (id: s2_l2a_20190608_col_t3_10m).\n",
            "Polling for task (id: s2_l2a_20190608_col_t3_10m).\n",
            "Polling for task (id: s2_l2a_20190608_col_t3_10m).\n",
            "Polling for task (id: s2_l2a_20190608_col_t3_10m).\n",
            "Polling for task (id: s2_l2a_20190608_col_t3_10m).\n",
            "Polling for task (id: s2_l2a_20190608_col_t3_10m).\n",
            "Polling for task (id: s2_l2a_20190608_col_t3_10m).\n",
            "Polling for task (id: s2_l2a_20190608_col_t3_10m).\n",
            "Polling for task (id: s2_l2a_20190703_col_t3_10m).\n",
            "Polling for task (id: s2_l2a_20190703_col_t3_10m).\n",
            "Polling for task (id: s2_l2a_20190703_col_t3_10m).\n",
            "Polling for task (id: s2_l2a_20190703_col_t3_10m).\n",
            "Polling for task (id: s2_l2a_20190703_col_t3_10m).\n",
            "Polling for task (id: s2_l2a_20190703_col_t3_10m).\n",
            "Polling for task (id: s2_l2a_20190703_col_t3_10m).\n",
            "Polling for task (id: s2_l2a_20190703_col_t3_10m).\n",
            "Polling for task (id: s2_l2a_20190703_col_t3_10m).\n",
            "Polling for task (id: s2_l2a_20190703_col_t3_10m).\n",
            "Polling for task (id: s2_l2a_20190703_col_t3_10m).\n",
            "Polling for task (id: s2_l2a_20190703_col_t3_10m).\n",
            "Polling for task (id: s2_l2a_20190703_col_t3_10m).\n",
            "Polling for task (id: s2_l2a_20190703_col_t3_10m).\n",
            "Polling for task (id: s2_l2a_20190703_col_t3_10m).\n",
            "Polling for task (id: s2_l2a_20190703_col_t3_10m).\n",
            "Polling for task (id: s2_l2a_20190802_col_t3_10m).\n",
            "Polling for task (id: s2_l2a_20190802_col_t3_10m).\n",
            "Polling for task (id: s2_l2a_20190802_col_t3_10m).\n",
            "Polling for task (id: s2_l2a_20190802_col_t3_10m).\n",
            "Polling for task (id: s2_l2a_20190802_col_t3_10m).\n",
            "Polling for task (id: s2_l2a_20190802_col_t3_10m).\n",
            "Polling for task (id: s2_l2a_20190802_col_t3_10m).\n",
            "Polling for task (id: s2_l2a_20190802_col_t3_10m).\n",
            "Polling for task (id: s2_l2a_20190802_col_t3_10m).\n",
            "Polling for task (id: s2_l2a_20190802_col_t3_10m).\n",
            "Polling for task (id: s2_l2a_20190802_col_t3_10m).\n",
            "Polling for task (id: s2_l2a_20190802_col_t3_10m).\n",
            "Polling for task (id: s2_l2a_20190802_col_t3_10m).\n",
            "Polling for task (id: s2_l2a_20190802_col_t3_10m).\n",
            "Polling for task (id: s2_l2a_20190812_col_t3_10m).\n",
            "Polling for task (id: s2_l2a_20190812_col_t3_10m).\n",
            "Polling for task (id: s2_l2a_20190812_col_t3_10m).\n",
            "Polling for task (id: s2_l2a_20190812_col_t3_10m).\n",
            "Polling for task (id: s2_l2a_20190812_col_t3_10m).\n",
            "Polling for task (id: s2_l2a_20190812_col_t3_10m).\n",
            "Polling for task (id: s2_l2a_20190812_col_t3_10m).\n",
            "Polling for task (id: s2_l2a_20190812_col_t3_10m).\n",
            "Polling for task (id: s2_l2a_20190812_col_t3_10m).\n",
            "Polling for task (id: s2_l2a_20190812_col_t3_10m).\n",
            "Polling for task (id: s2_l2a_20190812_col_t3_10m).\n",
            "Polling for task (id: s2_l2a_20190822_col_t3_10m).\n",
            "Polling for task (id: s2_l2a_20190822_col_t3_10m).\n",
            "Polling for task (id: s2_l2a_20190822_col_t3_10m).\n",
            "Polling for task (id: s2_l2a_20190822_col_t3_10m).\n",
            "Polling for task (id: s2_l2a_20190822_col_t3_10m).\n",
            "Polling for task (id: s2_l2a_20190822_col_t3_10m).\n",
            "Polling for task (id: s2_l2a_20190822_col_t3_10m).\n",
            "Polling for task (id: s2_l2a_20190822_col_t3_10m).\n",
            "Polling for task (id: s2_l2a_20190822_col_t3_10m).\n",
            "Polling for task (id: s2_l2a_20190827_col_t3_10m).\n",
            "Polling for task (id: s2_l2a_20190827_col_t3_10m).\n",
            "Polling for task (id: s2_l2a_20190827_col_t3_10m).\n",
            "Polling for task (id: s2_l2a_20190827_col_t3_10m).\n",
            "Polling for task (id: s2_l2a_20190827_col_t3_10m).\n",
            "Polling for task (id: s2_l2a_20190827_col_t3_10m).\n",
            "Polling for task (id: s2_l2a_20190827_col_t3_10m).\n",
            "Polling for task (id: s2_l2a_20190827_col_t3_10m).\n",
            "Polling for task (id: s2_l2a_20190827_col_t3_10m).\n",
            "Polling for task (id: s2_l2a_20190827_col_t3_10m).\n",
            "Polling for task (id: s2_l2a_20190827_col_t3_10m).\n",
            "Polling for task (id: s2_l2a_20190827_col_t3_10m).\n",
            "Polling for task (id: s2_l2a_20190827_col_t3_10m).\n",
            "Polling for task (id: s2_l2a_20190911_col_t3_10m).\n",
            "Polling for task (id: s2_l2a_20190911_col_t3_10m).\n",
            "Polling for task (id: s2_l2a_20190911_col_t3_10m).\n",
            "Polling for task (id: s2_l2a_20190911_col_t3_10m).\n",
            "Polling for task (id: s2_l2a_20190911_col_t3_10m).\n",
            "Polling for task (id: s2_l2a_20190911_col_t3_10m).\n",
            "Polling for task (id: s2_l2a_20190911_col_t3_10m).\n",
            "Polling for task (id: s2_l2a_20190911_col_t3_10m).\n",
            "Polling for task (id: s2_l2a_20190911_col_t3_10m).\n",
            "Polling for task (id: s2_l2a_20190911_col_t3_10m).\n",
            "Polling for task (id: s2_l2a_20190911_col_t3_10m).\n",
            "Polling for task (id: s2_l2a_20190911_col_t3_10m).\n",
            "Polling for task (id: s2_l2a_20190911_col_t3_10m).\n",
            "Polling for task (id: s2_l2a_20190911_col_t3_10m).\n",
            "Polling for task (id: s2_l2a_20190911_col_t3_10m).\n",
            "Polling for task (id: s2_l2a_20190911_col_t3_10m).\n",
            "Polling for task (id: s2_l2a_20190911_col_t3_10m).\n",
            "Polling for task (id: s2_l2a_20190911_col_t3_10m).\n",
            "Polling for task (id: s2_l2a_20190916_col_t3_10m).\n",
            "Polling for task (id: s2_l2a_20190916_col_t3_10m).\n",
            "Polling for task (id: s2_l2a_20190916_col_t3_10m).\n",
            "Polling for task (id: s2_l2a_20190916_col_t3_10m).\n",
            "Polling for task (id: s2_l2a_20190916_col_t3_10m).\n",
            "Polling for task (id: s2_l2a_20190916_col_t3_10m).\n",
            "Polling for task (id: s2_l2a_20190916_col_t3_10m).\n",
            "Polling for task (id: s2_l2a_20190916_col_t3_10m).\n",
            "Polling for task (id: s2_l2a_20190916_col_t3_10m).\n",
            "Polling for task (id: s2_l2a_20190916_col_t3_10m).\n",
            "Polling for task (id: s2_l2a_20190916_col_t3_10m).\n",
            "Polling for task (id: s2_l2a_20190916_col_t3_10m).\n",
            "Polling for task (id: s2_l2a_20190916_col_t3_10m).\n",
            "Polling for task (id: s2_l2a_20190916_col_t3_10m).\n",
            "Polling for task (id: s2_l2a_20190916_col_t3_10m).\n",
            "Polling for task (id: s2_l2a_20190916_col_t3_10m).\n",
            "Polling for task (id: s2_l2a_20190916_col_t3_10m).\n",
            "Polling for task (id: s2_l2a_20190916_col_t3_10m).\n",
            "Polling for task (id: s2_l2a_20190916_col_t3_10m).\n",
            "Polling for task (id: s2_l2a_20190916_col_t3_10m).\n",
            "Polling for task (id: s2_l2a_20190916_col_t3_10m).\n",
            "Polling for task (id: s2_l2a_20190921_col_t3_10m).\n",
            "Polling for task (id: s2_l2a_20190921_col_t3_10m).\n",
            "Polling for task (id: s2_l2a_20190921_col_t3_10m).\n",
            "Polling for task (id: s2_l2a_20190921_col_t3_10m).\n",
            "Polling for task (id: s2_l2a_20190921_col_t3_10m).\n",
            "Polling for task (id: s2_l2a_20190921_col_t3_10m).\n",
            "Polling for task (id: s2_l2a_20190921_col_t3_10m).\n",
            "Polling for task (id: s2_l2a_20190921_col_t3_10m).\n",
            "Polling for task (id: s2_l2a_20190921_col_t3_10m).\n",
            "Polling for task (id: s2_l2a_20190921_col_t3_10m).\n",
            "Polling for task (id: s2_l2a_20190921_col_t3_10m).\n",
            "Polling for task (id: s2_l2a_20190921_col_t3_10m).\n",
            "Polling for task (id: s2_l2a_20190921_col_t3_10m).\n",
            "Polling for task (id: s2_l2a_20190921_col_t3_10m).\n",
            "Polling for task (id: s2_l2a_20190921_col_t3_10m).\n"
          ],
          "name": "stdout"
        }
      ]
    }
  ]
}