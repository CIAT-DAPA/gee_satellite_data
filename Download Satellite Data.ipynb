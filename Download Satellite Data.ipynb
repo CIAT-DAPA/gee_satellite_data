{
 "cells": [
  {
   "cell_type": "code",
   "execution_count": 1,
   "metadata": {},
   "outputs": [],
   "source": [
    "import pandas as pd\n",
    "from scripts import gee_satellite_data\n",
    "from scripts import gee_functions"
   ]
  },
  {
   "cell_type": "markdown",
   "metadata": {},
   "source": [
    "## Download Sentinel 1 data"
   ]
  },
  {
   "cell_type": "code",
   "execution_count": 8,
   "metadata": {},
   "outputs": [
    {
     "name": "stderr",
     "output_type": "stream",
     "text": [
      "C:\\Users\\aaguilar\\miniconda3\\envs\\gee_NOAA\\lib\\site-packages\\pyproj\\crs.py:77: FutureWarning: '+init=<authority>:<code>' syntax is deprecated. '<authority>:<code>' is the preferred initialization method.\n",
      "  return _prepare_from_string(\" \".join(pjargs))\n"
     ]
    }
   ],
   "source": [
    "querydata = gee_satellite_data.get_gee_data(\"2016-02-01\",\"2016-12-31\", \"data/col_t3.shp\", \"sentinel1\", bands = ['VV'])"
   ]
  },
  {
   "cell_type": "code",
   "execution_count": 9,
   "metadata": {},
   "outputs": [
    {
     "data": {
      "text/html": [
       "<div>\n",
       "<style scoped>\n",
       "    .dataframe tbody tr th:only-of-type {\n",
       "        vertical-align: middle;\n",
       "    }\n",
       "\n",
       "    .dataframe tbody tr th {\n",
       "        vertical-align: top;\n",
       "    }\n",
       "\n",
       "    .dataframe thead th {\n",
       "        text-align: right;\n",
       "    }\n",
       "</style>\n",
       "<table border=\"1\" class=\"dataframe\">\n",
       "  <thead>\n",
       "    <tr style=\"text-align: right;\">\n",
       "      <th></th>\n",
       "      <th>orbit</th>\n",
       "      <th>dates</th>\n",
       "    </tr>\n",
       "  </thead>\n",
       "  <tbody>\n",
       "    <tr>\n",
       "      <th>0</th>\n",
       "      <td>ASCENDING</td>\n",
       "      <td>2016-03-26 18:13:23</td>\n",
       "    </tr>\n",
       "    <tr>\n",
       "      <th>1</th>\n",
       "      <td>ASCENDING</td>\n",
       "      <td>2016-05-13 18:13:30</td>\n",
       "    </tr>\n",
       "    <tr>\n",
       "      <th>2</th>\n",
       "      <td>ASCENDING</td>\n",
       "      <td>2016-09-10 18:13:37</td>\n",
       "    </tr>\n",
       "    <tr>\n",
       "      <th>3</th>\n",
       "      <td>ASCENDING</td>\n",
       "      <td>2016-02-07 18:13:28</td>\n",
       "    </tr>\n",
       "    <tr>\n",
       "      <th>4</th>\n",
       "      <td>DESCENDING</td>\n",
       "      <td>2016-02-14 05:42:59</td>\n",
       "    </tr>\n",
       "    <tr>\n",
       "      <th>5</th>\n",
       "      <td>ASCENDING</td>\n",
       "      <td>2016-03-02 18:13:28</td>\n",
       "    </tr>\n",
       "    <tr>\n",
       "      <th>6</th>\n",
       "      <td>DESCENDING</td>\n",
       "      <td>2016-03-09 05:42:58</td>\n",
       "    </tr>\n",
       "    <tr>\n",
       "      <th>7</th>\n",
       "      <td>DESCENDING</td>\n",
       "      <td>2016-04-02 05:43:00</td>\n",
       "    </tr>\n",
       "    <tr>\n",
       "      <th>8</th>\n",
       "      <td>ASCENDING</td>\n",
       "      <td>2016-04-19 18:13:29</td>\n",
       "    </tr>\n",
       "    <tr>\n",
       "      <th>9</th>\n",
       "      <td>DESCENDING</td>\n",
       "      <td>2016-04-26 05:43:00</td>\n",
       "    </tr>\n",
       "    <tr>\n",
       "      <th>10</th>\n",
       "      <td>DESCENDING</td>\n",
       "      <td>2016-05-20 05:43:02</td>\n",
       "    </tr>\n",
       "    <tr>\n",
       "      <th>11</th>\n",
       "      <td>ASCENDING</td>\n",
       "      <td>2016-06-06 18:13:32</td>\n",
       "    </tr>\n",
       "    <tr>\n",
       "      <th>12</th>\n",
       "      <td>DESCENDING</td>\n",
       "      <td>2016-06-13 05:43:03</td>\n",
       "    </tr>\n",
       "    <tr>\n",
       "      <th>13</th>\n",
       "      <td>ASCENDING</td>\n",
       "      <td>2016-06-30 18:13:33</td>\n",
       "    </tr>\n",
       "    <tr>\n",
       "      <th>14</th>\n",
       "      <td>DESCENDING</td>\n",
       "      <td>2016-07-07 05:43:05</td>\n",
       "    </tr>\n",
       "    <tr>\n",
       "      <th>15</th>\n",
       "      <td>ASCENDING</td>\n",
       "      <td>2016-07-24 18:13:34</td>\n",
       "    </tr>\n",
       "    <tr>\n",
       "      <th>16</th>\n",
       "      <td>DESCENDING</td>\n",
       "      <td>2016-07-31 05:43:06</td>\n",
       "    </tr>\n",
       "    <tr>\n",
       "      <th>17</th>\n",
       "      <td>ASCENDING</td>\n",
       "      <td>2016-08-17 18:13:36</td>\n",
       "    </tr>\n",
       "    <tr>\n",
       "      <th>18</th>\n",
       "      <td>DESCENDING</td>\n",
       "      <td>2016-08-24 05:43:07</td>\n",
       "    </tr>\n",
       "    <tr>\n",
       "      <th>19</th>\n",
       "      <td>DESCENDING</td>\n",
       "      <td>2016-09-17 05:43:08</td>\n",
       "    </tr>\n",
       "    <tr>\n",
       "      <th>20</th>\n",
       "      <td>DESCENDING</td>\n",
       "      <td>2016-10-11 05:43:08</td>\n",
       "    </tr>\n",
       "    <tr>\n",
       "      <th>21</th>\n",
       "      <td>DESCENDING</td>\n",
       "      <td>2016-11-04 05:43:08</td>\n",
       "    </tr>\n",
       "    <tr>\n",
       "      <th>22</th>\n",
       "      <td>ASCENDING</td>\n",
       "      <td>2016-10-10 18:12:53</td>\n",
       "    </tr>\n",
       "    <tr>\n",
       "      <th>23</th>\n",
       "      <td>ASCENDING</td>\n",
       "      <td>2016-11-03 18:12:52</td>\n",
       "    </tr>\n",
       "    <tr>\n",
       "      <th>24</th>\n",
       "      <td>ASCENDING</td>\n",
       "      <td>2016-11-27 18:12:52</td>\n",
       "    </tr>\n",
       "    <tr>\n",
       "      <th>25</th>\n",
       "      <td>ASCENDING</td>\n",
       "      <td>2016-12-21 18:12:51</td>\n",
       "    </tr>\n",
       "    <tr>\n",
       "      <th>26</th>\n",
       "      <td>DESCENDING</td>\n",
       "      <td>2016-10-17 05:42:09</td>\n",
       "    </tr>\n",
       "    <tr>\n",
       "      <th>27</th>\n",
       "      <td>DESCENDING</td>\n",
       "      <td>2016-11-10 05:42:09</td>\n",
       "    </tr>\n",
       "    <tr>\n",
       "      <th>28</th>\n",
       "      <td>DESCENDING</td>\n",
       "      <td>2016-12-04 05:42:09</td>\n",
       "    </tr>\n",
       "    <tr>\n",
       "      <th>29</th>\n",
       "      <td>DESCENDING</td>\n",
       "      <td>2016-12-28 05:42:08</td>\n",
       "    </tr>\n",
       "  </tbody>\n",
       "</table>\n",
       "</div>"
      ],
      "text/plain": [
       "         orbit               dates\n",
       "0    ASCENDING 2016-03-26 18:13:23\n",
       "1    ASCENDING 2016-05-13 18:13:30\n",
       "2    ASCENDING 2016-09-10 18:13:37\n",
       "3    ASCENDING 2016-02-07 18:13:28\n",
       "4   DESCENDING 2016-02-14 05:42:59\n",
       "5    ASCENDING 2016-03-02 18:13:28\n",
       "6   DESCENDING 2016-03-09 05:42:58\n",
       "7   DESCENDING 2016-04-02 05:43:00\n",
       "8    ASCENDING 2016-04-19 18:13:29\n",
       "9   DESCENDING 2016-04-26 05:43:00\n",
       "10  DESCENDING 2016-05-20 05:43:02\n",
       "11   ASCENDING 2016-06-06 18:13:32\n",
       "12  DESCENDING 2016-06-13 05:43:03\n",
       "13   ASCENDING 2016-06-30 18:13:33\n",
       "14  DESCENDING 2016-07-07 05:43:05\n",
       "15   ASCENDING 2016-07-24 18:13:34\n",
       "16  DESCENDING 2016-07-31 05:43:06\n",
       "17   ASCENDING 2016-08-17 18:13:36\n",
       "18  DESCENDING 2016-08-24 05:43:07\n",
       "19  DESCENDING 2016-09-17 05:43:08\n",
       "20  DESCENDING 2016-10-11 05:43:08\n",
       "21  DESCENDING 2016-11-04 05:43:08\n",
       "22   ASCENDING 2016-10-10 18:12:53\n",
       "23   ASCENDING 2016-11-03 18:12:52\n",
       "24   ASCENDING 2016-11-27 18:12:52\n",
       "25   ASCENDING 2016-12-21 18:12:51\n",
       "26  DESCENDING 2016-10-17 05:42:09\n",
       "27  DESCENDING 2016-11-10 05:42:09\n",
       "28  DESCENDING 2016-12-04 05:42:09\n",
       "29  DESCENDING 2016-12-28 05:42:08"
      ]
     },
     "execution_count": 9,
     "metadata": {},
     "output_type": "execute_result"
    }
   ],
   "source": [
    "pd.DataFrame({'orbit': querydata.orbit, 'dates':querydata.dates})"
   ]
  },
  {
   "cell_type": "markdown",
   "metadata": {},
   "source": [
    "Due to Sentinel 1 mission has two satellites (a and b), it can orbit the earth in a different orientation (Ascending and Descending), the  6 days data can be summarised averaging over a time window. "
   ]
  },
  {
   "cell_type": "code",
   "execution_count": 10,
   "metadata": {},
   "outputs": [
    {
     "data": {
      "text/plain": [
       "0    2016-03-29 23:58:12\n",
       "1    2016-04-19 18:13:29\n",
       "2    2016-04-26 05:43:00\n",
       "3    2016-05-13 18:13:30\n",
       "4    2016-05-20 05:43:02\n",
       "5    2016-06-09 23:58:18\n",
       "6    2016-06-30 18:13:33\n",
       "7    2016-07-07 05:43:05\n",
       "8    2016-07-27 23:58:20\n",
       "9    2016-08-17 18:13:36\n",
       "10   2016-08-24 05:43:07\n",
       "11   2016-09-10 18:13:37\n",
       "12   2016-09-17 05:43:08\n",
       "13   2016-10-10 23:58:00\n",
       "14   2016-10-17 05:42:09\n",
       "15   2016-11-06 01:52:43\n",
       "16   2016-11-27 18:12:52\n",
       "17   2016-12-04 05:42:09\n",
       "18   2016-12-21 18:12:51\n",
       "dtype: datetime64[ns]"
      ]
     },
     "execution_count": 10,
     "metadata": {},
     "output_type": "execute_result"
    }
   ],
   "source": [
    "querydata.reduce_by_days(10)\n",
    "querydata._dates_reduced"
   ]
  },
  {
   "cell_type": "markdown",
   "metadata": {},
   "source": [
    "if the time window reduction step was completed, the code will download all the images that were calculated in that step. Otherwise, it will download the images that were acquired from the inital query"
   ]
  },
  {
   "cell_type": "code",
   "execution_count": 11,
   "metadata": {},
   "outputs": [
    {
     "name": "stdout",
     "output_type": "stream",
     "text": [
      "-1 / unknownthe gee_satellitedata/s1_processed\\s1_grd_20160329_col_t3_10m file was downloaded\n",
      "-1 / unknownthe gee_satellitedata/s1_processed\\s1_grd_20160419_col_t3_10m file was downloaded\n",
      "-1 / unknownthe gee_satellitedata/s1_processed\\s1_grd_20160426_col_t3_10m file was downloaded\n",
      "-1 / unknownthe gee_satellitedata/s1_processed\\s1_grd_20160513_col_t3_10m file was downloaded\n",
      "-1 / unknownthe gee_satellitedata/s1_processed\\s1_grd_20160520_col_t3_10m file was downloaded\n",
      "-1 / unknownthe gee_satellitedata/s1_processed\\s1_grd_20160609_col_t3_10m file was downloaded\n",
      "-1 / unknownthe gee_satellitedata/s1_processed\\s1_grd_20160630_col_t3_10m file was downloaded\n",
      "-1 / unknownthe gee_satellitedata/s1_processed\\s1_grd_20160707_col_t3_10m file was downloaded\n",
      "-1 / unknownthe gee_satellitedata/s1_processed\\s1_grd_20160727_col_t3_10m file was downloaded\n",
      "-1 / unknownthe gee_satellitedata/s1_processed\\s1_grd_20160817_col_t3_10m file was downloaded\n",
      "-1 / unknownthe gee_satellitedata/s1_processed\\s1_grd_20160824_col_t3_10m file was downloaded\n",
      "-1 / unknownthe gee_satellitedata/s1_processed\\s1_grd_20160910_col_t3_10m file was downloaded\n",
      "-1 / unknownthe gee_satellitedata/s1_processed\\s1_grd_20160917_col_t3_10m file was downloaded\n",
      "-1 / unknownthe gee_satellitedata/s1_processed\\s1_grd_20161010_col_t3_10m file was downloaded\n",
      "-1 / unknownthe gee_satellitedata/s1_processed\\s1_grd_20161017_col_t3_10m file was downloaded\n",
      "-1 / unknownthe gee_satellitedata/s1_processed\\s1_grd_20161106_col_t3_10m file was downloaded\n",
      "-1 / unknownthe gee_satellitedata/s1_processed\\s1_grd_20161127_col_t3_10m file was downloaded\n",
      "-1 / unknownthe gee_satellitedata/s1_processed\\s1_grd_20161204_col_t3_10m file was downloaded\n",
      "-1 / unknownthe gee_satellitedata/s1_processed\\s1_grd_20161221_col_t3_10m file was downloaded\n"
     ]
    }
   ],
   "source": [
    "gee_satellite_data.download_gee_tolocal(querydata, 'gee_satellitedata/s1_processed', \"col_t3\", 10)"
   ]
  }
 ],
 "metadata": {
  "kernelspec": {
   "display_name": "Python 3",
   "language": "python",
   "name": "python3"
  },
  "language_info": {
   "codemirror_mode": {
    "name": "ipython",
    "version": 3
   },
   "file_extension": ".py",
   "mimetype": "text/x-python",
   "name": "python",
   "nbconvert_exporter": "python",
   "pygments_lexer": "ipython3",
   "version": "3.7.6"
  }
 },
 "nbformat": 4,
 "nbformat_minor": 4
}
