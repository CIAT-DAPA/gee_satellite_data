{
  "nbformat": 4,
  "nbformat_minor": 0,
  "metadata": {
    "colab": {
      "name": "Download Satellite Data.ipynb",
      "provenance": [],
      "include_colab_link": true
    },
    "kernelspec": {
      "display_name": "Python 3",
      "language": "python",
      "name": "python3"
    },
    "language_info": {
      "codemirror_mode": {
        "name": "ipython",
        "version": 3
      },
      "file_extension": ".py",
      "mimetype": "text/x-python",
      "name": "python",
      "nbconvert_exporter": "python",
      "pygments_lexer": "ipython3",
      "version": "3.8.3"
    }
  },
  "cells": [
    {
      "cell_type": "markdown",
      "metadata": {
        "id": "view-in-github",
        "colab_type": "text"
      },
      "source": [
        "<a href=\"https://colab.research.google.com/github/anaguilarar/gee_satellite_data/blob/master/examples/2_Superpixel.ipynb\" target=\"_parent\"><img src=\"https://colab.research.google.com/assets/colab-badge.svg\" alt=\"Open In Colab\"/></a>"
      ]
    },
    {
      "cell_type": "code",
      "metadata": {
        "colab": {
          "base_uri": "https://localhost:8080/",
          "height": 1000
        },
        "id": "hvtKLEC7yxss",
        "outputId": "e89674e9-32a4-46db-9052-e26152654a71"
      },
      "source": [
        "!pip uninstall pyproj\n",
        "!pip install pyproj\n",
        "!pip install wget\n",
        "!pip install geehydro\n",
        "!pip install geopandas\n",
        "!pip install rasterio"
      ],
      "execution_count": 55,
      "outputs": [
        {
          "output_type": "stream",
          "text": [
            "Uninstalling pyproj-3.0.1:\n",
            "  Would remove:\n",
            "    /usr/local/bin/pyproj\n",
            "    /usr/local/lib/python3.7/dist-packages/pyproj-3.0.1.dist-info/*\n",
            "    /usr/local/lib/python3.7/dist-packages/pyproj.libs/libcurl-9a092e29.so.4.6.0\n",
            "    /usr/local/lib/python3.7/dist-packages/pyproj.libs/libnghttp2-223fd912.so.14.17.1\n",
            "    /usr/local/lib/python3.7/dist-packages/pyproj.libs/libproj-27e7e26d.so.19.2.1\n",
            "    /usr/local/lib/python3.7/dist-packages/pyproj.libs/libsqlite3-69e6c45e.so.0.8.6\n",
            "    /usr/local/lib/python3.7/dist-packages/pyproj.libs/libtiff-4e10f209.so.5.5.0\n",
            "    /usr/local/lib/python3.7/dist-packages/pyproj.libs/libz-eb09ad1d.so.1.2.3\n",
            "    /usr/local/lib/python3.7/dist-packages/pyproj/*\n",
            "Proceed (y/n)? y\n",
            "  Successfully uninstalled pyproj-3.0.1\n",
            "Collecting pyproj\n",
            "  Using cached https://files.pythonhosted.org/packages/b1/72/d52e9ca81caef056062d71991b0e9b1d16af042245627c5d0e4916a36c4f/pyproj-3.0.1-cp37-cp37m-manylinux2010_x86_64.whl\n",
            "Requirement already satisfied: certifi in /usr/local/lib/python3.7/dist-packages (from pyproj) (2020.12.5)\n",
            "Installing collected packages: pyproj\n",
            "Successfully installed pyproj-3.0.1\n"
          ],
          "name": "stdout"
        },
        {
          "output_type": "display_data",
          "data": {
            "application/vnd.colab-display-data+json": {
              "pip_warning": {
                "packages": [
                  "pyproj"
                ]
              }
            }
          },
          "metadata": {
            "tags": []
          }
        },
        {
          "output_type": "stream",
          "text": [
            "Requirement already satisfied: wget in /usr/local/lib/python3.7/dist-packages (3.2)\n",
            "Requirement already satisfied: geehydro in /usr/local/lib/python3.7/dist-packages (0.2.0)\n",
            "Requirement already satisfied: folium in /usr/local/lib/python3.7/dist-packages (from geehydro) (0.8.3)\n",
            "Requirement already satisfied: earthengine-api in /usr/local/lib/python3.7/dist-packages (from geehydro) (0.1.255)\n",
            "Requirement already satisfied: click in /usr/local/lib/python3.7/dist-packages (from geehydro) (7.1.2)\n",
            "Requirement already satisfied: requests in /usr/local/lib/python3.7/dist-packages (from folium->geehydro) (2.23.0)\n",
            "Requirement already satisfied: branca>=0.3.0 in /usr/local/lib/python3.7/dist-packages (from folium->geehydro) (0.4.2)\n",
            "Requirement already satisfied: jinja2 in /usr/local/lib/python3.7/dist-packages (from folium->geehydro) (2.11.3)\n",
            "Requirement already satisfied: numpy in /usr/local/lib/python3.7/dist-packages (from folium->geehydro) (1.19.5)\n",
            "Requirement already satisfied: six in /usr/local/lib/python3.7/dist-packages (from folium->geehydro) (1.15.0)\n",
            "Requirement already satisfied: google-cloud-storage in /usr/local/lib/python3.7/dist-packages (from earthengine-api->geehydro) (1.18.1)\n",
            "Requirement already satisfied: future in /usr/local/lib/python3.7/dist-packages (from earthengine-api->geehydro) (0.16.0)\n",
            "Requirement already satisfied: google-auth>=1.4.1 in /usr/local/lib/python3.7/dist-packages (from earthengine-api->geehydro) (1.27.1)\n",
            "Requirement already satisfied: httplib2shim in /usr/local/lib/python3.7/dist-packages (from earthengine-api->geehydro) (0.0.3)\n",
            "Requirement already satisfied: httplib2<1dev,>=0.9.2 in /usr/local/lib/python3.7/dist-packages (from earthengine-api->geehydro) (0.17.4)\n",
            "Requirement already satisfied: google-auth-httplib2>=0.0.3 in /usr/local/lib/python3.7/dist-packages (from earthengine-api->geehydro) (0.0.4)\n",
            "Requirement already satisfied: google-api-python-client>=1.12.1 in /usr/local/lib/python3.7/dist-packages (from earthengine-api->geehydro) (1.12.8)\n",
            "Requirement already satisfied: urllib3!=1.25.0,!=1.25.1,<1.26,>=1.21.1 in /usr/local/lib/python3.7/dist-packages (from requests->folium->geehydro) (1.24.3)\n",
            "Requirement already satisfied: idna<3,>=2.5 in /usr/local/lib/python3.7/dist-packages (from requests->folium->geehydro) (2.10)\n",
            "Requirement already satisfied: certifi>=2017.4.17 in /usr/local/lib/python3.7/dist-packages (from requests->folium->geehydro) (2020.12.5)\n",
            "Requirement already satisfied: chardet<4,>=3.0.2 in /usr/local/lib/python3.7/dist-packages (from requests->folium->geehydro) (3.0.4)\n",
            "Requirement already satisfied: MarkupSafe>=0.23 in /usr/local/lib/python3.7/dist-packages (from jinja2->folium->geehydro) (1.1.1)\n",
            "Requirement already satisfied: google-resumable-media<0.5.0dev,>=0.3.1 in /usr/local/lib/python3.7/dist-packages (from google-cloud-storage->earthengine-api->geehydro) (0.4.1)\n",
            "Requirement already satisfied: google-cloud-core<2.0dev,>=1.0.0 in /usr/local/lib/python3.7/dist-packages (from google-cloud-storage->earthengine-api->geehydro) (1.0.3)\n",
            "Requirement already satisfied: rsa<5,>=3.1.4; python_version >= \"3.6\" in /usr/local/lib/python3.7/dist-packages (from google-auth>=1.4.1->earthengine-api->geehydro) (4.7.2)\n",
            "Requirement already satisfied: setuptools>=40.3.0 in /usr/local/lib/python3.7/dist-packages (from google-auth>=1.4.1->earthengine-api->geehydro) (54.0.0)\n",
            "Requirement already satisfied: cachetools<5.0,>=2.0.0 in /usr/local/lib/python3.7/dist-packages (from google-auth>=1.4.1->earthengine-api->geehydro) (4.2.1)\n",
            "Requirement already satisfied: pyasn1-modules>=0.2.1 in /usr/local/lib/python3.7/dist-packages (from google-auth>=1.4.1->earthengine-api->geehydro) (0.2.8)\n",
            "Requirement already satisfied: uritemplate<4dev,>=3.0.0 in /usr/local/lib/python3.7/dist-packages (from google-api-python-client>=1.12.1->earthengine-api->geehydro) (3.0.1)\n",
            "Requirement already satisfied: google-api-core<2dev,>=1.21.0 in /usr/local/lib/python3.7/dist-packages (from google-api-python-client>=1.12.1->earthengine-api->geehydro) (1.26.1)\n",
            "Requirement already satisfied: pyasn1>=0.1.3 in /usr/local/lib/python3.7/dist-packages (from rsa<5,>=3.1.4; python_version >= \"3.6\"->google-auth>=1.4.1->earthengine-api->geehydro) (0.4.8)\n",
            "Requirement already satisfied: pytz in /usr/local/lib/python3.7/dist-packages (from google-api-core<2dev,>=1.21.0->google-api-python-client>=1.12.1->earthengine-api->geehydro) (2018.9)\n",
            "Requirement already satisfied: packaging>=14.3 in /usr/local/lib/python3.7/dist-packages (from google-api-core<2dev,>=1.21.0->google-api-python-client>=1.12.1->earthengine-api->geehydro) (20.9)\n",
            "Requirement already satisfied: googleapis-common-protos<2.0dev,>=1.6.0 in /usr/local/lib/python3.7/dist-packages (from google-api-core<2dev,>=1.21.0->google-api-python-client>=1.12.1->earthengine-api->geehydro) (1.53.0)\n",
            "Requirement already satisfied: protobuf>=3.12.0 in /usr/local/lib/python3.7/dist-packages (from google-api-core<2dev,>=1.21.0->google-api-python-client>=1.12.1->earthengine-api->geehydro) (3.12.4)\n",
            "Requirement already satisfied: pyparsing>=2.0.2 in /usr/local/lib/python3.7/dist-packages (from packaging>=14.3->google-api-core<2dev,>=1.21.0->google-api-python-client>=1.12.1->earthengine-api->geehydro) (2.4.7)\n",
            "Requirement already satisfied: geopandas in /usr/local/lib/python3.7/dist-packages (0.9.0)\n",
            "Requirement already satisfied: shapely>=1.6 in /usr/local/lib/python3.7/dist-packages (from geopandas) (1.7.1)\n",
            "Requirement already satisfied: fiona>=1.8 in /usr/local/lib/python3.7/dist-packages (from geopandas) (1.8.18)\n",
            "Requirement already satisfied: pyproj>=2.2.0 in /usr/local/lib/python3.7/dist-packages (from geopandas) (3.0.1)\n",
            "Requirement already satisfied: pandas>=0.24.0 in /usr/local/lib/python3.7/dist-packages (from geopandas) (1.1.5)\n",
            "Requirement already satisfied: attrs>=17 in /usr/local/lib/python3.7/dist-packages (from fiona>=1.8->geopandas) (20.3.0)\n",
            "Requirement already satisfied: munch in /usr/local/lib/python3.7/dist-packages (from fiona>=1.8->geopandas) (2.5.0)\n",
            "Requirement already satisfied: six>=1.7 in /usr/local/lib/python3.7/dist-packages (from fiona>=1.8->geopandas) (1.15.0)\n",
            "Requirement already satisfied: certifi in /usr/local/lib/python3.7/dist-packages (from fiona>=1.8->geopandas) (2020.12.5)\n",
            "Requirement already satisfied: click-plugins>=1.0 in /usr/local/lib/python3.7/dist-packages (from fiona>=1.8->geopandas) (1.1.1)\n",
            "Requirement already satisfied: click<8,>=4.0 in /usr/local/lib/python3.7/dist-packages (from fiona>=1.8->geopandas) (7.1.2)\n",
            "Requirement already satisfied: cligj>=0.5 in /usr/local/lib/python3.7/dist-packages (from fiona>=1.8->geopandas) (0.7.1)\n",
            "Requirement already satisfied: numpy>=1.15.4 in /usr/local/lib/python3.7/dist-packages (from pandas>=0.24.0->geopandas) (1.19.5)\n",
            "Requirement already satisfied: python-dateutil>=2.7.3 in /usr/local/lib/python3.7/dist-packages (from pandas>=0.24.0->geopandas) (2.8.1)\n",
            "Requirement already satisfied: pytz>=2017.2 in /usr/local/lib/python3.7/dist-packages (from pandas>=0.24.0->geopandas) (2018.9)\n",
            "Requirement already satisfied: rasterio in /usr/local/lib/python3.7/dist-packages (1.2.1)\n",
            "Requirement already satisfied: attrs in /usr/local/lib/python3.7/dist-packages (from rasterio) (20.3.0)\n",
            "Requirement already satisfied: snuggs>=1.4.1 in /usr/local/lib/python3.7/dist-packages (from rasterio) (1.4.7)\n",
            "Requirement already satisfied: click-plugins in /usr/local/lib/python3.7/dist-packages (from rasterio) (1.1.1)\n",
            "Requirement already satisfied: affine in /usr/local/lib/python3.7/dist-packages (from rasterio) (2.3.0)\n",
            "Requirement already satisfied: certifi in /usr/local/lib/python3.7/dist-packages (from rasterio) (2020.12.5)\n",
            "Requirement already satisfied: cligj>=0.5 in /usr/local/lib/python3.7/dist-packages (from rasterio) (0.7.1)\n",
            "Requirement already satisfied: numpy in /usr/local/lib/python3.7/dist-packages (from rasterio) (1.19.5)\n",
            "Requirement already satisfied: click<8,>=4.0 in /usr/local/lib/python3.7/dist-packages (from rasterio) (7.1.2)\n",
            "Requirement already satisfied: pyparsing>=2.1.6 in /usr/local/lib/python3.7/dist-packages (from snuggs>=1.4.1->rasterio) (2.4.7)\n"
          ],
          "name": "stdout"
        }
      ]
    },
    {
      "cell_type": "code",
      "metadata": {
        "colab": {
          "base_uri": "https://localhost:8080/"
        },
        "id": "eu6PWMi2zK3X",
        "outputId": "08fe95aa-1e15-4147-a3a0-aeba7facb877"
      },
      "source": [
        "!git clone https://github.com/anaguilarar/gee_satellite_data.git"
      ],
      "execution_count": 3,
      "outputs": [
        {
          "output_type": "stream",
          "text": [
            "Cloning into 'gee_satellite_data'...\n",
            "remote: Enumerating objects: 389, done.\u001b[K\n",
            "remote: Counting objects: 100% (389/389), done.\u001b[K\n",
            "remote: Compressing objects: 100% (279/279), done.\u001b[K\n",
            "remote: Total 389 (delta 226), reused 260 (delta 106), pack-reused 0\u001b[K\n",
            "Receiving objects: 100% (389/389), 1.47 MiB | 14.89 MiB/s, done.\n",
            "Resolving deltas: 100% (226/226), done.\n"
          ],
          "name": "stdout"
        }
      ]
    },
    {
      "cell_type": "code",
      "metadata": {
        "id": "j9IvtZ6jzVSW"
      },
      "source": [
        "import os\n",
        "os.chdir(\"gee_satellite_data\")"
      ],
      "execution_count": 4,
      "outputs": []
    },
    {
      "cell_type": "code",
      "metadata": {
        "colab": {
          "base_uri": "https://localhost:8080/"
        },
        "id": "lXgcja_uzbWd",
        "outputId": "9f6f00f2-3eb2-4414-c320-3123bbe9e81f"
      },
      "source": [
        "import ee\n",
        "ee.Authenticate()"
      ],
      "execution_count": 56,
      "outputs": [
        {
          "output_type": "stream",
          "text": [
            "To authorize access needed by Earth Engine, open the following URL in a web browser and follow the instructions. If the web browser does not start automatically, please manually browse the URL below.\n",
            "\n",
            "    https://accounts.google.com/o/oauth2/auth?client_id=517222506229-vsmmajv00ul0bs7p89v5m89qs8eb9359.apps.googleusercontent.com&scope=https%3A%2F%2Fwww.googleapis.com%2Fauth%2Fearthengine+https%3A%2F%2Fwww.googleapis.com%2Fauth%2Fdevstorage.full_control&redirect_uri=urn%3Aietf%3Awg%3Aoauth%3A2.0%3Aoob&response_type=code&code_challenge=RaYqX3eCuP4Wus4Csyq46SHIhyVkaepk5jeRXH_HEcY&code_challenge_method=S256\n",
            "\n",
            "The authorization workflow will generate a code, which you should paste in the box below. \n",
            "Enter verification code: 4/1AY0e-g7WDq01DXAIEPbGCJbM4eTaX4D95YKbiAuOLe3CmXXObe-n4HguRbY\n",
            "\n",
            "Successfully saved authorization token.\n"
          ],
          "name": "stdout"
        }
      ]
    },
    {
      "cell_type": "code",
      "metadata": {
        "id": "drFLaiw0yxsz"
      },
      "source": [
        "import pandas as pd\n",
        "from scripts import gee_satellite_data\n",
        "from scripts import gee_functions\n",
        "from scripts import gis_functions\n",
        "from scripts import general_functions"
      ],
      "execution_count": 57,
      "outputs": []
    },
    {
      "cell_type": "markdown",
      "metadata": {
        "id": "eTxEjEg_5Sau"
      },
      "source": [
        "## Superpixel: Image Segmentation\n",
        "In the next section we use the segmetation Simple Non-Iterative Clustering (SNIC) module from GEE (https://developers.google.com/earth-engine/apidocs/ee-algorithms-image-segmentation-snic) to create image segments. \n",
        "Each of these segments will be treated as a superpixel. \n",
        "\n",
        "We will use each of the superpixels as the input features for the radar images smoothing. we are going trough following steps, to get a radar images smoothing using superpixels from optical images:\n",
        " * Apply image segmention to optical images\n",
        " * Get polygons from superpixels\n",
        " * reduce each radar image using the oplygons\n"
      ]
    },
    {
      "cell_type": "markdown",
      "metadata": {
        "id": "J1j2mWku5Sap"
      },
      "source": [
        "### Sentinel 2A: Surface Reflectance level\n",
        "\n",
        "Before downloading data, the code internally removes those areas covered by shadows and clouds. "
      ]
    },
    {
      "cell_type": "code",
      "metadata": {
        "id": "oT7nEWUy5Saq"
      },
      "source": [
        "se2_toa = gee_satellite_data.get_gee_data(\"2016-02-01\",\n",
        "                                            \"2016-08-30\", \n",
        "                                            \"data/col_iba.shp\", \n",
        "                                            \"sentinel2_toa\",\n",
        "                                         cloud_percentage= 80)"
      ],
      "execution_count": 7,
      "outputs": []
    },
    {
      "cell_type": "markdown",
      "metadata": {
        "id": "zTfoKyap5Sar"
      },
      "source": [
        "As a result, we get a list which contains the images available for quering period. Besides a cover percentage feature is calculted, it reffers to ratio of image clean area respect to our area of interest."
      ]
    },
    {
      "cell_type": "code",
      "metadata": {
        "id": "56pBOLe25Sat",
        "colab": {
          "base_uri": "https://localhost:8080/",
          "height": 437
        },
        "outputId": "1f6e3532-d5c2-475f-aa04-1126d1176e06"
      },
      "source": [
        "se2_toa.summary"
      ],
      "execution_count": 8,
      "outputs": [
        {
          "output_type": "execute_result",
          "data": {
            "text/html": [
              "<div>\n",
              "<style scoped>\n",
              "    .dataframe tbody tr th:only-of-type {\n",
              "        vertical-align: middle;\n",
              "    }\n",
              "\n",
              "    .dataframe tbody tr th {\n",
              "        vertical-align: top;\n",
              "    }\n",
              "\n",
              "    .dataframe thead th {\n",
              "        text-align: right;\n",
              "    }\n",
              "</style>\n",
              "<table border=\"1\" class=\"dataframe\">\n",
              "  <thead>\n",
              "    <tr style=\"text-align: right;\">\n",
              "      <th></th>\n",
              "      <th>dates</th>\n",
              "      <th>cover_percentage</th>\n",
              "    </tr>\n",
              "  </thead>\n",
              "  <tbody>\n",
              "    <tr>\n",
              "      <th>0</th>\n",
              "      <td>2016-02-09 00:00:00</td>\n",
              "      <td>95.312521</td>\n",
              "    </tr>\n",
              "    <tr>\n",
              "      <th>1</th>\n",
              "      <td>2016-02-19 00:00:00</td>\n",
              "      <td>78.831127</td>\n",
              "    </tr>\n",
              "    <tr>\n",
              "      <th>2</th>\n",
              "      <td>2016-03-10 00:00:00</td>\n",
              "      <td>54.574607</td>\n",
              "    </tr>\n",
              "    <tr>\n",
              "      <th>3</th>\n",
              "      <td>2016-04-19 00:00:00</td>\n",
              "      <td>88.340379</td>\n",
              "    </tr>\n",
              "    <tr>\n",
              "      <th>4</th>\n",
              "      <td>2016-04-29 00:00:00</td>\n",
              "      <td>32.501608</td>\n",
              "    </tr>\n",
              "    <tr>\n",
              "      <th>5</th>\n",
              "      <td>2016-05-19 00:00:00</td>\n",
              "      <td>95.054495</td>\n",
              "    </tr>\n",
              "    <tr>\n",
              "      <th>6</th>\n",
              "      <td>2016-06-08 00:00:00</td>\n",
              "      <td>98.476376</td>\n",
              "    </tr>\n",
              "    <tr>\n",
              "      <th>7</th>\n",
              "      <td>2016-06-18 00:00:00</td>\n",
              "      <td>95.943263</td>\n",
              "    </tr>\n",
              "    <tr>\n",
              "      <th>8</th>\n",
              "      <td>2016-06-28 15:31:14</td>\n",
              "      <td>1.684517</td>\n",
              "    </tr>\n",
              "    <tr>\n",
              "      <th>9</th>\n",
              "      <td>2016-07-08 00:00:00</td>\n",
              "      <td>93.739455</td>\n",
              "    </tr>\n",
              "    <tr>\n",
              "      <th>10</th>\n",
              "      <td>2016-07-28 15:30:16</td>\n",
              "      <td>10.356325</td>\n",
              "    </tr>\n",
              "    <tr>\n",
              "      <th>11</th>\n",
              "      <td>2016-08-07 00:00:00</td>\n",
              "      <td>99.163859</td>\n",
              "    </tr>\n",
              "    <tr>\n",
              "      <th>12</th>\n",
              "      <td>2016-08-27 00:00:00</td>\n",
              "      <td>33.907875</td>\n",
              "    </tr>\n",
              "  </tbody>\n",
              "</table>\n",
              "</div>"
            ],
            "text/plain": [
              "                 dates  cover_percentage\n",
              "0  2016-02-09 00:00:00         95.312521\n",
              "1  2016-02-19 00:00:00         78.831127\n",
              "2  2016-03-10 00:00:00         54.574607\n",
              "3  2016-04-19 00:00:00         88.340379\n",
              "4  2016-04-29 00:00:00         32.501608\n",
              "5  2016-05-19 00:00:00         95.054495\n",
              "6  2016-06-08 00:00:00         98.476376\n",
              "7  2016-06-18 00:00:00         95.943263\n",
              "8  2016-06-28 15:31:14          1.684517\n",
              "9  2016-07-08 00:00:00         93.739455\n",
              "10 2016-07-28 15:30:16         10.356325\n",
              "11 2016-08-07 00:00:00         99.163859\n",
              "12 2016-08-27 00:00:00         33.907875"
            ]
          },
          "metadata": {
            "tags": []
          },
          "execution_count": 8
        }
      ]
    },
    {
      "cell_type": "code",
      "metadata": {
        "id": "1Qk595O35Sau",
        "colab": {
          "base_uri": "https://localhost:8080/"
        },
        "outputId": "122bbc01-d520-4fdf-90dd-2adff0bbfeed"
      },
      "source": [
        "se2_toa.add_vi_layer(\"ndvi\")\n",
        "cover_percentage = 81\n",
        "\n",
        "## filter collection by cover percentage\n",
        "imgcollection = gee_functions.filtering_bycoverpercentage(se2_toa, cover_percentage)\n",
        "imgcollection = imgcollection.map(lambda img:\n",
        "                                  img.unmask(0).clip(se2_toa._ee_sp))\n",
        "## get image segmentation using SNIC method\n",
        "snic = gee_functions.gee_snic(imgcollection,se2_toa._ee_sp, bands = [\"ndvi\"] )\n",
        "### from image segments to polygons\n",
        "polygons_fromseg = gee_functions.raster_to_polygons(snic, imgcollection.select([\"ndvi\"]\n",
        "                                        ).median().clip(se2_toa._ee_sp), se2_toa._ee_sp, scale = 10)\n",
        "\n"
      ],
      "execution_count": 9,
      "outputs": [
        {
          "output_type": "stream",
          "text": [
            "total images: 13 \n",
            "total images after cover filter: 7\n"
          ],
          "name": "stdout"
        }
      ]
    },
    {
      "cell_type": "code",
      "metadata": {
        "id": "0_8SC7OT5Sav",
        "colab": {
          "base_uri": "https://localhost:8080/",
          "height": 831
        },
        "outputId": "1e533872-1c04-4fde-939b-658745de3fd7"
      },
      "source": [
        "### in this cell we are going to show the collection median, to visualize the image that will be used for segmentation\n",
        "\n",
        "truecolorParams = {'gamma': 1.3, \n",
        "                   'min': 0,\n",
        "                   'max': 0.3,\n",
        "                   'bands': ['B4','B3','B2']\n",
        "                   }\n",
        "\n",
        "imagetoplot = imgcollection.median()\n",
        "gee_satellite_data.plot_eeimage(imagetoplot, truecolorParams, se2_toa.geometry, zoom = 11)"
      ],
      "execution_count": 10,
      "outputs": [
        {
          "output_type": "execute_result",
          "data": {
            "text/html": [
              "<div style=\"width:100%;\"><div style=\"position:relative;width:100%;height:0;padding-bottom:60%;\"><span style=\"color:#565656\">Make this Notebook Trusted to load map: File -> Trust Notebook</span><iframe src=\"about:blank\" style=\"position:absolute;width:100%;height:100%;left:0;top:0;border:none !important;\" data-html=%3C%21DOCTYPE%20html%3E%0A%3Chead%3E%20%20%20%20%0A%20%20%20%20%3Cmeta%20http-equiv%3D%22content-type%22%20content%3D%22text/html%3B%20charset%3DUTF-8%22%20/%3E%0A%20%20%20%20%3Cscript%3EL_PREFER_CANVAS%3Dfalse%3B%20L_NO_TOUCH%3Dfalse%3B%20L_DISABLE_3D%3Dfalse%3B%3C/script%3E%0A%20%20%20%20%3Cscript%20src%3D%22https%3A//cdn.jsdelivr.net/npm/leaflet%401.4.0/dist/leaflet.js%22%3E%3C/script%3E%0A%20%20%20%20%3Cscript%20src%3D%22https%3A//code.jquery.com/jquery-1.12.4.min.js%22%3E%3C/script%3E%0A%20%20%20%20%3Cscript%20src%3D%22https%3A//maxcdn.bootstrapcdn.com/bootstrap/3.2.0/js/bootstrap.min.js%22%3E%3C/script%3E%0A%20%20%20%20%3Cscript%20src%3D%22https%3A//cdnjs.cloudflare.com/ajax/libs/Leaflet.awesome-markers/2.0.2/leaflet.awesome-markers.js%22%3E%3C/script%3E%0A%20%20%20%20%3Clink%20rel%3D%22stylesheet%22%20href%3D%22https%3A//cdn.jsdelivr.net/npm/leaflet%401.4.0/dist/leaflet.css%22/%3E%0A%20%20%20%20%3Clink%20rel%3D%22stylesheet%22%20href%3D%22https%3A//maxcdn.bootstrapcdn.com/bootstrap/3.2.0/css/bootstrap.min.css%22/%3E%0A%20%20%20%20%3Clink%20rel%3D%22stylesheet%22%20href%3D%22https%3A//maxcdn.bootstrapcdn.com/bootstrap/3.2.0/css/bootstrap-theme.min.css%22/%3E%0A%20%20%20%20%3Clink%20rel%3D%22stylesheet%22%20href%3D%22https%3A//maxcdn.bootstrapcdn.com/font-awesome/4.6.3/css/font-awesome.min.css%22/%3E%0A%20%20%20%20%3Clink%20rel%3D%22stylesheet%22%20href%3D%22https%3A//cdnjs.cloudflare.com/ajax/libs/Leaflet.awesome-markers/2.0.2/leaflet.awesome-markers.css%22/%3E%0A%20%20%20%20%3Clink%20rel%3D%22stylesheet%22%20href%3D%22https%3A//rawcdn.githack.com/python-visualization/folium/master/folium/templates/leaflet.awesome.rotate.css%22/%3E%0A%20%20%20%20%3Cstyle%3Ehtml%2C%20body%20%7Bwidth%3A%20100%25%3Bheight%3A%20100%25%3Bmargin%3A%200%3Bpadding%3A%200%3B%7D%3C/style%3E%0A%20%20%20%20%3Cstyle%3E%23map%20%7Bposition%3Aabsolute%3Btop%3A0%3Bbottom%3A0%3Bright%3A0%3Bleft%3A0%3B%7D%3C/style%3E%0A%20%20%20%20%0A%20%20%20%20%3Cmeta%20name%3D%22viewport%22%20content%3D%22width%3Ddevice-width%2C%0A%20%20%20%20%20%20%20%20initial-scale%3D1.0%2C%20maximum-scale%3D1.0%2C%20user-scalable%3Dno%22%20/%3E%0A%20%20%20%20%3Cstyle%3E%23map_c5c7a37cf5f841b08314837d96cecfdc%20%7B%0A%20%20%20%20%20%20%20%20position%3A%20relative%3B%0A%20%20%20%20%20%20%20%20width%3A%20100.0%25%3B%0A%20%20%20%20%20%20%20%20height%3A%20100.0%25%3B%0A%20%20%20%20%20%20%20%20left%3A%200.0%25%3B%0A%20%20%20%20%20%20%20%20top%3A%200.0%25%3B%0A%20%20%20%20%20%20%20%20%7D%0A%20%20%20%20%3C/style%3E%0A%20%20%20%20%3Cscript%20src%3D%22https%3A//cdnjs.cloudflare.com/ajax/libs/leaflet.fullscreen/1.4.2/Control.FullScreen.min.js%22%3E%3C/script%3E%0A%20%20%20%20%3Clink%20rel%3D%22stylesheet%22%20href%3D%22https%3A//cdnjs.cloudflare.com/ajax/libs/leaflet.fullscreen/1.4.2/Control.FullScreen.min.css%22/%3E%0A%3C/head%3E%0A%3Cbody%3E%20%20%20%20%0A%20%20%20%20%0A%20%20%20%20%3Cdiv%20class%3D%22folium-map%22%20id%3D%22map_c5c7a37cf5f841b08314837d96cecfdc%22%20%3E%3C/div%3E%0A%3C/body%3E%0A%3Cscript%3E%20%20%20%20%0A%20%20%20%20%0A%20%20%20%20%0A%20%20%20%20%20%20%20%20var%20bounds%20%3D%20null%3B%0A%20%20%20%20%0A%0A%20%20%20%20var%20map_c5c7a37cf5f841b08314837d96cecfdc%20%3D%20L.map%28%0A%20%20%20%20%20%20%20%20%27map_c5c7a37cf5f841b08314837d96cecfdc%27%2C%20%7B%0A%20%20%20%20%20%20%20%20center%3A%20%5B4.430352442169409%2C%20-75.11855402808524%5D%2C%0A%20%20%20%20%20%20%20%20zoom%3A%2011%2C%0A%20%20%20%20%20%20%20%20maxBounds%3A%20bounds%2C%0A%20%20%20%20%20%20%20%20layers%3A%20%5B%5D%2C%0A%20%20%20%20%20%20%20%20worldCopyJump%3A%20false%2C%0A%20%20%20%20%20%20%20%20crs%3A%20L.CRS.EPSG3857%2C%0A%20%20%20%20%20%20%20%20zoomControl%3A%20true%2C%0A%20%20%20%20%20%20%20%20%7D%29%3B%0A%0A%0A%20%20%20%20%0A%20%20%20%20var%20tile_layer_abf5c94d0e6f43f8bc16836d58ed8c89%20%3D%20L.tileLayer%28%0A%20%20%20%20%20%20%20%20%27https%3A//%7Bs%7D.tile.openstreetmap.org/%7Bz%7D/%7Bx%7D/%7By%7D.png%27%2C%0A%20%20%20%20%20%20%20%20%7B%0A%20%20%20%20%20%20%20%20%22attribution%22%3A%20null%2C%0A%20%20%20%20%20%20%20%20%22detectRetina%22%3A%20false%2C%0A%20%20%20%20%20%20%20%20%22maxNativeZoom%22%3A%2018%2C%0A%20%20%20%20%20%20%20%20%22maxZoom%22%3A%2018%2C%0A%20%20%20%20%20%20%20%20%22minZoom%22%3A%200%2C%0A%20%20%20%20%20%20%20%20%22noWrap%22%3A%20false%2C%0A%20%20%20%20%20%20%20%20%22opacity%22%3A%201%2C%0A%20%20%20%20%20%20%20%20%22subdomains%22%3A%20%22abc%22%2C%0A%20%20%20%20%20%20%20%20%22tms%22%3A%20false%0A%7D%29.addTo%28map_c5c7a37cf5f841b08314837d96cecfdc%29%3B%0A%20%20%20%20var%20tile_layer_226c1212b56c4a4399c2705fbb4c42cd%20%3D%20L.tileLayer%28%0A%20%20%20%20%20%20%20%20%27https%3A//earthengine.googleapis.com/v1alpha/projects/earthengine-legacy/maps/6d7ae27d2cd619304336bbbd71cadc78-fc554b53fc4ae1fbcaef0cbcaa57ea88/tiles/%7Bz%7D/%7Bx%7D/%7By%7D%27%2C%0A%20%20%20%20%20%20%20%20%7B%0A%20%20%20%20%20%20%20%20%22attribution%22%3A%20%22Google%20Earth%20Engine%22%2C%0A%20%20%20%20%20%20%20%20%22detectRetina%22%3A%20false%2C%0A%20%20%20%20%20%20%20%20%22maxNativeZoom%22%3A%2018%2C%0A%20%20%20%20%20%20%20%20%22maxZoom%22%3A%2018%2C%0A%20%20%20%20%20%20%20%20%22minZoom%22%3A%200%2C%0A%20%20%20%20%20%20%20%20%22noWrap%22%3A%20false%2C%0A%20%20%20%20%20%20%20%20%22opacity%22%3A%201%2C%0A%20%20%20%20%20%20%20%20%22subdomains%22%3A%20%22abc%22%2C%0A%20%20%20%20%20%20%20%20%22tms%22%3A%20false%0A%7D%29.addTo%28map_c5c7a37cf5f841b08314837d96cecfdc%29%3B%0A%20%20%20%20var%20tile_layer_b0df11a8d7c74359b267462abc3e3366%20%3D%20L.tileLayer%28%0A%20%20%20%20%20%20%20%20%27https%3A//earthengine.googleapis.com/v1alpha/projects/earthengine-legacy/maps/c9014001a4b8464c096f4e72ad596049-c882ff09aef4e67f18176902383fe597/tiles/%7Bz%7D/%7Bx%7D/%7By%7D%27%2C%0A%20%20%20%20%20%20%20%20%7B%0A%20%20%20%20%20%20%20%20%22attribution%22%3A%20%22Google%20Earth%20Engine%22%2C%0A%20%20%20%20%20%20%20%20%22detectRetina%22%3A%20false%2C%0A%20%20%20%20%20%20%20%20%22maxNativeZoom%22%3A%2018%2C%0A%20%20%20%20%20%20%20%20%22maxZoom%22%3A%2018%2C%0A%20%20%20%20%20%20%20%20%22minZoom%22%3A%200%2C%0A%20%20%20%20%20%20%20%20%22noWrap%22%3A%20false%2C%0A%20%20%20%20%20%20%20%20%22opacity%22%3A%201%2C%0A%20%20%20%20%20%20%20%20%22subdomains%22%3A%20%22abc%22%2C%0A%20%20%20%20%20%20%20%20%22tms%22%3A%20false%0A%7D%29.addTo%28map_c5c7a37cf5f841b08314837d96cecfdc%29%3B%0A%20%20%20%20%0A%20%20%20%20%20%20%20%20%20%20%20%20var%20layer_control_310520bec0c949ab926349a759917d24%20%3D%20%7B%0A%20%20%20%20%20%20%20%20%20%20%20%20%20%20%20%20base_layers%20%3A%20%7B%20%22openstreetmap%22%20%3A%20tile_layer_abf5c94d0e6f43f8bc16836d58ed8c89%2C%20%7D%2C%0A%20%20%20%20%20%20%20%20%20%20%20%20%20%20%20%20overlays%20%3A%20%7B%20%22gee%20image%22%20%3A%20tile_layer_226c1212b56c4a4399c2705fbb4c42cd%2C%22region%20of%20interest%3A%22%20%3A%20tile_layer_b0df11a8d7c74359b267462abc3e3366%2C%20%7D%0A%20%20%20%20%20%20%20%20%20%20%20%20%20%20%20%20%7D%3B%0A%20%20%20%20%20%20%20%20%20%20%20%20L.control.layers%28%0A%20%20%20%20%20%20%20%20%20%20%20%20%20%20%20%20layer_control_310520bec0c949ab926349a759917d24.base_layers%2C%0A%20%20%20%20%20%20%20%20%20%20%20%20%20%20%20%20layer_control_310520bec0c949ab926349a759917d24.overlays%2C%0A%20%20%20%20%20%20%20%20%20%20%20%20%20%20%20%20%7Bposition%3A%20%27topright%27%2C%0A%20%20%20%20%20%20%20%20%20%20%20%20%20%20%20%20%20collapsed%3A%20true%2C%0A%20%20%20%20%20%20%20%20%20%20%20%20%20%20%20%20%20autoZIndex%3A%20true%0A%20%20%20%20%20%20%20%20%20%20%20%20%20%20%20%20%7D%29.addTo%28map_c5c7a37cf5f841b08314837d96cecfdc%29%3B%0A%20%20%20%20%20%20%20%20%20%20%20%20%0A%20%20%20%20%20%20%20%20%0A%20%20%20%20%0A%20%20%20%20%20%20%20%20%20%20%20%20L.control.fullscreen%28%7B%0A%20%20%20%20%20%20%20%20%20%20%20%20%20%20%20%20position%3A%20%27topleft%27%2C%0A%20%20%20%20%20%20%20%20%20%20%20%20%20%20%20%20title%3A%20%27Full%20Screen%27%2C%0A%20%20%20%20%20%20%20%20%20%20%20%20%20%20%20%20titleCancel%3A%20%27Exit%20Full%20Screen%27%2C%0A%20%20%20%20%20%20%20%20%20%20%20%20%20%20%20%20forceSeparateButton%3A%20false%2C%0A%20%20%20%20%20%20%20%20%20%20%20%20%20%20%20%20%7D%29.addTo%28map_c5c7a37cf5f841b08314837d96cecfdc%29%3B%0A%20%20%20%20%20%20%20%20%20%20%20%20map_c5c7a37cf5f841b08314837d96cecfdc.on%28%27enterFullscreen%27%2C%20function%28%29%7B%0A%20%20%20%20%20%20%20%20%20%20%20%20%20%20%20%20console.log%28%27entered%20fullscreen%27%29%3B%0A%20%20%20%20%20%20%20%20%20%20%20%20%7D%29%3B%0A%0A%20%20%20%20%20%20%20%20%0A%20%20%20%20%0A%20%20%20%20%20%20%20%20%20%20%20%20%20%20%20%20var%20lat_lng_popup_254e810b80334801bf1718350cad92a7%20%3D%20L.popup%28%29%3B%0A%20%20%20%20%20%20%20%20%20%20%20%20%20%20%20%20function%20latLngPop%28e%29%20%7B%0A%20%20%20%20%20%20%20%20%20%20%20%20%20%20%20%20%20%20%20%20lat_lng_popup_254e810b80334801bf1718350cad92a7%0A%20%20%20%20%20%20%20%20%20%20%20%20%20%20%20%20%20%20%20%20%20%20%20%20.setLatLng%28e.latlng%29%0A%20%20%20%20%20%20%20%20%20%20%20%20%20%20%20%20%20%20%20%20%20%20%20%20.setContent%28%22Latitude%3A%20%22%20%2B%20e.latlng.lat.toFixed%284%29%20%2B%0A%20%20%20%20%20%20%20%20%20%20%20%20%20%20%20%20%20%20%20%20%20%20%20%20%20%20%20%20%20%20%20%20%20%20%20%20%22%3Cbr%3ELongitude%3A%20%22%20%2B%20e.latlng.lng.toFixed%284%29%29%0A%20%20%20%20%20%20%20%20%20%20%20%20%20%20%20%20%20%20%20%20%20%20%20%20.openOn%28map_c5c7a37cf5f841b08314837d96cecfdc%29%3B%0A%20%20%20%20%20%20%20%20%20%20%20%20%20%20%20%20%20%20%20%20%7D%0A%20%20%20%20%20%20%20%20%20%20%20%20%20%20%20%20map_c5c7a37cf5f841b08314837d96cecfdc.on%28%27click%27%2C%20latLngPop%29%3B%0A%20%20%20%20%20%20%20%20%20%20%20%20%0A%3C/script%3E onload=\"this.contentDocument.open();this.contentDocument.write(    decodeURIComponent(this.getAttribute('data-html')));this.contentDocument.close();\" allowfullscreen webkitallowfullscreen mozallowfullscreen></iframe></div></div>"
            ],
            "text/plain": [
              "<folium.folium.Map at 0x7fe51c314e10>"
            ]
          },
          "metadata": {
            "tags": []
          },
          "execution_count": 10
        }
      ]
    },
    {
      "cell_type": "markdown",
      "metadata": {
        "id": "UsmUxwcyyxs2"
      },
      "source": [
        "### Sentinel 1 \n",
        "The instrument onboard the Sentinel-1 satellites transmits in one polarisation (V) and measures in two (V and H), giving the VV and VH bands. The first band in each data file is the signal measured in the same polarisation as the transmission (VV) and the second is measured in the orthogonal polarisation (VH).\n"
      ]
    },
    {
      "cell_type": "code",
      "metadata": {
        "id": "_Jcq3j3uyxs2",
        "colab": {
          "base_uri": "https://localhost:8080/",
          "height": 587
        },
        "outputId": "f1c10375-299c-4363-c8b9-8603df7c676a"
      },
      "source": [
        "s1_imagery = gee_satellite_data.get_gee_data(\"2016-02-01\",\n",
        "                                            \"2016-08-31\", \n",
        "                                            \"data/col_iba.shp\", \n",
        "                                            \"sentinel1\", bands = ['VV'])\n",
        "s1_imagery.summary"
      ],
      "execution_count": 11,
      "outputs": [
        {
          "output_type": "execute_result",
          "data": {
            "text/html": [
              "<div>\n",
              "<style scoped>\n",
              "    .dataframe tbody tr th:only-of-type {\n",
              "        vertical-align: middle;\n",
              "    }\n",
              "\n",
              "    .dataframe tbody tr th {\n",
              "        vertical-align: top;\n",
              "    }\n",
              "\n",
              "    .dataframe thead th {\n",
              "        text-align: right;\n",
              "    }\n",
              "</style>\n",
              "<table border=\"1\" class=\"dataframe\">\n",
              "  <thead>\n",
              "    <tr style=\"text-align: right;\">\n",
              "      <th></th>\n",
              "      <th>dates</th>\n",
              "      <th>cover_percentage</th>\n",
              "    </tr>\n",
              "  </thead>\n",
              "  <tbody>\n",
              "    <tr>\n",
              "      <th>0</th>\n",
              "      <td>2016-03-26 23:13:23</td>\n",
              "      <td>99.584903</td>\n",
              "    </tr>\n",
              "    <tr>\n",
              "      <th>1</th>\n",
              "      <td>2016-05-13 23:13:30</td>\n",
              "      <td>99.586662</td>\n",
              "    </tr>\n",
              "    <tr>\n",
              "      <th>2</th>\n",
              "      <td>2016-02-07 23:13:28</td>\n",
              "      <td>99.551558</td>\n",
              "    </tr>\n",
              "    <tr>\n",
              "      <th>3</th>\n",
              "      <td>2016-02-14 10:42:34</td>\n",
              "      <td>99.560758</td>\n",
              "    </tr>\n",
              "    <tr>\n",
              "      <th>4</th>\n",
              "      <td>2016-03-02 23:13:28</td>\n",
              "      <td>99.573275</td>\n",
              "    </tr>\n",
              "    <tr>\n",
              "      <th>5</th>\n",
              "      <td>2016-03-09 10:42:33</td>\n",
              "      <td>99.572886</td>\n",
              "    </tr>\n",
              "    <tr>\n",
              "      <th>6</th>\n",
              "      <td>2016-04-02 10:42:34</td>\n",
              "      <td>99.536986</td>\n",
              "    </tr>\n",
              "    <tr>\n",
              "      <th>7</th>\n",
              "      <td>2016-04-19 23:13:29</td>\n",
              "      <td>99.525030</td>\n",
              "    </tr>\n",
              "    <tr>\n",
              "      <th>8</th>\n",
              "      <td>2016-04-26 10:42:35</td>\n",
              "      <td>99.534075</td>\n",
              "    </tr>\n",
              "    <tr>\n",
              "      <th>9</th>\n",
              "      <td>2016-05-20 10:42:37</td>\n",
              "      <td>99.550265</td>\n",
              "    </tr>\n",
              "    <tr>\n",
              "      <th>10</th>\n",
              "      <td>2016-06-06 23:13:32</td>\n",
              "      <td>99.585277</td>\n",
              "    </tr>\n",
              "    <tr>\n",
              "      <th>11</th>\n",
              "      <td>2016-06-13 10:42:38</td>\n",
              "      <td>99.558734</td>\n",
              "    </tr>\n",
              "    <tr>\n",
              "      <th>12</th>\n",
              "      <td>2016-06-30 23:13:33</td>\n",
              "      <td>99.577929</td>\n",
              "    </tr>\n",
              "    <tr>\n",
              "      <th>13</th>\n",
              "      <td>2016-07-07 10:42:40</td>\n",
              "      <td>99.591925</td>\n",
              "    </tr>\n",
              "    <tr>\n",
              "      <th>14</th>\n",
              "      <td>2016-07-24 23:13:34</td>\n",
              "      <td>99.587970</td>\n",
              "    </tr>\n",
              "    <tr>\n",
              "      <th>15</th>\n",
              "      <td>2016-07-31 10:42:41</td>\n",
              "      <td>99.557069</td>\n",
              "    </tr>\n",
              "    <tr>\n",
              "      <th>16</th>\n",
              "      <td>2016-08-17 23:13:36</td>\n",
              "      <td>99.568838</td>\n",
              "    </tr>\n",
              "    <tr>\n",
              "      <th>17</th>\n",
              "      <td>2016-08-24 10:42:42</td>\n",
              "      <td>99.549301</td>\n",
              "    </tr>\n",
              "  </tbody>\n",
              "</table>\n",
              "</div>"
            ],
            "text/plain": [
              "                 dates  cover_percentage\n",
              "0  2016-03-26 23:13:23         99.584903\n",
              "1  2016-05-13 23:13:30         99.586662\n",
              "2  2016-02-07 23:13:28         99.551558\n",
              "3  2016-02-14 10:42:34         99.560758\n",
              "4  2016-03-02 23:13:28         99.573275\n",
              "5  2016-03-09 10:42:33         99.572886\n",
              "6  2016-04-02 10:42:34         99.536986\n",
              "7  2016-04-19 23:13:29         99.525030\n",
              "8  2016-04-26 10:42:35         99.534075\n",
              "9  2016-05-20 10:42:37         99.550265\n",
              "10 2016-06-06 23:13:32         99.585277\n",
              "11 2016-06-13 10:42:38         99.558734\n",
              "12 2016-06-30 23:13:33         99.577929\n",
              "13 2016-07-07 10:42:40         99.591925\n",
              "14 2016-07-24 23:13:34         99.587970\n",
              "15 2016-07-31 10:42:41         99.557069\n",
              "16 2016-08-17 23:13:36         99.568838\n",
              "17 2016-08-24 10:42:42         99.549301"
            ]
          },
          "metadata": {
            "tags": []
          },
          "execution_count": 11
        }
      ]
    },
    {
      "cell_type": "markdown",
      "metadata": {
        "id": "XtqFR0VJyxs4"
      },
      "source": [
        "Due to Sentinel 1 mission has two satellites (a and b), it can orbit the earth in a different orientation (Ascending and Descending), the  6 days data can be summarised averaging over a time window. "
      ]
    },
    {
      "cell_type": "code",
      "metadata": {
        "colab": {
          "base_uri": "https://localhost:8080/"
        },
        "id": "GVg1oI70yxs4",
        "outputId": "719238bc-04d9-4527-8805-620d8d42c22b"
      },
      "source": [
        "s1_imagery.reduce_collection_by_days(10)\n",
        "s1_imagery._dates_reduced"
      ],
      "execution_count": 12,
      "outputs": [
        {
          "output_type": "execute_result",
          "data": {
            "text/plain": [
              "0    2016-02-11 04:58:01\n",
              "1    2016-03-02 23:13:28\n",
              "2    2016-03-09 10:42:33\n",
              "3    2016-03-26 23:13:23\n",
              "4    2016-04-02 10:42:34\n",
              "5    2016-04-23 04:58:02\n",
              "6    2016-05-13 23:13:30\n",
              "7    2016-05-20 10:42:37\n",
              "8    2016-06-10 04:58:05\n",
              "9    2016-06-30 23:13:33\n",
              "10   2016-07-07 10:42:40\n",
              "11   2016-07-24 23:13:34\n",
              "12   2016-07-31 10:42:41\n",
              "dtype: datetime64[ns]"
            ]
          },
          "metadata": {
            "tags": []
          },
          "execution_count": 12
        }
      ]
    },
    {
      "cell_type": "code",
      "metadata": {
        "id": "EJbn8W5J2lyZ"
      },
      "source": [
        "abundance_perc = s1datasuperpixel.reduce(ee.Reducer.percentile([5,10, 25, 50, 75 , 90, 95]))\n",
        "\n"
      ],
      "execution_count": null,
      "outputs": []
    },
    {
      "cell_type": "code",
      "metadata": {
        "id": "jlGoljFd5Sax"
      },
      "source": [
        "s1datasuperpixel= s1_imagery.image_collection.map(lambda image:\n",
        "                                gee_functions.reduce_image_to_superpixel(image.select(['VV']).clip(s1_imagery._ee_sp), polygons_fromseg))\n"
      ],
      "execution_count": 13,
      "outputs": []
    },
    {
      "cell_type": "markdown",
      "metadata": {
        "id": "2r4I7__L5Sax"
      },
      "source": [
        "Once the superpixels has been obtained, we are going to summary our s1 collection in percentiles"
      ]
    },
    {
      "cell_type": "code",
      "metadata": {
        "id": "akEs7Khq5Say"
      },
      "source": [
        "abundance_perc = s1datasuperpixel.reduce(ee.Reducer.percentile([5,10, 25, 50, 75 , 90, 95]))\n",
        "abundance_perc_orig = s1_imagery.image_collection.reduce(ee.Reducer.percentile([5,10, 25, 50, 75 , 90, 95]))\n",
        "\n"
      ],
      "execution_count": 14,
      "outputs": []
    },
    {
      "cell_type": "markdown",
      "metadata": {
        "id": "WA1WND6q5Say"
      },
      "source": [
        "Finally we compare both results"
      ]
    },
    {
      "cell_type": "code",
      "metadata": {
        "id": "jq4Ogd5C5Saz",
        "colab": {
          "base_uri": "https://localhost:8080/",
          "height": 831
        },
        "outputId": "5d0a9f96-841b-438e-a639-bc421abc5a33"
      },
      "source": [
        "import folium \n",
        "display = ee.Image(0).updateMask(0).paint(polygons_fromseg, '000000', 3);\n",
        "\n",
        "centergeometry = gis_functions.geometry_center(s1_imagery.geometry)\n",
        "\n",
        "Map = folium.Map(location=[centergeometry[1],\n",
        "                               centergeometry[0]], zoom_start=12)\n",
        "\n",
        "Map.addLayer(ee.Image(abundance_perc_orig).select(['VV_p5', 'VV_p50', 'VV_p95']).clip(s1_imagery._ee_sp), {'gamma': 1.3, 'min':-25, 'max':0}, 'orig');\n",
        "Map.addLayer(ee.Image(abundance_perc).select(['first_p5', 'first_p50', 'first_p95']), {'gamma': 1.3, 'min':-25, 'max':0}, 'radar superpixel');\n",
        "Map.addLayer(display, {}, 'vectors');\n",
        "\n",
        "\n",
        "Map.setControlVisibility(layerControl=True, fullscreenControl=True, latLngPopup=True)\n",
        "\n",
        "Map"
      ],
      "execution_count": 15,
      "outputs": [
        {
          "output_type": "execute_result",
          "data": {
            "text/html": [
              "<div style=\"width:100%;\"><div style=\"position:relative;width:100%;height:0;padding-bottom:60%;\"><span style=\"color:#565656\">Make this Notebook Trusted to load map: File -> Trust Notebook</span><iframe src=\"about:blank\" style=\"position:absolute;width:100%;height:100%;left:0;top:0;border:none !important;\" data-html=%3C%21DOCTYPE%20html%3E%0A%3Chead%3E%20%20%20%20%0A%20%20%20%20%3Cmeta%20http-equiv%3D%22content-type%22%20content%3D%22text/html%3B%20charset%3DUTF-8%22%20/%3E%0A%20%20%20%20%3Cscript%3EL_PREFER_CANVAS%3Dfalse%3B%20L_NO_TOUCH%3Dfalse%3B%20L_DISABLE_3D%3Dfalse%3B%3C/script%3E%0A%20%20%20%20%3Cscript%20src%3D%22https%3A//cdn.jsdelivr.net/npm/leaflet%401.4.0/dist/leaflet.js%22%3E%3C/script%3E%0A%20%20%20%20%3Cscript%20src%3D%22https%3A//code.jquery.com/jquery-1.12.4.min.js%22%3E%3C/script%3E%0A%20%20%20%20%3Cscript%20src%3D%22https%3A//maxcdn.bootstrapcdn.com/bootstrap/3.2.0/js/bootstrap.min.js%22%3E%3C/script%3E%0A%20%20%20%20%3Cscript%20src%3D%22https%3A//cdnjs.cloudflare.com/ajax/libs/Leaflet.awesome-markers/2.0.2/leaflet.awesome-markers.js%22%3E%3C/script%3E%0A%20%20%20%20%3Clink%20rel%3D%22stylesheet%22%20href%3D%22https%3A//cdn.jsdelivr.net/npm/leaflet%401.4.0/dist/leaflet.css%22/%3E%0A%20%20%20%20%3Clink%20rel%3D%22stylesheet%22%20href%3D%22https%3A//maxcdn.bootstrapcdn.com/bootstrap/3.2.0/css/bootstrap.min.css%22/%3E%0A%20%20%20%20%3Clink%20rel%3D%22stylesheet%22%20href%3D%22https%3A//maxcdn.bootstrapcdn.com/bootstrap/3.2.0/css/bootstrap-theme.min.css%22/%3E%0A%20%20%20%20%3Clink%20rel%3D%22stylesheet%22%20href%3D%22https%3A//maxcdn.bootstrapcdn.com/font-awesome/4.6.3/css/font-awesome.min.css%22/%3E%0A%20%20%20%20%3Clink%20rel%3D%22stylesheet%22%20href%3D%22https%3A//cdnjs.cloudflare.com/ajax/libs/Leaflet.awesome-markers/2.0.2/leaflet.awesome-markers.css%22/%3E%0A%20%20%20%20%3Clink%20rel%3D%22stylesheet%22%20href%3D%22https%3A//rawcdn.githack.com/python-visualization/folium/master/folium/templates/leaflet.awesome.rotate.css%22/%3E%0A%20%20%20%20%3Cstyle%3Ehtml%2C%20body%20%7Bwidth%3A%20100%25%3Bheight%3A%20100%25%3Bmargin%3A%200%3Bpadding%3A%200%3B%7D%3C/style%3E%0A%20%20%20%20%3Cstyle%3E%23map%20%7Bposition%3Aabsolute%3Btop%3A0%3Bbottom%3A0%3Bright%3A0%3Bleft%3A0%3B%7D%3C/style%3E%0A%20%20%20%20%0A%20%20%20%20%3Cmeta%20name%3D%22viewport%22%20content%3D%22width%3Ddevice-width%2C%0A%20%20%20%20%20%20%20%20initial-scale%3D1.0%2C%20maximum-scale%3D1.0%2C%20user-scalable%3Dno%22%20/%3E%0A%20%20%20%20%3Cstyle%3E%23map_588a16ac35254e53a67ba54535a72602%20%7B%0A%20%20%20%20%20%20%20%20position%3A%20relative%3B%0A%20%20%20%20%20%20%20%20width%3A%20100.0%25%3B%0A%20%20%20%20%20%20%20%20height%3A%20100.0%25%3B%0A%20%20%20%20%20%20%20%20left%3A%200.0%25%3B%0A%20%20%20%20%20%20%20%20top%3A%200.0%25%3B%0A%20%20%20%20%20%20%20%20%7D%0A%20%20%20%20%3C/style%3E%0A%20%20%20%20%3Cscript%20src%3D%22https%3A//cdnjs.cloudflare.com/ajax/libs/leaflet.fullscreen/1.4.2/Control.FullScreen.min.js%22%3E%3C/script%3E%0A%20%20%20%20%3Clink%20rel%3D%22stylesheet%22%20href%3D%22https%3A//cdnjs.cloudflare.com/ajax/libs/leaflet.fullscreen/1.4.2/Control.FullScreen.min.css%22/%3E%0A%3C/head%3E%0A%3Cbody%3E%20%20%20%20%0A%20%20%20%20%0A%20%20%20%20%3Cdiv%20class%3D%22folium-map%22%20id%3D%22map_588a16ac35254e53a67ba54535a72602%22%20%3E%3C/div%3E%0A%3C/body%3E%0A%3Cscript%3E%20%20%20%20%0A%20%20%20%20%0A%20%20%20%20%0A%20%20%20%20%20%20%20%20var%20bounds%20%3D%20null%3B%0A%20%20%20%20%0A%0A%20%20%20%20var%20map_588a16ac35254e53a67ba54535a72602%20%3D%20L.map%28%0A%20%20%20%20%20%20%20%20%27map_588a16ac35254e53a67ba54535a72602%27%2C%20%7B%0A%20%20%20%20%20%20%20%20center%3A%20%5B4.430352442169409%2C%20-75.11855402808524%5D%2C%0A%20%20%20%20%20%20%20%20zoom%3A%2012%2C%0A%20%20%20%20%20%20%20%20maxBounds%3A%20bounds%2C%0A%20%20%20%20%20%20%20%20layers%3A%20%5B%5D%2C%0A%20%20%20%20%20%20%20%20worldCopyJump%3A%20false%2C%0A%20%20%20%20%20%20%20%20crs%3A%20L.CRS.EPSG3857%2C%0A%20%20%20%20%20%20%20%20zoomControl%3A%20true%2C%0A%20%20%20%20%20%20%20%20%7D%29%3B%0A%0A%0A%20%20%20%20%0A%20%20%20%20var%20tile_layer_e71882d453b34035a49b3287090f5086%20%3D%20L.tileLayer%28%0A%20%20%20%20%20%20%20%20%27https%3A//%7Bs%7D.tile.openstreetmap.org/%7Bz%7D/%7Bx%7D/%7By%7D.png%27%2C%0A%20%20%20%20%20%20%20%20%7B%0A%20%20%20%20%20%20%20%20%22attribution%22%3A%20null%2C%0A%20%20%20%20%20%20%20%20%22detectRetina%22%3A%20false%2C%0A%20%20%20%20%20%20%20%20%22maxNativeZoom%22%3A%2018%2C%0A%20%20%20%20%20%20%20%20%22maxZoom%22%3A%2018%2C%0A%20%20%20%20%20%20%20%20%22minZoom%22%3A%200%2C%0A%20%20%20%20%20%20%20%20%22noWrap%22%3A%20false%2C%0A%20%20%20%20%20%20%20%20%22opacity%22%3A%201%2C%0A%20%20%20%20%20%20%20%20%22subdomains%22%3A%20%22abc%22%2C%0A%20%20%20%20%20%20%20%20%22tms%22%3A%20false%0A%7D%29.addTo%28map_588a16ac35254e53a67ba54535a72602%29%3B%0A%20%20%20%20var%20tile_layer_5651dce9800145368a0eec14991987cd%20%3D%20L.tileLayer%28%0A%20%20%20%20%20%20%20%20%27https%3A//earthengine.googleapis.com/v1alpha/projects/earthengine-legacy/maps/7c3920b4864e7005b294c3d37494b497-7bebea1741d188004febaaf03df637d3/tiles/%7Bz%7D/%7Bx%7D/%7By%7D%27%2C%0A%20%20%20%20%20%20%20%20%7B%0A%20%20%20%20%20%20%20%20%22attribution%22%3A%20%22Google%20Earth%20Engine%22%2C%0A%20%20%20%20%20%20%20%20%22detectRetina%22%3A%20false%2C%0A%20%20%20%20%20%20%20%20%22maxNativeZoom%22%3A%2018%2C%0A%20%20%20%20%20%20%20%20%22maxZoom%22%3A%2018%2C%0A%20%20%20%20%20%20%20%20%22minZoom%22%3A%200%2C%0A%20%20%20%20%20%20%20%20%22noWrap%22%3A%20false%2C%0A%20%20%20%20%20%20%20%20%22opacity%22%3A%201%2C%0A%20%20%20%20%20%20%20%20%22subdomains%22%3A%20%22abc%22%2C%0A%20%20%20%20%20%20%20%20%22tms%22%3A%20false%0A%7D%29.addTo%28map_588a16ac35254e53a67ba54535a72602%29%3B%0A%20%20%20%20var%20tile_layer_c6735dd3845d4711891db8bddcc47e5e%20%3D%20L.tileLayer%28%0A%20%20%20%20%20%20%20%20%27https%3A//earthengine.googleapis.com/v1alpha/projects/earthengine-legacy/maps/322a6b26eca45bf631748f5dad2ce1cc-57174016bf04a2beb0f69f230889dae2/tiles/%7Bz%7D/%7Bx%7D/%7By%7D%27%2C%0A%20%20%20%20%20%20%20%20%7B%0A%20%20%20%20%20%20%20%20%22attribution%22%3A%20%22Google%20Earth%20Engine%22%2C%0A%20%20%20%20%20%20%20%20%22detectRetina%22%3A%20false%2C%0A%20%20%20%20%20%20%20%20%22maxNativeZoom%22%3A%2018%2C%0A%20%20%20%20%20%20%20%20%22maxZoom%22%3A%2018%2C%0A%20%20%20%20%20%20%20%20%22minZoom%22%3A%200%2C%0A%20%20%20%20%20%20%20%20%22noWrap%22%3A%20false%2C%0A%20%20%20%20%20%20%20%20%22opacity%22%3A%201%2C%0A%20%20%20%20%20%20%20%20%22subdomains%22%3A%20%22abc%22%2C%0A%20%20%20%20%20%20%20%20%22tms%22%3A%20false%0A%7D%29.addTo%28map_588a16ac35254e53a67ba54535a72602%29%3B%0A%20%20%20%20var%20tile_layer_19bef01692d94785abc624137fe7aa63%20%3D%20L.tileLayer%28%0A%20%20%20%20%20%20%20%20%27https%3A//earthengine.googleapis.com/v1alpha/projects/earthengine-legacy/maps/5508a0505632eb6710d54821398e76c7-2c297a8ca6bcaf8690e49e6d04a1c75a/tiles/%7Bz%7D/%7Bx%7D/%7By%7D%27%2C%0A%20%20%20%20%20%20%20%20%7B%0A%20%20%20%20%20%20%20%20%22attribution%22%3A%20%22Google%20Earth%20Engine%22%2C%0A%20%20%20%20%20%20%20%20%22detectRetina%22%3A%20false%2C%0A%20%20%20%20%20%20%20%20%22maxNativeZoom%22%3A%2018%2C%0A%20%20%20%20%20%20%20%20%22maxZoom%22%3A%2018%2C%0A%20%20%20%20%20%20%20%20%22minZoom%22%3A%200%2C%0A%20%20%20%20%20%20%20%20%22noWrap%22%3A%20false%2C%0A%20%20%20%20%20%20%20%20%22opacity%22%3A%201%2C%0A%20%20%20%20%20%20%20%20%22subdomains%22%3A%20%22abc%22%2C%0A%20%20%20%20%20%20%20%20%22tms%22%3A%20false%0A%7D%29.addTo%28map_588a16ac35254e53a67ba54535a72602%29%3B%0A%20%20%20%20%0A%20%20%20%20%20%20%20%20%20%20%20%20var%20layer_control_9c7ae916a84d434ab23ea1cdd2327d80%20%3D%20%7B%0A%20%20%20%20%20%20%20%20%20%20%20%20%20%20%20%20base_layers%20%3A%20%7B%20%22openstreetmap%22%20%3A%20tile_layer_e71882d453b34035a49b3287090f5086%2C%20%7D%2C%0A%20%20%20%20%20%20%20%20%20%20%20%20%20%20%20%20overlays%20%3A%20%7B%20%22orig%22%20%3A%20tile_layer_5651dce9800145368a0eec14991987cd%2C%22radar%20superpixel%22%20%3A%20tile_layer_c6735dd3845d4711891db8bddcc47e5e%2C%22vectors%22%20%3A%20tile_layer_19bef01692d94785abc624137fe7aa63%2C%20%7D%0A%20%20%20%20%20%20%20%20%20%20%20%20%20%20%20%20%7D%3B%0A%20%20%20%20%20%20%20%20%20%20%20%20L.control.layers%28%0A%20%20%20%20%20%20%20%20%20%20%20%20%20%20%20%20layer_control_9c7ae916a84d434ab23ea1cdd2327d80.base_layers%2C%0A%20%20%20%20%20%20%20%20%20%20%20%20%20%20%20%20layer_control_9c7ae916a84d434ab23ea1cdd2327d80.overlays%2C%0A%20%20%20%20%20%20%20%20%20%20%20%20%20%20%20%20%7Bposition%3A%20%27topright%27%2C%0A%20%20%20%20%20%20%20%20%20%20%20%20%20%20%20%20%20collapsed%3A%20true%2C%0A%20%20%20%20%20%20%20%20%20%20%20%20%20%20%20%20%20autoZIndex%3A%20true%0A%20%20%20%20%20%20%20%20%20%20%20%20%20%20%20%20%7D%29.addTo%28map_588a16ac35254e53a67ba54535a72602%29%3B%0A%20%20%20%20%20%20%20%20%20%20%20%20%0A%20%20%20%20%20%20%20%20%0A%20%20%20%20%0A%20%20%20%20%20%20%20%20%20%20%20%20L.control.fullscreen%28%7B%0A%20%20%20%20%20%20%20%20%20%20%20%20%20%20%20%20position%3A%20%27topleft%27%2C%0A%20%20%20%20%20%20%20%20%20%20%20%20%20%20%20%20title%3A%20%27Full%20Screen%27%2C%0A%20%20%20%20%20%20%20%20%20%20%20%20%20%20%20%20titleCancel%3A%20%27Exit%20Full%20Screen%27%2C%0A%20%20%20%20%20%20%20%20%20%20%20%20%20%20%20%20forceSeparateButton%3A%20false%2C%0A%20%20%20%20%20%20%20%20%20%20%20%20%20%20%20%20%7D%29.addTo%28map_588a16ac35254e53a67ba54535a72602%29%3B%0A%20%20%20%20%20%20%20%20%20%20%20%20map_588a16ac35254e53a67ba54535a72602.on%28%27enterFullscreen%27%2C%20function%28%29%7B%0A%20%20%20%20%20%20%20%20%20%20%20%20%20%20%20%20console.log%28%27entered%20fullscreen%27%29%3B%0A%20%20%20%20%20%20%20%20%20%20%20%20%7D%29%3B%0A%0A%20%20%20%20%20%20%20%20%0A%20%20%20%20%0A%20%20%20%20%20%20%20%20%20%20%20%20%20%20%20%20var%20lat_lng_popup_8a40c01b1d2f45f1b78bcb694f0a4606%20%3D%20L.popup%28%29%3B%0A%20%20%20%20%20%20%20%20%20%20%20%20%20%20%20%20function%20latLngPop%28e%29%20%7B%0A%20%20%20%20%20%20%20%20%20%20%20%20%20%20%20%20%20%20%20%20lat_lng_popup_8a40c01b1d2f45f1b78bcb694f0a4606%0A%20%20%20%20%20%20%20%20%20%20%20%20%20%20%20%20%20%20%20%20%20%20%20%20.setLatLng%28e.latlng%29%0A%20%20%20%20%20%20%20%20%20%20%20%20%20%20%20%20%20%20%20%20%20%20%20%20.setContent%28%22Latitude%3A%20%22%20%2B%20e.latlng.lat.toFixed%284%29%20%2B%0A%20%20%20%20%20%20%20%20%20%20%20%20%20%20%20%20%20%20%20%20%20%20%20%20%20%20%20%20%20%20%20%20%20%20%20%20%22%3Cbr%3ELongitude%3A%20%22%20%2B%20e.latlng.lng.toFixed%284%29%29%0A%20%20%20%20%20%20%20%20%20%20%20%20%20%20%20%20%20%20%20%20%20%20%20%20.openOn%28map_588a16ac35254e53a67ba54535a72602%29%3B%0A%20%20%20%20%20%20%20%20%20%20%20%20%20%20%20%20%20%20%20%20%7D%0A%20%20%20%20%20%20%20%20%20%20%20%20%20%20%20%20map_588a16ac35254e53a67ba54535a72602.on%28%27click%27%2C%20latLngPop%29%3B%0A%20%20%20%20%20%20%20%20%20%20%20%20%0A%3C/script%3E onload=\"this.contentDocument.open();this.contentDocument.write(    decodeURIComponent(this.getAttribute('data-html')));this.contentDocument.close();\" allowfullscreen webkitallowfullscreen mozallowfullscreen></iframe></div></div>"
            ],
            "text/plain": [
              "<folium.folium.Map at 0x7fe511b72750>"
            ]
          },
          "metadata": {
            "tags": []
          },
          "execution_count": 15
        }
      ]
    },
    {
      "cell_type": "code",
      "metadata": {
        "id": "QBB0tcPwT9K8"
      },
      "source": [
        "## download radar images"
      ],
      "execution_count": null,
      "outputs": []
    },
    {
      "cell_type": "code",
      "metadata": {
        "id": "nB01xpR3T-Up",
        "colab": {
          "base_uri": "https://localhost:8080/"
        },
        "outputId": "9f18a002-f0a9-437d-fe1a-0c7e450c72de"
      },
      "source": [
        "from google.colab import drive\n",
        "drive.mount('/content/drive')"
      ],
      "execution_count": 29,
      "outputs": [
        {
          "output_type": "stream",
          "text": [
            "Mounted at /content/drive\n"
          ],
          "name": "stdout"
        }
      ]
    },
    {
      "cell_type": "code",
      "metadata": {
        "id": "t0n3Lxz7We93"
      },
      "source": [
        "### Download images\n",
        "import time\n",
        "image_todownload = ee.Image(abundance_perc)\n",
        "band_names = ee.Image(abundance_perc).bandNames().getInfo()\n",
        "task = ee.batch.Export.image.toDrive(**{\n",
        "                'image': ee.Image(image_todownload),\n",
        "                'description': \"s1_percentiles_superpixel\",\n",
        "                'folder': '/content/drive/MyDrive/satellite_images',\n",
        "                'scale': 10,\n",
        "                'region': se2_toa._ee_sp['coordinates']\n",
        "            })\n",
        "\n",
        "task.start()\n",
        "while task.active():\n",
        "    print('Polling for task (id: {}).'.format(\"radar_percentiles_superpixel\"))\n",
        "    time.sleep(20)"
      ],
      "execution_count": null,
      "outputs": []
    },
    {
      "cell_type": "code",
      "metadata": {
        "id": "bX4CmzehWhv0"
      },
      "source": [
        "### S2 Metrics\n",
        "maxvalues = imgcollection.select('ndvi').max()\n",
        "minvalues = imgcollection.select('ndvi').min()\n",
        "medianvaluesrgb = imgcollection.select(['B4','B3','B2']).median()\n",
        "stdvalues = imgcollection.select('ndvi').reduce(ee.Reducer.stdDev())\n",
        "medianvalues = medianvalues.addBands(maxvalues).addBands(minvalues).addBands(stdvalues)\n",
        "\n"
      ],
      "execution_count": null,
      "outputs": []
    },
    {
      "cell_type": "code",
      "metadata": {
        "colab": {
          "base_uri": "https://localhost:8080/"
        },
        "id": "Aby6OVSE9jBZ",
        "outputId": "c77ae98c-cbcf-4a82-97ff-8ab77547b74b"
      },
      "source": [
        "### spliting the geometry into tiles for processing huge areas\n",
        "\n",
        "stateArea = se2_toa._ee_sp.area()\n",
        "stateAreaSqKm = ee.Number(stateArea).divide(1e6).round()\n",
        "print(stateAreaSqKm.getInfo())\n",
        "\n",
        "stateArea = s1_imagery._ee_sp.area()\n",
        "stateAreaSqKm = ee.Number(stateArea).divide(1e6).round()\n",
        "print(stateAreaSqKm.getInfo())"
      ],
      "execution_count": 16,
      "outputs": [
        {
          "output_type": "stream",
          "text": [
            "252\n",
            "252\n"
          ],
          "name": "stdout"
        }
      ]
    },
    {
      "cell_type": "markdown",
      "metadata": {
        "id": "mdi5zVjWExis"
      },
      "source": [
        "### Image segmentation for multiple tiles"
      ]
    },
    {
      "cell_type": "code",
      "metadata": {
        "colab": {
          "base_uri": "https://localhost:8080/"
        },
        "id": "GxMPV8tiDBV_",
        "outputId": "b952627e-6cd1-479d-81f5-03389444508b"
      },
      "source": [
        "###\n",
        "\n",
        "se2_toa = gee_satellite_data.get_gee_data(\"2016-02-01\",\n",
        "                                            \"2016-08-30\", \n",
        "                                            \"data/tol_south.shp\", \n",
        "                                            \"sentinel2_toa\",\n",
        "                                         cloud_percentage= 80)\n",
        "se2_toa.add_vi_layer(\"ndvi\")\n",
        "\n",
        "\n",
        "cover_percentage = 81\n",
        "\n",
        "## filter collection by cover percentage\n",
        "imgcollection = gee_functions.filtering_bycoverpercentage(se2_toa, cover_percentage)\n",
        "imgcollection = imgcollection.map(lambda img:\n",
        "                                  img.unmask(0).clip(se2_toa._ee_sp))\n"
      ],
      "execution_count": 58,
      "outputs": [
        {
          "output_type": "stream",
          "text": [
            "total images: 13 \n",
            "total images after cover filter: 7\n"
          ],
          "name": "stdout"
        }
      ]
    },
    {
      "cell_type": "code",
      "metadata": {
        "colab": {
          "base_uri": "https://localhost:8080/"
        },
        "id": "qMbAqVu0iUCQ",
        "outputId": "3329a3cf-db27-4fe9-b9f3-7ac42a1677c9"
      },
      "source": [
        "s1_imagery = gee_satellite_data.get_gee_data(\"2016-02-01\",\n",
        "                                            \"2016-08-31\", \n",
        "                                            \"data/tol_south.shp\", \n",
        "                                            \"sentinel1\", bands = ['VV'])\n",
        "\n",
        "s1_imagery.reduce_collection_by_days(10)\n",
        "s1_imagery._dates_reduced"
      ],
      "execution_count": 18,
      "outputs": [
        {
          "output_type": "execute_result",
          "data": {
            "text/plain": [
              "0    2016-02-12 06:53:00\n",
              "1    2016-03-02 23:13:28\n",
              "2    2016-03-09 10:42:46\n",
              "3    2016-03-23 11:17:24\n",
              "4    2016-04-02 10:42:47\n",
              "5    2016-04-12 23:21:25\n",
              "6    2016-04-24 06:53:01\n",
              "7    2016-05-13 23:13:30\n",
              "8    2016-05-20 10:42:50\n",
              "9    2016-05-30 23:21:27\n",
              "10   2016-06-11 11:00:13\n",
              "11   2016-06-30 23:13:33\n",
              "12   2016-07-07 10:42:52\n",
              "13   2016-07-21 11:17:32\n",
              "14   2016-07-31 10:42:54\n",
              "15   2016-08-10 23:21:31\n",
              "dtype: datetime64[ns]"
            ]
          },
          "metadata": {
            "tags": []
          },
          "execution_count": 18
        }
      ]
    },
    {
      "cell_type": "code",
      "metadata": {
        "colab": {
          "base_uri": "https://localhost:8080/",
          "height": 831
        },
        "id": "AGgYESUGU3lZ",
        "outputId": "3b944bfd-b64d-416f-9bb9-808296eed5b9"
      },
      "source": [
        "#Get tiles\n",
        "\n",
        "num_cells = 4\n",
        "\n",
        "grid_geometries = gis_functions.split_into_tiles(se2_toa._ee_sp['coordinates'][0], num_cells)\n",
        "eegrid_geometries = [ee.Feature(ee.Geometry.Rectangle(\n",
        "    grid_geometries[i][0], \n",
        "    grid_geometries[i][1], \n",
        "    grid_geometries[i][2], grid_geometries[i][3]), \n",
        "                              {'label': i}) for i in range(len(grid_geometries))]\n",
        "\n",
        "\n",
        "import folium\n",
        "Map = folium.Map(location=[4.247676101204724,-75.22938730661772\n",
        "                               ], zoom_start=10)\n",
        "\n",
        "for i in range(len(eegrid_geometries)):\n",
        "  grid = ee.FeatureCollection(eegrid_geometries[i])\n",
        "  displaytest = ee.Image(0).updateMask(0).paint(grid, '000000', 3)\n",
        "  Map.addLayer(displaytest, {}, 'vectors'+str(i));\n",
        "\n",
        "displaytest = ee.Image(0).updateMask(0).paint(se2_toa._ee_sp, '000000', 3)\n",
        "Map.addLayer(displaytest, {}, 'original')\n",
        "\n",
        "Map.setControlVisibility(layerControl=True, fullscreenControl=True, latLngPopup=True)\n",
        "Map"
      ],
      "execution_count": 59,
      "outputs": [
        {
          "output_type": "execute_result",
          "data": {
            "text/html": [
              "<div style=\"width:100%;\"><div style=\"position:relative;width:100%;height:0;padding-bottom:60%;\"><span style=\"color:#565656\">Make this Notebook Trusted to load map: File -> Trust Notebook</span><iframe src=\"about:blank\" style=\"position:absolute;width:100%;height:100%;left:0;top:0;border:none !important;\" data-html=%3C%21DOCTYPE%20html%3E%0A%3Chead%3E%20%20%20%20%0A%20%20%20%20%3Cmeta%20http-equiv%3D%22content-type%22%20content%3D%22text/html%3B%20charset%3DUTF-8%22%20/%3E%0A%20%20%20%20%3Cscript%3EL_PREFER_CANVAS%3Dfalse%3B%20L_NO_TOUCH%3Dfalse%3B%20L_DISABLE_3D%3Dfalse%3B%3C/script%3E%0A%20%20%20%20%3Cscript%20src%3D%22https%3A//cdn.jsdelivr.net/npm/leaflet%401.4.0/dist/leaflet.js%22%3E%3C/script%3E%0A%20%20%20%20%3Cscript%20src%3D%22https%3A//code.jquery.com/jquery-1.12.4.min.js%22%3E%3C/script%3E%0A%20%20%20%20%3Cscript%20src%3D%22https%3A//maxcdn.bootstrapcdn.com/bootstrap/3.2.0/js/bootstrap.min.js%22%3E%3C/script%3E%0A%20%20%20%20%3Cscript%20src%3D%22https%3A//cdnjs.cloudflare.com/ajax/libs/Leaflet.awesome-markers/2.0.2/leaflet.awesome-markers.js%22%3E%3C/script%3E%0A%20%20%20%20%3Clink%20rel%3D%22stylesheet%22%20href%3D%22https%3A//cdn.jsdelivr.net/npm/leaflet%401.4.0/dist/leaflet.css%22/%3E%0A%20%20%20%20%3Clink%20rel%3D%22stylesheet%22%20href%3D%22https%3A//maxcdn.bootstrapcdn.com/bootstrap/3.2.0/css/bootstrap.min.css%22/%3E%0A%20%20%20%20%3Clink%20rel%3D%22stylesheet%22%20href%3D%22https%3A//maxcdn.bootstrapcdn.com/bootstrap/3.2.0/css/bootstrap-theme.min.css%22/%3E%0A%20%20%20%20%3Clink%20rel%3D%22stylesheet%22%20href%3D%22https%3A//maxcdn.bootstrapcdn.com/font-awesome/4.6.3/css/font-awesome.min.css%22/%3E%0A%20%20%20%20%3Clink%20rel%3D%22stylesheet%22%20href%3D%22https%3A//cdnjs.cloudflare.com/ajax/libs/Leaflet.awesome-markers/2.0.2/leaflet.awesome-markers.css%22/%3E%0A%20%20%20%20%3Clink%20rel%3D%22stylesheet%22%20href%3D%22https%3A//rawcdn.githack.com/python-visualization/folium/master/folium/templates/leaflet.awesome.rotate.css%22/%3E%0A%20%20%20%20%3Cstyle%3Ehtml%2C%20body%20%7Bwidth%3A%20100%25%3Bheight%3A%20100%25%3Bmargin%3A%200%3Bpadding%3A%200%3B%7D%3C/style%3E%0A%20%20%20%20%3Cstyle%3E%23map%20%7Bposition%3Aabsolute%3Btop%3A0%3Bbottom%3A0%3Bright%3A0%3Bleft%3A0%3B%7D%3C/style%3E%0A%20%20%20%20%0A%20%20%20%20%3Cmeta%20name%3D%22viewport%22%20content%3D%22width%3Ddevice-width%2C%0A%20%20%20%20%20%20%20%20initial-scale%3D1.0%2C%20maximum-scale%3D1.0%2C%20user-scalable%3Dno%22%20/%3E%0A%20%20%20%20%3Cstyle%3E%23map_d63d1852f1224b04b90dd5a0d4a8a39c%20%7B%0A%20%20%20%20%20%20%20%20position%3A%20relative%3B%0A%20%20%20%20%20%20%20%20width%3A%20100.0%25%3B%0A%20%20%20%20%20%20%20%20height%3A%20100.0%25%3B%0A%20%20%20%20%20%20%20%20left%3A%200.0%25%3B%0A%20%20%20%20%20%20%20%20top%3A%200.0%25%3B%0A%20%20%20%20%20%20%20%20%7D%0A%20%20%20%20%3C/style%3E%0A%20%20%20%20%3Cscript%20src%3D%22https%3A//cdnjs.cloudflare.com/ajax/libs/leaflet.fullscreen/1.4.2/Control.FullScreen.min.js%22%3E%3C/script%3E%0A%20%20%20%20%3Clink%20rel%3D%22stylesheet%22%20href%3D%22https%3A//cdnjs.cloudflare.com/ajax/libs/leaflet.fullscreen/1.4.2/Control.FullScreen.min.css%22/%3E%0A%3C/head%3E%0A%3Cbody%3E%20%20%20%20%0A%20%20%20%20%0A%20%20%20%20%3Cdiv%20class%3D%22folium-map%22%20id%3D%22map_d63d1852f1224b04b90dd5a0d4a8a39c%22%20%3E%3C/div%3E%0A%3C/body%3E%0A%3Cscript%3E%20%20%20%20%0A%20%20%20%20%0A%20%20%20%20%0A%20%20%20%20%20%20%20%20var%20bounds%20%3D%20null%3B%0A%20%20%20%20%0A%0A%20%20%20%20var%20map_d63d1852f1224b04b90dd5a0d4a8a39c%20%3D%20L.map%28%0A%20%20%20%20%20%20%20%20%27map_d63d1852f1224b04b90dd5a0d4a8a39c%27%2C%20%7B%0A%20%20%20%20%20%20%20%20center%3A%20%5B4.247676101204724%2C%20-75.22938730661772%5D%2C%0A%20%20%20%20%20%20%20%20zoom%3A%2010%2C%0A%20%20%20%20%20%20%20%20maxBounds%3A%20bounds%2C%0A%20%20%20%20%20%20%20%20layers%3A%20%5B%5D%2C%0A%20%20%20%20%20%20%20%20worldCopyJump%3A%20false%2C%0A%20%20%20%20%20%20%20%20crs%3A%20L.CRS.EPSG3857%2C%0A%20%20%20%20%20%20%20%20zoomControl%3A%20true%2C%0A%20%20%20%20%20%20%20%20%7D%29%3B%0A%0A%0A%20%20%20%20%0A%20%20%20%20var%20tile_layer_a4fdabf04a824bec9795cb02c4e30b26%20%3D%20L.tileLayer%28%0A%20%20%20%20%20%20%20%20%27https%3A//%7Bs%7D.tile.openstreetmap.org/%7Bz%7D/%7Bx%7D/%7By%7D.png%27%2C%0A%20%20%20%20%20%20%20%20%7B%0A%20%20%20%20%20%20%20%20%22attribution%22%3A%20null%2C%0A%20%20%20%20%20%20%20%20%22detectRetina%22%3A%20false%2C%0A%20%20%20%20%20%20%20%20%22maxNativeZoom%22%3A%2018%2C%0A%20%20%20%20%20%20%20%20%22maxZoom%22%3A%2018%2C%0A%20%20%20%20%20%20%20%20%22minZoom%22%3A%200%2C%0A%20%20%20%20%20%20%20%20%22noWrap%22%3A%20false%2C%0A%20%20%20%20%20%20%20%20%22opacity%22%3A%201%2C%0A%20%20%20%20%20%20%20%20%22subdomains%22%3A%20%22abc%22%2C%0A%20%20%20%20%20%20%20%20%22tms%22%3A%20false%0A%7D%29.addTo%28map_d63d1852f1224b04b90dd5a0d4a8a39c%29%3B%0A%20%20%20%20var%20tile_layer_e0dd80cba31c4f399a170c03f148ef7b%20%3D%20L.tileLayer%28%0A%20%20%20%20%20%20%20%20%27https%3A//earthengine.googleapis.com/v1alpha/projects/earthengine-legacy/maps/ed57763553149496478a061bd356278c-e4babe2746a07b831b33968a985fb7fc/tiles/%7Bz%7D/%7Bx%7D/%7By%7D%27%2C%0A%20%20%20%20%20%20%20%20%7B%0A%20%20%20%20%20%20%20%20%22attribution%22%3A%20%22Google%20Earth%20Engine%22%2C%0A%20%20%20%20%20%20%20%20%22detectRetina%22%3A%20false%2C%0A%20%20%20%20%20%20%20%20%22maxNativeZoom%22%3A%2018%2C%0A%20%20%20%20%20%20%20%20%22maxZoom%22%3A%2018%2C%0A%20%20%20%20%20%20%20%20%22minZoom%22%3A%200%2C%0A%20%20%20%20%20%20%20%20%22noWrap%22%3A%20false%2C%0A%20%20%20%20%20%20%20%20%22opacity%22%3A%201%2C%0A%20%20%20%20%20%20%20%20%22subdomains%22%3A%20%22abc%22%2C%0A%20%20%20%20%20%20%20%20%22tms%22%3A%20false%0A%7D%29.addTo%28map_d63d1852f1224b04b90dd5a0d4a8a39c%29%3B%0A%20%20%20%20var%20tile_layer_c5b603e3627e40aca8d0952657020507%20%3D%20L.tileLayer%28%0A%20%20%20%20%20%20%20%20%27https%3A//earthengine.googleapis.com/v1alpha/projects/earthengine-legacy/maps/6137f5c4ca0267e23b7ffb9778d10bc8-a99b8c2b714a53cd0aecdf9c0ae2d5e5/tiles/%7Bz%7D/%7Bx%7D/%7By%7D%27%2C%0A%20%20%20%20%20%20%20%20%7B%0A%20%20%20%20%20%20%20%20%22attribution%22%3A%20%22Google%20Earth%20Engine%22%2C%0A%20%20%20%20%20%20%20%20%22detectRetina%22%3A%20false%2C%0A%20%20%20%20%20%20%20%20%22maxNativeZoom%22%3A%2018%2C%0A%20%20%20%20%20%20%20%20%22maxZoom%22%3A%2018%2C%0A%20%20%20%20%20%20%20%20%22minZoom%22%3A%200%2C%0A%20%20%20%20%20%20%20%20%22noWrap%22%3A%20false%2C%0A%20%20%20%20%20%20%20%20%22opacity%22%3A%201%2C%0A%20%20%20%20%20%20%20%20%22subdomains%22%3A%20%22abc%22%2C%0A%20%20%20%20%20%20%20%20%22tms%22%3A%20false%0A%7D%29.addTo%28map_d63d1852f1224b04b90dd5a0d4a8a39c%29%3B%0A%20%20%20%20var%20tile_layer_fb140882e6014bfd9f9aff83f0160721%20%3D%20L.tileLayer%28%0A%20%20%20%20%20%20%20%20%27https%3A//earthengine.googleapis.com/v1alpha/projects/earthengine-legacy/maps/6c315f8f61a32a5548636cf07c697f3e-dfae17c9035e7c28df97fc7d46da593e/tiles/%7Bz%7D/%7Bx%7D/%7By%7D%27%2C%0A%20%20%20%20%20%20%20%20%7B%0A%20%20%20%20%20%20%20%20%22attribution%22%3A%20%22Google%20Earth%20Engine%22%2C%0A%20%20%20%20%20%20%20%20%22detectRetina%22%3A%20false%2C%0A%20%20%20%20%20%20%20%20%22maxNativeZoom%22%3A%2018%2C%0A%20%20%20%20%20%20%20%20%22maxZoom%22%3A%2018%2C%0A%20%20%20%20%20%20%20%20%22minZoom%22%3A%200%2C%0A%20%20%20%20%20%20%20%20%22noWrap%22%3A%20false%2C%0A%20%20%20%20%20%20%20%20%22opacity%22%3A%201%2C%0A%20%20%20%20%20%20%20%20%22subdomains%22%3A%20%22abc%22%2C%0A%20%20%20%20%20%20%20%20%22tms%22%3A%20false%0A%7D%29.addTo%28map_d63d1852f1224b04b90dd5a0d4a8a39c%29%3B%0A%20%20%20%20var%20tile_layer_5d4b7cfa8dde430a965680ac740362f2%20%3D%20L.tileLayer%28%0A%20%20%20%20%20%20%20%20%27https%3A//earthengine.googleapis.com/v1alpha/projects/earthengine-legacy/maps/f24d2b3afd180410bc835177368d22a9-7e35f2c8b6d64228dfc49026a1eb5240/tiles/%7Bz%7D/%7Bx%7D/%7By%7D%27%2C%0A%20%20%20%20%20%20%20%20%7B%0A%20%20%20%20%20%20%20%20%22attribution%22%3A%20%22Google%20Earth%20Engine%22%2C%0A%20%20%20%20%20%20%20%20%22detectRetina%22%3A%20false%2C%0A%20%20%20%20%20%20%20%20%22maxNativeZoom%22%3A%2018%2C%0A%20%20%20%20%20%20%20%20%22maxZoom%22%3A%2018%2C%0A%20%20%20%20%20%20%20%20%22minZoom%22%3A%200%2C%0A%20%20%20%20%20%20%20%20%22noWrap%22%3A%20false%2C%0A%20%20%20%20%20%20%20%20%22opacity%22%3A%201%2C%0A%20%20%20%20%20%20%20%20%22subdomains%22%3A%20%22abc%22%2C%0A%20%20%20%20%20%20%20%20%22tms%22%3A%20false%0A%7D%29.addTo%28map_d63d1852f1224b04b90dd5a0d4a8a39c%29%3B%0A%20%20%20%20var%20tile_layer_93a0e8fc3f3340eab3f254161c1300ca%20%3D%20L.tileLayer%28%0A%20%20%20%20%20%20%20%20%27https%3A//earthengine.googleapis.com/v1alpha/projects/earthengine-legacy/maps/9e66e9ce1ec504669b25989b371abf65-1379665cb88964168df7e46c2aaa664c/tiles/%7Bz%7D/%7Bx%7D/%7By%7D%27%2C%0A%20%20%20%20%20%20%20%20%7B%0A%20%20%20%20%20%20%20%20%22attribution%22%3A%20%22Google%20Earth%20Engine%22%2C%0A%20%20%20%20%20%20%20%20%22detectRetina%22%3A%20false%2C%0A%20%20%20%20%20%20%20%20%22maxNativeZoom%22%3A%2018%2C%0A%20%20%20%20%20%20%20%20%22maxZoom%22%3A%2018%2C%0A%20%20%20%20%20%20%20%20%22minZoom%22%3A%200%2C%0A%20%20%20%20%20%20%20%20%22noWrap%22%3A%20false%2C%0A%20%20%20%20%20%20%20%20%22opacity%22%3A%201%2C%0A%20%20%20%20%20%20%20%20%22subdomains%22%3A%20%22abc%22%2C%0A%20%20%20%20%20%20%20%20%22tms%22%3A%20false%0A%7D%29.addTo%28map_d63d1852f1224b04b90dd5a0d4a8a39c%29%3B%0A%20%20%20%20var%20tile_layer_ba91526094a44ceaba7d37e134ef819f%20%3D%20L.tileLayer%28%0A%20%20%20%20%20%20%20%20%27https%3A//earthengine.googleapis.com/v1alpha/projects/earthengine-legacy/maps/6eff7a8d9d3a443e9cb18782ad0d70a1-c23f9c00c2efddf87517d1aace16e1d6/tiles/%7Bz%7D/%7Bx%7D/%7By%7D%27%2C%0A%20%20%20%20%20%20%20%20%7B%0A%20%20%20%20%20%20%20%20%22attribution%22%3A%20%22Google%20Earth%20Engine%22%2C%0A%20%20%20%20%20%20%20%20%22detectRetina%22%3A%20false%2C%0A%20%20%20%20%20%20%20%20%22maxNativeZoom%22%3A%2018%2C%0A%20%20%20%20%20%20%20%20%22maxZoom%22%3A%2018%2C%0A%20%20%20%20%20%20%20%20%22minZoom%22%3A%200%2C%0A%20%20%20%20%20%20%20%20%22noWrap%22%3A%20false%2C%0A%20%20%20%20%20%20%20%20%22opacity%22%3A%201%2C%0A%20%20%20%20%20%20%20%20%22subdomains%22%3A%20%22abc%22%2C%0A%20%20%20%20%20%20%20%20%22tms%22%3A%20false%0A%7D%29.addTo%28map_d63d1852f1224b04b90dd5a0d4a8a39c%29%3B%0A%20%20%20%20var%20tile_layer_6d85ad58e57f4bcaad3d7c89b606da7e%20%3D%20L.tileLayer%28%0A%20%20%20%20%20%20%20%20%27https%3A//earthengine.googleapis.com/v1alpha/projects/earthengine-legacy/maps/abc2128e8bea99ebe952bc8c54ecc4d0-9533477c0af2633581589ae94727fc80/tiles/%7Bz%7D/%7Bx%7D/%7By%7D%27%2C%0A%20%20%20%20%20%20%20%20%7B%0A%20%20%20%20%20%20%20%20%22attribution%22%3A%20%22Google%20Earth%20Engine%22%2C%0A%20%20%20%20%20%20%20%20%22detectRetina%22%3A%20false%2C%0A%20%20%20%20%20%20%20%20%22maxNativeZoom%22%3A%2018%2C%0A%20%20%20%20%20%20%20%20%22maxZoom%22%3A%2018%2C%0A%20%20%20%20%20%20%20%20%22minZoom%22%3A%200%2C%0A%20%20%20%20%20%20%20%20%22noWrap%22%3A%20false%2C%0A%20%20%20%20%20%20%20%20%22opacity%22%3A%201%2C%0A%20%20%20%20%20%20%20%20%22subdomains%22%3A%20%22abc%22%2C%0A%20%20%20%20%20%20%20%20%22tms%22%3A%20false%0A%7D%29.addTo%28map_d63d1852f1224b04b90dd5a0d4a8a39c%29%3B%0A%20%20%20%20var%20tile_layer_6c7653374eeb4e70a28e6e47e5ba84ee%20%3D%20L.tileLayer%28%0A%20%20%20%20%20%20%20%20%27https%3A//earthengine.googleapis.com/v1alpha/projects/earthengine-legacy/maps/f135cf717675f38bd9fd1793803a27d7-91104deead8ce532cc5b0887e1cbdd08/tiles/%7Bz%7D/%7Bx%7D/%7By%7D%27%2C%0A%20%20%20%20%20%20%20%20%7B%0A%20%20%20%20%20%20%20%20%22attribution%22%3A%20%22Google%20Earth%20Engine%22%2C%0A%20%20%20%20%20%20%20%20%22detectRetina%22%3A%20false%2C%0A%20%20%20%20%20%20%20%20%22maxNativeZoom%22%3A%2018%2C%0A%20%20%20%20%20%20%20%20%22maxZoom%22%3A%2018%2C%0A%20%20%20%20%20%20%20%20%22minZoom%22%3A%200%2C%0A%20%20%20%20%20%20%20%20%22noWrap%22%3A%20false%2C%0A%20%20%20%20%20%20%20%20%22opacity%22%3A%201%2C%0A%20%20%20%20%20%20%20%20%22subdomains%22%3A%20%22abc%22%2C%0A%20%20%20%20%20%20%20%20%22tms%22%3A%20false%0A%7D%29.addTo%28map_d63d1852f1224b04b90dd5a0d4a8a39c%29%3B%0A%20%20%20%20var%20tile_layer_3f8ce81be6cf4378aee9832e9eb178fc%20%3D%20L.tileLayer%28%0A%20%20%20%20%20%20%20%20%27https%3A//earthengine.googleapis.com/v1alpha/projects/earthengine-legacy/maps/ed8afaa345a80aac46f08099fe75d3d4-f3a115c584d78b5d91a5c7e383cc4a77/tiles/%7Bz%7D/%7Bx%7D/%7By%7D%27%2C%0A%20%20%20%20%20%20%20%20%7B%0A%20%20%20%20%20%20%20%20%22attribution%22%3A%20%22Google%20Earth%20Engine%22%2C%0A%20%20%20%20%20%20%20%20%22detectRetina%22%3A%20false%2C%0A%20%20%20%20%20%20%20%20%22maxNativeZoom%22%3A%2018%2C%0A%20%20%20%20%20%20%20%20%22maxZoom%22%3A%2018%2C%0A%20%20%20%20%20%20%20%20%22minZoom%22%3A%200%2C%0A%20%20%20%20%20%20%20%20%22noWrap%22%3A%20false%2C%0A%20%20%20%20%20%20%20%20%22opacity%22%3A%201%2C%0A%20%20%20%20%20%20%20%20%22subdomains%22%3A%20%22abc%22%2C%0A%20%20%20%20%20%20%20%20%22tms%22%3A%20false%0A%7D%29.addTo%28map_d63d1852f1224b04b90dd5a0d4a8a39c%29%3B%0A%20%20%20%20var%20tile_layer_e0822e1f68d048529a8c8e4f2d1ade22%20%3D%20L.tileLayer%28%0A%20%20%20%20%20%20%20%20%27https%3A//earthengine.googleapis.com/v1alpha/projects/earthengine-legacy/maps/3998748f9d08f34d9f2726005e7327fb-af90e6fe278c4bfb6f1055691709a444/tiles/%7Bz%7D/%7Bx%7D/%7By%7D%27%2C%0A%20%20%20%20%20%20%20%20%7B%0A%20%20%20%20%20%20%20%20%22attribution%22%3A%20%22Google%20Earth%20Engine%22%2C%0A%20%20%20%20%20%20%20%20%22detectRetina%22%3A%20false%2C%0A%20%20%20%20%20%20%20%20%22maxNativeZoom%22%3A%2018%2C%0A%20%20%20%20%20%20%20%20%22maxZoom%22%3A%2018%2C%0A%20%20%20%20%20%20%20%20%22minZoom%22%3A%200%2C%0A%20%20%20%20%20%20%20%20%22noWrap%22%3A%20false%2C%0A%20%20%20%20%20%20%20%20%22opacity%22%3A%201%2C%0A%20%20%20%20%20%20%20%20%22subdomains%22%3A%20%22abc%22%2C%0A%20%20%20%20%20%20%20%20%22tms%22%3A%20false%0A%7D%29.addTo%28map_d63d1852f1224b04b90dd5a0d4a8a39c%29%3B%0A%20%20%20%20var%20tile_layer_f1497d87f3a0475d90ff0d1a68bfcabf%20%3D%20L.tileLayer%28%0A%20%20%20%20%20%20%20%20%27https%3A//earthengine.googleapis.com/v1alpha/projects/earthengine-legacy/maps/bb1e165426516156297bdf2c6843ffbe-374ee4c3f43ddd135519b0858371627c/tiles/%7Bz%7D/%7Bx%7D/%7By%7D%27%2C%0A%20%20%20%20%20%20%20%20%7B%0A%20%20%20%20%20%20%20%20%22attribution%22%3A%20%22Google%20Earth%20Engine%22%2C%0A%20%20%20%20%20%20%20%20%22detectRetina%22%3A%20false%2C%0A%20%20%20%20%20%20%20%20%22maxNativeZoom%22%3A%2018%2C%0A%20%20%20%20%20%20%20%20%22maxZoom%22%3A%2018%2C%0A%20%20%20%20%20%20%20%20%22minZoom%22%3A%200%2C%0A%20%20%20%20%20%20%20%20%22noWrap%22%3A%20false%2C%0A%20%20%20%20%20%20%20%20%22opacity%22%3A%201%2C%0A%20%20%20%20%20%20%20%20%22subdomains%22%3A%20%22abc%22%2C%0A%20%20%20%20%20%20%20%20%22tms%22%3A%20false%0A%7D%29.addTo%28map_d63d1852f1224b04b90dd5a0d4a8a39c%29%3B%0A%20%20%20%20var%20tile_layer_e3404722c38b4b4893de7b49ca11a6b8%20%3D%20L.tileLayer%28%0A%20%20%20%20%20%20%20%20%27https%3A//earthengine.googleapis.com/v1alpha/projects/earthengine-legacy/maps/9cc08f6b801bbd5a4c040d53b04cd0a8-5051d1d939389bd9fdc1e323cd0be3e7/tiles/%7Bz%7D/%7Bx%7D/%7By%7D%27%2C%0A%20%20%20%20%20%20%20%20%7B%0A%20%20%20%20%20%20%20%20%22attribution%22%3A%20%22Google%20Earth%20Engine%22%2C%0A%20%20%20%20%20%20%20%20%22detectRetina%22%3A%20false%2C%0A%20%20%20%20%20%20%20%20%22maxNativeZoom%22%3A%2018%2C%0A%20%20%20%20%20%20%20%20%22maxZoom%22%3A%2018%2C%0A%20%20%20%20%20%20%20%20%22minZoom%22%3A%200%2C%0A%20%20%20%20%20%20%20%20%22noWrap%22%3A%20false%2C%0A%20%20%20%20%20%20%20%20%22opacity%22%3A%201%2C%0A%20%20%20%20%20%20%20%20%22subdomains%22%3A%20%22abc%22%2C%0A%20%20%20%20%20%20%20%20%22tms%22%3A%20false%0A%7D%29.addTo%28map_d63d1852f1224b04b90dd5a0d4a8a39c%29%3B%0A%20%20%20%20var%20tile_layer_c2cf0073da46465fa51b9327aec64eca%20%3D%20L.tileLayer%28%0A%20%20%20%20%20%20%20%20%27https%3A//earthengine.googleapis.com/v1alpha/projects/earthengine-legacy/maps/05bc61fba44429671da26ea9b4dd8827-d534c6bdfa7cc645d04d5aef53c105f0/tiles/%7Bz%7D/%7Bx%7D/%7By%7D%27%2C%0A%20%20%20%20%20%20%20%20%7B%0A%20%20%20%20%20%20%20%20%22attribution%22%3A%20%22Google%20Earth%20Engine%22%2C%0A%20%20%20%20%20%20%20%20%22detectRetina%22%3A%20false%2C%0A%20%20%20%20%20%20%20%20%22maxNativeZoom%22%3A%2018%2C%0A%20%20%20%20%20%20%20%20%22maxZoom%22%3A%2018%2C%0A%20%20%20%20%20%20%20%20%22minZoom%22%3A%200%2C%0A%20%20%20%20%20%20%20%20%22noWrap%22%3A%20false%2C%0A%20%20%20%20%20%20%20%20%22opacity%22%3A%201%2C%0A%20%20%20%20%20%20%20%20%22subdomains%22%3A%20%22abc%22%2C%0A%20%20%20%20%20%20%20%20%22tms%22%3A%20false%0A%7D%29.addTo%28map_d63d1852f1224b04b90dd5a0d4a8a39c%29%3B%0A%20%20%20%20var%20tile_layer_0c62f82fae0d4f889642fefe5d9f251c%20%3D%20L.tileLayer%28%0A%20%20%20%20%20%20%20%20%27https%3A//earthengine.googleapis.com/v1alpha/projects/earthengine-legacy/maps/aeb3adfc0b1d462d711bb0ad08c8582f-6ed52a14732b740c17852fbb9b88b704/tiles/%7Bz%7D/%7Bx%7D/%7By%7D%27%2C%0A%20%20%20%20%20%20%20%20%7B%0A%20%20%20%20%20%20%20%20%22attribution%22%3A%20%22Google%20Earth%20Engine%22%2C%0A%20%20%20%20%20%20%20%20%22detectRetina%22%3A%20false%2C%0A%20%20%20%20%20%20%20%20%22maxNativeZoom%22%3A%2018%2C%0A%20%20%20%20%20%20%20%20%22maxZoom%22%3A%2018%2C%0A%20%20%20%20%20%20%20%20%22minZoom%22%3A%200%2C%0A%20%20%20%20%20%20%20%20%22noWrap%22%3A%20false%2C%0A%20%20%20%20%20%20%20%20%22opacity%22%3A%201%2C%0A%20%20%20%20%20%20%20%20%22subdomains%22%3A%20%22abc%22%2C%0A%20%20%20%20%20%20%20%20%22tms%22%3A%20false%0A%7D%29.addTo%28map_d63d1852f1224b04b90dd5a0d4a8a39c%29%3B%0A%20%20%20%20var%20tile_layer_5ba5a81e63bd413d8f75eabdbc894593%20%3D%20L.tileLayer%28%0A%20%20%20%20%20%20%20%20%27https%3A//earthengine.googleapis.com/v1alpha/projects/earthengine-legacy/maps/8f81a0c12133941e033019aa8b1621c4-bc18479acceee18ab3f93a0c43e25620/tiles/%7Bz%7D/%7Bx%7D/%7By%7D%27%2C%0A%20%20%20%20%20%20%20%20%7B%0A%20%20%20%20%20%20%20%20%22attribution%22%3A%20%22Google%20Earth%20Engine%22%2C%0A%20%20%20%20%20%20%20%20%22detectRetina%22%3A%20false%2C%0A%20%20%20%20%20%20%20%20%22maxNativeZoom%22%3A%2018%2C%0A%20%20%20%20%20%20%20%20%22maxZoom%22%3A%2018%2C%0A%20%20%20%20%20%20%20%20%22minZoom%22%3A%200%2C%0A%20%20%20%20%20%20%20%20%22noWrap%22%3A%20false%2C%0A%20%20%20%20%20%20%20%20%22opacity%22%3A%201%2C%0A%20%20%20%20%20%20%20%20%22subdomains%22%3A%20%22abc%22%2C%0A%20%20%20%20%20%20%20%20%22tms%22%3A%20false%0A%7D%29.addTo%28map_d63d1852f1224b04b90dd5a0d4a8a39c%29%3B%0A%20%20%20%20var%20tile_layer_36f138bd205343ee9663d6c7456d5b3b%20%3D%20L.tileLayer%28%0A%20%20%20%20%20%20%20%20%27https%3A//earthengine.googleapis.com/v1alpha/projects/earthengine-legacy/maps/ee1c13fbf2e884da9c1844fd699795f3-bab0cd498d0f9b81720d6c8113c6c52b/tiles/%7Bz%7D/%7Bx%7D/%7By%7D%27%2C%0A%20%20%20%20%20%20%20%20%7B%0A%20%20%20%20%20%20%20%20%22attribution%22%3A%20%22Google%20Earth%20Engine%22%2C%0A%20%20%20%20%20%20%20%20%22detectRetina%22%3A%20false%2C%0A%20%20%20%20%20%20%20%20%22maxNativeZoom%22%3A%2018%2C%0A%20%20%20%20%20%20%20%20%22maxZoom%22%3A%2018%2C%0A%20%20%20%20%20%20%20%20%22minZoom%22%3A%200%2C%0A%20%20%20%20%20%20%20%20%22noWrap%22%3A%20false%2C%0A%20%20%20%20%20%20%20%20%22opacity%22%3A%201%2C%0A%20%20%20%20%20%20%20%20%22subdomains%22%3A%20%22abc%22%2C%0A%20%20%20%20%20%20%20%20%22tms%22%3A%20false%0A%7D%29.addTo%28map_d63d1852f1224b04b90dd5a0d4a8a39c%29%3B%0A%20%20%20%20var%20tile_layer_82f0a2fb3f134852be3ce848ea3955cc%20%3D%20L.tileLayer%28%0A%20%20%20%20%20%20%20%20%27https%3A//earthengine.googleapis.com/v1alpha/projects/earthengine-legacy/maps/4023b76bed4c19967073aae4763ddaca-c3fe9e0e2179aa90ef7c145347847677/tiles/%7Bz%7D/%7Bx%7D/%7By%7D%27%2C%0A%20%20%20%20%20%20%20%20%7B%0A%20%20%20%20%20%20%20%20%22attribution%22%3A%20%22Google%20Earth%20Engine%22%2C%0A%20%20%20%20%20%20%20%20%22detectRetina%22%3A%20false%2C%0A%20%20%20%20%20%20%20%20%22maxNativeZoom%22%3A%2018%2C%0A%20%20%20%20%20%20%20%20%22maxZoom%22%3A%2018%2C%0A%20%20%20%20%20%20%20%20%22minZoom%22%3A%200%2C%0A%20%20%20%20%20%20%20%20%22noWrap%22%3A%20false%2C%0A%20%20%20%20%20%20%20%20%22opacity%22%3A%201%2C%0A%20%20%20%20%20%20%20%20%22subdomains%22%3A%20%22abc%22%2C%0A%20%20%20%20%20%20%20%20%22tms%22%3A%20false%0A%7D%29.addTo%28map_d63d1852f1224b04b90dd5a0d4a8a39c%29%3B%0A%20%20%20%20%0A%20%20%20%20%20%20%20%20%20%20%20%20var%20layer_control_5efc2c4323244f8389280b3c6b8d4482%20%3D%20%7B%0A%20%20%20%20%20%20%20%20%20%20%20%20%20%20%20%20base_layers%20%3A%20%7B%20%22openstreetmap%22%20%3A%20tile_layer_a4fdabf04a824bec9795cb02c4e30b26%2C%20%7D%2C%0A%20%20%20%20%20%20%20%20%20%20%20%20%20%20%20%20overlays%20%3A%20%7B%20%22vectors0%22%20%3A%20tile_layer_e0dd80cba31c4f399a170c03f148ef7b%2C%22vectors1%22%20%3A%20tile_layer_c5b603e3627e40aca8d0952657020507%2C%22vectors2%22%20%3A%20tile_layer_fb140882e6014bfd9f9aff83f0160721%2C%22vectors3%22%20%3A%20tile_layer_5d4b7cfa8dde430a965680ac740362f2%2C%22vectors4%22%20%3A%20tile_layer_93a0e8fc3f3340eab3f254161c1300ca%2C%22vectors5%22%20%3A%20tile_layer_ba91526094a44ceaba7d37e134ef819f%2C%22vectors6%22%20%3A%20tile_layer_6d85ad58e57f4bcaad3d7c89b606da7e%2C%22vectors7%22%20%3A%20tile_layer_6c7653374eeb4e70a28e6e47e5ba84ee%2C%22vectors8%22%20%3A%20tile_layer_3f8ce81be6cf4378aee9832e9eb178fc%2C%22vectors9%22%20%3A%20tile_layer_e0822e1f68d048529a8c8e4f2d1ade22%2C%22vectors10%22%20%3A%20tile_layer_f1497d87f3a0475d90ff0d1a68bfcabf%2C%22vectors11%22%20%3A%20tile_layer_e3404722c38b4b4893de7b49ca11a6b8%2C%22vectors12%22%20%3A%20tile_layer_c2cf0073da46465fa51b9327aec64eca%2C%22vectors13%22%20%3A%20tile_layer_0c62f82fae0d4f889642fefe5d9f251c%2C%22vectors14%22%20%3A%20tile_layer_5ba5a81e63bd413d8f75eabdbc894593%2C%22vectors15%22%20%3A%20tile_layer_36f138bd205343ee9663d6c7456d5b3b%2C%22original%22%20%3A%20tile_layer_82f0a2fb3f134852be3ce848ea3955cc%2C%20%7D%0A%20%20%20%20%20%20%20%20%20%20%20%20%20%20%20%20%7D%3B%0A%20%20%20%20%20%20%20%20%20%20%20%20L.control.layers%28%0A%20%20%20%20%20%20%20%20%20%20%20%20%20%20%20%20layer_control_5efc2c4323244f8389280b3c6b8d4482.base_layers%2C%0A%20%20%20%20%20%20%20%20%20%20%20%20%20%20%20%20layer_control_5efc2c4323244f8389280b3c6b8d4482.overlays%2C%0A%20%20%20%20%20%20%20%20%20%20%20%20%20%20%20%20%7Bposition%3A%20%27topright%27%2C%0A%20%20%20%20%20%20%20%20%20%20%20%20%20%20%20%20%20collapsed%3A%20true%2C%0A%20%20%20%20%20%20%20%20%20%20%20%20%20%20%20%20%20autoZIndex%3A%20true%0A%20%20%20%20%20%20%20%20%20%20%20%20%20%20%20%20%7D%29.addTo%28map_d63d1852f1224b04b90dd5a0d4a8a39c%29%3B%0A%20%20%20%20%20%20%20%20%20%20%20%20%0A%20%20%20%20%20%20%20%20%0A%20%20%20%20%0A%20%20%20%20%20%20%20%20%20%20%20%20L.control.fullscreen%28%7B%0A%20%20%20%20%20%20%20%20%20%20%20%20%20%20%20%20position%3A%20%27topleft%27%2C%0A%20%20%20%20%20%20%20%20%20%20%20%20%20%20%20%20title%3A%20%27Full%20Screen%27%2C%0A%20%20%20%20%20%20%20%20%20%20%20%20%20%20%20%20titleCancel%3A%20%27Exit%20Full%20Screen%27%2C%0A%20%20%20%20%20%20%20%20%20%20%20%20%20%20%20%20forceSeparateButton%3A%20false%2C%0A%20%20%20%20%20%20%20%20%20%20%20%20%20%20%20%20%7D%29.addTo%28map_d63d1852f1224b04b90dd5a0d4a8a39c%29%3B%0A%20%20%20%20%20%20%20%20%20%20%20%20map_d63d1852f1224b04b90dd5a0d4a8a39c.on%28%27enterFullscreen%27%2C%20function%28%29%7B%0A%20%20%20%20%20%20%20%20%20%20%20%20%20%20%20%20console.log%28%27entered%20fullscreen%27%29%3B%0A%20%20%20%20%20%20%20%20%20%20%20%20%7D%29%3B%0A%0A%20%20%20%20%20%20%20%20%0A%20%20%20%20%0A%20%20%20%20%20%20%20%20%20%20%20%20%20%20%20%20var%20lat_lng_popup_a02c974d168d40189616a1cf10a29c12%20%3D%20L.popup%28%29%3B%0A%20%20%20%20%20%20%20%20%20%20%20%20%20%20%20%20function%20latLngPop%28e%29%20%7B%0A%20%20%20%20%20%20%20%20%20%20%20%20%20%20%20%20%20%20%20%20lat_lng_popup_a02c974d168d40189616a1cf10a29c12%0A%20%20%20%20%20%20%20%20%20%20%20%20%20%20%20%20%20%20%20%20%20%20%20%20.setLatLng%28e.latlng%29%0A%20%20%20%20%20%20%20%20%20%20%20%20%20%20%20%20%20%20%20%20%20%20%20%20.setContent%28%22Latitude%3A%20%22%20%2B%20e.latlng.lat.toFixed%284%29%20%2B%0A%20%20%20%20%20%20%20%20%20%20%20%20%20%20%20%20%20%20%20%20%20%20%20%20%20%20%20%20%20%20%20%20%20%20%20%20%22%3Cbr%3ELongitude%3A%20%22%20%2B%20e.latlng.lng.toFixed%284%29%29%0A%20%20%20%20%20%20%20%20%20%20%20%20%20%20%20%20%20%20%20%20%20%20%20%20.openOn%28map_d63d1852f1224b04b90dd5a0d4a8a39c%29%3B%0A%20%20%20%20%20%20%20%20%20%20%20%20%20%20%20%20%20%20%20%20%7D%0A%20%20%20%20%20%20%20%20%20%20%20%20%20%20%20%20map_d63d1852f1224b04b90dd5a0d4a8a39c.on%28%27click%27%2C%20latLngPop%29%3B%0A%20%20%20%20%20%20%20%20%20%20%20%20%0A%3C/script%3E onload=\"this.contentDocument.open();this.contentDocument.write(    decodeURIComponent(this.getAttribute('data-html')));this.contentDocument.close();\" allowfullscreen webkitallowfullscreen mozallowfullscreen></iframe></div></div>"
            ],
            "text/plain": [
              "<folium.folium.Map at 0x7fe511e39b10>"
            ]
          },
          "metadata": {
            "tags": []
          },
          "execution_count": 59
        }
      ]
    },
    {
      "cell_type": "markdown",
      "metadata": {
        "id": "Y-SrJHvmNByV"
      },
      "source": [
        "the segmentation funcition will be applied for each tile"
      ]
    },
    {
      "cell_type": "code",
      "metadata": {
        "id": "7m2pPP93tc8h"
      },
      "source": [
        "def summarize_spimage(image, polygons):\n",
        "    image = image.addBands(polygons)\n",
        "    \n",
        "    image = image.reduceConnectedComponents(\n",
        "      reducer= ee.Reducer.mean(),\n",
        "      labelBand= 'first'\n",
        "    )\n",
        "    return image"
      ],
      "execution_count": 62,
      "outputs": []
    },
    {
      "cell_type": "code",
      "metadata": {
        "id": "npR0nu7MM6Qz"
      },
      "source": [
        "polygons_pertile = []\n",
        "snic_list = []\n",
        "superpixels_summary = []\n",
        "superpixels_quantile = []\n",
        "\n",
        "for i in range(len(eegrid_geometries)):\n",
        "  \n",
        "  tilecollection = imgcollection.map(lambda img:\n",
        "                                  img.unmask(0).clip(eegrid_geometries[i]))\n",
        "  ## get image segmentation using SNIC method\n",
        "  snic = gee_functions.gee_snic(tilecollection,eegrid_geometries[i], bands = [\"ndvi\"] )\n",
        "  ### from image segments to polygons\n",
        "  polygons_fromseg = gee_functions.raster_to_polygons(snic, tilecollection.select([\"ndvi\"]\n",
        "                                        ).median(), \n",
        "                                            eegrid_geometries[i].geometry(), scale = 8)\n",
        "  \n",
        "  train_areas = polygons_fromseg.reduceToImage(\n",
        "    properties= ['zone'],\n",
        "    reducer= ee.Reducer.first()\n",
        "  ).toInt()\n",
        "\n",
        "  \n",
        "  ### store outputs in lists\n",
        "  snic_list.append(snic)\n",
        "  grid_geometries.append(polygons_fromseg)\n",
        "\n",
        "  coll_segmentation = s1_imagery.image_collection.map(lambda image:\n",
        "                                  summarize_spimage(image.select(['VV']).clip(eegrid_geometries[i]), \n",
        "                                                                           train_areas))\n",
        "  \n",
        "  #superpixels_summary.append(coll_segmentation)\n",
        "  superpixels_quantile.append(coll_segmentation.reduce(ee.Reducer.percentile([5,10, 25, 50, 75 , 90, 95])))\n",
        "  "
      ],
      "execution_count": 63,
      "outputs": []
    },
    {
      "cell_type": "code",
      "metadata": {
        "id": "zrPOKpdnljPq"
      },
      "source": [
        "sp_bands = img_merged.bandNames().getInfo()"
      ],
      "execution_count": 64,
      "outputs": []
    },
    {
      "cell_type": "code",
      "metadata": {
        "id": "3rBQBqUbg6jn",
        "outputId": "b4439f88-3315-4dd9-fcff-634144ef7547",
        "colab": {
          "base_uri": "https://localhost:8080/",
          "height": 831
        }
      },
      "source": [
        "import folium\n",
        "Map = folium.Map(location=[4.247676101204724,-75.22938730661772\n",
        "                               ], zoom_start=10)\n",
        "\n",
        "\n",
        "Map.addLayer(ee.Image(img_merged).select(['VV_p5_mean']), {'gamma': 1.3, 'min':-25, 'max':0}, 'orig');\n",
        "\n",
        "#displaytest = ee.Image(0).updateMask(0).paint(polygons_fromseg, '000000', 3)\n",
        "#Map.addLayer(displaytest, {}, 'original')\n",
        "\n",
        "Map.setControlVisibility(layerControl=True, fullscreenControl=True, latLngPopup=True)\n",
        "Map"
      ],
      "execution_count": 65,
      "outputs": [
        {
          "output_type": "execute_result",
          "data": {
            "text/html": [
              "<div style=\"width:100%;\"><div style=\"position:relative;width:100%;height:0;padding-bottom:60%;\"><span style=\"color:#565656\">Make this Notebook Trusted to load map: File -> Trust Notebook</span><iframe src=\"about:blank\" style=\"position:absolute;width:100%;height:100%;left:0;top:0;border:none !important;\" data-html=%3C%21DOCTYPE%20html%3E%0A%3Chead%3E%20%20%20%20%0A%20%20%20%20%3Cmeta%20http-equiv%3D%22content-type%22%20content%3D%22text/html%3B%20charset%3DUTF-8%22%20/%3E%0A%20%20%20%20%3Cscript%3EL_PREFER_CANVAS%3Dfalse%3B%20L_NO_TOUCH%3Dfalse%3B%20L_DISABLE_3D%3Dfalse%3B%3C/script%3E%0A%20%20%20%20%3Cscript%20src%3D%22https%3A//cdn.jsdelivr.net/npm/leaflet%401.4.0/dist/leaflet.js%22%3E%3C/script%3E%0A%20%20%20%20%3Cscript%20src%3D%22https%3A//code.jquery.com/jquery-1.12.4.min.js%22%3E%3C/script%3E%0A%20%20%20%20%3Cscript%20src%3D%22https%3A//maxcdn.bootstrapcdn.com/bootstrap/3.2.0/js/bootstrap.min.js%22%3E%3C/script%3E%0A%20%20%20%20%3Cscript%20src%3D%22https%3A//cdnjs.cloudflare.com/ajax/libs/Leaflet.awesome-markers/2.0.2/leaflet.awesome-markers.js%22%3E%3C/script%3E%0A%20%20%20%20%3Clink%20rel%3D%22stylesheet%22%20href%3D%22https%3A//cdn.jsdelivr.net/npm/leaflet%401.4.0/dist/leaflet.css%22/%3E%0A%20%20%20%20%3Clink%20rel%3D%22stylesheet%22%20href%3D%22https%3A//maxcdn.bootstrapcdn.com/bootstrap/3.2.0/css/bootstrap.min.css%22/%3E%0A%20%20%20%20%3Clink%20rel%3D%22stylesheet%22%20href%3D%22https%3A//maxcdn.bootstrapcdn.com/bootstrap/3.2.0/css/bootstrap-theme.min.css%22/%3E%0A%20%20%20%20%3Clink%20rel%3D%22stylesheet%22%20href%3D%22https%3A//maxcdn.bootstrapcdn.com/font-awesome/4.6.3/css/font-awesome.min.css%22/%3E%0A%20%20%20%20%3Clink%20rel%3D%22stylesheet%22%20href%3D%22https%3A//cdnjs.cloudflare.com/ajax/libs/Leaflet.awesome-markers/2.0.2/leaflet.awesome-markers.css%22/%3E%0A%20%20%20%20%3Clink%20rel%3D%22stylesheet%22%20href%3D%22https%3A//rawcdn.githack.com/python-visualization/folium/master/folium/templates/leaflet.awesome.rotate.css%22/%3E%0A%20%20%20%20%3Cstyle%3Ehtml%2C%20body%20%7Bwidth%3A%20100%25%3Bheight%3A%20100%25%3Bmargin%3A%200%3Bpadding%3A%200%3B%7D%3C/style%3E%0A%20%20%20%20%3Cstyle%3E%23map%20%7Bposition%3Aabsolute%3Btop%3A0%3Bbottom%3A0%3Bright%3A0%3Bleft%3A0%3B%7D%3C/style%3E%0A%20%20%20%20%0A%20%20%20%20%3Cmeta%20name%3D%22viewport%22%20content%3D%22width%3Ddevice-width%2C%0A%20%20%20%20%20%20%20%20initial-scale%3D1.0%2C%20maximum-scale%3D1.0%2C%20user-scalable%3Dno%22%20/%3E%0A%20%20%20%20%3Cstyle%3E%23map_85eae877dc2c43aeb993f6ccf7f045ca%20%7B%0A%20%20%20%20%20%20%20%20position%3A%20relative%3B%0A%20%20%20%20%20%20%20%20width%3A%20100.0%25%3B%0A%20%20%20%20%20%20%20%20height%3A%20100.0%25%3B%0A%20%20%20%20%20%20%20%20left%3A%200.0%25%3B%0A%20%20%20%20%20%20%20%20top%3A%200.0%25%3B%0A%20%20%20%20%20%20%20%20%7D%0A%20%20%20%20%3C/style%3E%0A%20%20%20%20%3Cscript%20src%3D%22https%3A//cdnjs.cloudflare.com/ajax/libs/leaflet.fullscreen/1.4.2/Control.FullScreen.min.js%22%3E%3C/script%3E%0A%20%20%20%20%3Clink%20rel%3D%22stylesheet%22%20href%3D%22https%3A//cdnjs.cloudflare.com/ajax/libs/leaflet.fullscreen/1.4.2/Control.FullScreen.min.css%22/%3E%0A%3C/head%3E%0A%3Cbody%3E%20%20%20%20%0A%20%20%20%20%0A%20%20%20%20%3Cdiv%20class%3D%22folium-map%22%20id%3D%22map_85eae877dc2c43aeb993f6ccf7f045ca%22%20%3E%3C/div%3E%0A%3C/body%3E%0A%3Cscript%3E%20%20%20%20%0A%20%20%20%20%0A%20%20%20%20%0A%20%20%20%20%20%20%20%20var%20bounds%20%3D%20null%3B%0A%20%20%20%20%0A%0A%20%20%20%20var%20map_85eae877dc2c43aeb993f6ccf7f045ca%20%3D%20L.map%28%0A%20%20%20%20%20%20%20%20%27map_85eae877dc2c43aeb993f6ccf7f045ca%27%2C%20%7B%0A%20%20%20%20%20%20%20%20center%3A%20%5B4.247676101204724%2C%20-75.22938730661772%5D%2C%0A%20%20%20%20%20%20%20%20zoom%3A%2010%2C%0A%20%20%20%20%20%20%20%20maxBounds%3A%20bounds%2C%0A%20%20%20%20%20%20%20%20layers%3A%20%5B%5D%2C%0A%20%20%20%20%20%20%20%20worldCopyJump%3A%20false%2C%0A%20%20%20%20%20%20%20%20crs%3A%20L.CRS.EPSG3857%2C%0A%20%20%20%20%20%20%20%20zoomControl%3A%20true%2C%0A%20%20%20%20%20%20%20%20%7D%29%3B%0A%0A%0A%20%20%20%20%0A%20%20%20%20var%20tile_layer_466c157c11544fafb91640b5dca1acc9%20%3D%20L.tileLayer%28%0A%20%20%20%20%20%20%20%20%27https%3A//%7Bs%7D.tile.openstreetmap.org/%7Bz%7D/%7Bx%7D/%7By%7D.png%27%2C%0A%20%20%20%20%20%20%20%20%7B%0A%20%20%20%20%20%20%20%20%22attribution%22%3A%20null%2C%0A%20%20%20%20%20%20%20%20%22detectRetina%22%3A%20false%2C%0A%20%20%20%20%20%20%20%20%22maxNativeZoom%22%3A%2018%2C%0A%20%20%20%20%20%20%20%20%22maxZoom%22%3A%2018%2C%0A%20%20%20%20%20%20%20%20%22minZoom%22%3A%200%2C%0A%20%20%20%20%20%20%20%20%22noWrap%22%3A%20false%2C%0A%20%20%20%20%20%20%20%20%22opacity%22%3A%201%2C%0A%20%20%20%20%20%20%20%20%22subdomains%22%3A%20%22abc%22%2C%0A%20%20%20%20%20%20%20%20%22tms%22%3A%20false%0A%7D%29.addTo%28map_85eae877dc2c43aeb993f6ccf7f045ca%29%3B%0A%20%20%20%20var%20tile_layer_bfdd388389f34212ac06468f39b4bec9%20%3D%20L.tileLayer%28%0A%20%20%20%20%20%20%20%20%27https%3A//earthengine.googleapis.com/v1alpha/projects/earthengine-legacy/maps/5e3a1acb1e8c59a63deb68c685e45a5c-111f1321a48f686fbb6e007d570e9a68/tiles/%7Bz%7D/%7Bx%7D/%7By%7D%27%2C%0A%20%20%20%20%20%20%20%20%7B%0A%20%20%20%20%20%20%20%20%22attribution%22%3A%20%22Google%20Earth%20Engine%22%2C%0A%20%20%20%20%20%20%20%20%22detectRetina%22%3A%20false%2C%0A%20%20%20%20%20%20%20%20%22maxNativeZoom%22%3A%2018%2C%0A%20%20%20%20%20%20%20%20%22maxZoom%22%3A%2018%2C%0A%20%20%20%20%20%20%20%20%22minZoom%22%3A%200%2C%0A%20%20%20%20%20%20%20%20%22noWrap%22%3A%20false%2C%0A%20%20%20%20%20%20%20%20%22opacity%22%3A%201%2C%0A%20%20%20%20%20%20%20%20%22subdomains%22%3A%20%22abc%22%2C%0A%20%20%20%20%20%20%20%20%22tms%22%3A%20false%0A%7D%29.addTo%28map_85eae877dc2c43aeb993f6ccf7f045ca%29%3B%0A%20%20%20%20%0A%20%20%20%20%20%20%20%20%20%20%20%20var%20layer_control_bffdbf63f6d7459ba44525d61501e83c%20%3D%20%7B%0A%20%20%20%20%20%20%20%20%20%20%20%20%20%20%20%20base_layers%20%3A%20%7B%20%22openstreetmap%22%20%3A%20tile_layer_466c157c11544fafb91640b5dca1acc9%2C%20%7D%2C%0A%20%20%20%20%20%20%20%20%20%20%20%20%20%20%20%20overlays%20%3A%20%7B%20%22orig%22%20%3A%20tile_layer_bfdd388389f34212ac06468f39b4bec9%2C%20%7D%0A%20%20%20%20%20%20%20%20%20%20%20%20%20%20%20%20%7D%3B%0A%20%20%20%20%20%20%20%20%20%20%20%20L.control.layers%28%0A%20%20%20%20%20%20%20%20%20%20%20%20%20%20%20%20layer_control_bffdbf63f6d7459ba44525d61501e83c.base_layers%2C%0A%20%20%20%20%20%20%20%20%20%20%20%20%20%20%20%20layer_control_bffdbf63f6d7459ba44525d61501e83c.overlays%2C%0A%20%20%20%20%20%20%20%20%20%20%20%20%20%20%20%20%7Bposition%3A%20%27topright%27%2C%0A%20%20%20%20%20%20%20%20%20%20%20%20%20%20%20%20%20collapsed%3A%20true%2C%0A%20%20%20%20%20%20%20%20%20%20%20%20%20%20%20%20%20autoZIndex%3A%20true%0A%20%20%20%20%20%20%20%20%20%20%20%20%20%20%20%20%7D%29.addTo%28map_85eae877dc2c43aeb993f6ccf7f045ca%29%3B%0A%20%20%20%20%20%20%20%20%20%20%20%20%0A%20%20%20%20%20%20%20%20%0A%20%20%20%20%0A%20%20%20%20%20%20%20%20%20%20%20%20L.control.fullscreen%28%7B%0A%20%20%20%20%20%20%20%20%20%20%20%20%20%20%20%20position%3A%20%27topleft%27%2C%0A%20%20%20%20%20%20%20%20%20%20%20%20%20%20%20%20title%3A%20%27Full%20Screen%27%2C%0A%20%20%20%20%20%20%20%20%20%20%20%20%20%20%20%20titleCancel%3A%20%27Exit%20Full%20Screen%27%2C%0A%20%20%20%20%20%20%20%20%20%20%20%20%20%20%20%20forceSeparateButton%3A%20false%2C%0A%20%20%20%20%20%20%20%20%20%20%20%20%20%20%20%20%7D%29.addTo%28map_85eae877dc2c43aeb993f6ccf7f045ca%29%3B%0A%20%20%20%20%20%20%20%20%20%20%20%20map_85eae877dc2c43aeb993f6ccf7f045ca.on%28%27enterFullscreen%27%2C%20function%28%29%7B%0A%20%20%20%20%20%20%20%20%20%20%20%20%20%20%20%20console.log%28%27entered%20fullscreen%27%29%3B%0A%20%20%20%20%20%20%20%20%20%20%20%20%7D%29%3B%0A%0A%20%20%20%20%20%20%20%20%0A%20%20%20%20%0A%20%20%20%20%20%20%20%20%20%20%20%20%20%20%20%20var%20lat_lng_popup_b62beec43ab84c36b660354912d6402e%20%3D%20L.popup%28%29%3B%0A%20%20%20%20%20%20%20%20%20%20%20%20%20%20%20%20function%20latLngPop%28e%29%20%7B%0A%20%20%20%20%20%20%20%20%20%20%20%20%20%20%20%20%20%20%20%20lat_lng_popup_b62beec43ab84c36b660354912d6402e%0A%20%20%20%20%20%20%20%20%20%20%20%20%20%20%20%20%20%20%20%20%20%20%20%20.setLatLng%28e.latlng%29%0A%20%20%20%20%20%20%20%20%20%20%20%20%20%20%20%20%20%20%20%20%20%20%20%20.setContent%28%22Latitude%3A%20%22%20%2B%20e.latlng.lat.toFixed%284%29%20%2B%0A%20%20%20%20%20%20%20%20%20%20%20%20%20%20%20%20%20%20%20%20%20%20%20%20%20%20%20%20%20%20%20%20%20%20%20%20%22%3Cbr%3ELongitude%3A%20%22%20%2B%20e.latlng.lng.toFixed%284%29%29%0A%20%20%20%20%20%20%20%20%20%20%20%20%20%20%20%20%20%20%20%20%20%20%20%20.openOn%28map_85eae877dc2c43aeb993f6ccf7f045ca%29%3B%0A%20%20%20%20%20%20%20%20%20%20%20%20%20%20%20%20%20%20%20%20%7D%0A%20%20%20%20%20%20%20%20%20%20%20%20%20%20%20%20map_85eae877dc2c43aeb993f6ccf7f045ca.on%28%27click%27%2C%20latLngPop%29%3B%0A%20%20%20%20%20%20%20%20%20%20%20%20%0A%3C/script%3E onload=\"this.contentDocument.open();this.contentDocument.write(    decodeURIComponent(this.getAttribute('data-html')));this.contentDocument.close();\" allowfullscreen webkitallowfullscreen mozallowfullscreen></iframe></div></div>"
            ],
            "text/plain": [
              "<folium.folium.Map at 0x7fe511d83d10>"
            ]
          },
          "metadata": {
            "tags": []
          },
          "execution_count": 65
        }
      ]
    },
    {
      "cell_type": "code",
      "metadata": {
        "id": "nopuu84CuME7",
        "outputId": "a1d8d79e-390b-4291-b2f7-ed90e93b97cf",
        "colab": {
          "base_uri": "https://localhost:8080/"
        }
      },
      "source": [
        "from google.colab import drive\n",
        "drive.mount('/content/drive')"
      ],
      "execution_count": 66,
      "outputs": [
        {
          "output_type": "stream",
          "text": [
            "Drive already mounted at /content/drive; to attempt to forcibly remount, call drive.mount(\"/content/drive\", force_remount=True).\n"
          ],
          "name": "stdout"
        }
      ]
    },
    {
      "cell_type": "code",
      "metadata": {
        "id": "397sCg43558A",
        "colab": {
          "base_uri": "https://localhost:8080/"
        },
        "outputId": "2ccfa567-69a5-4a45-ebe9-216474a4e4dd"
      },
      "source": [
        "for band in sp_bands:\n",
        "  image_todownload = ee.Image(img_merged.select(band))\n",
        "\n",
        "  task = ee.batch.Export.image.toDrive(**{\n",
        "                  'image': ee.Image(image_todownload),\n",
        "                  'description': \"s1_per_superpixel_{}\".format(band),\n",
        "                  'folder': '/content/drive/MyDrive/satellite_images',\n",
        "                  'scale': 10,\n",
        "                  'region': s1_imagery._ee_sp['coordinates']\n",
        "              })\n",
        "\n",
        "  task.start()\n",
        "  while task.active():\n",
        "      print('Polling for task (id: {}).'.format( \"s1_per_superpixel_{}\".format(band)))\n",
        "      time.sleep(20)"
      ],
      "execution_count": null,
      "outputs": [
        {
          "output_type": "stream",
          "text": [
            "Polling for task (id: s1_per_superpixel_VV_p5_mean).\n",
            "Polling for task (id: s1_per_superpixel_VV_p5_mean).\n",
            "Polling for task (id: s1_per_superpixel_VV_p5_mean).\n",
            "Polling for task (id: s1_per_superpixel_VV_p5_mean).\n",
            "Polling for task (id: s1_per_superpixel_VV_p5_mean).\n",
            "Polling for task (id: s1_per_superpixel_VV_p5_mean).\n",
            "Polling for task (id: s1_per_superpixel_VV_p5_mean).\n",
            "Polling for task (id: s1_per_superpixel_VV_p5_mean).\n",
            "Polling for task (id: s1_per_superpixel_VV_p5_mean).\n",
            "Polling for task (id: s1_per_superpixel_VV_p5_mean).\n",
            "Polling for task (id: s1_per_superpixel_VV_p5_mean).\n",
            "Polling for task (id: s1_per_superpixel_VV_p5_mean).\n",
            "Polling for task (id: s1_per_superpixel_VV_p5_mean).\n",
            "Polling for task (id: s1_per_superpixel_VV_p5_mean).\n",
            "Polling for task (id: s1_per_superpixel_VV_p5_mean).\n",
            "Polling for task (id: s1_per_superpixel_VV_p5_mean).\n",
            "Polling for task (id: s1_per_superpixel_VV_p5_mean).\n",
            "Polling for task (id: s1_per_superpixel_VV_p5_mean).\n",
            "Polling for task (id: s1_per_superpixel_VV_p5_mean).\n",
            "Polling for task (id: s1_per_superpixel_VV_p5_mean).\n",
            "Polling for task (id: s1_per_superpixel_VV_p5_mean).\n",
            "Polling for task (id: s1_per_superpixel_VV_p5_mean).\n",
            "Polling for task (id: s1_per_superpixel_VV_p5_mean).\n",
            "Polling for task (id: s1_per_superpixel_VV_p5_mean).\n",
            "Polling for task (id: s1_per_superpixel_VV_p5_mean).\n",
            "Polling for task (id: s1_per_superpixel_VV_p5_mean).\n",
            "Polling for task (id: s1_per_superpixel_VV_p5_mean).\n",
            "Polling for task (id: s1_per_superpixel_VV_p5_mean).\n",
            "Polling for task (id: s1_per_superpixel_VV_p5_mean).\n",
            "Polling for task (id: s1_per_superpixel_VV_p5_mean).\n",
            "Polling for task (id: s1_per_superpixel_VV_p5_mean).\n",
            "Polling for task (id: s1_per_superpixel_VV_p5_mean).\n",
            "Polling for task (id: s1_per_superpixel_VV_p5_mean).\n",
            "Polling for task (id: s1_per_superpixel_VV_p5_mean).\n",
            "Polling for task (id: s1_per_superpixel_VV_p5_mean).\n",
            "Polling for task (id: s1_per_superpixel_VV_p5_mean).\n",
            "Polling for task (id: s1_per_superpixel_VV_p5_mean).\n",
            "Polling for task (id: s1_per_superpixel_VV_p5_mean).\n",
            "Polling for task (id: s1_per_superpixel_VV_p5_mean).\n",
            "Polling for task (id: s1_per_superpixel_VV_p5_mean).\n",
            "Polling for task (id: s1_per_superpixel_VV_p5_mean).\n",
            "Polling for task (id: s1_per_superpixel_VV_p5_mean).\n",
            "Polling for task (id: s1_per_superpixel_VV_p5_mean).\n",
            "Polling for task (id: s1_per_superpixel_VV_p5_mean).\n",
            "Polling for task (id: s1_per_superpixel_VV_p5_mean).\n",
            "Polling for task (id: s1_per_superpixel_VV_p5_mean).\n",
            "Polling for task (id: s1_per_superpixel_VV_p5_mean).\n",
            "Polling for task (id: s1_per_superpixel_VV_p5_mean).\n",
            "Polling for task (id: s1_per_superpixel_VV_p5_mean).\n",
            "Polling for task (id: s1_per_superpixel_VV_p5_mean).\n",
            "Polling for task (id: s1_per_superpixel_VV_p5_mean).\n",
            "Polling for task (id: s1_per_superpixel_VV_p5_mean).\n",
            "Polling for task (id: s1_per_superpixel_VV_p5_mean).\n",
            "Polling for task (id: s1_per_superpixel_VV_p5_mean).\n",
            "Polling for task (id: s1_per_superpixel_VV_p5_mean).\n",
            "Polling for task (id: s1_per_superpixel_VV_p5_mean).\n",
            "Polling for task (id: s1_per_superpixel_VV_p5_mean).\n",
            "Polling for task (id: s1_per_superpixel_VV_p5_mean).\n",
            "Polling for task (id: s1_per_superpixel_VV_p5_mean).\n",
            "Polling for task (id: s1_per_superpixel_VV_p5_mean).\n",
            "Polling for task (id: s1_per_superpixel_VV_p5_mean).\n",
            "Polling for task (id: s1_per_superpixel_VV_p5_mean).\n",
            "Polling for task (id: s1_per_superpixel_VV_p5_mean).\n",
            "Polling for task (id: s1_per_superpixel_VV_p5_mean).\n",
            "Polling for task (id: s1_per_superpixel_VV_p5_mean).\n",
            "Polling for task (id: s1_per_superpixel_VV_p5_mean).\n",
            "Polling for task (id: s1_per_superpixel_VV_p5_mean).\n",
            "Polling for task (id: s1_per_superpixel_VV_p5_mean).\n",
            "Polling for task (id: s1_per_superpixel_VV_p5_mean).\n",
            "Polling for task (id: s1_per_superpixel_VV_p5_mean).\n",
            "Polling for task (id: s1_per_superpixel_VV_p5_mean).\n",
            "Polling for task (id: s1_per_superpixel_VV_p5_mean).\n",
            "Polling for task (id: s1_per_superpixel_VV_p5_mean).\n",
            "Polling for task (id: s1_per_superpixel_VV_p5_mean).\n",
            "Polling for task (id: s1_per_superpixel_VV_p5_mean).\n",
            "Polling for task (id: s1_per_superpixel_VV_p5_mean).\n",
            "Polling for task (id: s1_per_superpixel_VV_p5_mean).\n",
            "Polling for task (id: s1_per_superpixel_VV_p5_mean).\n",
            "Polling for task (id: s1_per_superpixel_VV_p5_mean).\n",
            "Polling for task (id: s1_per_superpixel_VV_p5_mean).\n",
            "Polling for task (id: s1_per_superpixel_VV_p5_mean).\n",
            "Polling for task (id: s1_per_superpixel_VV_p5_mean).\n",
            "Polling for task (id: s1_per_superpixel_VV_p5_mean).\n",
            "Polling for task (id: s1_per_superpixel_VV_p10_mean).\n",
            "Polling for task (id: s1_per_superpixel_VV_p10_mean).\n",
            "Polling for task (id: s1_per_superpixel_VV_p10_mean).\n",
            "Polling for task (id: s1_per_superpixel_VV_p10_mean).\n",
            "Polling for task (id: s1_per_superpixel_VV_p10_mean).\n",
            "Polling for task (id: s1_per_superpixel_VV_p10_mean).\n",
            "Polling for task (id: s1_per_superpixel_VV_p10_mean).\n",
            "Polling for task (id: s1_per_superpixel_VV_p10_mean).\n",
            "Polling for task (id: s1_per_superpixel_VV_p10_mean).\n",
            "Polling for task (id: s1_per_superpixel_VV_p10_mean).\n",
            "Polling for task (id: s1_per_superpixel_VV_p10_mean).\n",
            "Polling for task (id: s1_per_superpixel_VV_p10_mean).\n",
            "Polling for task (id: s1_per_superpixel_VV_p10_mean).\n",
            "Polling for task (id: s1_per_superpixel_VV_p10_mean).\n",
            "Polling for task (id: s1_per_superpixel_VV_p10_mean).\n",
            "Polling for task (id: s1_per_superpixel_VV_p10_mean).\n",
            "Polling for task (id: s1_per_superpixel_VV_p10_mean).\n",
            "Polling for task (id: s1_per_superpixel_VV_p10_mean).\n",
            "Polling for task (id: s1_per_superpixel_VV_p10_mean).\n",
            "Polling for task (id: s1_per_superpixel_VV_p10_mean).\n",
            "Polling for task (id: s1_per_superpixel_VV_p10_mean).\n",
            "Polling for task (id: s1_per_superpixel_VV_p10_mean).\n",
            "Polling for task (id: s1_per_superpixel_VV_p10_mean).\n",
            "Polling for task (id: s1_per_superpixel_VV_p10_mean).\n",
            "Polling for task (id: s1_per_superpixel_VV_p10_mean).\n",
            "Polling for task (id: s1_per_superpixel_VV_p10_mean).\n",
            "Polling for task (id: s1_per_superpixel_VV_p10_mean).\n",
            "Polling for task (id: s1_per_superpixel_VV_p10_mean).\n",
            "Polling for task (id: s1_per_superpixel_VV_p10_mean).\n",
            "Polling for task (id: s1_per_superpixel_VV_p10_mean).\n",
            "Polling for task (id: s1_per_superpixel_VV_p10_mean).\n",
            "Polling for task (id: s1_per_superpixel_VV_p10_mean).\n",
            "Polling for task (id: s1_per_superpixel_VV_p10_mean).\n",
            "Polling for task (id: s1_per_superpixel_VV_p10_mean).\n",
            "Polling for task (id: s1_per_superpixel_VV_p10_mean).\n",
            "Polling for task (id: s1_per_superpixel_VV_p10_mean).\n",
            "Polling for task (id: s1_per_superpixel_VV_p10_mean).\n",
            "Polling for task (id: s1_per_superpixel_VV_p10_mean).\n",
            "Polling for task (id: s1_per_superpixel_VV_p10_mean).\n",
            "Polling for task (id: s1_per_superpixel_VV_p10_mean).\n",
            "Polling for task (id: s1_per_superpixel_VV_p10_mean).\n",
            "Polling for task (id: s1_per_superpixel_VV_p10_mean).\n",
            "Polling for task (id: s1_per_superpixel_VV_p10_mean).\n",
            "Polling for task (id: s1_per_superpixel_VV_p10_mean).\n",
            "Polling for task (id: s1_per_superpixel_VV_p10_mean).\n",
            "Polling for task (id: s1_per_superpixel_VV_p10_mean).\n",
            "Polling for task (id: s1_per_superpixel_VV_p10_mean).\n",
            "Polling for task (id: s1_per_superpixel_VV_p10_mean).\n",
            "Polling for task (id: s1_per_superpixel_VV_p10_mean).\n",
            "Polling for task (id: s1_per_superpixel_VV_p10_mean).\n",
            "Polling for task (id: s1_per_superpixel_VV_p10_mean).\n",
            "Polling for task (id: s1_per_superpixel_VV_p10_mean).\n",
            "Polling for task (id: s1_per_superpixel_VV_p10_mean).\n",
            "Polling for task (id: s1_per_superpixel_VV_p10_mean).\n",
            "Polling for task (id: s1_per_superpixel_VV_p10_mean).\n",
            "Polling for task (id: s1_per_superpixel_VV_p10_mean).\n",
            "Polling for task (id: s1_per_superpixel_VV_p10_mean).\n",
            "Polling for task (id: s1_per_superpixel_VV_p10_mean).\n",
            "Polling for task (id: s1_per_superpixel_VV_p10_mean).\n",
            "Polling for task (id: s1_per_superpixel_VV_p10_mean).\n",
            "Polling for task (id: s1_per_superpixel_VV_p10_mean).\n",
            "Polling for task (id: s1_per_superpixel_VV_p10_mean).\n",
            "Polling for task (id: s1_per_superpixel_VV_p10_mean).\n",
            "Polling for task (id: s1_per_superpixel_VV_p10_mean).\n",
            "Polling for task (id: s1_per_superpixel_VV_p10_mean).\n",
            "Polling for task (id: s1_per_superpixel_VV_p10_mean).\n",
            "Polling for task (id: s1_per_superpixel_VV_p10_mean).\n",
            "Polling for task (id: s1_per_superpixel_VV_p10_mean).\n",
            "Polling for task (id: s1_per_superpixel_VV_p10_mean).\n",
            "Polling for task (id: s1_per_superpixel_VV_p10_mean).\n",
            "Polling for task (id: s1_per_superpixel_VV_p10_mean).\n",
            "Polling for task (id: s1_per_superpixel_VV_p10_mean).\n",
            "Polling for task (id: s1_per_superpixel_VV_p10_mean).\n",
            "Polling for task (id: s1_per_superpixel_VV_p10_mean).\n",
            "Polling for task (id: s1_per_superpixel_VV_p10_mean).\n",
            "Polling for task (id: s1_per_superpixel_VV_p10_mean).\n",
            "Polling for task (id: s1_per_superpixel_VV_p10_mean).\n",
            "Polling for task (id: s1_per_superpixel_VV_p10_mean).\n",
            "Polling for task (id: s1_per_superpixel_VV_p10_mean).\n",
            "Polling for task (id: s1_per_superpixel_VV_p10_mean).\n",
            "Polling for task (id: s1_per_superpixel_VV_p10_mean).\n",
            "Polling for task (id: s1_per_superpixel_VV_p10_mean).\n",
            "Polling for task (id: s1_per_superpixel_VV_p10_mean).\n",
            "Polling for task (id: s1_per_superpixel_VV_p10_mean).\n",
            "Polling for task (id: s1_per_superpixel_VV_p10_mean).\n",
            "Polling for task (id: s1_per_superpixel_VV_p10_mean).\n",
            "Polling for task (id: s1_per_superpixel_VV_p10_mean).\n",
            "Polling for task (id: s1_per_superpixel_VV_p10_mean).\n",
            "Polling for task (id: s1_per_superpixel_VV_p10_mean).\n",
            "Polling for task (id: s1_per_superpixel_VV_p10_mean).\n",
            "Polling for task (id: s1_per_superpixel_VV_p10_mean).\n",
            "Polling for task (id: s1_per_superpixel_VV_p10_mean).\n",
            "Polling for task (id: s1_per_superpixel_VV_p10_mean).\n",
            "Polling for task (id: s1_per_superpixel_VV_p10_mean).\n",
            "Polling for task (id: s1_per_superpixel_VV_p10_mean).\n",
            "Polling for task (id: s1_per_superpixel_VV_p10_mean).\n",
            "Polling for task (id: s1_per_superpixel_VV_p10_mean).\n",
            "Polling for task (id: s1_per_superpixel_VV_p10_mean).\n",
            "Polling for task (id: s1_per_superpixel_VV_p10_mean).\n",
            "Polling for task (id: s1_per_superpixel_VV_p10_mean).\n",
            "Polling for task (id: s1_per_superpixel_VV_p10_mean).\n",
            "Polling for task (id: s1_per_superpixel_VV_p10_mean).\n",
            "Polling for task (id: s1_per_superpixel_VV_p10_mean).\n",
            "Polling for task (id: s1_per_superpixel_VV_p10_mean).\n",
            "Polling for task (id: s1_per_superpixel_VV_p10_mean).\n",
            "Polling for task (id: s1_per_superpixel_VV_p10_mean).\n",
            "Polling for task (id: s1_per_superpixel_VV_p10_mean).\n",
            "Polling for task (id: s1_per_superpixel_VV_p25_mean).\n",
            "Polling for task (id: s1_per_superpixel_VV_p25_mean).\n",
            "Polling for task (id: s1_per_superpixel_VV_p25_mean).\n",
            "Polling for task (id: s1_per_superpixel_VV_p25_mean).\n",
            "Polling for task (id: s1_per_superpixel_VV_p25_mean).\n",
            "Polling for task (id: s1_per_superpixel_VV_p25_mean).\n",
            "Polling for task (id: s1_per_superpixel_VV_p25_mean).\n",
            "Polling for task (id: s1_per_superpixel_VV_p25_mean).\n",
            "Polling for task (id: s1_per_superpixel_VV_p25_mean).\n",
            "Polling for task (id: s1_per_superpixel_VV_p25_mean).\n",
            "Polling for task (id: s1_per_superpixel_VV_p25_mean).\n",
            "Polling for task (id: s1_per_superpixel_VV_p25_mean).\n",
            "Polling for task (id: s1_per_superpixel_VV_p25_mean).\n",
            "Polling for task (id: s1_per_superpixel_VV_p25_mean).\n",
            "Polling for task (id: s1_per_superpixel_VV_p25_mean).\n",
            "Polling for task (id: s1_per_superpixel_VV_p25_mean).\n",
            "Polling for task (id: s1_per_superpixel_VV_p25_mean).\n"
          ],
          "name": "stdout"
        }
      ]
    },
    {
      "cell_type": "code",
      "metadata": {
        "colab": {
          "base_uri": "https://localhost:8080/",
          "height": 831
        },
        "id": "SqTM2dexwCck",
        "outputId": "2bfd46e8-d08f-4798-9e43-839807127d87"
      },
      "source": [
        "### Visualize one tile\n",
        "\n",
        "import folium \n",
        "\n",
        "\n",
        "centergeometry = gis_functions.geometry_center(s1_imagery.geometry)\n",
        "\n",
        "Map = folium.Map(location=[centergeometry[1],\n",
        "                               centergeometry[0]], zoom_start=12)\n",
        "\n",
        "#Map.addLayer(ee.Image(abundance_perc_orig).select(['VV_p5', 'VV_p50', 'VV_p95']).clip(s1_imagery._ee_sp), {'gamma': 1.3, 'min':-25, 'max':0}, 'orig');\n",
        "Map.addLayer(ee.Image(superpixels_quantile[1]).select(['first_p5', 'first_p50', 'first_p95']), {'gamma': 1.3, 'min':-25, 'max':0}, 'radar superpixel');\n",
        "\n",
        "\n",
        "\n",
        "Map.setControlVisibility(layerControl=True, fullscreenControl=True, latLngPopup=True)\n",
        "\n",
        "Map"
      ],
      "execution_count": 24,
      "outputs": [
        {
          "output_type": "execute_result",
          "data": {
            "text/html": [
              "<div style=\"width:100%;\"><div style=\"position:relative;width:100%;height:0;padding-bottom:60%;\"><span style=\"color:#565656\">Make this Notebook Trusted to load map: File -> Trust Notebook</span><iframe src=\"about:blank\" style=\"position:absolute;width:100%;height:100%;left:0;top:0;border:none !important;\" data-html=%3C%21DOCTYPE%20html%3E%0A%3Chead%3E%20%20%20%20%0A%20%20%20%20%3Cmeta%20http-equiv%3D%22content-type%22%20content%3D%22text/html%3B%20charset%3DUTF-8%22%20/%3E%0A%20%20%20%20%3Cscript%3EL_PREFER_CANVAS%3Dfalse%3B%20L_NO_TOUCH%3Dfalse%3B%20L_DISABLE_3D%3Dfalse%3B%3C/script%3E%0A%20%20%20%20%3Cscript%20src%3D%22https%3A//cdn.jsdelivr.net/npm/leaflet%401.4.0/dist/leaflet.js%22%3E%3C/script%3E%0A%20%20%20%20%3Cscript%20src%3D%22https%3A//code.jquery.com/jquery-1.12.4.min.js%22%3E%3C/script%3E%0A%20%20%20%20%3Cscript%20src%3D%22https%3A//maxcdn.bootstrapcdn.com/bootstrap/3.2.0/js/bootstrap.min.js%22%3E%3C/script%3E%0A%20%20%20%20%3Cscript%20src%3D%22https%3A//cdnjs.cloudflare.com/ajax/libs/Leaflet.awesome-markers/2.0.2/leaflet.awesome-markers.js%22%3E%3C/script%3E%0A%20%20%20%20%3Clink%20rel%3D%22stylesheet%22%20href%3D%22https%3A//cdn.jsdelivr.net/npm/leaflet%401.4.0/dist/leaflet.css%22/%3E%0A%20%20%20%20%3Clink%20rel%3D%22stylesheet%22%20href%3D%22https%3A//maxcdn.bootstrapcdn.com/bootstrap/3.2.0/css/bootstrap.min.css%22/%3E%0A%20%20%20%20%3Clink%20rel%3D%22stylesheet%22%20href%3D%22https%3A//maxcdn.bootstrapcdn.com/bootstrap/3.2.0/css/bootstrap-theme.min.css%22/%3E%0A%20%20%20%20%3Clink%20rel%3D%22stylesheet%22%20href%3D%22https%3A//maxcdn.bootstrapcdn.com/font-awesome/4.6.3/css/font-awesome.min.css%22/%3E%0A%20%20%20%20%3Clink%20rel%3D%22stylesheet%22%20href%3D%22https%3A//cdnjs.cloudflare.com/ajax/libs/Leaflet.awesome-markers/2.0.2/leaflet.awesome-markers.css%22/%3E%0A%20%20%20%20%3Clink%20rel%3D%22stylesheet%22%20href%3D%22https%3A//rawcdn.githack.com/python-visualization/folium/master/folium/templates/leaflet.awesome.rotate.css%22/%3E%0A%20%20%20%20%3Cstyle%3Ehtml%2C%20body%20%7Bwidth%3A%20100%25%3Bheight%3A%20100%25%3Bmargin%3A%200%3Bpadding%3A%200%3B%7D%3C/style%3E%0A%20%20%20%20%3Cstyle%3E%23map%20%7Bposition%3Aabsolute%3Btop%3A0%3Bbottom%3A0%3Bright%3A0%3Bleft%3A0%3B%7D%3C/style%3E%0A%20%20%20%20%0A%20%20%20%20%3Cmeta%20name%3D%22viewport%22%20content%3D%22width%3Ddevice-width%2C%0A%20%20%20%20%20%20%20%20initial-scale%3D1.0%2C%20maximum-scale%3D1.0%2C%20user-scalable%3Dno%22%20/%3E%0A%20%20%20%20%3Cstyle%3E%23map_c89b5baad05641fd83a5acc20dcdab63%20%7B%0A%20%20%20%20%20%20%20%20position%3A%20relative%3B%0A%20%20%20%20%20%20%20%20width%3A%20100.0%25%3B%0A%20%20%20%20%20%20%20%20height%3A%20100.0%25%3B%0A%20%20%20%20%20%20%20%20left%3A%200.0%25%3B%0A%20%20%20%20%20%20%20%20top%3A%200.0%25%3B%0A%20%20%20%20%20%20%20%20%7D%0A%20%20%20%20%3C/style%3E%0A%20%20%20%20%3Cscript%20src%3D%22https%3A//cdnjs.cloudflare.com/ajax/libs/leaflet.fullscreen/1.4.2/Control.FullScreen.min.js%22%3E%3C/script%3E%0A%20%20%20%20%3Clink%20rel%3D%22stylesheet%22%20href%3D%22https%3A//cdnjs.cloudflare.com/ajax/libs/leaflet.fullscreen/1.4.2/Control.FullScreen.min.css%22/%3E%0A%3C/head%3E%0A%3Cbody%3E%20%20%20%20%0A%20%20%20%20%0A%20%20%20%20%3Cdiv%20class%3D%22folium-map%22%20id%3D%22map_c89b5baad05641fd83a5acc20dcdab63%22%20%3E%3C/div%3E%0A%3C/body%3E%0A%3Cscript%3E%20%20%20%20%0A%20%20%20%20%0A%20%20%20%20%0A%20%20%20%20%20%20%20%20var%20bounds%20%3D%20null%3B%0A%20%20%20%20%0A%0A%20%20%20%20var%20map_c89b5baad05641fd83a5acc20dcdab63%20%3D%20L.map%28%0A%20%20%20%20%20%20%20%20%27map_c89b5baad05641fd83a5acc20dcdab63%27%2C%20%7B%0A%20%20%20%20%20%20%20%20center%3A%20%5B4.044916876073087%2C%20-75.05519360767866%5D%2C%0A%20%20%20%20%20%20%20%20zoom%3A%2012%2C%0A%20%20%20%20%20%20%20%20maxBounds%3A%20bounds%2C%0A%20%20%20%20%20%20%20%20layers%3A%20%5B%5D%2C%0A%20%20%20%20%20%20%20%20worldCopyJump%3A%20false%2C%0A%20%20%20%20%20%20%20%20crs%3A%20L.CRS.EPSG3857%2C%0A%20%20%20%20%20%20%20%20zoomControl%3A%20true%2C%0A%20%20%20%20%20%20%20%20%7D%29%3B%0A%0A%0A%20%20%20%20%0A%20%20%20%20var%20tile_layer_9d9a2e01957345249828b6239e82537b%20%3D%20L.tileLayer%28%0A%20%20%20%20%20%20%20%20%27https%3A//%7Bs%7D.tile.openstreetmap.org/%7Bz%7D/%7Bx%7D/%7By%7D.png%27%2C%0A%20%20%20%20%20%20%20%20%7B%0A%20%20%20%20%20%20%20%20%22attribution%22%3A%20null%2C%0A%20%20%20%20%20%20%20%20%22detectRetina%22%3A%20false%2C%0A%20%20%20%20%20%20%20%20%22maxNativeZoom%22%3A%2018%2C%0A%20%20%20%20%20%20%20%20%22maxZoom%22%3A%2018%2C%0A%20%20%20%20%20%20%20%20%22minZoom%22%3A%200%2C%0A%20%20%20%20%20%20%20%20%22noWrap%22%3A%20false%2C%0A%20%20%20%20%20%20%20%20%22opacity%22%3A%201%2C%0A%20%20%20%20%20%20%20%20%22subdomains%22%3A%20%22abc%22%2C%0A%20%20%20%20%20%20%20%20%22tms%22%3A%20false%0A%7D%29.addTo%28map_c89b5baad05641fd83a5acc20dcdab63%29%3B%0A%20%20%20%20var%20tile_layer_4133e53e6c73415cac4cda4c46f26b76%20%3D%20L.tileLayer%28%0A%20%20%20%20%20%20%20%20%27https%3A//earthengine.googleapis.com/v1alpha/projects/earthengine-legacy/maps/ce80becff55bf56aa5bc4ff027792b7e-015650bacb93fc0422e93bd51cdea931/tiles/%7Bz%7D/%7Bx%7D/%7By%7D%27%2C%0A%20%20%20%20%20%20%20%20%7B%0A%20%20%20%20%20%20%20%20%22attribution%22%3A%20%22Google%20Earth%20Engine%22%2C%0A%20%20%20%20%20%20%20%20%22detectRetina%22%3A%20false%2C%0A%20%20%20%20%20%20%20%20%22maxNativeZoom%22%3A%2018%2C%0A%20%20%20%20%20%20%20%20%22maxZoom%22%3A%2018%2C%0A%20%20%20%20%20%20%20%20%22minZoom%22%3A%200%2C%0A%20%20%20%20%20%20%20%20%22noWrap%22%3A%20false%2C%0A%20%20%20%20%20%20%20%20%22opacity%22%3A%201%2C%0A%20%20%20%20%20%20%20%20%22subdomains%22%3A%20%22abc%22%2C%0A%20%20%20%20%20%20%20%20%22tms%22%3A%20false%0A%7D%29.addTo%28map_c89b5baad05641fd83a5acc20dcdab63%29%3B%0A%20%20%20%20%0A%20%20%20%20%20%20%20%20%20%20%20%20var%20layer_control_fd68669bfe9345c4b06bd82f511344cf%20%3D%20%7B%0A%20%20%20%20%20%20%20%20%20%20%20%20%20%20%20%20base_layers%20%3A%20%7B%20%22openstreetmap%22%20%3A%20tile_layer_9d9a2e01957345249828b6239e82537b%2C%20%7D%2C%0A%20%20%20%20%20%20%20%20%20%20%20%20%20%20%20%20overlays%20%3A%20%7B%20%22radar%20superpixel%22%20%3A%20tile_layer_4133e53e6c73415cac4cda4c46f26b76%2C%20%7D%0A%20%20%20%20%20%20%20%20%20%20%20%20%20%20%20%20%7D%3B%0A%20%20%20%20%20%20%20%20%20%20%20%20L.control.layers%28%0A%20%20%20%20%20%20%20%20%20%20%20%20%20%20%20%20layer_control_fd68669bfe9345c4b06bd82f511344cf.base_layers%2C%0A%20%20%20%20%20%20%20%20%20%20%20%20%20%20%20%20layer_control_fd68669bfe9345c4b06bd82f511344cf.overlays%2C%0A%20%20%20%20%20%20%20%20%20%20%20%20%20%20%20%20%7Bposition%3A%20%27topright%27%2C%0A%20%20%20%20%20%20%20%20%20%20%20%20%20%20%20%20%20collapsed%3A%20true%2C%0A%20%20%20%20%20%20%20%20%20%20%20%20%20%20%20%20%20autoZIndex%3A%20true%0A%20%20%20%20%20%20%20%20%20%20%20%20%20%20%20%20%7D%29.addTo%28map_c89b5baad05641fd83a5acc20dcdab63%29%3B%0A%20%20%20%20%20%20%20%20%20%20%20%20%0A%20%20%20%20%20%20%20%20%0A%20%20%20%20%0A%20%20%20%20%20%20%20%20%20%20%20%20L.control.fullscreen%28%7B%0A%20%20%20%20%20%20%20%20%20%20%20%20%20%20%20%20position%3A%20%27topleft%27%2C%0A%20%20%20%20%20%20%20%20%20%20%20%20%20%20%20%20title%3A%20%27Full%20Screen%27%2C%0A%20%20%20%20%20%20%20%20%20%20%20%20%20%20%20%20titleCancel%3A%20%27Exit%20Full%20Screen%27%2C%0A%20%20%20%20%20%20%20%20%20%20%20%20%20%20%20%20forceSeparateButton%3A%20false%2C%0A%20%20%20%20%20%20%20%20%20%20%20%20%20%20%20%20%7D%29.addTo%28map_c89b5baad05641fd83a5acc20dcdab63%29%3B%0A%20%20%20%20%20%20%20%20%20%20%20%20map_c89b5baad05641fd83a5acc20dcdab63.on%28%27enterFullscreen%27%2C%20function%28%29%7B%0A%20%20%20%20%20%20%20%20%20%20%20%20%20%20%20%20console.log%28%27entered%20fullscreen%27%29%3B%0A%20%20%20%20%20%20%20%20%20%20%20%20%7D%29%3B%0A%0A%20%20%20%20%20%20%20%20%0A%20%20%20%20%0A%20%20%20%20%20%20%20%20%20%20%20%20%20%20%20%20var%20lat_lng_popup_39fa728afc944cf5ac3ff8d833a31e6c%20%3D%20L.popup%28%29%3B%0A%20%20%20%20%20%20%20%20%20%20%20%20%20%20%20%20function%20latLngPop%28e%29%20%7B%0A%20%20%20%20%20%20%20%20%20%20%20%20%20%20%20%20%20%20%20%20lat_lng_popup_39fa728afc944cf5ac3ff8d833a31e6c%0A%20%20%20%20%20%20%20%20%20%20%20%20%20%20%20%20%20%20%20%20%20%20%20%20.setLatLng%28e.latlng%29%0A%20%20%20%20%20%20%20%20%20%20%20%20%20%20%20%20%20%20%20%20%20%20%20%20.setContent%28%22Latitude%3A%20%22%20%2B%20e.latlng.lat.toFixed%284%29%20%2B%0A%20%20%20%20%20%20%20%20%20%20%20%20%20%20%20%20%20%20%20%20%20%20%20%20%20%20%20%20%20%20%20%20%20%20%20%20%22%3Cbr%3ELongitude%3A%20%22%20%2B%20e.latlng.lng.toFixed%284%29%29%0A%20%20%20%20%20%20%20%20%20%20%20%20%20%20%20%20%20%20%20%20%20%20%20%20.openOn%28map_c89b5baad05641fd83a5acc20dcdab63%29%3B%0A%20%20%20%20%20%20%20%20%20%20%20%20%20%20%20%20%20%20%20%20%7D%0A%20%20%20%20%20%20%20%20%20%20%20%20%20%20%20%20map_c89b5baad05641fd83a5acc20dcdab63.on%28%27click%27%2C%20latLngPop%29%3B%0A%20%20%20%20%20%20%20%20%20%20%20%20%0A%3C/script%3E onload=\"this.contentDocument.open();this.contentDocument.write(    decodeURIComponent(this.getAttribute('data-html')));this.contentDocument.close();\" allowfullscreen webkitallowfullscreen mozallowfullscreen></iframe></div></div>"
            ],
            "text/plain": [
              "<folium.folium.Map at 0x7fe50c76ec90>"
            ]
          },
          "metadata": {
            "tags": []
          },
          "execution_count": 24
        }
      ]
    },
    {
      "cell_type": "code",
      "metadata": {
        "id": "kkh7mz44SUY1",
        "colab": {
          "base_uri": "https://localhost:8080/"
        },
        "outputId": "e5ccdd6b-9498-46d2-cfa5-d2e9abf6a86a"
      },
      "source": [
        "### Download images\n",
        "import time\n",
        "\n",
        "for i in range(len(superpixels_quantile)):\n",
        "  \n",
        "  image_todownload = superpixels_quantile[i]\n",
        "\n",
        "  task = ee.batch.Export.image.toDrive(**{\n",
        "                'image': image_todownload,\n",
        "                'description': \"s1_percentiles_superpixel_tile_{}_{}\".format(i+1, len(superpixels_quantile)),\n",
        "                'folder': 'satellite_images',\n",
        "                'scale': 10,\n",
        "                'region': eegrid_geometries[i]\n",
        "            })\n",
        "\n",
        "  task.start()\n",
        "  while task.active():\n",
        "    print('Polling for task (id: {}).'.format(\"s1_percentiles_superpixel_tile_{}_{}\".format(i+1, len(superpixels_quantile))))\n",
        "    time.sleep(20)"
      ],
      "execution_count": 32,
      "outputs": [
        {
          "output_type": "stream",
          "text": [
            "Polling for task (id: s1_percentiles_superpixel_tile_1_25).\n",
            "Polling for task (id: s1_percentiles_superpixel_tile_2_25).\n",
            "Polling for task (id: s1_percentiles_superpixel_tile_3_25).\n",
            "Polling for task (id: s1_percentiles_superpixel_tile_3_25).\n",
            "Polling for task (id: s1_percentiles_superpixel_tile_4_25).\n",
            "Polling for task (id: s1_percentiles_superpixel_tile_4_25).\n",
            "Polling for task (id: s1_percentiles_superpixel_tile_5_25).\n",
            "Polling for task (id: s1_percentiles_superpixel_tile_5_25).\n",
            "Polling for task (id: s1_percentiles_superpixel_tile_6_25).\n",
            "Polling for task (id: s1_percentiles_superpixel_tile_7_25).\n",
            "Polling for task (id: s1_percentiles_superpixel_tile_8_25).\n",
            "Polling for task (id: s1_percentiles_superpixel_tile_8_25).\n",
            "Polling for task (id: s1_percentiles_superpixel_tile_9_25).\n",
            "Polling for task (id: s1_percentiles_superpixel_tile_10_25).\n",
            "Polling for task (id: s1_percentiles_superpixel_tile_11_25).\n",
            "Polling for task (id: s1_percentiles_superpixel_tile_12_25).\n",
            "Polling for task (id: s1_percentiles_superpixel_tile_12_25).\n",
            "Polling for task (id: s1_percentiles_superpixel_tile_13_25).\n",
            "Polling for task (id: s1_percentiles_superpixel_tile_14_25).\n",
            "Polling for task (id: s1_percentiles_superpixel_tile_15_25).\n",
            "Polling for task (id: s1_percentiles_superpixel_tile_16_25).\n",
            "Polling for task (id: s1_percentiles_superpixel_tile_17_25).\n",
            "Polling for task (id: s1_percentiles_superpixel_tile_18_25).\n",
            "Polling for task (id: s1_percentiles_superpixel_tile_19_25).\n",
            "Polling for task (id: s1_percentiles_superpixel_tile_19_25).\n",
            "Polling for task (id: s1_percentiles_superpixel_tile_20_25).\n",
            "Polling for task (id: s1_percentiles_superpixel_tile_20_25).\n",
            "Polling for task (id: s1_percentiles_superpixel_tile_21_25).\n",
            "Polling for task (id: s1_percentiles_superpixel_tile_22_25).\n",
            "Polling for task (id: s1_percentiles_superpixel_tile_23_25).\n",
            "Polling for task (id: s1_percentiles_superpixel_tile_24_25).\n",
            "Polling for task (id: s1_percentiles_superpixel_tile_24_25).\n",
            "Polling for task (id: s1_percentiles_superpixel_tile_25_25).\n",
            "Polling for task (id: s1_percentiles_superpixel_tile_25_25).\n",
            "Polling for task (id: s1_percentiles_superpixel_tile_25_25).\n",
            "Polling for task (id: s1_percentiles_superpixel_tile_25_25).\n",
            "Polling for task (id: s1_percentiles_superpixel_tile_25_25).\n",
            "Polling for task (id: s1_percentiles_superpixel_tile_25_25).\n",
            "Polling for task (id: s1_percentiles_superpixel_tile_25_25).\n",
            "Polling for task (id: s1_percentiles_superpixel_tile_25_25).\n",
            "Polling for task (id: s1_percentiles_superpixel_tile_25_25).\n",
            "Polling for task (id: s1_percentiles_superpixel_tile_25_25).\n",
            "Polling for task (id: s1_percentiles_superpixel_tile_25_25).\n",
            "Polling for task (id: s1_percentiles_superpixel_tile_25_25).\n",
            "Polling for task (id: s1_percentiles_superpixel_tile_25_25).\n",
            "Polling for task (id: s1_percentiles_superpixel_tile_25_25).\n",
            "Polling for task (id: s1_percentiles_superpixel_tile_25_25).\n",
            "Polling for task (id: s1_percentiles_superpixel_tile_25_25).\n",
            "Polling for task (id: s1_percentiles_superpixel_tile_25_25).\n"
          ],
          "name": "stdout"
        }
      ]
    },
    {
      "cell_type": "code",
      "metadata": {
        "id": "NGF1JaH6jsOn"
      },
      "source": [
        "for j in collectionsize\n",
        "first_image = []\n",
        "for i in range(len(superpixels_summary)):\n",
        "  first_image.append(ee.Image(superpixels_summary[i].first()))\n",
        "\n",
        "\n",
        "imgmerged = ee.ImageCollection(first_image).reduce(ee.Reducer.mean())"
      ],
      "execution_count": null,
      "outputs": []
    }
  ]
}