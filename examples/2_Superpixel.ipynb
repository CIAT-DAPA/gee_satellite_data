{
  "nbformat": 4,
  "nbformat_minor": 0,
  "metadata": {
    "colab": {
      "name": "Download Satellite Data.ipynb",
      "provenance": [],
      "toc_visible": true,
      "include_colab_link": true
    },
    "kernelspec": {
      "display_name": "Python 3",
      "language": "python",
      "name": "python3"
    },
    "language_info": {
      "codemirror_mode": {
        "name": "ipython",
        "version": 3
      },
      "file_extension": ".py",
      "mimetype": "text/x-python",
      "name": "python",
      "nbconvert_exporter": "python",
      "pygments_lexer": "ipython3",
      "version": "3.8.3"
    }
  },
  "cells": [
    {
      "cell_type": "markdown",
      "metadata": {
        "id": "view-in-github",
        "colab_type": "text"
      },
      "source": [
        "<a href=\"https://colab.research.google.com/github/anaguilarar/gee_satellite_data/blob/master/examples/2_Superpixel.ipynb\" target=\"_parent\"><img src=\"https://colab.research.google.com/assets/colab-badge.svg\" alt=\"Open In Colab\"/></a>"
      ]
    },
    {
      "cell_type": "code",
      "metadata": {
        "colab": {
          "base_uri": "https://localhost:8080/"
        },
        "id": "hvtKLEC7yxss",
        "outputId": "90116c8d-9a83-4c94-e7c3-ebbf58e08166"
      },
      "source": [
        "!pip uninstall pyproj\n",
        "!pip install pyproj\n",
        "!pip install wget\n",
        "!pip install geehydro\n",
        "!pip install geopandas\n",
        "!pip install rasterio"
      ],
      "execution_count": 1,
      "outputs": [
        {
          "output_type": "stream",
          "text": [
            "\u001b[33mWARNING: Skipping pyproj as it is not installed.\u001b[0m\n",
            "Collecting pyproj\n",
            "\u001b[?25l  Downloading https://files.pythonhosted.org/packages/b1/72/d52e9ca81caef056062d71991b0e9b1d16af042245627c5d0e4916a36c4f/pyproj-3.0.1-cp37-cp37m-manylinux2010_x86_64.whl (6.5MB)\n",
            "\u001b[K     |████████████████████████████████| 6.5MB 11.2MB/s \n",
            "\u001b[?25hRequirement already satisfied: certifi in /usr/local/lib/python3.7/dist-packages (from pyproj) (2020.12.5)\n",
            "Installing collected packages: pyproj\n",
            "Successfully installed pyproj-3.0.1\n",
            "Collecting wget\n",
            "  Downloading https://files.pythonhosted.org/packages/47/6a/62e288da7bcda82b935ff0c6cfe542970f04e29c756b0e147251b2fb251f/wget-3.2.zip\n",
            "Building wheels for collected packages: wget\n",
            "  Building wheel for wget (setup.py) ... \u001b[?25l\u001b[?25hdone\n",
            "  Created wheel for wget: filename=wget-3.2-cp37-none-any.whl size=9681 sha256=30c3644863d4605531850388afc48aaa627bfc3c471512bf9cccbf30e5f6c93a\n",
            "  Stored in directory: /root/.cache/pip/wheels/40/15/30/7d8f7cea2902b4db79e3fea550d7d7b85ecb27ef992b618f3f\n",
            "Successfully built wget\n",
            "Installing collected packages: wget\n",
            "Successfully installed wget-3.2\n",
            "Collecting geehydro\n",
            "  Downloading https://files.pythonhosted.org/packages/fc/8c/2174f8ad7a02d250094acf9ad30a56e52e9bcfd2ab49de122f21c4ba13dc/geehydro-0.2.0.tar.gz\n",
            "Requirement already satisfied: earthengine-api in /usr/local/lib/python3.7/dist-packages (from geehydro) (0.1.255)\n",
            "Requirement already satisfied: folium in /usr/local/lib/python3.7/dist-packages (from geehydro) (0.8.3)\n",
            "Requirement already satisfied: click in /usr/local/lib/python3.7/dist-packages (from geehydro) (7.1.2)\n",
            "Requirement already satisfied: future in /usr/local/lib/python3.7/dist-packages (from earthengine-api->geehydro) (0.16.0)\n",
            "Requirement already satisfied: httplib2<1dev,>=0.9.2 in /usr/local/lib/python3.7/dist-packages (from earthengine-api->geehydro) (0.17.4)\n",
            "Requirement already satisfied: google-auth>=1.4.1 in /usr/local/lib/python3.7/dist-packages (from earthengine-api->geehydro) (1.27.1)\n",
            "Requirement already satisfied: google-cloud-storage in /usr/local/lib/python3.7/dist-packages (from earthengine-api->geehydro) (1.18.1)\n",
            "Requirement already satisfied: six in /usr/local/lib/python3.7/dist-packages (from earthengine-api->geehydro) (1.15.0)\n",
            "Requirement already satisfied: google-api-python-client>=1.12.1 in /usr/local/lib/python3.7/dist-packages (from earthengine-api->geehydro) (1.12.8)\n",
            "Requirement already satisfied: httplib2shim in /usr/local/lib/python3.7/dist-packages (from earthengine-api->geehydro) (0.0.3)\n",
            "Requirement already satisfied: google-auth-httplib2>=0.0.3 in /usr/local/lib/python3.7/dist-packages (from earthengine-api->geehydro) (0.0.4)\n",
            "Requirement already satisfied: branca>=0.3.0 in /usr/local/lib/python3.7/dist-packages (from folium->geehydro) (0.4.2)\n",
            "Requirement already satisfied: requests in /usr/local/lib/python3.7/dist-packages (from folium->geehydro) (2.23.0)\n",
            "Requirement already satisfied: numpy in /usr/local/lib/python3.7/dist-packages (from folium->geehydro) (1.19.5)\n",
            "Requirement already satisfied: jinja2 in /usr/local/lib/python3.7/dist-packages (from folium->geehydro) (2.11.3)\n",
            "Requirement already satisfied: pyasn1-modules>=0.2.1 in /usr/local/lib/python3.7/dist-packages (from google-auth>=1.4.1->earthengine-api->geehydro) (0.2.8)\n",
            "Requirement already satisfied: setuptools>=40.3.0 in /usr/local/lib/python3.7/dist-packages (from google-auth>=1.4.1->earthengine-api->geehydro) (54.0.0)\n",
            "Requirement already satisfied: cachetools<5.0,>=2.0.0 in /usr/local/lib/python3.7/dist-packages (from google-auth>=1.4.1->earthengine-api->geehydro) (4.2.1)\n",
            "Requirement already satisfied: rsa<5,>=3.1.4; python_version >= \"3.6\" in /usr/local/lib/python3.7/dist-packages (from google-auth>=1.4.1->earthengine-api->geehydro) (4.7.2)\n",
            "Requirement already satisfied: google-resumable-media<0.5.0dev,>=0.3.1 in /usr/local/lib/python3.7/dist-packages (from google-cloud-storage->earthengine-api->geehydro) (0.4.1)\n",
            "Requirement already satisfied: google-cloud-core<2.0dev,>=1.0.0 in /usr/local/lib/python3.7/dist-packages (from google-cloud-storage->earthengine-api->geehydro) (1.0.3)\n",
            "Requirement already satisfied: google-api-core<2dev,>=1.21.0 in /usr/local/lib/python3.7/dist-packages (from google-api-python-client>=1.12.1->earthengine-api->geehydro) (1.26.1)\n",
            "Requirement already satisfied: uritemplate<4dev,>=3.0.0 in /usr/local/lib/python3.7/dist-packages (from google-api-python-client>=1.12.1->earthengine-api->geehydro) (3.0.1)\n",
            "Requirement already satisfied: urllib3 in /usr/local/lib/python3.7/dist-packages (from httplib2shim->earthengine-api->geehydro) (1.24.3)\n",
            "Requirement already satisfied: certifi in /usr/local/lib/python3.7/dist-packages (from httplib2shim->earthengine-api->geehydro) (2020.12.5)\n",
            "Requirement already satisfied: chardet<4,>=3.0.2 in /usr/local/lib/python3.7/dist-packages (from requests->folium->geehydro) (3.0.4)\n",
            "Requirement already satisfied: idna<3,>=2.5 in /usr/local/lib/python3.7/dist-packages (from requests->folium->geehydro) (2.10)\n",
            "Requirement already satisfied: MarkupSafe>=0.23 in /usr/local/lib/python3.7/dist-packages (from jinja2->folium->geehydro) (1.1.1)\n",
            "Requirement already satisfied: pyasn1<0.5.0,>=0.4.6 in /usr/local/lib/python3.7/dist-packages (from pyasn1-modules>=0.2.1->google-auth>=1.4.1->earthengine-api->geehydro) (0.4.8)\n",
            "Requirement already satisfied: pytz in /usr/local/lib/python3.7/dist-packages (from google-api-core<2dev,>=1.21.0->google-api-python-client>=1.12.1->earthengine-api->geehydro) (2018.9)\n",
            "Requirement already satisfied: packaging>=14.3 in /usr/local/lib/python3.7/dist-packages (from google-api-core<2dev,>=1.21.0->google-api-python-client>=1.12.1->earthengine-api->geehydro) (20.9)\n",
            "Requirement already satisfied: protobuf>=3.12.0 in /usr/local/lib/python3.7/dist-packages (from google-api-core<2dev,>=1.21.0->google-api-python-client>=1.12.1->earthengine-api->geehydro) (3.12.4)\n",
            "Requirement already satisfied: googleapis-common-protos<2.0dev,>=1.6.0 in /usr/local/lib/python3.7/dist-packages (from google-api-core<2dev,>=1.21.0->google-api-python-client>=1.12.1->earthengine-api->geehydro) (1.53.0)\n",
            "Requirement already satisfied: pyparsing>=2.0.2 in /usr/local/lib/python3.7/dist-packages (from packaging>=14.3->google-api-core<2dev,>=1.21.0->google-api-python-client>=1.12.1->earthengine-api->geehydro) (2.4.7)\n",
            "Building wheels for collected packages: geehydro\n",
            "  Building wheel for geehydro (setup.py) ... \u001b[?25l\u001b[?25hdone\n",
            "  Created wheel for geehydro: filename=geehydro-0.2.0-py2.py3-none-any.whl size=10114 sha256=74996049be4e8195cf0d2741fcb9ea1661773315f1ce2cd4424ddc70a4f9b134\n",
            "  Stored in directory: /root/.cache/pip/wheels/c5/07/67/5fa6e7271b46bbe0acafdc7105bbee27a39ab7132d251d822d\n",
            "Successfully built geehydro\n",
            "Installing collected packages: geehydro\n",
            "Successfully installed geehydro-0.2.0\n",
            "Collecting geopandas\n",
            "\u001b[?25l  Downloading https://files.pythonhosted.org/packages/d7/bf/e9cefb69d39155d122b6ddca53893b61535fa6ffdad70bf5ef708977f53f/geopandas-0.9.0-py2.py3-none-any.whl (994kB)\n",
            "\u001b[K     |████████████████████████████████| 1.0MB 11.3MB/s \n",
            "\u001b[?25hCollecting fiona>=1.8\n",
            "\u001b[?25l  Downloading https://files.pythonhosted.org/packages/47/c2/67d1d0acbaaee3b03e5e22e3b96c33219cb5dd392531c9ff9cee7c2eb3e4/Fiona-1.8.18-cp37-cp37m-manylinux1_x86_64.whl (14.8MB)\n",
            "\u001b[K     |████████████████████████████████| 14.8MB 310kB/s \n",
            "\u001b[?25hRequirement already satisfied: pyproj>=2.2.0 in /usr/local/lib/python3.7/dist-packages (from geopandas) (3.0.1)\n",
            "Requirement already satisfied: shapely>=1.6 in /usr/local/lib/python3.7/dist-packages (from geopandas) (1.7.1)\n",
            "Requirement already satisfied: pandas>=0.24.0 in /usr/local/lib/python3.7/dist-packages (from geopandas) (1.1.5)\n",
            "Collecting munch\n",
            "  Downloading https://files.pythonhosted.org/packages/cc/ab/85d8da5c9a45e072301beb37ad7f833cd344e04c817d97e0cc75681d248f/munch-2.5.0-py2.py3-none-any.whl\n",
            "Requirement already satisfied: six>=1.7 in /usr/local/lib/python3.7/dist-packages (from fiona>=1.8->geopandas) (1.15.0)\n",
            "Collecting cligj>=0.5\n",
            "  Downloading https://files.pythonhosted.org/packages/42/1e/947eadf10d6804bf276eb8a038bd5307996dceaaa41cfd21b7a15ec62f5d/cligj-0.7.1-py3-none-any.whl\n",
            "Requirement already satisfied: certifi in /usr/local/lib/python3.7/dist-packages (from fiona>=1.8->geopandas) (2020.12.5)\n",
            "Collecting click-plugins>=1.0\n",
            "  Downloading https://files.pythonhosted.org/packages/e9/da/824b92d9942f4e472702488857914bdd50f73021efea15b4cad9aca8ecef/click_plugins-1.1.1-py2.py3-none-any.whl\n",
            "Requirement already satisfied: attrs>=17 in /usr/local/lib/python3.7/dist-packages (from fiona>=1.8->geopandas) (20.3.0)\n",
            "Requirement already satisfied: click<8,>=4.0 in /usr/local/lib/python3.7/dist-packages (from fiona>=1.8->geopandas) (7.1.2)\n",
            "Requirement already satisfied: pytz>=2017.2 in /usr/local/lib/python3.7/dist-packages (from pandas>=0.24.0->geopandas) (2018.9)\n",
            "Requirement already satisfied: python-dateutil>=2.7.3 in /usr/local/lib/python3.7/dist-packages (from pandas>=0.24.0->geopandas) (2.8.1)\n",
            "Requirement already satisfied: numpy>=1.15.4 in /usr/local/lib/python3.7/dist-packages (from pandas>=0.24.0->geopandas) (1.19.5)\n",
            "Installing collected packages: munch, cligj, click-plugins, fiona, geopandas\n",
            "Successfully installed click-plugins-1.1.1 cligj-0.7.1 fiona-1.8.18 geopandas-0.9.0 munch-2.5.0\n",
            "Collecting rasterio\n",
            "\u001b[?25l  Downloading https://files.pythonhosted.org/packages/04/37/40712857e6c82cac52051d9faee43bc468e5806640ddbf88e10d591dbdf1/rasterio-1.2.1-cp37-cp37m-manylinux1_x86_64.whl (19.1MB)\n",
            "\u001b[K     |████████████████████████████████| 19.1MB 1.3MB/s \n",
            "\u001b[?25hRequirement already satisfied: click-plugins in /usr/local/lib/python3.7/dist-packages (from rasterio) (1.1.1)\n",
            "Requirement already satisfied: certifi in /usr/local/lib/python3.7/dist-packages (from rasterio) (2020.12.5)\n",
            "Requirement already satisfied: click<8,>=4.0 in /usr/local/lib/python3.7/dist-packages (from rasterio) (7.1.2)\n",
            "Requirement already satisfied: cligj>=0.5 in /usr/local/lib/python3.7/dist-packages (from rasterio) (0.7.1)\n",
            "Collecting snuggs>=1.4.1\n",
            "  Downloading https://files.pythonhosted.org/packages/cc/0e/d27d6e806d6c0d1a2cfdc5d1f088e42339a0a54a09c3343f7f81ec8947ea/snuggs-1.4.7-py3-none-any.whl\n",
            "Requirement already satisfied: attrs in /usr/local/lib/python3.7/dist-packages (from rasterio) (20.3.0)\n",
            "Collecting affine\n",
            "  Downloading https://files.pythonhosted.org/packages/ac/a6/1a39a1ede71210e3ddaf623982b06ecfc5c5c03741ae659073159184cd3e/affine-2.3.0-py2.py3-none-any.whl\n",
            "Requirement already satisfied: numpy in /usr/local/lib/python3.7/dist-packages (from rasterio) (1.19.5)\n",
            "Requirement already satisfied: pyparsing>=2.1.6 in /usr/local/lib/python3.7/dist-packages (from snuggs>=1.4.1->rasterio) (2.4.7)\n",
            "Installing collected packages: snuggs, affine, rasterio\n",
            "Successfully installed affine-2.3.0 rasterio-1.2.1 snuggs-1.4.7\n"
          ],
          "name": "stdout"
        }
      ]
    },
    {
      "cell_type": "code",
      "metadata": {
        "colab": {
          "base_uri": "https://localhost:8080/"
        },
        "id": "eu6PWMi2zK3X",
        "outputId": "7edf9a0e-2cb6-41b7-f982-f76af8e898c3"
      },
      "source": [
        "!git clone https://github.com/anaguilarar/gee_satellite_data.git"
      ],
      "execution_count": 2,
      "outputs": [
        {
          "output_type": "stream",
          "text": [
            "Cloning into 'gee_satellite_data'...\n",
            "remote: Enumerating objects: 370, done.\u001b[K\n",
            "remote: Counting objects: 100% (370/370), done.\u001b[K\n",
            "remote: Compressing objects: 100% (263/263), done.\u001b[K\n",
            "remote: Total 370 (delta 218), reused 247 (delta 103), pack-reused 0\u001b[K\n",
            "Receiving objects: 100% (370/370), 1.46 MiB | 15.55 MiB/s, done.\n",
            "Resolving deltas: 100% (218/218), done.\n"
          ],
          "name": "stdout"
        }
      ]
    },
    {
      "cell_type": "code",
      "metadata": {
        "id": "j9IvtZ6jzVSW"
      },
      "source": [
        "import os\n",
        "os.chdir(\"gee_satellite_data\")"
      ],
      "execution_count": 4,
      "outputs": []
    },
    {
      "cell_type": "code",
      "metadata": {
        "colab": {
          "base_uri": "https://localhost:8080/"
        },
        "id": "lXgcja_uzbWd",
        "outputId": "bf6c6f53-cb4f-47b1-c8e0-e367842b4e20"
      },
      "source": [
        "import ee\n",
        "ee.Authenticate()"
      ],
      "execution_count": 5,
      "outputs": [
        {
          "output_type": "stream",
          "text": [
            "To authorize access needed by Earth Engine, open the following URL in a web browser and follow the instructions. If the web browser does not start automatically, please manually browse the URL below.\n",
            "\n",
            "    https://accounts.google.com/o/oauth2/auth?client_id=517222506229-vsmmajv00ul0bs7p89v5m89qs8eb9359.apps.googleusercontent.com&scope=https%3A%2F%2Fwww.googleapis.com%2Fauth%2Fearthengine+https%3A%2F%2Fwww.googleapis.com%2Fauth%2Fdevstorage.full_control&redirect_uri=urn%3Aietf%3Awg%3Aoauth%3A2.0%3Aoob&response_type=code&code_challenge=hTRa-LP4uFMHkKegCWUaWVdHbV-WLS9PHFtl57mibhQ&code_challenge_method=S256\n",
            "\n",
            "The authorization workflow will generate a code, which you should paste in the box below. \n",
            "Enter verification code: 4/1AY0e-g7g708M4AIWjN3ar0AHNGTAu64TgiyBlSDC69EflQUUSQQutREtsC4\n",
            "\n",
            "Successfully saved authorization token.\n"
          ],
          "name": "stdout"
        }
      ]
    },
    {
      "cell_type": "code",
      "metadata": {
        "id": "drFLaiw0yxsz"
      },
      "source": [
        "import pandas as pd\n",
        "from scripts import gee_satellite_data\n",
        "from scripts import gee_functions\n",
        "from scripts import gis_functions\n",
        "from scripts import general_functions"
      ],
      "execution_count": 6,
      "outputs": []
    },
    {
      "cell_type": "markdown",
      "metadata": {
        "id": "eTxEjEg_5Sau"
      },
      "source": [
        "## Superpixel: Image Segmentation\n",
        "In the next section we use the segmetation Simple Non-Iterative Clustering (SNIC) module from GEE (https://developers.google.com/earth-engine/apidocs/ee-algorithms-image-segmentation-snic) to create image segments. \n",
        "Each of these segments will be treated as a superpixel. \n",
        "\n",
        "We will use each of the superpixels as the input features for the radar images smoothing. we are going trough following steps, to get a radar images smoothing using superpixels from optical images:\n",
        " * Apply image segmention to optical images\n",
        " * Get polygons from superpixels\n",
        " * reduce each radar image using the oplygons\n"
      ]
    },
    {
      "cell_type": "markdown",
      "metadata": {
        "id": "J1j2mWku5Sap"
      },
      "source": [
        "### Sentinel 2A: Surface Reflectance level\n",
        "\n",
        "Before downloading data, the code internally removes those areas covered by shadows and clouds. "
      ]
    },
    {
      "cell_type": "code",
      "metadata": {
        "id": "oT7nEWUy5Saq"
      },
      "source": [
        "se2_toa = gee_satellite_data.get_gee_data(\"2016-02-01\",\n",
        "                                            \"2016-08-30\", \n",
        "                                            \"data/col_iba.shp\", \n",
        "                                            \"sentinel2_toa\",\n",
        "                                         cloud_percentage= 80)"
      ],
      "execution_count": 7,
      "outputs": []
    },
    {
      "cell_type": "markdown",
      "metadata": {
        "id": "zTfoKyap5Sar"
      },
      "source": [
        "As a result, we get a list which contains the images available for quering period. Besides a cover percentage feature is calculted, it reffers to ratio of image clean area respect to our area of interest."
      ]
    },
    {
      "cell_type": "code",
      "metadata": {
        "id": "56pBOLe25Sat",
        "colab": {
          "base_uri": "https://localhost:8080/",
          "height": 467
        },
        "outputId": "560b5e63-ae57-425e-91da-8f1d98319004"
      },
      "source": [
        "se2_toa.summary"
      ],
      "execution_count": 8,
      "outputs": [
        {
          "output_type": "execute_result",
          "data": {
            "text/html": [
              "<div>\n",
              "<style scoped>\n",
              "    .dataframe tbody tr th:only-of-type {\n",
              "        vertical-align: middle;\n",
              "    }\n",
              "\n",
              "    .dataframe tbody tr th {\n",
              "        vertical-align: top;\n",
              "    }\n",
              "\n",
              "    .dataframe thead th {\n",
              "        text-align: right;\n",
              "    }\n",
              "</style>\n",
              "<table border=\"1\" class=\"dataframe\">\n",
              "  <thead>\n",
              "    <tr style=\"text-align: right;\">\n",
              "      <th></th>\n",
              "      <th>dates</th>\n",
              "      <th>cover_percentage</th>\n",
              "    </tr>\n",
              "  </thead>\n",
              "  <tbody>\n",
              "    <tr>\n",
              "      <th>0</th>\n",
              "      <td>2016-02-09 00:00:00</td>\n",
              "      <td>93.783187</td>\n",
              "    </tr>\n",
              "    <tr>\n",
              "      <th>1</th>\n",
              "      <td>2016-02-19 00:00:00</td>\n",
              "      <td>78.508134</td>\n",
              "    </tr>\n",
              "    <tr>\n",
              "      <th>2</th>\n",
              "      <td>2016-03-10 00:00:00</td>\n",
              "      <td>68.561244</td>\n",
              "    </tr>\n",
              "    <tr>\n",
              "      <th>3</th>\n",
              "      <td>2016-04-19 00:00:00</td>\n",
              "      <td>87.611146</td>\n",
              "    </tr>\n",
              "    <tr>\n",
              "      <th>4</th>\n",
              "      <td>2016-04-29 00:00:00</td>\n",
              "      <td>41.979623</td>\n",
              "    </tr>\n",
              "    <tr>\n",
              "      <th>5</th>\n",
              "      <td>2016-05-09 15:29:52</td>\n",
              "      <td>0.000000</td>\n",
              "    </tr>\n",
              "    <tr>\n",
              "      <th>6</th>\n",
              "      <td>2016-05-19 00:00:00</td>\n",
              "      <td>90.367776</td>\n",
              "    </tr>\n",
              "    <tr>\n",
              "      <th>7</th>\n",
              "      <td>2016-06-08 00:00:00</td>\n",
              "      <td>98.576451</td>\n",
              "    </tr>\n",
              "    <tr>\n",
              "      <th>8</th>\n",
              "      <td>2016-06-18 00:00:00</td>\n",
              "      <td>94.633627</td>\n",
              "    </tr>\n",
              "    <tr>\n",
              "      <th>9</th>\n",
              "      <td>2016-06-28 15:31:14</td>\n",
              "      <td>1.047424</td>\n",
              "    </tr>\n",
              "    <tr>\n",
              "      <th>10</th>\n",
              "      <td>2016-07-08 00:00:00</td>\n",
              "      <td>91.954329</td>\n",
              "    </tr>\n",
              "    <tr>\n",
              "      <th>11</th>\n",
              "      <td>2016-07-28 00:00:00</td>\n",
              "      <td>22.395689</td>\n",
              "    </tr>\n",
              "    <tr>\n",
              "      <th>12</th>\n",
              "      <td>2016-08-07 00:00:00</td>\n",
              "      <td>97.188628</td>\n",
              "    </tr>\n",
              "    <tr>\n",
              "      <th>13</th>\n",
              "      <td>2016-08-27 00:00:00</td>\n",
              "      <td>49.118975</td>\n",
              "    </tr>\n",
              "  </tbody>\n",
              "</table>\n",
              "</div>"
            ],
            "text/plain": [
              "                 dates  cover_percentage\n",
              "0  2016-02-09 00:00:00         93.783187\n",
              "1  2016-02-19 00:00:00         78.508134\n",
              "2  2016-03-10 00:00:00         68.561244\n",
              "3  2016-04-19 00:00:00         87.611146\n",
              "4  2016-04-29 00:00:00         41.979623\n",
              "5  2016-05-09 15:29:52          0.000000\n",
              "6  2016-05-19 00:00:00         90.367776\n",
              "7  2016-06-08 00:00:00         98.576451\n",
              "8  2016-06-18 00:00:00         94.633627\n",
              "9  2016-06-28 15:31:14          1.047424\n",
              "10 2016-07-08 00:00:00         91.954329\n",
              "11 2016-07-28 00:00:00         22.395689\n",
              "12 2016-08-07 00:00:00         97.188628\n",
              "13 2016-08-27 00:00:00         49.118975"
            ]
          },
          "metadata": {
            "tags": []
          },
          "execution_count": 8
        }
      ]
    },
    {
      "cell_type": "code",
      "metadata": {
        "id": "1Qk595O35Sau",
        "colab": {
          "base_uri": "https://localhost:8080/"
        },
        "outputId": "7fb0ee78-46a2-4920-9901-272de488f6b4"
      },
      "source": [
        "se2_toa.add_vi_layer(\"ndvi\")\n",
        "cover_percentage = 81\n",
        "\n",
        "## filter collection by cover percentage\n",
        "imgcollection = gee_functions.filtering_bycoverpercentage(se2_toa, cover_percentage)\n",
        "imgcollection = imgcollection.map(lambda img:\n",
        "                                  img.unmask(0).clip(se2_toa._ee_sp))\n",
        "## get image segmentation using SNIC method\n",
        "snic = gee_functions.gee_snic(imgcollection,se2_toa._ee_sp, bands = [\"ndvi\"] )\n",
        "### from image segments to polygons\n",
        "polygons_fromseg = gee_functions.raster_to_polygons(snic, imgcollection.select([\"ndvi\"]\n",
        "                                        ).median().clip(se2_toa._ee_sp), se2_toa._ee_sp, scale = 10)\n",
        "\n"
      ],
      "execution_count": 9,
      "outputs": [
        {
          "output_type": "stream",
          "text": [
            "total images: 14 \n",
            "total images after cover filter: 7\n"
          ],
          "name": "stdout"
        }
      ]
    },
    {
      "cell_type": "code",
      "metadata": {
        "id": "0_8SC7OT5Sav",
        "colab": {
          "base_uri": "https://localhost:8080/",
          "height": 831
        },
        "outputId": "c60f6917-99f8-4c04-facd-90744472058e"
      },
      "source": [
        "### in this cell we are going to show the collection median, to visualize the image that will be used for segmentation\n",
        "\n",
        "truecolorParams = {'gamma': 1.3, \n",
        "                   'min': 0,\n",
        "                   'max': 0.3,\n",
        "                   'bands': ['B4','B3','B2']\n",
        "                   }\n",
        "\n",
        "imagetoplot = imgcollection.median()\n",
        "gee_satellite_data.plot_eeimage(imagetoplot, truecolorParams, se2_toa.geometry, zoom = 11)"
      ],
      "execution_count": 11,
      "outputs": [
        {
          "output_type": "execute_result",
          "data": {
            "text/html": [
              "<div style=\"width:100%;\"><div style=\"position:relative;width:100%;height:0;padding-bottom:60%;\"><span style=\"color:#565656\">Make this Notebook Trusted to load map: File -> Trust Notebook</span><iframe src=\"about:blank\" style=\"position:absolute;width:100%;height:100%;left:0;top:0;border:none !important;\" data-html=%3C%21DOCTYPE%20html%3E%0A%3Chead%3E%20%20%20%20%0A%20%20%20%20%3Cmeta%20http-equiv%3D%22content-type%22%20content%3D%22text/html%3B%20charset%3DUTF-8%22%20/%3E%0A%20%20%20%20%3Cscript%3EL_PREFER_CANVAS%3Dfalse%3B%20L_NO_TOUCH%3Dfalse%3B%20L_DISABLE_3D%3Dfalse%3B%3C/script%3E%0A%20%20%20%20%3Cscript%20src%3D%22https%3A//cdn.jsdelivr.net/npm/leaflet%401.4.0/dist/leaflet.js%22%3E%3C/script%3E%0A%20%20%20%20%3Cscript%20src%3D%22https%3A//code.jquery.com/jquery-1.12.4.min.js%22%3E%3C/script%3E%0A%20%20%20%20%3Cscript%20src%3D%22https%3A//maxcdn.bootstrapcdn.com/bootstrap/3.2.0/js/bootstrap.min.js%22%3E%3C/script%3E%0A%20%20%20%20%3Cscript%20src%3D%22https%3A//cdnjs.cloudflare.com/ajax/libs/Leaflet.awesome-markers/2.0.2/leaflet.awesome-markers.js%22%3E%3C/script%3E%0A%20%20%20%20%3Clink%20rel%3D%22stylesheet%22%20href%3D%22https%3A//cdn.jsdelivr.net/npm/leaflet%401.4.0/dist/leaflet.css%22/%3E%0A%20%20%20%20%3Clink%20rel%3D%22stylesheet%22%20href%3D%22https%3A//maxcdn.bootstrapcdn.com/bootstrap/3.2.0/css/bootstrap.min.css%22/%3E%0A%20%20%20%20%3Clink%20rel%3D%22stylesheet%22%20href%3D%22https%3A//maxcdn.bootstrapcdn.com/bootstrap/3.2.0/css/bootstrap-theme.min.css%22/%3E%0A%20%20%20%20%3Clink%20rel%3D%22stylesheet%22%20href%3D%22https%3A//maxcdn.bootstrapcdn.com/font-awesome/4.6.3/css/font-awesome.min.css%22/%3E%0A%20%20%20%20%3Clink%20rel%3D%22stylesheet%22%20href%3D%22https%3A//cdnjs.cloudflare.com/ajax/libs/Leaflet.awesome-markers/2.0.2/leaflet.awesome-markers.css%22/%3E%0A%20%20%20%20%3Clink%20rel%3D%22stylesheet%22%20href%3D%22https%3A//rawcdn.githack.com/python-visualization/folium/master/folium/templates/leaflet.awesome.rotate.css%22/%3E%0A%20%20%20%20%3Cstyle%3Ehtml%2C%20body%20%7Bwidth%3A%20100%25%3Bheight%3A%20100%25%3Bmargin%3A%200%3Bpadding%3A%200%3B%7D%3C/style%3E%0A%20%20%20%20%3Cstyle%3E%23map%20%7Bposition%3Aabsolute%3Btop%3A0%3Bbottom%3A0%3Bright%3A0%3Bleft%3A0%3B%7D%3C/style%3E%0A%20%20%20%20%0A%20%20%20%20%3Cmeta%20name%3D%22viewport%22%20content%3D%22width%3Ddevice-width%2C%0A%20%20%20%20%20%20%20%20initial-scale%3D1.0%2C%20maximum-scale%3D1.0%2C%20user-scalable%3Dno%22%20/%3E%0A%20%20%20%20%3Cstyle%3E%23map_1b2e0d198fcc43759c84b9ed8806b041%20%7B%0A%20%20%20%20%20%20%20%20position%3A%20relative%3B%0A%20%20%20%20%20%20%20%20width%3A%20100.0%25%3B%0A%20%20%20%20%20%20%20%20height%3A%20100.0%25%3B%0A%20%20%20%20%20%20%20%20left%3A%200.0%25%3B%0A%20%20%20%20%20%20%20%20top%3A%200.0%25%3B%0A%20%20%20%20%20%20%20%20%7D%0A%20%20%20%20%3C/style%3E%0A%20%20%20%20%3Cscript%20src%3D%22https%3A//cdnjs.cloudflare.com/ajax/libs/leaflet.fullscreen/1.4.2/Control.FullScreen.min.js%22%3E%3C/script%3E%0A%20%20%20%20%3Clink%20rel%3D%22stylesheet%22%20href%3D%22https%3A//cdnjs.cloudflare.com/ajax/libs/leaflet.fullscreen/1.4.2/Control.FullScreen.min.css%22/%3E%0A%3C/head%3E%0A%3Cbody%3E%20%20%20%20%0A%20%20%20%20%0A%20%20%20%20%3Cdiv%20class%3D%22folium-map%22%20id%3D%22map_1b2e0d198fcc43759c84b9ed8806b041%22%20%3E%3C/div%3E%0A%3C/body%3E%0A%3Cscript%3E%20%20%20%20%0A%20%20%20%20%0A%20%20%20%20%0A%20%20%20%20%20%20%20%20var%20bounds%20%3D%20null%3B%0A%20%20%20%20%0A%0A%20%20%20%20var%20map_1b2e0d198fcc43759c84b9ed8806b041%20%3D%20L.map%28%0A%20%20%20%20%20%20%20%20%27map_1b2e0d198fcc43759c84b9ed8806b041%27%2C%20%7B%0A%20%20%20%20%20%20%20%20center%3A%20%5B4.42696141150402%2C%20-75.09792338401623%5D%2C%0A%20%20%20%20%20%20%20%20zoom%3A%2011%2C%0A%20%20%20%20%20%20%20%20maxBounds%3A%20bounds%2C%0A%20%20%20%20%20%20%20%20layers%3A%20%5B%5D%2C%0A%20%20%20%20%20%20%20%20worldCopyJump%3A%20false%2C%0A%20%20%20%20%20%20%20%20crs%3A%20L.CRS.EPSG3857%2C%0A%20%20%20%20%20%20%20%20zoomControl%3A%20true%2C%0A%20%20%20%20%20%20%20%20%7D%29%3B%0A%0A%0A%20%20%20%20%0A%20%20%20%20var%20tile_layer_1054e7ae1c3d4672a7b0ac16d9e255ee%20%3D%20L.tileLayer%28%0A%20%20%20%20%20%20%20%20%27https%3A//%7Bs%7D.tile.openstreetmap.org/%7Bz%7D/%7Bx%7D/%7By%7D.png%27%2C%0A%20%20%20%20%20%20%20%20%7B%0A%20%20%20%20%20%20%20%20%22attribution%22%3A%20null%2C%0A%20%20%20%20%20%20%20%20%22detectRetina%22%3A%20false%2C%0A%20%20%20%20%20%20%20%20%22maxNativeZoom%22%3A%2018%2C%0A%20%20%20%20%20%20%20%20%22maxZoom%22%3A%2018%2C%0A%20%20%20%20%20%20%20%20%22minZoom%22%3A%200%2C%0A%20%20%20%20%20%20%20%20%22noWrap%22%3A%20false%2C%0A%20%20%20%20%20%20%20%20%22opacity%22%3A%201%2C%0A%20%20%20%20%20%20%20%20%22subdomains%22%3A%20%22abc%22%2C%0A%20%20%20%20%20%20%20%20%22tms%22%3A%20false%0A%7D%29.addTo%28map_1b2e0d198fcc43759c84b9ed8806b041%29%3B%0A%20%20%20%20var%20tile_layer_e8e9cbd2588b4468994eb9895d1c8a8f%20%3D%20L.tileLayer%28%0A%20%20%20%20%20%20%20%20%27https%3A//earthengine.googleapis.com/v1alpha/projects/earthengine-legacy/maps/e4fa9e7ceeff48fd134dcfc34f2e6a0d-0c75ea60b1135b001202cb3fcfe43ef6/tiles/%7Bz%7D/%7Bx%7D/%7By%7D%27%2C%0A%20%20%20%20%20%20%20%20%7B%0A%20%20%20%20%20%20%20%20%22attribution%22%3A%20%22Google%20Earth%20Engine%22%2C%0A%20%20%20%20%20%20%20%20%22detectRetina%22%3A%20false%2C%0A%20%20%20%20%20%20%20%20%22maxNativeZoom%22%3A%2018%2C%0A%20%20%20%20%20%20%20%20%22maxZoom%22%3A%2018%2C%0A%20%20%20%20%20%20%20%20%22minZoom%22%3A%200%2C%0A%20%20%20%20%20%20%20%20%22noWrap%22%3A%20false%2C%0A%20%20%20%20%20%20%20%20%22opacity%22%3A%201%2C%0A%20%20%20%20%20%20%20%20%22subdomains%22%3A%20%22abc%22%2C%0A%20%20%20%20%20%20%20%20%22tms%22%3A%20false%0A%7D%29.addTo%28map_1b2e0d198fcc43759c84b9ed8806b041%29%3B%0A%20%20%20%20var%20tile_layer_5eeeb99bb0cf4104876878f6ce5b0f91%20%3D%20L.tileLayer%28%0A%20%20%20%20%20%20%20%20%27https%3A//earthengine.googleapis.com/v1alpha/projects/earthengine-legacy/maps/4b49e61cd38d324f1d73a41d0c3b8768-2ebdc8997ca1a3f3521cae074c58cae3/tiles/%7Bz%7D/%7Bx%7D/%7By%7D%27%2C%0A%20%20%20%20%20%20%20%20%7B%0A%20%20%20%20%20%20%20%20%22attribution%22%3A%20%22Google%20Earth%20Engine%22%2C%0A%20%20%20%20%20%20%20%20%22detectRetina%22%3A%20false%2C%0A%20%20%20%20%20%20%20%20%22maxNativeZoom%22%3A%2018%2C%0A%20%20%20%20%20%20%20%20%22maxZoom%22%3A%2018%2C%0A%20%20%20%20%20%20%20%20%22minZoom%22%3A%200%2C%0A%20%20%20%20%20%20%20%20%22noWrap%22%3A%20false%2C%0A%20%20%20%20%20%20%20%20%22opacity%22%3A%201%2C%0A%20%20%20%20%20%20%20%20%22subdomains%22%3A%20%22abc%22%2C%0A%20%20%20%20%20%20%20%20%22tms%22%3A%20false%0A%7D%29.addTo%28map_1b2e0d198fcc43759c84b9ed8806b041%29%3B%0A%20%20%20%20%0A%20%20%20%20%20%20%20%20%20%20%20%20var%20layer_control_1dd734543ade4d18ab95f8f6b203c6f5%20%3D%20%7B%0A%20%20%20%20%20%20%20%20%20%20%20%20%20%20%20%20base_layers%20%3A%20%7B%20%22openstreetmap%22%20%3A%20tile_layer_1054e7ae1c3d4672a7b0ac16d9e255ee%2C%20%7D%2C%0A%20%20%20%20%20%20%20%20%20%20%20%20%20%20%20%20overlays%20%3A%20%7B%20%22gee%20image%22%20%3A%20tile_layer_e8e9cbd2588b4468994eb9895d1c8a8f%2C%22region%20of%20interest%3A%22%20%3A%20tile_layer_5eeeb99bb0cf4104876878f6ce5b0f91%2C%20%7D%0A%20%20%20%20%20%20%20%20%20%20%20%20%20%20%20%20%7D%3B%0A%20%20%20%20%20%20%20%20%20%20%20%20L.control.layers%28%0A%20%20%20%20%20%20%20%20%20%20%20%20%20%20%20%20layer_control_1dd734543ade4d18ab95f8f6b203c6f5.base_layers%2C%0A%20%20%20%20%20%20%20%20%20%20%20%20%20%20%20%20layer_control_1dd734543ade4d18ab95f8f6b203c6f5.overlays%2C%0A%20%20%20%20%20%20%20%20%20%20%20%20%20%20%20%20%7Bposition%3A%20%27topright%27%2C%0A%20%20%20%20%20%20%20%20%20%20%20%20%20%20%20%20%20collapsed%3A%20true%2C%0A%20%20%20%20%20%20%20%20%20%20%20%20%20%20%20%20%20autoZIndex%3A%20true%0A%20%20%20%20%20%20%20%20%20%20%20%20%20%20%20%20%7D%29.addTo%28map_1b2e0d198fcc43759c84b9ed8806b041%29%3B%0A%20%20%20%20%20%20%20%20%20%20%20%20%0A%20%20%20%20%20%20%20%20%0A%20%20%20%20%0A%20%20%20%20%20%20%20%20%20%20%20%20L.control.fullscreen%28%7B%0A%20%20%20%20%20%20%20%20%20%20%20%20%20%20%20%20position%3A%20%27topleft%27%2C%0A%20%20%20%20%20%20%20%20%20%20%20%20%20%20%20%20title%3A%20%27Full%20Screen%27%2C%0A%20%20%20%20%20%20%20%20%20%20%20%20%20%20%20%20titleCancel%3A%20%27Exit%20Full%20Screen%27%2C%0A%20%20%20%20%20%20%20%20%20%20%20%20%20%20%20%20forceSeparateButton%3A%20false%2C%0A%20%20%20%20%20%20%20%20%20%20%20%20%20%20%20%20%7D%29.addTo%28map_1b2e0d198fcc43759c84b9ed8806b041%29%3B%0A%20%20%20%20%20%20%20%20%20%20%20%20map_1b2e0d198fcc43759c84b9ed8806b041.on%28%27enterFullscreen%27%2C%20function%28%29%7B%0A%20%20%20%20%20%20%20%20%20%20%20%20%20%20%20%20console.log%28%27entered%20fullscreen%27%29%3B%0A%20%20%20%20%20%20%20%20%20%20%20%20%7D%29%3B%0A%0A%20%20%20%20%20%20%20%20%0A%20%20%20%20%0A%20%20%20%20%20%20%20%20%20%20%20%20%20%20%20%20var%20lat_lng_popup_02d8b334305a4334844f1742fc02683e%20%3D%20L.popup%28%29%3B%0A%20%20%20%20%20%20%20%20%20%20%20%20%20%20%20%20function%20latLngPop%28e%29%20%7B%0A%20%20%20%20%20%20%20%20%20%20%20%20%20%20%20%20%20%20%20%20lat_lng_popup_02d8b334305a4334844f1742fc02683e%0A%20%20%20%20%20%20%20%20%20%20%20%20%20%20%20%20%20%20%20%20%20%20%20%20.setLatLng%28e.latlng%29%0A%20%20%20%20%20%20%20%20%20%20%20%20%20%20%20%20%20%20%20%20%20%20%20%20.setContent%28%22Latitude%3A%20%22%20%2B%20e.latlng.lat.toFixed%284%29%20%2B%0A%20%20%20%20%20%20%20%20%20%20%20%20%20%20%20%20%20%20%20%20%20%20%20%20%20%20%20%20%20%20%20%20%20%20%20%20%22%3Cbr%3ELongitude%3A%20%22%20%2B%20e.latlng.lng.toFixed%284%29%29%0A%20%20%20%20%20%20%20%20%20%20%20%20%20%20%20%20%20%20%20%20%20%20%20%20.openOn%28map_1b2e0d198fcc43759c84b9ed8806b041%29%3B%0A%20%20%20%20%20%20%20%20%20%20%20%20%20%20%20%20%20%20%20%20%7D%0A%20%20%20%20%20%20%20%20%20%20%20%20%20%20%20%20map_1b2e0d198fcc43759c84b9ed8806b041.on%28%27click%27%2C%20latLngPop%29%3B%0A%20%20%20%20%20%20%20%20%20%20%20%20%0A%3C/script%3E onload=\"this.contentDocument.open();this.contentDocument.write(    decodeURIComponent(this.getAttribute('data-html')));this.contentDocument.close();\" allowfullscreen webkitallowfullscreen mozallowfullscreen></iframe></div></div>"
            ],
            "text/plain": [
              "<folium.folium.Map at 0x7f1062f9f6d0>"
            ]
          },
          "metadata": {
            "tags": []
          },
          "execution_count": 11
        }
      ]
    },
    {
      "cell_type": "markdown",
      "metadata": {
        "id": "UsmUxwcyyxs2"
      },
      "source": [
        "### Sentinel 1 \n",
        "The instrument onboard the Sentinel-1 satellites transmits in one polarisation (V) and measures in two (V and H), giving the VV and VH bands. The first band in each data file is the signal measured in the same polarisation as the transmission (VV) and the second is measured in the orthogonal polarisation (VH).\n"
      ]
    },
    {
      "cell_type": "code",
      "metadata": {
        "id": "_Jcq3j3uyxs2",
        "colab": {
          "base_uri": "https://localhost:8080/",
          "height": 587
        },
        "outputId": "c874b5cd-3cd2-4510-80d9-3c3c199ccc10"
      },
      "source": [
        "s1_imagery = gee_satellite_data.get_gee_data(\"2016-02-01\",\n",
        "                                            \"2016-08-31\", \n",
        "                                            \"data/col_iba.shp\", \n",
        "                                            \"sentinel1\", bands = ['VV'])\n",
        "s1_imagery.summary"
      ],
      "execution_count": 12,
      "outputs": [
        {
          "output_type": "execute_result",
          "data": {
            "text/html": [
              "<div>\n",
              "<style scoped>\n",
              "    .dataframe tbody tr th:only-of-type {\n",
              "        vertical-align: middle;\n",
              "    }\n",
              "\n",
              "    .dataframe tbody tr th {\n",
              "        vertical-align: top;\n",
              "    }\n",
              "\n",
              "    .dataframe thead th {\n",
              "        text-align: right;\n",
              "    }\n",
              "</style>\n",
              "<table border=\"1\" class=\"dataframe\">\n",
              "  <thead>\n",
              "    <tr style=\"text-align: right;\">\n",
              "      <th></th>\n",
              "      <th>dates</th>\n",
              "      <th>cover_percentage</th>\n",
              "    </tr>\n",
              "  </thead>\n",
              "  <tbody>\n",
              "    <tr>\n",
              "      <th>0</th>\n",
              "      <td>2016-03-26 23:13:23</td>\n",
              "      <td>99.559492</td>\n",
              "    </tr>\n",
              "    <tr>\n",
              "      <th>1</th>\n",
              "      <td>2016-05-13 23:13:30</td>\n",
              "      <td>99.559628</td>\n",
              "    </tr>\n",
              "    <tr>\n",
              "      <th>2</th>\n",
              "      <td>2016-02-07 23:13:28</td>\n",
              "      <td>99.559049</td>\n",
              "    </tr>\n",
              "    <tr>\n",
              "      <th>3</th>\n",
              "      <td>2016-02-14 10:42:34</td>\n",
              "      <td>99.559328</td>\n",
              "    </tr>\n",
              "    <tr>\n",
              "      <th>4</th>\n",
              "      <td>2016-03-02 23:13:28</td>\n",
              "      <td>99.559621</td>\n",
              "    </tr>\n",
              "    <tr>\n",
              "      <th>5</th>\n",
              "      <td>2016-03-09 10:42:33</td>\n",
              "      <td>99.559399</td>\n",
              "    </tr>\n",
              "    <tr>\n",
              "      <th>6</th>\n",
              "      <td>2016-04-02 10:42:34</td>\n",
              "      <td>99.559363</td>\n",
              "    </tr>\n",
              "    <tr>\n",
              "      <th>7</th>\n",
              "      <td>2016-04-19 23:13:29</td>\n",
              "      <td>99.559456</td>\n",
              "    </tr>\n",
              "    <tr>\n",
              "      <th>8</th>\n",
              "      <td>2016-04-26 10:42:35</td>\n",
              "      <td>99.559556</td>\n",
              "    </tr>\n",
              "    <tr>\n",
              "      <th>9</th>\n",
              "      <td>2016-05-20 10:42:37</td>\n",
              "      <td>99.558914</td>\n",
              "    </tr>\n",
              "    <tr>\n",
              "      <th>10</th>\n",
              "      <td>2016-06-06 23:13:32</td>\n",
              "      <td>99.559535</td>\n",
              "    </tr>\n",
              "    <tr>\n",
              "      <th>11</th>\n",
              "      <td>2016-06-13 10:42:38</td>\n",
              "      <td>99.558949</td>\n",
              "    </tr>\n",
              "    <tr>\n",
              "      <th>12</th>\n",
              "      <td>2016-06-30 23:13:33</td>\n",
              "      <td>99.559685</td>\n",
              "    </tr>\n",
              "    <tr>\n",
              "      <th>13</th>\n",
              "      <td>2016-07-07 10:42:40</td>\n",
              "      <td>99.559257</td>\n",
              "    </tr>\n",
              "    <tr>\n",
              "      <th>14</th>\n",
              "      <td>2016-07-24 23:13:34</td>\n",
              "      <td>99.559428</td>\n",
              "    </tr>\n",
              "    <tr>\n",
              "      <th>15</th>\n",
              "      <td>2016-07-31 10:42:41</td>\n",
              "      <td>99.559157</td>\n",
              "    </tr>\n",
              "    <tr>\n",
              "      <th>16</th>\n",
              "      <td>2016-08-17 23:13:36</td>\n",
              "      <td>99.559307</td>\n",
              "    </tr>\n",
              "    <tr>\n",
              "      <th>17</th>\n",
              "      <td>2016-08-24 10:42:42</td>\n",
              "      <td>99.558793</td>\n",
              "    </tr>\n",
              "  </tbody>\n",
              "</table>\n",
              "</div>"
            ],
            "text/plain": [
              "                 dates  cover_percentage\n",
              "0  2016-03-26 23:13:23         99.559492\n",
              "1  2016-05-13 23:13:30         99.559628\n",
              "2  2016-02-07 23:13:28         99.559049\n",
              "3  2016-02-14 10:42:34         99.559328\n",
              "4  2016-03-02 23:13:28         99.559621\n",
              "5  2016-03-09 10:42:33         99.559399\n",
              "6  2016-04-02 10:42:34         99.559363\n",
              "7  2016-04-19 23:13:29         99.559456\n",
              "8  2016-04-26 10:42:35         99.559556\n",
              "9  2016-05-20 10:42:37         99.558914\n",
              "10 2016-06-06 23:13:32         99.559535\n",
              "11 2016-06-13 10:42:38         99.558949\n",
              "12 2016-06-30 23:13:33         99.559685\n",
              "13 2016-07-07 10:42:40         99.559257\n",
              "14 2016-07-24 23:13:34         99.559428\n",
              "15 2016-07-31 10:42:41         99.559157\n",
              "16 2016-08-17 23:13:36         99.559307\n",
              "17 2016-08-24 10:42:42         99.558793"
            ]
          },
          "metadata": {
            "tags": []
          },
          "execution_count": 12
        }
      ]
    },
    {
      "cell_type": "markdown",
      "metadata": {
        "id": "XtqFR0VJyxs4"
      },
      "source": [
        "Due to Sentinel 1 mission has two satellites (a and b), it can orbit the earth in a different orientation (Ascending and Descending), the  6 days data can be summarised averaging over a time window. "
      ]
    },
    {
      "cell_type": "code",
      "metadata": {
        "colab": {
          "base_uri": "https://localhost:8080/"
        },
        "id": "GVg1oI70yxs4",
        "outputId": "731570c7-429d-4780-b301-53bf4758c18b"
      },
      "source": [
        "s1_imagery.reduce_collection_by_days(10)\n",
        "s1_imagery._dates_reduced"
      ],
      "execution_count": 13,
      "outputs": [
        {
          "output_type": "execute_result",
          "data": {
            "text/plain": [
              "0    2016-02-11 04:58:01\n",
              "1    2016-03-02 23:13:28\n",
              "2    2016-03-09 10:42:33\n",
              "3    2016-03-26 23:13:23\n",
              "4    2016-04-02 10:42:34\n",
              "5    2016-04-23 04:58:02\n",
              "6    2016-05-13 23:13:30\n",
              "7    2016-05-20 10:42:37\n",
              "8    2016-06-10 04:58:05\n",
              "9    2016-06-30 23:13:33\n",
              "10   2016-07-07 10:42:40\n",
              "11   2016-07-24 23:13:34\n",
              "12   2016-07-31 10:42:41\n",
              "dtype: datetime64[ns]"
            ]
          },
          "metadata": {
            "tags": []
          },
          "execution_count": 13
        }
      ]
    },
    {
      "cell_type": "code",
      "metadata": {
        "id": "jlGoljFd5Sax"
      },
      "source": [
        "s1datasuperpixel= s1_imagery.image_collection.map(lambda image:\n",
        "                                gee_functions.reduce_image_to_superpixel(image.select(['VV']).clip(s1_imagery._ee_sp), polygons_fromseg))\n"
      ],
      "execution_count": 14,
      "outputs": []
    },
    {
      "cell_type": "markdown",
      "metadata": {
        "id": "2r4I7__L5Sax"
      },
      "source": [
        "Once the superpixels has been obtained, we are going to summary our s1 collection in percentiles"
      ]
    },
    {
      "cell_type": "code",
      "metadata": {
        "id": "akEs7Khq5Say"
      },
      "source": [
        "abundance_perc = s1datasuperpixel.reduce(ee.Reducer.percentile([5,10, 25, 50, 75 , 90, 95]))\n",
        "abundance_perc_orig = s1_imagery.image_collection.reduce(ee.Reducer.percentile([5,10, 25, 50, 75 , 90, 95]))\n",
        "\n"
      ],
      "execution_count": 15,
      "outputs": []
    },
    {
      "cell_type": "markdown",
      "metadata": {
        "id": "WA1WND6q5Say"
      },
      "source": [
        "Finally we compare both results"
      ]
    },
    {
      "cell_type": "code",
      "metadata": {
        "id": "jq4Ogd5C5Saz",
        "colab": {
          "base_uri": "https://localhost:8080/",
          "height": 458
        },
        "outputId": "d63bf37a-e68e-442c-a512-e378f2e91edc"
      },
      "source": [
        "import folium \n",
        "display = ee.Image(0).updateMask(0).paint(polygons_fromseg, '000000', 3);\n",
        "\n",
        "centergeometry = gis_functions.geometry_center(s1_imagery.geometry)\n",
        "\n",
        "Map = folium.Map(location=[centergeometry[1],\n",
        "                               centergeometry[0]], zoom_start=12)\n",
        "\n",
        "Map.addLayer(ee.Image(abundance_perc_orig).select(['VV_p5', 'VV_p50', 'VV_p95']).clip(s1_imagery._ee_sp), {'gamma': 1.3, 'min':-25, 'max':0}, 'orig');\n",
        "Map.addLayer(ee.Image(abundance_perc).select(['first_p5', 'first_p50', 'first_p95']), {'gamma': 1.3, 'min':-25, 'max':0}, 'radar superpixel');\n",
        "Map.addLayer(display, {}, 'vectors');\n",
        "\n",
        "\n",
        "Map.setControlVisibility(layerControl=True, fullscreenControl=True, latLngPopup=True)\n",
        "\n",
        "Map"
      ],
      "execution_count": 16,
      "outputs": [
        {
          "output_type": "error",
          "ename": "EEException",
          "evalue": "ignored",
          "traceback": [
            "\u001b[0;31m---------------------------------------------------------------------------\u001b[0m",
            "\u001b[0;31mHttpError\u001b[0m                                 Traceback (most recent call last)",
            "\u001b[0;32m/usr/local/lib/python3.7/dist-packages/ee/data.py\u001b[0m in \u001b[0;36m_execute_cloud_call\u001b[0;34m(call, num_retries)\u001b[0m\n\u001b[1;32m    333\u001b[0m   \u001b[0;32mtry\u001b[0m\u001b[0;34m:\u001b[0m\u001b[0;34m\u001b[0m\u001b[0;34m\u001b[0m\u001b[0m\n\u001b[0;32m--> 334\u001b[0;31m     \u001b[0;32mreturn\u001b[0m \u001b[0mcall\u001b[0m\u001b[0;34m.\u001b[0m\u001b[0mexecute\u001b[0m\u001b[0;34m(\u001b[0m\u001b[0mnum_retries\u001b[0m\u001b[0;34m=\u001b[0m\u001b[0mnum_retries\u001b[0m\u001b[0;34m)\u001b[0m\u001b[0;34m\u001b[0m\u001b[0;34m\u001b[0m\u001b[0m\n\u001b[0m\u001b[1;32m    335\u001b[0m   \u001b[0;32mexcept\u001b[0m \u001b[0mgoogleapiclient\u001b[0m\u001b[0;34m.\u001b[0m\u001b[0merrors\u001b[0m\u001b[0;34m.\u001b[0m\u001b[0mHttpError\u001b[0m \u001b[0;32mas\u001b[0m \u001b[0me\u001b[0m\u001b[0;34m:\u001b[0m\u001b[0;34m\u001b[0m\u001b[0;34m\u001b[0m\u001b[0m\n",
            "\u001b[0;32m/usr/local/lib/python3.7/dist-packages/googleapiclient/_helpers.py\u001b[0m in \u001b[0;36mpositional_wrapper\u001b[0;34m(*args, **kwargs)\u001b[0m\n\u001b[1;32m    133\u001b[0m                     \u001b[0mlogger\u001b[0m\u001b[0;34m.\u001b[0m\u001b[0mwarning\u001b[0m\u001b[0;34m(\u001b[0m\u001b[0mmessage\u001b[0m\u001b[0;34m)\u001b[0m\u001b[0;34m\u001b[0m\u001b[0;34m\u001b[0m\u001b[0m\n\u001b[0;32m--> 134\u001b[0;31m             \u001b[0;32mreturn\u001b[0m \u001b[0mwrapped\u001b[0m\u001b[0;34m(\u001b[0m\u001b[0;34m*\u001b[0m\u001b[0margs\u001b[0m\u001b[0;34m,\u001b[0m \u001b[0;34m**\u001b[0m\u001b[0mkwargs\u001b[0m\u001b[0;34m)\u001b[0m\u001b[0;34m\u001b[0m\u001b[0;34m\u001b[0m\u001b[0m\n\u001b[0m\u001b[1;32m    135\u001b[0m \u001b[0;34m\u001b[0m\u001b[0m\n",
            "\u001b[0;32m/usr/local/lib/python3.7/dist-packages/googleapiclient/http.py\u001b[0m in \u001b[0;36mexecute\u001b[0;34m(self, http, num_retries)\u001b[0m\n\u001b[1;32m    914\u001b[0m         \u001b[0;32mif\u001b[0m \u001b[0mresp\u001b[0m\u001b[0;34m.\u001b[0m\u001b[0mstatus\u001b[0m \u001b[0;34m>=\u001b[0m \u001b[0;36m300\u001b[0m\u001b[0;34m:\u001b[0m\u001b[0;34m\u001b[0m\u001b[0;34m\u001b[0m\u001b[0m\n\u001b[0;32m--> 915\u001b[0;31m             \u001b[0;32mraise\u001b[0m \u001b[0mHttpError\u001b[0m\u001b[0;34m(\u001b[0m\u001b[0mresp\u001b[0m\u001b[0;34m,\u001b[0m \u001b[0mcontent\u001b[0m\u001b[0;34m,\u001b[0m \u001b[0muri\u001b[0m\u001b[0;34m=\u001b[0m\u001b[0mself\u001b[0m\u001b[0;34m.\u001b[0m\u001b[0muri\u001b[0m\u001b[0;34m)\u001b[0m\u001b[0;34m\u001b[0m\u001b[0;34m\u001b[0m\u001b[0m\n\u001b[0m\u001b[1;32m    916\u001b[0m         \u001b[0;32mreturn\u001b[0m \u001b[0mself\u001b[0m\u001b[0;34m.\u001b[0m\u001b[0mpostproc\u001b[0m\u001b[0;34m(\u001b[0m\u001b[0mresp\u001b[0m\u001b[0;34m,\u001b[0m \u001b[0mcontent\u001b[0m\u001b[0;34m)\u001b[0m\u001b[0;34m\u001b[0m\u001b[0;34m\u001b[0m\u001b[0m\n",
            "\u001b[0;31mHttpError\u001b[0m: <HttpError 400 when requesting https://earthengine.googleapis.com/v1alpha/projects/earthengine-legacy/maps?fields=name&alt=json returned \"Computation timed out.\". Details: \"Computation timed out.\">",
            "\nDuring handling of the above exception, another exception occurred:\n",
            "\u001b[0;31mEEException\u001b[0m                               Traceback (most recent call last)",
            "\u001b[0;32m<ipython-input-16-7a2bf9a644ff>\u001b[0m in \u001b[0;36m<module>\u001b[0;34m()\u001b[0m\n\u001b[1;32m      8\u001b[0m \u001b[0;34m\u001b[0m\u001b[0m\n\u001b[1;32m      9\u001b[0m \u001b[0mMap\u001b[0m\u001b[0;34m.\u001b[0m\u001b[0maddLayer\u001b[0m\u001b[0;34m(\u001b[0m\u001b[0mee\u001b[0m\u001b[0;34m.\u001b[0m\u001b[0mImage\u001b[0m\u001b[0;34m(\u001b[0m\u001b[0mabundance_perc_orig\u001b[0m\u001b[0;34m)\u001b[0m\u001b[0;34m.\u001b[0m\u001b[0mselect\u001b[0m\u001b[0;34m(\u001b[0m\u001b[0;34m[\u001b[0m\u001b[0;34m'VV_p5'\u001b[0m\u001b[0;34m,\u001b[0m \u001b[0;34m'VV_p50'\u001b[0m\u001b[0;34m,\u001b[0m \u001b[0;34m'VV_p95'\u001b[0m\u001b[0;34m]\u001b[0m\u001b[0;34m)\u001b[0m\u001b[0;34m.\u001b[0m\u001b[0mclip\u001b[0m\u001b[0;34m(\u001b[0m\u001b[0ms1_imagery\u001b[0m\u001b[0;34m.\u001b[0m\u001b[0m_ee_sp\u001b[0m\u001b[0;34m)\u001b[0m\u001b[0;34m,\u001b[0m \u001b[0;34m{\u001b[0m\u001b[0;34m'gamma'\u001b[0m\u001b[0;34m:\u001b[0m \u001b[0;36m1.3\u001b[0m\u001b[0;34m,\u001b[0m \u001b[0;34m'min'\u001b[0m\u001b[0;34m:\u001b[0m\u001b[0;34m-\u001b[0m\u001b[0;36m25\u001b[0m\u001b[0;34m,\u001b[0m \u001b[0;34m'max'\u001b[0m\u001b[0;34m:\u001b[0m\u001b[0;36m0\u001b[0m\u001b[0;34m}\u001b[0m\u001b[0;34m,\u001b[0m \u001b[0;34m'orig'\u001b[0m\u001b[0;34m)\u001b[0m\u001b[0;34m;\u001b[0m\u001b[0;34m\u001b[0m\u001b[0;34m\u001b[0m\u001b[0m\n\u001b[0;32m---> 10\u001b[0;31m \u001b[0mMap\u001b[0m\u001b[0;34m.\u001b[0m\u001b[0maddLayer\u001b[0m\u001b[0;34m(\u001b[0m\u001b[0mee\u001b[0m\u001b[0;34m.\u001b[0m\u001b[0mImage\u001b[0m\u001b[0;34m(\u001b[0m\u001b[0mabundance_perc\u001b[0m\u001b[0;34m)\u001b[0m\u001b[0;34m.\u001b[0m\u001b[0mselect\u001b[0m\u001b[0;34m(\u001b[0m\u001b[0;34m[\u001b[0m\u001b[0;34m'first_p5'\u001b[0m\u001b[0;34m,\u001b[0m \u001b[0;34m'first_p50'\u001b[0m\u001b[0;34m,\u001b[0m \u001b[0;34m'first_p95'\u001b[0m\u001b[0;34m]\u001b[0m\u001b[0;34m)\u001b[0m\u001b[0;34m,\u001b[0m \u001b[0;34m{\u001b[0m\u001b[0;34m'gamma'\u001b[0m\u001b[0;34m:\u001b[0m \u001b[0;36m1.3\u001b[0m\u001b[0;34m,\u001b[0m \u001b[0;34m'min'\u001b[0m\u001b[0;34m:\u001b[0m\u001b[0;34m-\u001b[0m\u001b[0;36m25\u001b[0m\u001b[0;34m,\u001b[0m \u001b[0;34m'max'\u001b[0m\u001b[0;34m:\u001b[0m\u001b[0;36m0\u001b[0m\u001b[0;34m}\u001b[0m\u001b[0;34m,\u001b[0m \u001b[0;34m'radar superpixel'\u001b[0m\u001b[0;34m)\u001b[0m\u001b[0;34m;\u001b[0m\u001b[0;34m\u001b[0m\u001b[0;34m\u001b[0m\u001b[0m\n\u001b[0m\u001b[1;32m     11\u001b[0m \u001b[0mMap\u001b[0m\u001b[0;34m.\u001b[0m\u001b[0maddLayer\u001b[0m\u001b[0;34m(\u001b[0m\u001b[0mdisplay\u001b[0m\u001b[0;34m,\u001b[0m \u001b[0;34m{\u001b[0m\u001b[0;34m}\u001b[0m\u001b[0;34m,\u001b[0m \u001b[0;34m'vectors'\u001b[0m\u001b[0;34m)\u001b[0m\u001b[0;34m;\u001b[0m\u001b[0;34m\u001b[0m\u001b[0;34m\u001b[0m\u001b[0m\n\u001b[1;32m     12\u001b[0m \u001b[0;34m\u001b[0m\u001b[0m\n",
            "\u001b[0;32m/usr/local/lib/python3.7/dist-packages/geehydro/geehydro.py\u001b[0m in \u001b[0;36maddLayer\u001b[0;34m(self, ee_object, vis_params, name, shown, opacity)\u001b[0m\n\u001b[1;32m     41\u001b[0m         \u001b[0mimage\u001b[0m \u001b[0;34m=\u001b[0m \u001b[0mee_object\u001b[0m\u001b[0;34m.\u001b[0m\u001b[0mmedian\u001b[0m\u001b[0;34m(\u001b[0m\u001b[0;34m)\u001b[0m\u001b[0;34m\u001b[0m\u001b[0;34m\u001b[0m\u001b[0m\n\u001b[1;32m     42\u001b[0m \u001b[0;34m\u001b[0m\u001b[0m\n\u001b[0;32m---> 43\u001b[0;31m     \u001b[0mmap_id_dict\u001b[0m \u001b[0;34m=\u001b[0m \u001b[0mee\u001b[0m\u001b[0;34m.\u001b[0m\u001b[0mImage\u001b[0m\u001b[0;34m(\u001b[0m\u001b[0mimage\u001b[0m\u001b[0;34m)\u001b[0m\u001b[0;34m.\u001b[0m\u001b[0mgetMapId\u001b[0m\u001b[0;34m(\u001b[0m\u001b[0mvis_params\u001b[0m\u001b[0;34m)\u001b[0m\u001b[0;34m\u001b[0m\u001b[0;34m\u001b[0m\u001b[0m\n\u001b[0m\u001b[1;32m     44\u001b[0m     folium.raster_layers.TileLayer(\n\u001b[1;32m     45\u001b[0m         \u001b[0mtiles\u001b[0m\u001b[0;34m=\u001b[0m\u001b[0mmap_id_dict\u001b[0m\u001b[0;34m[\u001b[0m\u001b[0;34m'tile_fetcher'\u001b[0m\u001b[0;34m]\u001b[0m\u001b[0;34m.\u001b[0m\u001b[0murl_format\u001b[0m\u001b[0;34m,\u001b[0m\u001b[0;34m\u001b[0m\u001b[0;34m\u001b[0m\u001b[0m\n",
            "\u001b[0;32m/usr/local/lib/python3.7/dist-packages/ee/image.py\u001b[0m in \u001b[0;36mgetMapId\u001b[0;34m(self, vis_params)\u001b[0m\n\u001b[1;32m    129\u001b[0m     \u001b[0mvis_image\u001b[0m\u001b[0;34m,\u001b[0m \u001b[0mrequest\u001b[0m \u001b[0;34m=\u001b[0m \u001b[0mself\u001b[0m\u001b[0;34m.\u001b[0m\u001b[0m_apply_visualization\u001b[0m\u001b[0;34m(\u001b[0m\u001b[0mvis_params\u001b[0m\u001b[0;34m)\u001b[0m\u001b[0;34m\u001b[0m\u001b[0;34m\u001b[0m\u001b[0m\n\u001b[1;32m    130\u001b[0m     \u001b[0mrequest\u001b[0m\u001b[0;34m[\u001b[0m\u001b[0;34m'image'\u001b[0m\u001b[0;34m]\u001b[0m \u001b[0;34m=\u001b[0m \u001b[0mvis_image\u001b[0m\u001b[0;34m\u001b[0m\u001b[0;34m\u001b[0m\u001b[0m\n\u001b[0;32m--> 131\u001b[0;31m     \u001b[0mresponse\u001b[0m \u001b[0;34m=\u001b[0m \u001b[0mdata\u001b[0m\u001b[0;34m.\u001b[0m\u001b[0mgetMapId\u001b[0m\u001b[0;34m(\u001b[0m\u001b[0mrequest\u001b[0m\u001b[0;34m)\u001b[0m\u001b[0;34m\u001b[0m\u001b[0;34m\u001b[0m\u001b[0m\n\u001b[0m\u001b[1;32m    132\u001b[0m     \u001b[0mresponse\u001b[0m\u001b[0;34m[\u001b[0m\u001b[0;34m'image'\u001b[0m\u001b[0;34m]\u001b[0m \u001b[0;34m=\u001b[0m \u001b[0mself\u001b[0m\u001b[0;34m\u001b[0m\u001b[0;34m\u001b[0m\u001b[0m\n\u001b[1;32m    133\u001b[0m     \u001b[0;32mreturn\u001b[0m \u001b[0mresponse\u001b[0m\u001b[0;34m\u001b[0m\u001b[0;34m\u001b[0m\u001b[0m\n",
            "\u001b[0;32m/usr/local/lib/python3.7/dist-packages/ee/data.py\u001b[0m in \u001b[0;36mgetMapId\u001b[0;34m(params)\u001b[0m\n\u001b[1;32m    575\u001b[0m   result = _execute_cloud_call(\n\u001b[1;32m    576\u001b[0m       _get_cloud_api_resource().projects().maps().create(\n\u001b[0;32m--> 577\u001b[0;31m           parent=_get_projects_path(), fields='name', body=request))\n\u001b[0m\u001b[1;32m    578\u001b[0m   \u001b[0mmap_name\u001b[0m \u001b[0;34m=\u001b[0m \u001b[0mresult\u001b[0m\u001b[0;34m[\u001b[0m\u001b[0;34m'name'\u001b[0m\u001b[0;34m]\u001b[0m\u001b[0;34m\u001b[0m\u001b[0;34m\u001b[0m\u001b[0m\n\u001b[1;32m    579\u001b[0m   url_format = '%s/%s/%s/tiles/{z}/{x}/{y}' % (\n",
            "\u001b[0;32m/usr/local/lib/python3.7/dist-packages/ee/data.py\u001b[0m in \u001b[0;36m_execute_cloud_call\u001b[0;34m(call, num_retries)\u001b[0m\n\u001b[1;32m    334\u001b[0m     \u001b[0;32mreturn\u001b[0m \u001b[0mcall\u001b[0m\u001b[0;34m.\u001b[0m\u001b[0mexecute\u001b[0m\u001b[0;34m(\u001b[0m\u001b[0mnum_retries\u001b[0m\u001b[0;34m=\u001b[0m\u001b[0mnum_retries\u001b[0m\u001b[0;34m)\u001b[0m\u001b[0;34m\u001b[0m\u001b[0;34m\u001b[0m\u001b[0m\n\u001b[1;32m    335\u001b[0m   \u001b[0;32mexcept\u001b[0m \u001b[0mgoogleapiclient\u001b[0m\u001b[0;34m.\u001b[0m\u001b[0merrors\u001b[0m\u001b[0;34m.\u001b[0m\u001b[0mHttpError\u001b[0m \u001b[0;32mas\u001b[0m \u001b[0me\u001b[0m\u001b[0;34m:\u001b[0m\u001b[0;34m\u001b[0m\u001b[0;34m\u001b[0m\u001b[0m\n\u001b[0;32m--> 336\u001b[0;31m     \u001b[0;32mraise\u001b[0m \u001b[0m_translate_cloud_exception\u001b[0m\u001b[0;34m(\u001b[0m\u001b[0me\u001b[0m\u001b[0;34m)\u001b[0m\u001b[0;34m\u001b[0m\u001b[0;34m\u001b[0m\u001b[0m\n\u001b[0m\u001b[1;32m    337\u001b[0m \u001b[0;34m\u001b[0m\u001b[0m\n\u001b[1;32m    338\u001b[0m \u001b[0;34m\u001b[0m\u001b[0m\n",
            "\u001b[0;31mEEException\u001b[0m: Computation timed out."
          ]
        }
      ]
    },
    {
      "cell_type": "code",
      "metadata": {
        "id": "QBB0tcPwT9K8"
      },
      "source": [
        "## download radar images"
      ],
      "execution_count": null,
      "outputs": []
    },
    {
      "cell_type": "code",
      "metadata": {
        "id": "nB01xpR3T-Up",
        "colab": {
          "base_uri": "https://localhost:8080/"
        },
        "outputId": "5ee583a6-9af5-488c-9a5e-1bdfc0d1c44c"
      },
      "source": [
        "from google.colab import drive\n",
        "drive.mount('/content/drive')"
      ],
      "execution_count": 39,
      "outputs": [
        {
          "output_type": "stream",
          "text": [
            "Mounted at /content/drive\n"
          ],
          "name": "stdout"
        }
      ]
    },
    {
      "cell_type": "code",
      "metadata": {
        "id": "t0n3Lxz7We93"
      },
      "source": [
        "### Download images\r\n",
        "import time\r\n",
        "image_todownload = ee.Image(abundance_perc)\r\n",
        "band_names = ee.Image(abundance_perc).bandNames().getInfo()\r\n",
        "task = ee.batch.Export.image.toDrive(**{\r\n",
        "                'image': ee.Image(image_todownload),\r\n",
        "                'description': \"s1_percentiles_superpixel\",\r\n",
        "                'folder': '/content/drive/MyDrive/satellite_images',\r\n",
        "                'scale': 10,\r\n",
        "                'region': se2_toa._ee_sp['coordinates']\r\n",
        "            })\r\n",
        "\r\n",
        "task.start()\r\n",
        "while task.active():\r\n",
        "    print('Polling for task (id: {}).'.format(\"radar_percentiles_superpixel\"))\r\n",
        "    time.sleep(20)"
      ],
      "execution_count": null,
      "outputs": []
    },
    {
      "cell_type": "code",
      "metadata": {
        "id": "bX4CmzehWhv0"
      },
      "source": [
        "### S2 Metrics\r\n",
        "maxvalues = imgcollection.select('ndvi').max()\r\n",
        "minvalues = imgcollection.select('ndvi').min()\r\n",
        "medianvaluesrgb = imgcollection.select(['B4','B3','B2']).median()\r\n",
        "stdvalues = imgcollection.select('ndvi').reduce(ee.Reducer.stdDev())\r\n",
        "medianvalues = medianvalues.addBands(maxvalues).addBands(minvalues).addBands(stdvalues)\r\n",
        "\r\n"
      ],
      "execution_count": null,
      "outputs": []
    },
    {
      "cell_type": "code",
      "metadata": {
        "colab": {
          "base_uri": "https://localhost:8080/"
        },
        "id": "Aby6OVSE9jBZ",
        "outputId": "436aabe2-dc4c-4545-a9a4-e8bb475bc104"
      },
      "source": [
        "### spliting the geometry into tiles for processing huge areas\r\n",
        "\r\n",
        "stateArea = se2_toa._ee_sp.area()\r\n",
        "stateAreaSqKm = ee.Number(stateArea).divide(1e6).round()\r\n",
        "print(stateAreaSqKm.getInfo())\r\n",
        "\r\n",
        "stateArea = s1_imagery._ee_sp.area()\r\n",
        "stateAreaSqKm = ee.Number(stateArea).divide(1e6).round()\r\n",
        "print(stateAreaSqKm.getInfo())"
      ],
      "execution_count": 14,
      "outputs": [
        {
          "output_type": "stream",
          "text": [
            "2510\n",
            "822\n"
          ],
          "name": "stdout"
        }
      ]
    },
    {
      "cell_type": "markdown",
      "metadata": {
        "id": "mdi5zVjWExis"
      },
      "source": [
        "### Image segmentation for multiple tiles"
      ]
    },
    {
      "cell_type": "code",
      "metadata": {
        "colab": {
          "base_uri": "https://localhost:8080/"
        },
        "id": "GxMPV8tiDBV_",
        "outputId": "dff8a99d-466c-44b8-ca5c-20e0622f8959"
      },
      "source": [
        "###\r\n",
        "\r\n",
        "se2_toa = gee_satellite_data.get_gee_data(\"2016-02-01\",\r\n",
        "                                            \"2016-08-30\", \r\n",
        "                                            \"data/tol_south.shp\", \r\n",
        "                                            \"sentinel2_toa\",\r\n",
        "                                         cloud_percentage= 80)\r\n",
        "se2_toa.add_vi_layer(\"ndvi\")\r\n",
        "\r\n",
        "\r\n",
        "cover_percentage = 81\r\n",
        "\r\n",
        "## filter collection by cover percentage\r\n",
        "imgcollection = gee_functions.filtering_bycoverpercentage(se2_toa, cover_percentage)\r\n",
        "imgcollection = imgcollection.map(lambda img:\r\n",
        "                                  img.unmask(0).clip(se2_toa._ee_sp))\r\n"
      ],
      "execution_count": 11,
      "outputs": [
        {
          "output_type": "stream",
          "text": [
            "total images: 13 \n",
            "total images after cover filter: 7\n"
          ],
          "name": "stdout"
        }
      ]
    },
    {
      "cell_type": "code",
      "metadata": {
        "colab": {
          "base_uri": "https://localhost:8080/"
        },
        "id": "qMbAqVu0iUCQ",
        "outputId": "647c3aee-1ee0-44f8-bc81-c80f90c4dd72"
      },
      "source": [
        "s1_imagery = gee_satellite_data.get_gee_data(\"2016-02-01\",\r\n",
        "                                            \"2016-08-31\", \r\n",
        "                                            \"data/tol_south.shp\", \r\n",
        "                                            \"sentinel1\", bands = ['VV'])\r\n",
        "\r\n",
        "s1_imagery.reduce_collection_by_days(10)\r\n",
        "s1_imagery._dates_reduced"
      ],
      "execution_count": 12,
      "outputs": [
        {
          "output_type": "execute_result",
          "data": {
            "text/plain": [
              "0    2016-02-12 06:53:00\n",
              "1    2016-03-02 23:13:28\n",
              "2    2016-03-09 10:42:46\n",
              "3    2016-03-23 11:17:24\n",
              "4    2016-04-02 10:42:47\n",
              "5    2016-04-12 23:21:25\n",
              "6    2016-04-24 06:53:01\n",
              "7    2016-05-13 23:13:30\n",
              "8    2016-05-20 10:42:50\n",
              "9    2016-05-30 23:21:27\n",
              "10   2016-06-11 11:00:13\n",
              "11   2016-06-30 23:13:33\n",
              "12   2016-07-07 10:42:52\n",
              "13   2016-07-21 11:17:32\n",
              "14   2016-07-31 10:42:54\n",
              "15   2016-08-10 23:21:31\n",
              "dtype: datetime64[ns]"
            ]
          },
          "metadata": {
            "tags": []
          },
          "execution_count": 12
        }
      ]
    },
    {
      "cell_type": "code",
      "metadata": {
        "colab": {
          "base_uri": "https://localhost:8080/",
          "height": 831
        },
        "id": "AGgYESUGU3lZ",
        "outputId": "4c4e2431-d323-4c7f-ff94-1a2b32c9422d"
      },
      "source": [
        "#Get tiles\r\n",
        "\r\n",
        "num_cells = 6\r\n",
        "\r\n",
        "grid_geometries = gis_functions.split_into_tiles(se2_toa._ee_sp['coordinates'][0], num_cells)\r\n",
        "eegrid_geometries = [ee.Feature(ee.Geometry.Rectangle(\r\n",
        "    grid_geometries[i][0], \r\n",
        "    grid_geometries[i][1], \r\n",
        "    grid_geometries[i][2], grid_geometries[i][3]), \r\n",
        "                              {'label': i}) for i in range(len(grid_geometries))]\r\n",
        "\r\n",
        "\r\n",
        "import folium\r\n",
        "Map = folium.Map(location=[4.247676101204724,-75.22938730661772\r\n",
        "                               ], zoom_start=10)\r\n",
        "\r\n",
        "for i in range(len(eegrid_geometries)):\r\n",
        "  grid = ee.FeatureCollection(eegrid_geometries[i])\r\n",
        "  displaytest = ee.Image(0).updateMask(0).paint(grid, '000000', 3)\r\n",
        "  Map.addLayer(displaytest, {}, 'vectors'+str(i));\r\n",
        "\r\n",
        "displaytest = ee.Image(0).updateMask(0).paint(se2_toa._ee_sp, '000000', 3)\r\n",
        "Map.addLayer(displaytest, {}, 'original')\r\n",
        "\r\n",
        "Map.setControlVisibility(layerControl=True, fullscreenControl=True, latLngPopup=True)\r\n",
        "Map"
      ],
      "execution_count": 29,
      "outputs": [
        {
          "output_type": "execute_result",
          "data": {
            "text/html": [
              "<div style=\"width:100%;\"><div style=\"position:relative;width:100%;height:0;padding-bottom:60%;\"><span style=\"color:#565656\">Make this Notebook Trusted to load map: File -> Trust Notebook</span><iframe src=\"about:blank\" style=\"position:absolute;width:100%;height:100%;left:0;top:0;border:none !important;\" data-html=%3C%21DOCTYPE%20html%3E%0A%3Chead%3E%20%20%20%20%0A%20%20%20%20%3Cmeta%20http-equiv%3D%22content-type%22%20content%3D%22text/html%3B%20charset%3DUTF-8%22%20/%3E%0A%20%20%20%20%3Cscript%3EL_PREFER_CANVAS%3Dfalse%3B%20L_NO_TOUCH%3Dfalse%3B%20L_DISABLE_3D%3Dfalse%3B%3C/script%3E%0A%20%20%20%20%3Cscript%20src%3D%22https%3A//cdn.jsdelivr.net/npm/leaflet%401.4.0/dist/leaflet.js%22%3E%3C/script%3E%0A%20%20%20%20%3Cscript%20src%3D%22https%3A//code.jquery.com/jquery-1.12.4.min.js%22%3E%3C/script%3E%0A%20%20%20%20%3Cscript%20src%3D%22https%3A//maxcdn.bootstrapcdn.com/bootstrap/3.2.0/js/bootstrap.min.js%22%3E%3C/script%3E%0A%20%20%20%20%3Cscript%20src%3D%22https%3A//cdnjs.cloudflare.com/ajax/libs/Leaflet.awesome-markers/2.0.2/leaflet.awesome-markers.js%22%3E%3C/script%3E%0A%20%20%20%20%3Clink%20rel%3D%22stylesheet%22%20href%3D%22https%3A//cdn.jsdelivr.net/npm/leaflet%401.4.0/dist/leaflet.css%22/%3E%0A%20%20%20%20%3Clink%20rel%3D%22stylesheet%22%20href%3D%22https%3A//maxcdn.bootstrapcdn.com/bootstrap/3.2.0/css/bootstrap.min.css%22/%3E%0A%20%20%20%20%3Clink%20rel%3D%22stylesheet%22%20href%3D%22https%3A//maxcdn.bootstrapcdn.com/bootstrap/3.2.0/css/bootstrap-theme.min.css%22/%3E%0A%20%20%20%20%3Clink%20rel%3D%22stylesheet%22%20href%3D%22https%3A//maxcdn.bootstrapcdn.com/font-awesome/4.6.3/css/font-awesome.min.css%22/%3E%0A%20%20%20%20%3Clink%20rel%3D%22stylesheet%22%20href%3D%22https%3A//cdnjs.cloudflare.com/ajax/libs/Leaflet.awesome-markers/2.0.2/leaflet.awesome-markers.css%22/%3E%0A%20%20%20%20%3Clink%20rel%3D%22stylesheet%22%20href%3D%22https%3A//rawcdn.githack.com/python-visualization/folium/master/folium/templates/leaflet.awesome.rotate.css%22/%3E%0A%20%20%20%20%3Cstyle%3Ehtml%2C%20body%20%7Bwidth%3A%20100%25%3Bheight%3A%20100%25%3Bmargin%3A%200%3Bpadding%3A%200%3B%7D%3C/style%3E%0A%20%20%20%20%3Cstyle%3E%23map%20%7Bposition%3Aabsolute%3Btop%3A0%3Bbottom%3A0%3Bright%3A0%3Bleft%3A0%3B%7D%3C/style%3E%0A%20%20%20%20%0A%20%20%20%20%3Cmeta%20name%3D%22viewport%22%20content%3D%22width%3Ddevice-width%2C%0A%20%20%20%20%20%20%20%20initial-scale%3D1.0%2C%20maximum-scale%3D1.0%2C%20user-scalable%3Dno%22%20/%3E%0A%20%20%20%20%3Cstyle%3E%23map_2c546225a6e84886a30cb71e23a32726%20%7B%0A%20%20%20%20%20%20%20%20position%3A%20relative%3B%0A%20%20%20%20%20%20%20%20width%3A%20100.0%25%3B%0A%20%20%20%20%20%20%20%20height%3A%20100.0%25%3B%0A%20%20%20%20%20%20%20%20left%3A%200.0%25%3B%0A%20%20%20%20%20%20%20%20top%3A%200.0%25%3B%0A%20%20%20%20%20%20%20%20%7D%0A%20%20%20%20%3C/style%3E%0A%20%20%20%20%3Cscript%20src%3D%22https%3A//cdnjs.cloudflare.com/ajax/libs/leaflet.fullscreen/1.4.2/Control.FullScreen.min.js%22%3E%3C/script%3E%0A%20%20%20%20%3Clink%20rel%3D%22stylesheet%22%20href%3D%22https%3A//cdnjs.cloudflare.com/ajax/libs/leaflet.fullscreen/1.4.2/Control.FullScreen.min.css%22/%3E%0A%3C/head%3E%0A%3Cbody%3E%20%20%20%20%0A%20%20%20%20%0A%20%20%20%20%3Cdiv%20class%3D%22folium-map%22%20id%3D%22map_2c546225a6e84886a30cb71e23a32726%22%20%3E%3C/div%3E%0A%3C/body%3E%0A%3Cscript%3E%20%20%20%20%0A%20%20%20%20%0A%20%20%20%20%0A%20%20%20%20%20%20%20%20var%20bounds%20%3D%20null%3B%0A%20%20%20%20%0A%0A%20%20%20%20var%20map_2c546225a6e84886a30cb71e23a32726%20%3D%20L.map%28%0A%20%20%20%20%20%20%20%20%27map_2c546225a6e84886a30cb71e23a32726%27%2C%20%7B%0A%20%20%20%20%20%20%20%20center%3A%20%5B4.247676101204724%2C%20-75.22938730661772%5D%2C%0A%20%20%20%20%20%20%20%20zoom%3A%2010%2C%0A%20%20%20%20%20%20%20%20maxBounds%3A%20bounds%2C%0A%20%20%20%20%20%20%20%20layers%3A%20%5B%5D%2C%0A%20%20%20%20%20%20%20%20worldCopyJump%3A%20false%2C%0A%20%20%20%20%20%20%20%20crs%3A%20L.CRS.EPSG3857%2C%0A%20%20%20%20%20%20%20%20zoomControl%3A%20true%2C%0A%20%20%20%20%20%20%20%20%7D%29%3B%0A%0A%0A%20%20%20%20%0A%20%20%20%20var%20tile_layer_1a80c834e0be423590bf85954d1cb83c%20%3D%20L.tileLayer%28%0A%20%20%20%20%20%20%20%20%27https%3A//%7Bs%7D.tile.openstreetmap.org/%7Bz%7D/%7Bx%7D/%7By%7D.png%27%2C%0A%20%20%20%20%20%20%20%20%7B%0A%20%20%20%20%20%20%20%20%22attribution%22%3A%20null%2C%0A%20%20%20%20%20%20%20%20%22detectRetina%22%3A%20false%2C%0A%20%20%20%20%20%20%20%20%22maxNativeZoom%22%3A%2018%2C%0A%20%20%20%20%20%20%20%20%22maxZoom%22%3A%2018%2C%0A%20%20%20%20%20%20%20%20%22minZoom%22%3A%200%2C%0A%20%20%20%20%20%20%20%20%22noWrap%22%3A%20false%2C%0A%20%20%20%20%20%20%20%20%22opacity%22%3A%201%2C%0A%20%20%20%20%20%20%20%20%22subdomains%22%3A%20%22abc%22%2C%0A%20%20%20%20%20%20%20%20%22tms%22%3A%20false%0A%7D%29.addTo%28map_2c546225a6e84886a30cb71e23a32726%29%3B%0A%20%20%20%20var%20tile_layer_94561b7b989d462ebd98be010588b411%20%3D%20L.tileLayer%28%0A%20%20%20%20%20%20%20%20%27https%3A//earthengine.googleapis.com/v1alpha/projects/earthengine-legacy/maps/4e0b214dc62b726166ecf7c5e2fd96d4-476a898e8b3af628f57945ea8c5063ab/tiles/%7Bz%7D/%7Bx%7D/%7By%7D%27%2C%0A%20%20%20%20%20%20%20%20%7B%0A%20%20%20%20%20%20%20%20%22attribution%22%3A%20%22Google%20Earth%20Engine%22%2C%0A%20%20%20%20%20%20%20%20%22detectRetina%22%3A%20false%2C%0A%20%20%20%20%20%20%20%20%22maxNativeZoom%22%3A%2018%2C%0A%20%20%20%20%20%20%20%20%22maxZoom%22%3A%2018%2C%0A%20%20%20%20%20%20%20%20%22minZoom%22%3A%200%2C%0A%20%20%20%20%20%20%20%20%22noWrap%22%3A%20false%2C%0A%20%20%20%20%20%20%20%20%22opacity%22%3A%201%2C%0A%20%20%20%20%20%20%20%20%22subdomains%22%3A%20%22abc%22%2C%0A%20%20%20%20%20%20%20%20%22tms%22%3A%20false%0A%7D%29.addTo%28map_2c546225a6e84886a30cb71e23a32726%29%3B%0A%20%20%20%20var%20tile_layer_859f0154a2b24d0eb66aff76e6d777a9%20%3D%20L.tileLayer%28%0A%20%20%20%20%20%20%20%20%27https%3A//earthengine.googleapis.com/v1alpha/projects/earthengine-legacy/maps/5b55a9b14bdf8503dd673c6bb5cd7a03-1877db2eff2171f7305cfac79c3e3443/tiles/%7Bz%7D/%7Bx%7D/%7By%7D%27%2C%0A%20%20%20%20%20%20%20%20%7B%0A%20%20%20%20%20%20%20%20%22attribution%22%3A%20%22Google%20Earth%20Engine%22%2C%0A%20%20%20%20%20%20%20%20%22detectRetina%22%3A%20false%2C%0A%20%20%20%20%20%20%20%20%22maxNativeZoom%22%3A%2018%2C%0A%20%20%20%20%20%20%20%20%22maxZoom%22%3A%2018%2C%0A%20%20%20%20%20%20%20%20%22minZoom%22%3A%200%2C%0A%20%20%20%20%20%20%20%20%22noWrap%22%3A%20false%2C%0A%20%20%20%20%20%20%20%20%22opacity%22%3A%201%2C%0A%20%20%20%20%20%20%20%20%22subdomains%22%3A%20%22abc%22%2C%0A%20%20%20%20%20%20%20%20%22tms%22%3A%20false%0A%7D%29.addTo%28map_2c546225a6e84886a30cb71e23a32726%29%3B%0A%20%20%20%20var%20tile_layer_d1d6d47a089b4151bee760f75b0dbc4c%20%3D%20L.tileLayer%28%0A%20%20%20%20%20%20%20%20%27https%3A//earthengine.googleapis.com/v1alpha/projects/earthengine-legacy/maps/0e570c9f700df2cb8f7bcdd0790d1373-8beb38624fb784ecaeef784b3fbb551f/tiles/%7Bz%7D/%7Bx%7D/%7By%7D%27%2C%0A%20%20%20%20%20%20%20%20%7B%0A%20%20%20%20%20%20%20%20%22attribution%22%3A%20%22Google%20Earth%20Engine%22%2C%0A%20%20%20%20%20%20%20%20%22detectRetina%22%3A%20false%2C%0A%20%20%20%20%20%20%20%20%22maxNativeZoom%22%3A%2018%2C%0A%20%20%20%20%20%20%20%20%22maxZoom%22%3A%2018%2C%0A%20%20%20%20%20%20%20%20%22minZoom%22%3A%200%2C%0A%20%20%20%20%20%20%20%20%22noWrap%22%3A%20false%2C%0A%20%20%20%20%20%20%20%20%22opacity%22%3A%201%2C%0A%20%20%20%20%20%20%20%20%22subdomains%22%3A%20%22abc%22%2C%0A%20%20%20%20%20%20%20%20%22tms%22%3A%20false%0A%7D%29.addTo%28map_2c546225a6e84886a30cb71e23a32726%29%3B%0A%20%20%20%20var%20tile_layer_db9cb527e5f34630a42ae6c14d7f7952%20%3D%20L.tileLayer%28%0A%20%20%20%20%20%20%20%20%27https%3A//earthengine.googleapis.com/v1alpha/projects/earthengine-legacy/maps/91ff550bb67a4e89c919a8d74b113afe-0eba30232e3b882d94306bc96225baf6/tiles/%7Bz%7D/%7Bx%7D/%7By%7D%27%2C%0A%20%20%20%20%20%20%20%20%7B%0A%20%20%20%20%20%20%20%20%22attribution%22%3A%20%22Google%20Earth%20Engine%22%2C%0A%20%20%20%20%20%20%20%20%22detectRetina%22%3A%20false%2C%0A%20%20%20%20%20%20%20%20%22maxNativeZoom%22%3A%2018%2C%0A%20%20%20%20%20%20%20%20%22maxZoom%22%3A%2018%2C%0A%20%20%20%20%20%20%20%20%22minZoom%22%3A%200%2C%0A%20%20%20%20%20%20%20%20%22noWrap%22%3A%20false%2C%0A%20%20%20%20%20%20%20%20%22opacity%22%3A%201%2C%0A%20%20%20%20%20%20%20%20%22subdomains%22%3A%20%22abc%22%2C%0A%20%20%20%20%20%20%20%20%22tms%22%3A%20false%0A%7D%29.addTo%28map_2c546225a6e84886a30cb71e23a32726%29%3B%0A%20%20%20%20var%20tile_layer_a94abe0092ee46ca83345c109939a052%20%3D%20L.tileLayer%28%0A%20%20%20%20%20%20%20%20%27https%3A//earthengine.googleapis.com/v1alpha/projects/earthengine-legacy/maps/4f63c1ce637a8dd5b62f2cf6bf370fd4-58ef6ada25a15b3797b8f9f0c24b05f6/tiles/%7Bz%7D/%7Bx%7D/%7By%7D%27%2C%0A%20%20%20%20%20%20%20%20%7B%0A%20%20%20%20%20%20%20%20%22attribution%22%3A%20%22Google%20Earth%20Engine%22%2C%0A%20%20%20%20%20%20%20%20%22detectRetina%22%3A%20false%2C%0A%20%20%20%20%20%20%20%20%22maxNativeZoom%22%3A%2018%2C%0A%20%20%20%20%20%20%20%20%22maxZoom%22%3A%2018%2C%0A%20%20%20%20%20%20%20%20%22minZoom%22%3A%200%2C%0A%20%20%20%20%20%20%20%20%22noWrap%22%3A%20false%2C%0A%20%20%20%20%20%20%20%20%22opacity%22%3A%201%2C%0A%20%20%20%20%20%20%20%20%22subdomains%22%3A%20%22abc%22%2C%0A%20%20%20%20%20%20%20%20%22tms%22%3A%20false%0A%7D%29.addTo%28map_2c546225a6e84886a30cb71e23a32726%29%3B%0A%20%20%20%20var%20tile_layer_91a461e1fd6c4355adc2278f7e6172f6%20%3D%20L.tileLayer%28%0A%20%20%20%20%20%20%20%20%27https%3A//earthengine.googleapis.com/v1alpha/projects/earthengine-legacy/maps/9a330c6289ddd77ebb011b77225c023c-f9e1af34742fef2933a3463eae2b62f9/tiles/%7Bz%7D/%7Bx%7D/%7By%7D%27%2C%0A%20%20%20%20%20%20%20%20%7B%0A%20%20%20%20%20%20%20%20%22attribution%22%3A%20%22Google%20Earth%20Engine%22%2C%0A%20%20%20%20%20%20%20%20%22detectRetina%22%3A%20false%2C%0A%20%20%20%20%20%20%20%20%22maxNativeZoom%22%3A%2018%2C%0A%20%20%20%20%20%20%20%20%22maxZoom%22%3A%2018%2C%0A%20%20%20%20%20%20%20%20%22minZoom%22%3A%200%2C%0A%20%20%20%20%20%20%20%20%22noWrap%22%3A%20false%2C%0A%20%20%20%20%20%20%20%20%22opacity%22%3A%201%2C%0A%20%20%20%20%20%20%20%20%22subdomains%22%3A%20%22abc%22%2C%0A%20%20%20%20%20%20%20%20%22tms%22%3A%20false%0A%7D%29.addTo%28map_2c546225a6e84886a30cb71e23a32726%29%3B%0A%20%20%20%20var%20tile_layer_0493e2679ccd446dae8ca5b0b0322c85%20%3D%20L.tileLayer%28%0A%20%20%20%20%20%20%20%20%27https%3A//earthengine.googleapis.com/v1alpha/projects/earthengine-legacy/maps/bffcede333c8784ea2ec706cfbb9dfea-702988c4ce5bb7f56a65a3bc15eaf2c2/tiles/%7Bz%7D/%7Bx%7D/%7By%7D%27%2C%0A%20%20%20%20%20%20%20%20%7B%0A%20%20%20%20%20%20%20%20%22attribution%22%3A%20%22Google%20Earth%20Engine%22%2C%0A%20%20%20%20%20%20%20%20%22detectRetina%22%3A%20false%2C%0A%20%20%20%20%20%20%20%20%22maxNativeZoom%22%3A%2018%2C%0A%20%20%20%20%20%20%20%20%22maxZoom%22%3A%2018%2C%0A%20%20%20%20%20%20%20%20%22minZoom%22%3A%200%2C%0A%20%20%20%20%20%20%20%20%22noWrap%22%3A%20false%2C%0A%20%20%20%20%20%20%20%20%22opacity%22%3A%201%2C%0A%20%20%20%20%20%20%20%20%22subdomains%22%3A%20%22abc%22%2C%0A%20%20%20%20%20%20%20%20%22tms%22%3A%20false%0A%7D%29.addTo%28map_2c546225a6e84886a30cb71e23a32726%29%3B%0A%20%20%20%20var%20tile_layer_689577c8794b4636ad33ede94fa95585%20%3D%20L.tileLayer%28%0A%20%20%20%20%20%20%20%20%27https%3A//earthengine.googleapis.com/v1alpha/projects/earthengine-legacy/maps/f7210fb41bdc7ac762e78c1681b41e81-3c40ec49af987d0f8de2bd6fbfe7fb33/tiles/%7Bz%7D/%7Bx%7D/%7By%7D%27%2C%0A%20%20%20%20%20%20%20%20%7B%0A%20%20%20%20%20%20%20%20%22attribution%22%3A%20%22Google%20Earth%20Engine%22%2C%0A%20%20%20%20%20%20%20%20%22detectRetina%22%3A%20false%2C%0A%20%20%20%20%20%20%20%20%22maxNativeZoom%22%3A%2018%2C%0A%20%20%20%20%20%20%20%20%22maxZoom%22%3A%2018%2C%0A%20%20%20%20%20%20%20%20%22minZoom%22%3A%200%2C%0A%20%20%20%20%20%20%20%20%22noWrap%22%3A%20false%2C%0A%20%20%20%20%20%20%20%20%22opacity%22%3A%201%2C%0A%20%20%20%20%20%20%20%20%22subdomains%22%3A%20%22abc%22%2C%0A%20%20%20%20%20%20%20%20%22tms%22%3A%20false%0A%7D%29.addTo%28map_2c546225a6e84886a30cb71e23a32726%29%3B%0A%20%20%20%20var%20tile_layer_5e9271c766df49bbbde28acb91c90198%20%3D%20L.tileLayer%28%0A%20%20%20%20%20%20%20%20%27https%3A//earthengine.googleapis.com/v1alpha/projects/earthengine-legacy/maps/08ed949fb86e9c668c0787f2cee7dca6-ce11bf3ab0d48fe1f9bb3de2a2ef9f72/tiles/%7Bz%7D/%7Bx%7D/%7By%7D%27%2C%0A%20%20%20%20%20%20%20%20%7B%0A%20%20%20%20%20%20%20%20%22attribution%22%3A%20%22Google%20Earth%20Engine%22%2C%0A%20%20%20%20%20%20%20%20%22detectRetina%22%3A%20false%2C%0A%20%20%20%20%20%20%20%20%22maxNativeZoom%22%3A%2018%2C%0A%20%20%20%20%20%20%20%20%22maxZoom%22%3A%2018%2C%0A%20%20%20%20%20%20%20%20%22minZoom%22%3A%200%2C%0A%20%20%20%20%20%20%20%20%22noWrap%22%3A%20false%2C%0A%20%20%20%20%20%20%20%20%22opacity%22%3A%201%2C%0A%20%20%20%20%20%20%20%20%22subdomains%22%3A%20%22abc%22%2C%0A%20%20%20%20%20%20%20%20%22tms%22%3A%20false%0A%7D%29.addTo%28map_2c546225a6e84886a30cb71e23a32726%29%3B%0A%20%20%20%20var%20tile_layer_8d094abcfab347b9babd143dac8d27fd%20%3D%20L.tileLayer%28%0A%20%20%20%20%20%20%20%20%27https%3A//earthengine.googleapis.com/v1alpha/projects/earthengine-legacy/maps/67fbfc7bf19bfff71c916b3e1a999920-3f6520c6180ef41ee48845b61a4e2301/tiles/%7Bz%7D/%7Bx%7D/%7By%7D%27%2C%0A%20%20%20%20%20%20%20%20%7B%0A%20%20%20%20%20%20%20%20%22attribution%22%3A%20%22Google%20Earth%20Engine%22%2C%0A%20%20%20%20%20%20%20%20%22detectRetina%22%3A%20false%2C%0A%20%20%20%20%20%20%20%20%22maxNativeZoom%22%3A%2018%2C%0A%20%20%20%20%20%20%20%20%22maxZoom%22%3A%2018%2C%0A%20%20%20%20%20%20%20%20%22minZoom%22%3A%200%2C%0A%20%20%20%20%20%20%20%20%22noWrap%22%3A%20false%2C%0A%20%20%20%20%20%20%20%20%22opacity%22%3A%201%2C%0A%20%20%20%20%20%20%20%20%22subdomains%22%3A%20%22abc%22%2C%0A%20%20%20%20%20%20%20%20%22tms%22%3A%20false%0A%7D%29.addTo%28map_2c546225a6e84886a30cb71e23a32726%29%3B%0A%20%20%20%20var%20tile_layer_f0363ec794e24a1f9609db1944265b1e%20%3D%20L.tileLayer%28%0A%20%20%20%20%20%20%20%20%27https%3A//earthengine.googleapis.com/v1alpha/projects/earthengine-legacy/maps/c2511d91916b5fa1006b033f3ff0996a-40ebdf48813f6deed2ab53226b9e88b7/tiles/%7Bz%7D/%7Bx%7D/%7By%7D%27%2C%0A%20%20%20%20%20%20%20%20%7B%0A%20%20%20%20%20%20%20%20%22attribution%22%3A%20%22Google%20Earth%20Engine%22%2C%0A%20%20%20%20%20%20%20%20%22detectRetina%22%3A%20false%2C%0A%20%20%20%20%20%20%20%20%22maxNativeZoom%22%3A%2018%2C%0A%20%20%20%20%20%20%20%20%22maxZoom%22%3A%2018%2C%0A%20%20%20%20%20%20%20%20%22minZoom%22%3A%200%2C%0A%20%20%20%20%20%20%20%20%22noWrap%22%3A%20false%2C%0A%20%20%20%20%20%20%20%20%22opacity%22%3A%201%2C%0A%20%20%20%20%20%20%20%20%22subdomains%22%3A%20%22abc%22%2C%0A%20%20%20%20%20%20%20%20%22tms%22%3A%20false%0A%7D%29.addTo%28map_2c546225a6e84886a30cb71e23a32726%29%3B%0A%20%20%20%20var%20tile_layer_e62e9462e18844af980f9b5406670c75%20%3D%20L.tileLayer%28%0A%20%20%20%20%20%20%20%20%27https%3A//earthengine.googleapis.com/v1alpha/projects/earthengine-legacy/maps/1356dc6123ed787bc2d8284755a55d2d-32ca812e2ab73b84bc1195a6298986c3/tiles/%7Bz%7D/%7Bx%7D/%7By%7D%27%2C%0A%20%20%20%20%20%20%20%20%7B%0A%20%20%20%20%20%20%20%20%22attribution%22%3A%20%22Google%20Earth%20Engine%22%2C%0A%20%20%20%20%20%20%20%20%22detectRetina%22%3A%20false%2C%0A%20%20%20%20%20%20%20%20%22maxNativeZoom%22%3A%2018%2C%0A%20%20%20%20%20%20%20%20%22maxZoom%22%3A%2018%2C%0A%20%20%20%20%20%20%20%20%22minZoom%22%3A%200%2C%0A%20%20%20%20%20%20%20%20%22noWrap%22%3A%20false%2C%0A%20%20%20%20%20%20%20%20%22opacity%22%3A%201%2C%0A%20%20%20%20%20%20%20%20%22subdomains%22%3A%20%22abc%22%2C%0A%20%20%20%20%20%20%20%20%22tms%22%3A%20false%0A%7D%29.addTo%28map_2c546225a6e84886a30cb71e23a32726%29%3B%0A%20%20%20%20var%20tile_layer_c37f3dc93009414eb755f8c1f4b38306%20%3D%20L.tileLayer%28%0A%20%20%20%20%20%20%20%20%27https%3A//earthengine.googleapis.com/v1alpha/projects/earthengine-legacy/maps/6674331cbc5b4efd1e91788a2143e3bb-93cc51443f1b1114acb16c7d984fe6a7/tiles/%7Bz%7D/%7Bx%7D/%7By%7D%27%2C%0A%20%20%20%20%20%20%20%20%7B%0A%20%20%20%20%20%20%20%20%22attribution%22%3A%20%22Google%20Earth%20Engine%22%2C%0A%20%20%20%20%20%20%20%20%22detectRetina%22%3A%20false%2C%0A%20%20%20%20%20%20%20%20%22maxNativeZoom%22%3A%2018%2C%0A%20%20%20%20%20%20%20%20%22maxZoom%22%3A%2018%2C%0A%20%20%20%20%20%20%20%20%22minZoom%22%3A%200%2C%0A%20%20%20%20%20%20%20%20%22noWrap%22%3A%20false%2C%0A%20%20%20%20%20%20%20%20%22opacity%22%3A%201%2C%0A%20%20%20%20%20%20%20%20%22subdomains%22%3A%20%22abc%22%2C%0A%20%20%20%20%20%20%20%20%22tms%22%3A%20false%0A%7D%29.addTo%28map_2c546225a6e84886a30cb71e23a32726%29%3B%0A%20%20%20%20var%20tile_layer_54a966b0f8da489ba7d168409f526f1f%20%3D%20L.tileLayer%28%0A%20%20%20%20%20%20%20%20%27https%3A//earthengine.googleapis.com/v1alpha/projects/earthengine-legacy/maps/70eca37b484204602cb1217c193cde3b-e316aeebb5cf00e4ceeb6794c7674ad6/tiles/%7Bz%7D/%7Bx%7D/%7By%7D%27%2C%0A%20%20%20%20%20%20%20%20%7B%0A%20%20%20%20%20%20%20%20%22attribution%22%3A%20%22Google%20Earth%20Engine%22%2C%0A%20%20%20%20%20%20%20%20%22detectRetina%22%3A%20false%2C%0A%20%20%20%20%20%20%20%20%22maxNativeZoom%22%3A%2018%2C%0A%20%20%20%20%20%20%20%20%22maxZoom%22%3A%2018%2C%0A%20%20%20%20%20%20%20%20%22minZoom%22%3A%200%2C%0A%20%20%20%20%20%20%20%20%22noWrap%22%3A%20false%2C%0A%20%20%20%20%20%20%20%20%22opacity%22%3A%201%2C%0A%20%20%20%20%20%20%20%20%22subdomains%22%3A%20%22abc%22%2C%0A%20%20%20%20%20%20%20%20%22tms%22%3A%20false%0A%7D%29.addTo%28map_2c546225a6e84886a30cb71e23a32726%29%3B%0A%20%20%20%20var%20tile_layer_6cea0b96c01643ccb446f01bc9b97bd3%20%3D%20L.tileLayer%28%0A%20%20%20%20%20%20%20%20%27https%3A//earthengine.googleapis.com/v1alpha/projects/earthengine-legacy/maps/596723c0760052980f3401312270786a-482e7913e938463fdf54a6bda2f8ae9f/tiles/%7Bz%7D/%7Bx%7D/%7By%7D%27%2C%0A%20%20%20%20%20%20%20%20%7B%0A%20%20%20%20%20%20%20%20%22attribution%22%3A%20%22Google%20Earth%20Engine%22%2C%0A%20%20%20%20%20%20%20%20%22detectRetina%22%3A%20false%2C%0A%20%20%20%20%20%20%20%20%22maxNativeZoom%22%3A%2018%2C%0A%20%20%20%20%20%20%20%20%22maxZoom%22%3A%2018%2C%0A%20%20%20%20%20%20%20%20%22minZoom%22%3A%200%2C%0A%20%20%20%20%20%20%20%20%22noWrap%22%3A%20false%2C%0A%20%20%20%20%20%20%20%20%22opacity%22%3A%201%2C%0A%20%20%20%20%20%20%20%20%22subdomains%22%3A%20%22abc%22%2C%0A%20%20%20%20%20%20%20%20%22tms%22%3A%20false%0A%7D%29.addTo%28map_2c546225a6e84886a30cb71e23a32726%29%3B%0A%20%20%20%20var%20tile_layer_54cb9122cf2a4c0e9cfe2469cb5160e2%20%3D%20L.tileLayer%28%0A%20%20%20%20%20%20%20%20%27https%3A//earthengine.googleapis.com/v1alpha/projects/earthengine-legacy/maps/8230bec42caeddbf098eeb65cd56319d-6e39314c6844c80ac5fd0c57968e1061/tiles/%7Bz%7D/%7Bx%7D/%7By%7D%27%2C%0A%20%20%20%20%20%20%20%20%7B%0A%20%20%20%20%20%20%20%20%22attribution%22%3A%20%22Google%20Earth%20Engine%22%2C%0A%20%20%20%20%20%20%20%20%22detectRetina%22%3A%20false%2C%0A%20%20%20%20%20%20%20%20%22maxNativeZoom%22%3A%2018%2C%0A%20%20%20%20%20%20%20%20%22maxZoom%22%3A%2018%2C%0A%20%20%20%20%20%20%20%20%22minZoom%22%3A%200%2C%0A%20%20%20%20%20%20%20%20%22noWrap%22%3A%20false%2C%0A%20%20%20%20%20%20%20%20%22opacity%22%3A%201%2C%0A%20%20%20%20%20%20%20%20%22subdomains%22%3A%20%22abc%22%2C%0A%20%20%20%20%20%20%20%20%22tms%22%3A%20false%0A%7D%29.addTo%28map_2c546225a6e84886a30cb71e23a32726%29%3B%0A%20%20%20%20var%20tile_layer_6f8ebf15bcbe497da42045971e6f9dd1%20%3D%20L.tileLayer%28%0A%20%20%20%20%20%20%20%20%27https%3A//earthengine.googleapis.com/v1alpha/projects/earthengine-legacy/maps/832e558ce78cc4cfbc352d0a4a6ea374-8fab0100d83b827011d449340d53139c/tiles/%7Bz%7D/%7Bx%7D/%7By%7D%27%2C%0A%20%20%20%20%20%20%20%20%7B%0A%20%20%20%20%20%20%20%20%22attribution%22%3A%20%22Google%20Earth%20Engine%22%2C%0A%20%20%20%20%20%20%20%20%22detectRetina%22%3A%20false%2C%0A%20%20%20%20%20%20%20%20%22maxNativeZoom%22%3A%2018%2C%0A%20%20%20%20%20%20%20%20%22maxZoom%22%3A%2018%2C%0A%20%20%20%20%20%20%20%20%22minZoom%22%3A%200%2C%0A%20%20%20%20%20%20%20%20%22noWrap%22%3A%20false%2C%0A%20%20%20%20%20%20%20%20%22opacity%22%3A%201%2C%0A%20%20%20%20%20%20%20%20%22subdomains%22%3A%20%22abc%22%2C%0A%20%20%20%20%20%20%20%20%22tms%22%3A%20false%0A%7D%29.addTo%28map_2c546225a6e84886a30cb71e23a32726%29%3B%0A%20%20%20%20var%20tile_layer_af369798b1284c4ead6531f943757e2c%20%3D%20L.tileLayer%28%0A%20%20%20%20%20%20%20%20%27https%3A//earthengine.googleapis.com/v1alpha/projects/earthengine-legacy/maps/af2ae35a01efb9bc6d36b1fe5c4f6d99-e052cb82377b610b9ecee61e98207002/tiles/%7Bz%7D/%7Bx%7D/%7By%7D%27%2C%0A%20%20%20%20%20%20%20%20%7B%0A%20%20%20%20%20%20%20%20%22attribution%22%3A%20%22Google%20Earth%20Engine%22%2C%0A%20%20%20%20%20%20%20%20%22detectRetina%22%3A%20false%2C%0A%20%20%20%20%20%20%20%20%22maxNativeZoom%22%3A%2018%2C%0A%20%20%20%20%20%20%20%20%22maxZoom%22%3A%2018%2C%0A%20%20%20%20%20%20%20%20%22minZoom%22%3A%200%2C%0A%20%20%20%20%20%20%20%20%22noWrap%22%3A%20false%2C%0A%20%20%20%20%20%20%20%20%22opacity%22%3A%201%2C%0A%20%20%20%20%20%20%20%20%22subdomains%22%3A%20%22abc%22%2C%0A%20%20%20%20%20%20%20%20%22tms%22%3A%20false%0A%7D%29.addTo%28map_2c546225a6e84886a30cb71e23a32726%29%3B%0A%20%20%20%20var%20tile_layer_d85b52fa4ddd4b5faa81f1cd8687b5e4%20%3D%20L.tileLayer%28%0A%20%20%20%20%20%20%20%20%27https%3A//earthengine.googleapis.com/v1alpha/projects/earthengine-legacy/maps/e6eadfcd2c83b575f9a9049dd0cc61fc-12d5777bf84507b3bde1a5cedfdf6501/tiles/%7Bz%7D/%7Bx%7D/%7By%7D%27%2C%0A%20%20%20%20%20%20%20%20%7B%0A%20%20%20%20%20%20%20%20%22attribution%22%3A%20%22Google%20Earth%20Engine%22%2C%0A%20%20%20%20%20%20%20%20%22detectRetina%22%3A%20false%2C%0A%20%20%20%20%20%20%20%20%22maxNativeZoom%22%3A%2018%2C%0A%20%20%20%20%20%20%20%20%22maxZoom%22%3A%2018%2C%0A%20%20%20%20%20%20%20%20%22minZoom%22%3A%200%2C%0A%20%20%20%20%20%20%20%20%22noWrap%22%3A%20false%2C%0A%20%20%20%20%20%20%20%20%22opacity%22%3A%201%2C%0A%20%20%20%20%20%20%20%20%22subdomains%22%3A%20%22abc%22%2C%0A%20%20%20%20%20%20%20%20%22tms%22%3A%20false%0A%7D%29.addTo%28map_2c546225a6e84886a30cb71e23a32726%29%3B%0A%20%20%20%20var%20tile_layer_746a87d06a914b53bc4da625e49ebfa7%20%3D%20L.tileLayer%28%0A%20%20%20%20%20%20%20%20%27https%3A//earthengine.googleapis.com/v1alpha/projects/earthengine-legacy/maps/2360d7477da9b7feb9b27f70453dfee0-48632a4f26875a004399344c2cb52f12/tiles/%7Bz%7D/%7Bx%7D/%7By%7D%27%2C%0A%20%20%20%20%20%20%20%20%7B%0A%20%20%20%20%20%20%20%20%22attribution%22%3A%20%22Google%20Earth%20Engine%22%2C%0A%20%20%20%20%20%20%20%20%22detectRetina%22%3A%20false%2C%0A%20%20%20%20%20%20%20%20%22maxNativeZoom%22%3A%2018%2C%0A%20%20%20%20%20%20%20%20%22maxZoom%22%3A%2018%2C%0A%20%20%20%20%20%20%20%20%22minZoom%22%3A%200%2C%0A%20%20%20%20%20%20%20%20%22noWrap%22%3A%20false%2C%0A%20%20%20%20%20%20%20%20%22opacity%22%3A%201%2C%0A%20%20%20%20%20%20%20%20%22subdomains%22%3A%20%22abc%22%2C%0A%20%20%20%20%20%20%20%20%22tms%22%3A%20false%0A%7D%29.addTo%28map_2c546225a6e84886a30cb71e23a32726%29%3B%0A%20%20%20%20var%20tile_layer_a2a784214d424688a1a5199988e63048%20%3D%20L.tileLayer%28%0A%20%20%20%20%20%20%20%20%27https%3A//earthengine.googleapis.com/v1alpha/projects/earthengine-legacy/maps/fc31231f7d6bb89a6a9c5bc5524f4811-1e56ae796a4d3df11c2427f5db61c67f/tiles/%7Bz%7D/%7Bx%7D/%7By%7D%27%2C%0A%20%20%20%20%20%20%20%20%7B%0A%20%20%20%20%20%20%20%20%22attribution%22%3A%20%22Google%20Earth%20Engine%22%2C%0A%20%20%20%20%20%20%20%20%22detectRetina%22%3A%20false%2C%0A%20%20%20%20%20%20%20%20%22maxNativeZoom%22%3A%2018%2C%0A%20%20%20%20%20%20%20%20%22maxZoom%22%3A%2018%2C%0A%20%20%20%20%20%20%20%20%22minZoom%22%3A%200%2C%0A%20%20%20%20%20%20%20%20%22noWrap%22%3A%20false%2C%0A%20%20%20%20%20%20%20%20%22opacity%22%3A%201%2C%0A%20%20%20%20%20%20%20%20%22subdomains%22%3A%20%22abc%22%2C%0A%20%20%20%20%20%20%20%20%22tms%22%3A%20false%0A%7D%29.addTo%28map_2c546225a6e84886a30cb71e23a32726%29%3B%0A%20%20%20%20var%20tile_layer_1713e661642e4dc5b33cae90d24053f4%20%3D%20L.tileLayer%28%0A%20%20%20%20%20%20%20%20%27https%3A//earthengine.googleapis.com/v1alpha/projects/earthengine-legacy/maps/244fe775e5c5f041410d02055d6c8d1e-8cfde2f663c582973bf79752527e8522/tiles/%7Bz%7D/%7Bx%7D/%7By%7D%27%2C%0A%20%20%20%20%20%20%20%20%7B%0A%20%20%20%20%20%20%20%20%22attribution%22%3A%20%22Google%20Earth%20Engine%22%2C%0A%20%20%20%20%20%20%20%20%22detectRetina%22%3A%20false%2C%0A%20%20%20%20%20%20%20%20%22maxNativeZoom%22%3A%2018%2C%0A%20%20%20%20%20%20%20%20%22maxZoom%22%3A%2018%2C%0A%20%20%20%20%20%20%20%20%22minZoom%22%3A%200%2C%0A%20%20%20%20%20%20%20%20%22noWrap%22%3A%20false%2C%0A%20%20%20%20%20%20%20%20%22opacity%22%3A%201%2C%0A%20%20%20%20%20%20%20%20%22subdomains%22%3A%20%22abc%22%2C%0A%20%20%20%20%20%20%20%20%22tms%22%3A%20false%0A%7D%29.addTo%28map_2c546225a6e84886a30cb71e23a32726%29%3B%0A%20%20%20%20var%20tile_layer_920025031d684721967e44db472ce026%20%3D%20L.tileLayer%28%0A%20%20%20%20%20%20%20%20%27https%3A//earthengine.googleapis.com/v1alpha/projects/earthengine-legacy/maps/a3af05c392b75c3c53aa86329b57827c-ca0693bea62fa098f7732fe937025244/tiles/%7Bz%7D/%7Bx%7D/%7By%7D%27%2C%0A%20%20%20%20%20%20%20%20%7B%0A%20%20%20%20%20%20%20%20%22attribution%22%3A%20%22Google%20Earth%20Engine%22%2C%0A%20%20%20%20%20%20%20%20%22detectRetina%22%3A%20false%2C%0A%20%20%20%20%20%20%20%20%22maxNativeZoom%22%3A%2018%2C%0A%20%20%20%20%20%20%20%20%22maxZoom%22%3A%2018%2C%0A%20%20%20%20%20%20%20%20%22minZoom%22%3A%200%2C%0A%20%20%20%20%20%20%20%20%22noWrap%22%3A%20false%2C%0A%20%20%20%20%20%20%20%20%22opacity%22%3A%201%2C%0A%20%20%20%20%20%20%20%20%22subdomains%22%3A%20%22abc%22%2C%0A%20%20%20%20%20%20%20%20%22tms%22%3A%20false%0A%7D%29.addTo%28map_2c546225a6e84886a30cb71e23a32726%29%3B%0A%20%20%20%20var%20tile_layer_5637d59eb00c4b679a8714576e428eb9%20%3D%20L.tileLayer%28%0A%20%20%20%20%20%20%20%20%27https%3A//earthengine.googleapis.com/v1alpha/projects/earthengine-legacy/maps/e2a4529a58bbb3e42554baf410eeee7c-1a792b03b9ca5e393e8a1bee683a7ac8/tiles/%7Bz%7D/%7Bx%7D/%7By%7D%27%2C%0A%20%20%20%20%20%20%20%20%7B%0A%20%20%20%20%20%20%20%20%22attribution%22%3A%20%22Google%20Earth%20Engine%22%2C%0A%20%20%20%20%20%20%20%20%22detectRetina%22%3A%20false%2C%0A%20%20%20%20%20%20%20%20%22maxNativeZoom%22%3A%2018%2C%0A%20%20%20%20%20%20%20%20%22maxZoom%22%3A%2018%2C%0A%20%20%20%20%20%20%20%20%22minZoom%22%3A%200%2C%0A%20%20%20%20%20%20%20%20%22noWrap%22%3A%20false%2C%0A%20%20%20%20%20%20%20%20%22opacity%22%3A%201%2C%0A%20%20%20%20%20%20%20%20%22subdomains%22%3A%20%22abc%22%2C%0A%20%20%20%20%20%20%20%20%22tms%22%3A%20false%0A%7D%29.addTo%28map_2c546225a6e84886a30cb71e23a32726%29%3B%0A%20%20%20%20var%20tile_layer_7f095eed72b74f01b4c1006d5d735cf9%20%3D%20L.tileLayer%28%0A%20%20%20%20%20%20%20%20%27https%3A//earthengine.googleapis.com/v1alpha/projects/earthengine-legacy/maps/db92dce71a092f24996f1face66ca452-3ac5429ed81f81297cf5105af4c20f22/tiles/%7Bz%7D/%7Bx%7D/%7By%7D%27%2C%0A%20%20%20%20%20%20%20%20%7B%0A%20%20%20%20%20%20%20%20%22attribution%22%3A%20%22Google%20Earth%20Engine%22%2C%0A%20%20%20%20%20%20%20%20%22detectRetina%22%3A%20false%2C%0A%20%20%20%20%20%20%20%20%22maxNativeZoom%22%3A%2018%2C%0A%20%20%20%20%20%20%20%20%22maxZoom%22%3A%2018%2C%0A%20%20%20%20%20%20%20%20%22minZoom%22%3A%200%2C%0A%20%20%20%20%20%20%20%20%22noWrap%22%3A%20false%2C%0A%20%20%20%20%20%20%20%20%22opacity%22%3A%201%2C%0A%20%20%20%20%20%20%20%20%22subdomains%22%3A%20%22abc%22%2C%0A%20%20%20%20%20%20%20%20%22tms%22%3A%20false%0A%7D%29.addTo%28map_2c546225a6e84886a30cb71e23a32726%29%3B%0A%20%20%20%20var%20tile_layer_0d1973c8ce084fdabf40ac592d5c2ed8%20%3D%20L.tileLayer%28%0A%20%20%20%20%20%20%20%20%27https%3A//earthengine.googleapis.com/v1alpha/projects/earthengine-legacy/maps/af00fad349a143aef6df50c9768181c8-e98536fe37d19cde133f723125a34a73/tiles/%7Bz%7D/%7Bx%7D/%7By%7D%27%2C%0A%20%20%20%20%20%20%20%20%7B%0A%20%20%20%20%20%20%20%20%22attribution%22%3A%20%22Google%20Earth%20Engine%22%2C%0A%20%20%20%20%20%20%20%20%22detectRetina%22%3A%20false%2C%0A%20%20%20%20%20%20%20%20%22maxNativeZoom%22%3A%2018%2C%0A%20%20%20%20%20%20%20%20%22maxZoom%22%3A%2018%2C%0A%20%20%20%20%20%20%20%20%22minZoom%22%3A%200%2C%0A%20%20%20%20%20%20%20%20%22noWrap%22%3A%20false%2C%0A%20%20%20%20%20%20%20%20%22opacity%22%3A%201%2C%0A%20%20%20%20%20%20%20%20%22subdomains%22%3A%20%22abc%22%2C%0A%20%20%20%20%20%20%20%20%22tms%22%3A%20false%0A%7D%29.addTo%28map_2c546225a6e84886a30cb71e23a32726%29%3B%0A%20%20%20%20var%20tile_layer_618b63b8d9c54c88853e372b33374ce0%20%3D%20L.tileLayer%28%0A%20%20%20%20%20%20%20%20%27https%3A//earthengine.googleapis.com/v1alpha/projects/earthengine-legacy/maps/2ebb405b8ec21262c7ffb3983d6e7e77-f2e9c9d543a452808b0bb5bad4b0def9/tiles/%7Bz%7D/%7Bx%7D/%7By%7D%27%2C%0A%20%20%20%20%20%20%20%20%7B%0A%20%20%20%20%20%20%20%20%22attribution%22%3A%20%22Google%20Earth%20Engine%22%2C%0A%20%20%20%20%20%20%20%20%22detectRetina%22%3A%20false%2C%0A%20%20%20%20%20%20%20%20%22maxNativeZoom%22%3A%2018%2C%0A%20%20%20%20%20%20%20%20%22maxZoom%22%3A%2018%2C%0A%20%20%20%20%20%20%20%20%22minZoom%22%3A%200%2C%0A%20%20%20%20%20%20%20%20%22noWrap%22%3A%20false%2C%0A%20%20%20%20%20%20%20%20%22opacity%22%3A%201%2C%0A%20%20%20%20%20%20%20%20%22subdomains%22%3A%20%22abc%22%2C%0A%20%20%20%20%20%20%20%20%22tms%22%3A%20false%0A%7D%29.addTo%28map_2c546225a6e84886a30cb71e23a32726%29%3B%0A%20%20%20%20var%20tile_layer_a59c6532c8df4d9cb57c1c9bb2ff4f16%20%3D%20L.tileLayer%28%0A%20%20%20%20%20%20%20%20%27https%3A//earthengine.googleapis.com/v1alpha/projects/earthengine-legacy/maps/d68602f4143992aa0798bf5fc78982e0-5d018790b53ccc9cf67d0a596d23d088/tiles/%7Bz%7D/%7Bx%7D/%7By%7D%27%2C%0A%20%20%20%20%20%20%20%20%7B%0A%20%20%20%20%20%20%20%20%22attribution%22%3A%20%22Google%20Earth%20Engine%22%2C%0A%20%20%20%20%20%20%20%20%22detectRetina%22%3A%20false%2C%0A%20%20%20%20%20%20%20%20%22maxNativeZoom%22%3A%2018%2C%0A%20%20%20%20%20%20%20%20%22maxZoom%22%3A%2018%2C%0A%20%20%20%20%20%20%20%20%22minZoom%22%3A%200%2C%0A%20%20%20%20%20%20%20%20%22noWrap%22%3A%20false%2C%0A%20%20%20%20%20%20%20%20%22opacity%22%3A%201%2C%0A%20%20%20%20%20%20%20%20%22subdomains%22%3A%20%22abc%22%2C%0A%20%20%20%20%20%20%20%20%22tms%22%3A%20false%0A%7D%29.addTo%28map_2c546225a6e84886a30cb71e23a32726%29%3B%0A%20%20%20%20var%20tile_layer_29a39b9f6ffe43619caff1948c793a6b%20%3D%20L.tileLayer%28%0A%20%20%20%20%20%20%20%20%27https%3A//earthengine.googleapis.com/v1alpha/projects/earthengine-legacy/maps/ecb2fd6909a7e4e6d627e63528066986-a9de77225f88d90f85a2ee0c809b191a/tiles/%7Bz%7D/%7Bx%7D/%7By%7D%27%2C%0A%20%20%20%20%20%20%20%20%7B%0A%20%20%20%20%20%20%20%20%22attribution%22%3A%20%22Google%20Earth%20Engine%22%2C%0A%20%20%20%20%20%20%20%20%22detectRetina%22%3A%20false%2C%0A%20%20%20%20%20%20%20%20%22maxNativeZoom%22%3A%2018%2C%0A%20%20%20%20%20%20%20%20%22maxZoom%22%3A%2018%2C%0A%20%20%20%20%20%20%20%20%22minZoom%22%3A%200%2C%0A%20%20%20%20%20%20%20%20%22noWrap%22%3A%20false%2C%0A%20%20%20%20%20%20%20%20%22opacity%22%3A%201%2C%0A%20%20%20%20%20%20%20%20%22subdomains%22%3A%20%22abc%22%2C%0A%20%20%20%20%20%20%20%20%22tms%22%3A%20false%0A%7D%29.addTo%28map_2c546225a6e84886a30cb71e23a32726%29%3B%0A%20%20%20%20var%20tile_layer_1d53df9447d34cc181f41deaad1a3536%20%3D%20L.tileLayer%28%0A%20%20%20%20%20%20%20%20%27https%3A//earthengine.googleapis.com/v1alpha/projects/earthengine-legacy/maps/6fcb823814946b6ea70870fad49e9ce6-43346ce95501a9cdded3e26a6a16037f/tiles/%7Bz%7D/%7Bx%7D/%7By%7D%27%2C%0A%20%20%20%20%20%20%20%20%7B%0A%20%20%20%20%20%20%20%20%22attribution%22%3A%20%22Google%20Earth%20Engine%22%2C%0A%20%20%20%20%20%20%20%20%22detectRetina%22%3A%20false%2C%0A%20%20%20%20%20%20%20%20%22maxNativeZoom%22%3A%2018%2C%0A%20%20%20%20%20%20%20%20%22maxZoom%22%3A%2018%2C%0A%20%20%20%20%20%20%20%20%22minZoom%22%3A%200%2C%0A%20%20%20%20%20%20%20%20%22noWrap%22%3A%20false%2C%0A%20%20%20%20%20%20%20%20%22opacity%22%3A%201%2C%0A%20%20%20%20%20%20%20%20%22subdomains%22%3A%20%22abc%22%2C%0A%20%20%20%20%20%20%20%20%22tms%22%3A%20false%0A%7D%29.addTo%28map_2c546225a6e84886a30cb71e23a32726%29%3B%0A%20%20%20%20var%20tile_layer_5a031cf3f31d4127a3f0433d73a2fade%20%3D%20L.tileLayer%28%0A%20%20%20%20%20%20%20%20%27https%3A//earthengine.googleapis.com/v1alpha/projects/earthengine-legacy/maps/6cbb3b567afe2e9e0f2cd6879d93a884-ea69ed5bbd6a4212b1160cfd53189c28/tiles/%7Bz%7D/%7Bx%7D/%7By%7D%27%2C%0A%20%20%20%20%20%20%20%20%7B%0A%20%20%20%20%20%20%20%20%22attribution%22%3A%20%22Google%20Earth%20Engine%22%2C%0A%20%20%20%20%20%20%20%20%22detectRetina%22%3A%20false%2C%0A%20%20%20%20%20%20%20%20%22maxNativeZoom%22%3A%2018%2C%0A%20%20%20%20%20%20%20%20%22maxZoom%22%3A%2018%2C%0A%20%20%20%20%20%20%20%20%22minZoom%22%3A%200%2C%0A%20%20%20%20%20%20%20%20%22noWrap%22%3A%20false%2C%0A%20%20%20%20%20%20%20%20%22opacity%22%3A%201%2C%0A%20%20%20%20%20%20%20%20%22subdomains%22%3A%20%22abc%22%2C%0A%20%20%20%20%20%20%20%20%22tms%22%3A%20false%0A%7D%29.addTo%28map_2c546225a6e84886a30cb71e23a32726%29%3B%0A%20%20%20%20var%20tile_layer_c93beaccbdc340f380a0fa4db201468d%20%3D%20L.tileLayer%28%0A%20%20%20%20%20%20%20%20%27https%3A//earthengine.googleapis.com/v1alpha/projects/earthengine-legacy/maps/3c656673904983be96aff0399318c294-4337d269fe4679d9b52c3aa9d9e9c7dc/tiles/%7Bz%7D/%7Bx%7D/%7By%7D%27%2C%0A%20%20%20%20%20%20%20%20%7B%0A%20%20%20%20%20%20%20%20%22attribution%22%3A%20%22Google%20Earth%20Engine%22%2C%0A%20%20%20%20%20%20%20%20%22detectRetina%22%3A%20false%2C%0A%20%20%20%20%20%20%20%20%22maxNativeZoom%22%3A%2018%2C%0A%20%20%20%20%20%20%20%20%22maxZoom%22%3A%2018%2C%0A%20%20%20%20%20%20%20%20%22minZoom%22%3A%200%2C%0A%20%20%20%20%20%20%20%20%22noWrap%22%3A%20false%2C%0A%20%20%20%20%20%20%20%20%22opacity%22%3A%201%2C%0A%20%20%20%20%20%20%20%20%22subdomains%22%3A%20%22abc%22%2C%0A%20%20%20%20%20%20%20%20%22tms%22%3A%20false%0A%7D%29.addTo%28map_2c546225a6e84886a30cb71e23a32726%29%3B%0A%20%20%20%20var%20tile_layer_bafe8513bf4f4fef88f957c5bbcda719%20%3D%20L.tileLayer%28%0A%20%20%20%20%20%20%20%20%27https%3A//earthengine.googleapis.com/v1alpha/projects/earthengine-legacy/maps/0bca6e4ecde294ce7743e8e50f16c370-0c9faf4406ba8eeb8efbbdf684f8b428/tiles/%7Bz%7D/%7Bx%7D/%7By%7D%27%2C%0A%20%20%20%20%20%20%20%20%7B%0A%20%20%20%20%20%20%20%20%22attribution%22%3A%20%22Google%20Earth%20Engine%22%2C%0A%20%20%20%20%20%20%20%20%22detectRetina%22%3A%20false%2C%0A%20%20%20%20%20%20%20%20%22maxNativeZoom%22%3A%2018%2C%0A%20%20%20%20%20%20%20%20%22maxZoom%22%3A%2018%2C%0A%20%20%20%20%20%20%20%20%22minZoom%22%3A%200%2C%0A%20%20%20%20%20%20%20%20%22noWrap%22%3A%20false%2C%0A%20%20%20%20%20%20%20%20%22opacity%22%3A%201%2C%0A%20%20%20%20%20%20%20%20%22subdomains%22%3A%20%22abc%22%2C%0A%20%20%20%20%20%20%20%20%22tms%22%3A%20false%0A%7D%29.addTo%28map_2c546225a6e84886a30cb71e23a32726%29%3B%0A%20%20%20%20var%20tile_layer_ab76308953fd47caa34f65aeac3e96be%20%3D%20L.tileLayer%28%0A%20%20%20%20%20%20%20%20%27https%3A//earthengine.googleapis.com/v1alpha/projects/earthengine-legacy/maps/b7edd72fbde6a89ea7713f234266b2b6-8d2cf2345fcecfd9769377637c37fd1c/tiles/%7Bz%7D/%7Bx%7D/%7By%7D%27%2C%0A%20%20%20%20%20%20%20%20%7B%0A%20%20%20%20%20%20%20%20%22attribution%22%3A%20%22Google%20Earth%20Engine%22%2C%0A%20%20%20%20%20%20%20%20%22detectRetina%22%3A%20false%2C%0A%20%20%20%20%20%20%20%20%22maxNativeZoom%22%3A%2018%2C%0A%20%20%20%20%20%20%20%20%22maxZoom%22%3A%2018%2C%0A%20%20%20%20%20%20%20%20%22minZoom%22%3A%200%2C%0A%20%20%20%20%20%20%20%20%22noWrap%22%3A%20false%2C%0A%20%20%20%20%20%20%20%20%22opacity%22%3A%201%2C%0A%20%20%20%20%20%20%20%20%22subdomains%22%3A%20%22abc%22%2C%0A%20%20%20%20%20%20%20%20%22tms%22%3A%20false%0A%7D%29.addTo%28map_2c546225a6e84886a30cb71e23a32726%29%3B%0A%20%20%20%20var%20tile_layer_4ec13ca532c745eea7b84716a4d226c8%20%3D%20L.tileLayer%28%0A%20%20%20%20%20%20%20%20%27https%3A//earthengine.googleapis.com/v1alpha/projects/earthengine-legacy/maps/ff6e13f0db04b0f8382b3626ca4b18c1-3dab42033b328b0f3887424ffb49ac17/tiles/%7Bz%7D/%7Bx%7D/%7By%7D%27%2C%0A%20%20%20%20%20%20%20%20%7B%0A%20%20%20%20%20%20%20%20%22attribution%22%3A%20%22Google%20Earth%20Engine%22%2C%0A%20%20%20%20%20%20%20%20%22detectRetina%22%3A%20false%2C%0A%20%20%20%20%20%20%20%20%22maxNativeZoom%22%3A%2018%2C%0A%20%20%20%20%20%20%20%20%22maxZoom%22%3A%2018%2C%0A%20%20%20%20%20%20%20%20%22minZoom%22%3A%200%2C%0A%20%20%20%20%20%20%20%20%22noWrap%22%3A%20false%2C%0A%20%20%20%20%20%20%20%20%22opacity%22%3A%201%2C%0A%20%20%20%20%20%20%20%20%22subdomains%22%3A%20%22abc%22%2C%0A%20%20%20%20%20%20%20%20%22tms%22%3A%20false%0A%7D%29.addTo%28map_2c546225a6e84886a30cb71e23a32726%29%3B%0A%20%20%20%20var%20tile_layer_dc27f514ff654280981e880bce36eaac%20%3D%20L.tileLayer%28%0A%20%20%20%20%20%20%20%20%27https%3A//earthengine.googleapis.com/v1alpha/projects/earthengine-legacy/maps/98cffab83d7240012aa9ef45173bd2b2-76cabc2a58bd5221caecb18417db27df/tiles/%7Bz%7D/%7Bx%7D/%7By%7D%27%2C%0A%20%20%20%20%20%20%20%20%7B%0A%20%20%20%20%20%20%20%20%22attribution%22%3A%20%22Google%20Earth%20Engine%22%2C%0A%20%20%20%20%20%20%20%20%22detectRetina%22%3A%20false%2C%0A%20%20%20%20%20%20%20%20%22maxNativeZoom%22%3A%2018%2C%0A%20%20%20%20%20%20%20%20%22maxZoom%22%3A%2018%2C%0A%20%20%20%20%20%20%20%20%22minZoom%22%3A%200%2C%0A%20%20%20%20%20%20%20%20%22noWrap%22%3A%20false%2C%0A%20%20%20%20%20%20%20%20%22opacity%22%3A%201%2C%0A%20%20%20%20%20%20%20%20%22subdomains%22%3A%20%22abc%22%2C%0A%20%20%20%20%20%20%20%20%22tms%22%3A%20false%0A%7D%29.addTo%28map_2c546225a6e84886a30cb71e23a32726%29%3B%0A%20%20%20%20var%20tile_layer_5328dc90d6a1438bb8cd990d4aa7ad27%20%3D%20L.tileLayer%28%0A%20%20%20%20%20%20%20%20%27https%3A//earthengine.googleapis.com/v1alpha/projects/earthengine-legacy/maps/4023b76bed4c19967073aae4763ddaca-9a1883963e9a0700bab966e13d48170d/tiles/%7Bz%7D/%7Bx%7D/%7By%7D%27%2C%0A%20%20%20%20%20%20%20%20%7B%0A%20%20%20%20%20%20%20%20%22attribution%22%3A%20%22Google%20Earth%20Engine%22%2C%0A%20%20%20%20%20%20%20%20%22detectRetina%22%3A%20false%2C%0A%20%20%20%20%20%20%20%20%22maxNativeZoom%22%3A%2018%2C%0A%20%20%20%20%20%20%20%20%22maxZoom%22%3A%2018%2C%0A%20%20%20%20%20%20%20%20%22minZoom%22%3A%200%2C%0A%20%20%20%20%20%20%20%20%22noWrap%22%3A%20false%2C%0A%20%20%20%20%20%20%20%20%22opacity%22%3A%201%2C%0A%20%20%20%20%20%20%20%20%22subdomains%22%3A%20%22abc%22%2C%0A%20%20%20%20%20%20%20%20%22tms%22%3A%20false%0A%7D%29.addTo%28map_2c546225a6e84886a30cb71e23a32726%29%3B%0A%20%20%20%20%0A%20%20%20%20%20%20%20%20%20%20%20%20var%20layer_control_5e4b957886ce473aa456f4fdf6ddecb8%20%3D%20%7B%0A%20%20%20%20%20%20%20%20%20%20%20%20%20%20%20%20base_layers%20%3A%20%7B%20%22openstreetmap%22%20%3A%20tile_layer_1a80c834e0be423590bf85954d1cb83c%2C%20%7D%2C%0A%20%20%20%20%20%20%20%20%20%20%20%20%20%20%20%20overlays%20%3A%20%7B%20%22vectors0%22%20%3A%20tile_layer_94561b7b989d462ebd98be010588b411%2C%22vectors1%22%20%3A%20tile_layer_859f0154a2b24d0eb66aff76e6d777a9%2C%22vectors2%22%20%3A%20tile_layer_d1d6d47a089b4151bee760f75b0dbc4c%2C%22vectors3%22%20%3A%20tile_layer_db9cb527e5f34630a42ae6c14d7f7952%2C%22vectors4%22%20%3A%20tile_layer_a94abe0092ee46ca83345c109939a052%2C%22vectors5%22%20%3A%20tile_layer_91a461e1fd6c4355adc2278f7e6172f6%2C%22vectors6%22%20%3A%20tile_layer_0493e2679ccd446dae8ca5b0b0322c85%2C%22vectors7%22%20%3A%20tile_layer_689577c8794b4636ad33ede94fa95585%2C%22vectors8%22%20%3A%20tile_layer_5e9271c766df49bbbde28acb91c90198%2C%22vectors9%22%20%3A%20tile_layer_8d094abcfab347b9babd143dac8d27fd%2C%22vectors10%22%20%3A%20tile_layer_f0363ec794e24a1f9609db1944265b1e%2C%22vectors11%22%20%3A%20tile_layer_e62e9462e18844af980f9b5406670c75%2C%22vectors12%22%20%3A%20tile_layer_c37f3dc93009414eb755f8c1f4b38306%2C%22vectors13%22%20%3A%20tile_layer_54a966b0f8da489ba7d168409f526f1f%2C%22vectors14%22%20%3A%20tile_layer_6cea0b96c01643ccb446f01bc9b97bd3%2C%22vectors15%22%20%3A%20tile_layer_54cb9122cf2a4c0e9cfe2469cb5160e2%2C%22vectors16%22%20%3A%20tile_layer_6f8ebf15bcbe497da42045971e6f9dd1%2C%22vectors17%22%20%3A%20tile_layer_af369798b1284c4ead6531f943757e2c%2C%22vectors18%22%20%3A%20tile_layer_d85b52fa4ddd4b5faa81f1cd8687b5e4%2C%22vectors19%22%20%3A%20tile_layer_746a87d06a914b53bc4da625e49ebfa7%2C%22vectors20%22%20%3A%20tile_layer_a2a784214d424688a1a5199988e63048%2C%22vectors21%22%20%3A%20tile_layer_1713e661642e4dc5b33cae90d24053f4%2C%22vectors22%22%20%3A%20tile_layer_920025031d684721967e44db472ce026%2C%22vectors23%22%20%3A%20tile_layer_5637d59eb00c4b679a8714576e428eb9%2C%22vectors24%22%20%3A%20tile_layer_7f095eed72b74f01b4c1006d5d735cf9%2C%22vectors25%22%20%3A%20tile_layer_0d1973c8ce084fdabf40ac592d5c2ed8%2C%22vectors26%22%20%3A%20tile_layer_618b63b8d9c54c88853e372b33374ce0%2C%22vectors27%22%20%3A%20tile_layer_a59c6532c8df4d9cb57c1c9bb2ff4f16%2C%22vectors28%22%20%3A%20tile_layer_29a39b9f6ffe43619caff1948c793a6b%2C%22vectors29%22%20%3A%20tile_layer_1d53df9447d34cc181f41deaad1a3536%2C%22vectors30%22%20%3A%20tile_layer_5a031cf3f31d4127a3f0433d73a2fade%2C%22vectors31%22%20%3A%20tile_layer_c93beaccbdc340f380a0fa4db201468d%2C%22vectors32%22%20%3A%20tile_layer_bafe8513bf4f4fef88f957c5bbcda719%2C%22vectors33%22%20%3A%20tile_layer_ab76308953fd47caa34f65aeac3e96be%2C%22vectors34%22%20%3A%20tile_layer_4ec13ca532c745eea7b84716a4d226c8%2C%22vectors35%22%20%3A%20tile_layer_dc27f514ff654280981e880bce36eaac%2C%22original%22%20%3A%20tile_layer_5328dc90d6a1438bb8cd990d4aa7ad27%2C%20%7D%0A%20%20%20%20%20%20%20%20%20%20%20%20%20%20%20%20%7D%3B%0A%20%20%20%20%20%20%20%20%20%20%20%20L.control.layers%28%0A%20%20%20%20%20%20%20%20%20%20%20%20%20%20%20%20layer_control_5e4b957886ce473aa456f4fdf6ddecb8.base_layers%2C%0A%20%20%20%20%20%20%20%20%20%20%20%20%20%20%20%20layer_control_5e4b957886ce473aa456f4fdf6ddecb8.overlays%2C%0A%20%20%20%20%20%20%20%20%20%20%20%20%20%20%20%20%7Bposition%3A%20%27topright%27%2C%0A%20%20%20%20%20%20%20%20%20%20%20%20%20%20%20%20%20collapsed%3A%20true%2C%0A%20%20%20%20%20%20%20%20%20%20%20%20%20%20%20%20%20autoZIndex%3A%20true%0A%20%20%20%20%20%20%20%20%20%20%20%20%20%20%20%20%7D%29.addTo%28map_2c546225a6e84886a30cb71e23a32726%29%3B%0A%20%20%20%20%20%20%20%20%20%20%20%20%0A%20%20%20%20%20%20%20%20%0A%20%20%20%20%0A%20%20%20%20%20%20%20%20%20%20%20%20L.control.fullscreen%28%7B%0A%20%20%20%20%20%20%20%20%20%20%20%20%20%20%20%20position%3A%20%27topleft%27%2C%0A%20%20%20%20%20%20%20%20%20%20%20%20%20%20%20%20title%3A%20%27Full%20Screen%27%2C%0A%20%20%20%20%20%20%20%20%20%20%20%20%20%20%20%20titleCancel%3A%20%27Exit%20Full%20Screen%27%2C%0A%20%20%20%20%20%20%20%20%20%20%20%20%20%20%20%20forceSeparateButton%3A%20false%2C%0A%20%20%20%20%20%20%20%20%20%20%20%20%20%20%20%20%7D%29.addTo%28map_2c546225a6e84886a30cb71e23a32726%29%3B%0A%20%20%20%20%20%20%20%20%20%20%20%20map_2c546225a6e84886a30cb71e23a32726.on%28%27enterFullscreen%27%2C%20function%28%29%7B%0A%20%20%20%20%20%20%20%20%20%20%20%20%20%20%20%20console.log%28%27entered%20fullscreen%27%29%3B%0A%20%20%20%20%20%20%20%20%20%20%20%20%7D%29%3B%0A%0A%20%20%20%20%20%20%20%20%0A%20%20%20%20%0A%20%20%20%20%20%20%20%20%20%20%20%20%20%20%20%20var%20lat_lng_popup_5b0372e244c4410ba7da3740fe53dfc7%20%3D%20L.popup%28%29%3B%0A%20%20%20%20%20%20%20%20%20%20%20%20%20%20%20%20function%20latLngPop%28e%29%20%7B%0A%20%20%20%20%20%20%20%20%20%20%20%20%20%20%20%20%20%20%20%20lat_lng_popup_5b0372e244c4410ba7da3740fe53dfc7%0A%20%20%20%20%20%20%20%20%20%20%20%20%20%20%20%20%20%20%20%20%20%20%20%20.setLatLng%28e.latlng%29%0A%20%20%20%20%20%20%20%20%20%20%20%20%20%20%20%20%20%20%20%20%20%20%20%20.setContent%28%22Latitude%3A%20%22%20%2B%20e.latlng.lat.toFixed%284%29%20%2B%0A%20%20%20%20%20%20%20%20%20%20%20%20%20%20%20%20%20%20%20%20%20%20%20%20%20%20%20%20%20%20%20%20%20%20%20%20%22%3Cbr%3ELongitude%3A%20%22%20%2B%20e.latlng.lng.toFixed%284%29%29%0A%20%20%20%20%20%20%20%20%20%20%20%20%20%20%20%20%20%20%20%20%20%20%20%20.openOn%28map_2c546225a6e84886a30cb71e23a32726%29%3B%0A%20%20%20%20%20%20%20%20%20%20%20%20%20%20%20%20%20%20%20%20%7D%0A%20%20%20%20%20%20%20%20%20%20%20%20%20%20%20%20map_2c546225a6e84886a30cb71e23a32726.on%28%27click%27%2C%20latLngPop%29%3B%0A%20%20%20%20%20%20%20%20%20%20%20%20%0A%3C/script%3E onload=\"this.contentDocument.open();this.contentDocument.write(    decodeURIComponent(this.getAttribute('data-html')));this.contentDocument.close();\" allowfullscreen webkitallowfullscreen mozallowfullscreen></iframe></div></div>"
            ],
            "text/plain": [
              "<folium.folium.Map at 0x7f051c1debd0>"
            ]
          },
          "metadata": {
            "tags": []
          },
          "execution_count": 29
        }
      ]
    },
    {
      "cell_type": "markdown",
      "metadata": {
        "id": "Y-SrJHvmNByV"
      },
      "source": [
        "the segmentation funcition will be applied for each tile"
      ]
    },
    {
      "cell_type": "code",
      "metadata": {
        "id": "npR0nu7MM6Qz"
      },
      "source": [
        "polygons_pertile = []\r\n",
        "snic_list = []\r\n",
        "superpixels_summary = []\r\n",
        "superpixels_quantile = []\r\n",
        "\r\n",
        "for i in range(len(eegrid_geometries)):\r\n",
        "  \r\n",
        "  tilecollection = imgcollection.map(lambda img:\r\n",
        "                                  img.unmask(0).clip(eegrid_geometries[i]))\r\n",
        "  ## get image segmentation using SNIC method\r\n",
        "  snic = gee_functions.gee_snic(tilecollection,eegrid_geometries[i], bands = [\"ndvi\"] )\r\n",
        "  ### from image segments to polygons\r\n",
        "  polygons_fromseg = gee_functions.raster_to_polygons(snic, tilecollection.select([\"ndvi\"]\r\n",
        "                                        ).median(), \r\n",
        "                                            eegrid_geometries[i].geometry(), scale = 12)\r\n",
        "  \r\n",
        "  ### store outputs in lists\r\n",
        "  snic_list.append(snic)\r\n",
        "  grid_geometries.append(polygons_fromseg)\r\n",
        "\r\n",
        "  coll_segmentation = s1_imagery.image_collection.map(lambda image:\r\n",
        "                                  gee_functions.reduce_image_to_superpixel(image.select(['VV']).clip(eegrid_geometries[i]), \r\n",
        "                                                                           polygons_fromseg))\r\n",
        "  \r\n",
        "  #superpixels_summary.append(coll_segmentation)\r\n",
        "  superpixels_quantile.append(coll_segmentation.reduce(ee.Reducer.percentile([5,10, 25, 50, 75 , 90, 95])))\r\n",
        "  "
      ],
      "execution_count": 30,
      "outputs": []
    },
    {
      "cell_type": "code",
      "metadata": {
        "id": "397sCg43558A"
      },
      "source": [
        "\r\n",
        "img_merged = ee.ImageCollection(superpixels_quantile).reduce(ee.Reducer.mean())\r\n"
      ],
      "execution_count": 31,
      "outputs": []
    },
    {
      "cell_type": "code",
      "metadata": {
        "id": "kkh7mz44SUY1",
        "outputId": "168bc9ae-247c-44bc-f949-7e85c9f1c718",
        "colab": {
          "base_uri": "https://localhost:8080/"
        }
      },
      "source": [
        "### Download images\r\n",
        "import time\r\n",
        "image_todownload = ee.Image(img_merged)\r\n",
        "\r\n",
        "task = ee.batch.Export.image.toDrive(**{\r\n",
        "                'image': image_todownload,\r\n",
        "                'description': \"s1_percentiles_superpixel\",\r\n",
        "                'folder': '/content/drive/MyDrive/satellite_images',\r\n",
        "                'scale': 10,\r\n",
        "                'region': se2_toa._ee_sp['coordinates']\r\n",
        "            })\r\n",
        "\r\n",
        "task.start()\r\n",
        "while task.active():\r\n",
        "    print('Polling for task (id: {}).'.format(\"s1_percentiles_superpixel\"))\r\n",
        "    time.sleep(20)"
      ],
      "execution_count": 40,
      "outputs": [
        {
          "output_type": "stream",
          "text": [
            "Polling for task (id: s1_percentiles_superpixel).\n",
            "Polling for task (id: s1_percentiles_superpixel).\n",
            "Polling for task (id: s1_percentiles_superpixel).\n",
            "Polling for task (id: s1_percentiles_superpixel).\n",
            "Polling for task (id: s1_percentiles_superpixel).\n",
            "Polling for task (id: s1_percentiles_superpixel).\n",
            "Polling for task (id: s1_percentiles_superpixel).\n",
            "Polling for task (id: s1_percentiles_superpixel).\n",
            "Polling for task (id: s1_percentiles_superpixel).\n",
            "Polling for task (id: s1_percentiles_superpixel).\n",
            "Polling for task (id: s1_percentiles_superpixel).\n",
            "Polling for task (id: s1_percentiles_superpixel).\n",
            "Polling for task (id: s1_percentiles_superpixel).\n",
            "Polling for task (id: s1_percentiles_superpixel).\n",
            "Polling for task (id: s1_percentiles_superpixel).\n",
            "Polling for task (id: s1_percentiles_superpixel).\n",
            "Polling for task (id: s1_percentiles_superpixel).\n",
            "Polling for task (id: s1_percentiles_superpixel).\n",
            "Polling for task (id: s1_percentiles_superpixel).\n",
            "Polling for task (id: s1_percentiles_superpixel).\n",
            "Polling for task (id: s1_percentiles_superpixel).\n",
            "Polling for task (id: s1_percentiles_superpixel).\n",
            "Polling for task (id: s1_percentiles_superpixel).\n",
            "Polling for task (id: s1_percentiles_superpixel).\n",
            "Polling for task (id: s1_percentiles_superpixel).\n",
            "Polling for task (id: s1_percentiles_superpixel).\n",
            "Polling for task (id: s1_percentiles_superpixel).\n",
            "Polling for task (id: s1_percentiles_superpixel).\n",
            "Polling for task (id: s1_percentiles_superpixel).\n",
            "Polling for task (id: s1_percentiles_superpixel).\n",
            "Polling for task (id: s1_percentiles_superpixel).\n",
            "Polling for task (id: s1_percentiles_superpixel).\n",
            "Polling for task (id: s1_percentiles_superpixel).\n",
            "Polling for task (id: s1_percentiles_superpixel).\n",
            "Polling for task (id: s1_percentiles_superpixel).\n",
            "Polling for task (id: s1_percentiles_superpixel).\n",
            "Polling for task (id: s1_percentiles_superpixel).\n",
            "Polling for task (id: s1_percentiles_superpixel).\n",
            "Polling for task (id: s1_percentiles_superpixel).\n",
            "Polling for task (id: s1_percentiles_superpixel).\n",
            "Polling for task (id: s1_percentiles_superpixel).\n",
            "Polling for task (id: s1_percentiles_superpixel).\n",
            "Polling for task (id: s1_percentiles_superpixel).\n",
            "Polling for task (id: s1_percentiles_superpixel).\n",
            "Polling for task (id: s1_percentiles_superpixel).\n",
            "Polling for task (id: s1_percentiles_superpixel).\n",
            "Polling for task (id: s1_percentiles_superpixel).\n",
            "Polling for task (id: s1_percentiles_superpixel).\n",
            "Polling for task (id: s1_percentiles_superpixel).\n",
            "Polling for task (id: s1_percentiles_superpixel).\n",
            "Polling for task (id: s1_percentiles_superpixel).\n",
            "Polling for task (id: s1_percentiles_superpixel).\n",
            "Polling for task (id: s1_percentiles_superpixel).\n",
            "Polling for task (id: s1_percentiles_superpixel).\n",
            "Polling for task (id: s1_percentiles_superpixel).\n",
            "Polling for task (id: s1_percentiles_superpixel).\n",
            "Polling for task (id: s1_percentiles_superpixel).\n",
            "Polling for task (id: s1_percentiles_superpixel).\n",
            "Polling for task (id: s1_percentiles_superpixel).\n",
            "Polling for task (id: s1_percentiles_superpixel).\n",
            "Polling for task (id: s1_percentiles_superpixel).\n",
            "Polling for task (id: s1_percentiles_superpixel).\n",
            "Polling for task (id: s1_percentiles_superpixel).\n",
            "Polling for task (id: s1_percentiles_superpixel).\n",
            "Polling for task (id: s1_percentiles_superpixel).\n",
            "Polling for task (id: s1_percentiles_superpixel).\n",
            "Polling for task (id: s1_percentiles_superpixel).\n",
            "Polling for task (id: s1_percentiles_superpixel).\n",
            "Polling for task (id: s1_percentiles_superpixel).\n",
            "Polling for task (id: s1_percentiles_superpixel).\n",
            "Polling for task (id: s1_percentiles_superpixel).\n",
            "Polling for task (id: s1_percentiles_superpixel).\n",
            "Polling for task (id: s1_percentiles_superpixel).\n",
            "Polling for task (id: s1_percentiles_superpixel).\n",
            "Polling for task (id: s1_percentiles_superpixel).\n",
            "Polling for task (id: s1_percentiles_superpixel).\n",
            "Polling for task (id: s1_percentiles_superpixel).\n",
            "Polling for task (id: s1_percentiles_superpixel).\n",
            "Polling for task (id: s1_percentiles_superpixel).\n",
            "Polling for task (id: s1_percentiles_superpixel).\n",
            "Polling for task (id: s1_percentiles_superpixel).\n",
            "Polling for task (id: s1_percentiles_superpixel).\n",
            "Polling for task (id: s1_percentiles_superpixel).\n",
            "Polling for task (id: s1_percentiles_superpixel).\n",
            "Polling for task (id: s1_percentiles_superpixel).\n",
            "Polling for task (id: s1_percentiles_superpixel).\n",
            "Polling for task (id: s1_percentiles_superpixel).\n",
            "Polling for task (id: s1_percentiles_superpixel).\n",
            "Polling for task (id: s1_percentiles_superpixel).\n",
            "Polling for task (id: s1_percentiles_superpixel).\n",
            "Polling for task (id: s1_percentiles_superpixel).\n",
            "Polling for task (id: s1_percentiles_superpixel).\n",
            "Polling for task (id: s1_percentiles_superpixel).\n",
            "Polling for task (id: s1_percentiles_superpixel).\n",
            "Polling for task (id: s1_percentiles_superpixel).\n",
            "Polling for task (id: s1_percentiles_superpixel).\n",
            "Polling for task (id: s1_percentiles_superpixel).\n",
            "Polling for task (id: s1_percentiles_superpixel).\n",
            "Polling for task (id: s1_percentiles_superpixel).\n",
            "Polling for task (id: s1_percentiles_superpixel).\n",
            "Polling for task (id: s1_percentiles_superpixel).\n",
            "Polling for task (id: s1_percentiles_superpixel).\n",
            "Polling for task (id: s1_percentiles_superpixel).\n",
            "Polling for task (id: s1_percentiles_superpixel).\n",
            "Polling for task (id: s1_percentiles_superpixel).\n",
            "Polling for task (id: s1_percentiles_superpixel).\n",
            "Polling for task (id: s1_percentiles_superpixel).\n",
            "Polling for task (id: s1_percentiles_superpixel).\n",
            "Polling for task (id: s1_percentiles_superpixel).\n",
            "Polling for task (id: s1_percentiles_superpixel).\n",
            "Polling for task (id: s1_percentiles_superpixel).\n",
            "Polling for task (id: s1_percentiles_superpixel).\n",
            "Polling for task (id: s1_percentiles_superpixel).\n",
            "Polling for task (id: s1_percentiles_superpixel).\n",
            "Polling for task (id: s1_percentiles_superpixel).\n",
            "Polling for task (id: s1_percentiles_superpixel).\n",
            "Polling for task (id: s1_percentiles_superpixel).\n",
            "Polling for task (id: s1_percentiles_superpixel).\n",
            "Polling for task (id: s1_percentiles_superpixel).\n",
            "Polling for task (id: s1_percentiles_superpixel).\n",
            "Polling for task (id: s1_percentiles_superpixel).\n",
            "Polling for task (id: s1_percentiles_superpixel).\n",
            "Polling for task (id: s1_percentiles_superpixel).\n",
            "Polling for task (id: s1_percentiles_superpixel).\n",
            "Polling for task (id: s1_percentiles_superpixel).\n",
            "Polling for task (id: s1_percentiles_superpixel).\n",
            "Polling for task (id: s1_percentiles_superpixel).\n",
            "Polling for task (id: s1_percentiles_superpixel).\n",
            "Polling for task (id: s1_percentiles_superpixel).\n",
            "Polling for task (id: s1_percentiles_superpixel).\n",
            "Polling for task (id: s1_percentiles_superpixel).\n",
            "Polling for task (id: s1_percentiles_superpixel).\n",
            "Polling for task (id: s1_percentiles_superpixel).\n",
            "Polling for task (id: s1_percentiles_superpixel).\n",
            "Polling for task (id: s1_percentiles_superpixel).\n",
            "Polling for task (id: s1_percentiles_superpixel).\n",
            "Polling for task (id: s1_percentiles_superpixel).\n",
            "Polling for task (id: s1_percentiles_superpixel).\n",
            "Polling for task (id: s1_percentiles_superpixel).\n",
            "Polling for task (id: s1_percentiles_superpixel).\n",
            "Polling for task (id: s1_percentiles_superpixel).\n",
            "Polling for task (id: s1_percentiles_superpixel).\n",
            "Polling for task (id: s1_percentiles_superpixel).\n",
            "Polling for task (id: s1_percentiles_superpixel).\n",
            "Polling for task (id: s1_percentiles_superpixel).\n",
            "Polling for task (id: s1_percentiles_superpixel).\n",
            "Polling for task (id: s1_percentiles_superpixel).\n",
            "Polling for task (id: s1_percentiles_superpixel).\n",
            "Polling for task (id: s1_percentiles_superpixel).\n",
            "Polling for task (id: s1_percentiles_superpixel).\n",
            "Polling for task (id: s1_percentiles_superpixel).\n",
            "Polling for task (id: s1_percentiles_superpixel).\n",
            "Polling for task (id: s1_percentiles_superpixel).\n",
            "Polling for task (id: s1_percentiles_superpixel).\n",
            "Polling for task (id: s1_percentiles_superpixel).\n",
            "Polling for task (id: s1_percentiles_superpixel).\n",
            "Polling for task (id: s1_percentiles_superpixel).\n",
            "Polling for task (id: s1_percentiles_superpixel).\n",
            "Polling for task (id: s1_percentiles_superpixel).\n",
            "Polling for task (id: s1_percentiles_superpixel).\n",
            "Polling for task (id: s1_percentiles_superpixel).\n",
            "Polling for task (id: s1_percentiles_superpixel).\n",
            "Polling for task (id: s1_percentiles_superpixel).\n",
            "Polling for task (id: s1_percentiles_superpixel).\n",
            "Polling for task (id: s1_percentiles_superpixel).\n",
            "Polling for task (id: s1_percentiles_superpixel).\n",
            "Polling for task (id: s1_percentiles_superpixel).\n",
            "Polling for task (id: s1_percentiles_superpixel).\n",
            "Polling for task (id: s1_percentiles_superpixel).\n",
            "Polling for task (id: s1_percentiles_superpixel).\n",
            "Polling for task (id: s1_percentiles_superpixel).\n",
            "Polling for task (id: s1_percentiles_superpixel).\n",
            "Polling for task (id: s1_percentiles_superpixel).\n",
            "Polling for task (id: s1_percentiles_superpixel).\n",
            "Polling for task (id: s1_percentiles_superpixel).\n",
            "Polling for task (id: s1_percentiles_superpixel).\n",
            "Polling for task (id: s1_percentiles_superpixel).\n",
            "Polling for task (id: s1_percentiles_superpixel).\n",
            "Polling for task (id: s1_percentiles_superpixel).\n",
            "Polling for task (id: s1_percentiles_superpixel).\n",
            "Polling for task (id: s1_percentiles_superpixel).\n",
            "Polling for task (id: s1_percentiles_superpixel).\n",
            "Polling for task (id: s1_percentiles_superpixel).\n",
            "Polling for task (id: s1_percentiles_superpixel).\n",
            "Polling for task (id: s1_percentiles_superpixel).\n",
            "Polling for task (id: s1_percentiles_superpixel).\n",
            "Polling for task (id: s1_percentiles_superpixel).\n",
            "Polling for task (id: s1_percentiles_superpixel).\n",
            "Polling for task (id: s1_percentiles_superpixel).\n",
            "Polling for task (id: s1_percentiles_superpixel).\n",
            "Polling for task (id: s1_percentiles_superpixel).\n",
            "Polling for task (id: s1_percentiles_superpixel).\n",
            "Polling for task (id: s1_percentiles_superpixel).\n",
            "Polling for task (id: s1_percentiles_superpixel).\n",
            "Polling for task (id: s1_percentiles_superpixel).\n",
            "Polling for task (id: s1_percentiles_superpixel).\n",
            "Polling for task (id: s1_percentiles_superpixel).\n",
            "Polling for task (id: s1_percentiles_superpixel).\n"
          ],
          "name": "stdout"
        }
      ]
    },
    {
      "cell_type": "code",
      "metadata": {
        "id": "NGF1JaH6jsOn"
      },
      "source": [
        "for j in collectionsize\r\n",
        "first_image = []\r\n",
        "for i in range(len(superpixels_summary)):\r\n",
        "  first_image.append(ee.Image(superpixels_summary[i].first()))\r\n",
        "\r\n",
        "\r\n",
        "imgmerged = ee.ImageCollection(first_image).reduce(ee.Reducer.mean())"
      ],
      "execution_count": 101,
      "outputs": []
    }
  ]
}